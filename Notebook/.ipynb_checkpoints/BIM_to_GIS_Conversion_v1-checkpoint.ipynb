{
 "cells": [
  {
   "cell_type": "markdown",
   "metadata": {},
   "source": [
    "### BIM to GIS Conversion\n",
    "\n",
    "#### This Notebook imports revit files from BIM models and convert them to GIS geodatabase in prepartion for monitoring\n",
    "#### Please implement the following steps:\n",
    "1. Define Projection to PRS92\n",
    "2. Export Feature to file geodatabase\n",
    "3. Merge all feature layers\n",
    "4. Delete unwanted fields\n",
    "5. Add Fields\n",
    "6. Calculate Field for Type\n",
    "7. Calculate Field for SubType\n",
    "8. Delete Fields"
   ]
  },
  {
   "cell_type": "code",
   "execution_count": 3,
   "metadata": {},
   "outputs": [],
   "source": [
    "import time, os, datetime, sys, logging, logging.handlers, shutil, traceback, re\n",
    "import arcpy\n",
    "\n",
    "arcpy.env.overwriteOutput = True\n",
    "arcpy.env.outputCoordinateSystem = arcpy.SpatialReference(\"WGS 1984 Web Mercator (auxiliary sphere)\")\n",
    "arcpy.env.geographicTransformations = \"PRS_1992_To_WGS_1984_1\"\n",
    "workspace = r'C:/Users/oc3512/OneDrive - Oriental Consultants Global JV/Documents/ArcGIS/Projects/During-Construction_nscrexn2/During-Construction_nscrexn2.gdb'\n",
    "\n",
    "fDataset = r'Station_AG'\n",
    "path = os.path.join(workspace, fDataset)\n"
   ]
  },
  {
   "cell_type": "code",
   "execution_count": 4,
   "metadata": {},
   "outputs": [],
   "source": [
    "# 0. Station name\n",
    "station = \"Clark\"\n",
    "\n",
    "# 0. Domain Name\n",
    "domainList = ['Station Structures_TYPE', 'Station Structures_SUBTYPE', 'Station Structures_STATUS', 'Station_nscrex']\n",
    "\n",
    "# 1. Define Projection to PRS92\n",
    "## Add revit files to the Contents panel\n",
    "## Note that 'Floors' in the BIM Model includes both slab and floors together.\n",
    "\n",
    "floor = r'Floors'\n",
    "roof = r'Roofs'\n",
    "framing = r'StructuralFraming'\n",
    "foundation = r'StructuralFoundation'\n",
    "column = r'StructuralColumns'\n",
    "\n",
    "in_features = [floor, framing, foundation, column]\n",
    "\n",
    "sr = arcpy.SpatialReference(\"PRS 1992 Philippines Zone III\")\n",
    "\n",
    "for fl in in_features:\n",
    "    # Define Projection first\n",
    "    arcpy.DefineProjection_management(fl, sr)    \n"
   ]
  },
  {
   "cell_type": "code",
   "execution_count": 5,
   "metadata": {},
   "outputs": [
    {
     "data": {
      "text/html": [
       "<h2>Output</h2>C:\\Users\\oc3512\\OneDrive - Oriental Consultants Global JV\\Documents\\ArcGIS\\Projects\\During-Construction_nscrexn2\\During-Construction_nscrexn2.gdb\\Station_AG<h2>Messages</h2>Start Time: 2021年4月28日 1:37:16 PM<br/>Floors Successfully converted:  C:/Users/oc3512/OneDrive - Oriental Consultants Global JV/Documents/ArcGIS/Projects/During-Construction_nscrexn2/During-Construction_nscrexn2.gdb\\Station_AG\\Floors<br/>StructuralFraming Successfully converted:  C:/Users/oc3512/OneDrive - Oriental Consultants Global JV/Documents/ArcGIS/Projects/During-Construction_nscrexn2/During-Construction_nscrexn2.gdb\\Station_AG\\StructuralFraming<br/>StructuralFoundation Successfully converted:  C:/Users/oc3512/OneDrive - Oriental Consultants Global JV/Documents/ArcGIS/Projects/During-Construction_nscrexn2/During-Construction_nscrexn2.gdb\\Station_AG\\StructuralFoundation<br/>StructuralColumns Successfully converted:  C:/Users/oc3512/OneDrive - Oriental Consultants Global JV/Documents/ArcGIS/Projects/During-Construction_nscrexn2/During-Construction_nscrexn2.gdb\\Station_AG\\StructuralColumns<br/>Succeeded at 2021年4月28日 1:37:46 PM (Elapsed Time: 30.12 seconds)<br/><style>.rendered_html td, .rendered_html th {text-align: left;}.rendered_html tbody {border: 1px solid black;}</style>"
      ],
      "text/plain": [
       "<Result 'C:\\\\Users\\\\oc3512\\\\OneDrive - Oriental Consultants Global JV\\\\Documents\\\\ArcGIS\\\\Projects\\\\During-Construction_nscrexn2\\\\During-Construction_nscrexn2.gdb\\\\Station_AG'>"
      ]
     },
     "execution_count": 5,
     "metadata": {},
     "output_type": "execute_result"
    }
   ],
   "source": [
    "# 2. Export to file geodatabase\n",
    "\n",
    "arcpy.FeatureClassToGeodatabase_conversion(in_features, path)\n"
   ]
  },
  {
   "cell_type": "code",
   "execution_count": 6,
   "metadata": {},
   "outputs": [
    {
     "data": {
      "text/html": [
       "<h2>Output</h2>C:/Users/oc3512/OneDrive - Oriental Consultants Global JV/Documents/ArcGIS/Projects/During-Construction_nscrexn2/During-Construction_nscrexn2.gdb\\Station_AG\\Station_Structure_merged_APLSTN<h2>Messages</h2>Start Time: 2021年4月28日 1:39:06 PM<br/>Succeeded at 2021年4月28日 1:39:15 PM (Elapsed Time: 8.37 seconds)<br/><style>.rendered_html td, .rendered_html th {text-align: left;}.rendered_html tbody {border: 1px solid black;}</style>"
      ],
      "text/plain": [
       "<Result 'C:/Users/oc3512/OneDrive - Oriental Consultants Global JV/Documents/ArcGIS/Projects/During-Construction_nscrexn2/During-Construction_nscrexn2.gdb\\\\Station_AG\\\\Station_Structure_merged_APLSTN'>"
      ]
     },
     "execution_count": 6,
     "metadata": {},
     "output_type": "execute_result"
    }
   ],
   "source": [
    "# 3. Merge all feature layers\n",
    "arcpy.env.workspace = path\n",
    "output_feature = \"Station_Structure_merged\" + \"_\" + station\n",
    "arcpy.Merge_management(in_features, output_feature,\"\",\"\")"
   ]
  },
  {
   "cell_type": "code",
   "execution_count": 7,
   "metadata": {},
   "outputs": [
    {
     "data": {
      "text/html": [
       "<h2>Output</h2>a Layer object<h2>Messages</h2>Start Time: 2021年4月28日 1:39:24 PM<br/>Succeeded at 2021年4月28日 1:39:35 PM (Elapsed Time: 10.99 seconds)<br/><style>.rendered_html td, .rendered_html th {text-align: left;}.rendered_html tbody {border: 1px solid black;}</style>"
      ],
      "text/plain": [
       "<Result 'Station_Structure_merged_APLSTN'>"
      ]
     },
     "execution_count": 7,
     "metadata": {},
     "output_type": "execute_result"
    }
   ],
   "source": [
    "# 4. Delete Fields\n",
    "## 4.1 Obtain fields to be kept\n",
    "fieldList = [f.name for f in arcpy.ListFields(output_feature)]\n",
    "\n",
    "# find OBJECTID, as this is not deletable\n",
    "reg = re.compile(r'OBJECTID*|Shape|Shape_Length|Shape_Area|Shape.STArea()|Shape.STLength()|GlobalID')\n",
    "objField = list(filter(reg.match, fieldList))\n",
    "keepFields = objField + ['Category', 'Bldg_Name', 'BldgLevel', 'OmniClassDescription', 'BldgLevel_Desc']\n",
    "\n",
    "# Drop fields\n",
    "dropFields = [e for e in fieldList if e not in keepFields]\n",
    "\n",
    "## 4.2 Delete fields from feature layer\n",
    "arcpy.DeleteField_management(output_feature, dropFields)"
   ]
  },
  {
   "cell_type": "code",
   "execution_count": 8,
   "metadata": {},
   "outputs": [],
   "source": [
    "# 5. Add Fields\n",
    "addFields = ['Station', 'Type', 'SubType', 'Status', 'StartDate', 'TargetDate']\n",
    "\n",
    "for field in addFields:\n",
    "    if field in ('StartDate', 'TargetDate'):\n",
    "        arcpy.AddField_management(output_feature, field, \"DATE\", \"\", \"\", \"\", field, \"NULLABLE\", \"\")\n",
    "    else:\n",
    "        arcpy.AddField_management(output_feature, field, \"SHORT\", \"\", \"\", \"\", field, \"NULLABLE\", \"\")"
   ]
  },
  {
   "cell_type": "code",
   "execution_count": 9,
   "metadata": {},
   "outputs": [],
   "source": [
    "# 6. Calculate Field for 'Type'\n",
    "# codeblok for \"Type\"\n",
    "codeblock = \"\"\"\n",
    "def reclass(category):\n",
    "    if category == 'Structural Foundations':\n",
    "        return 1\n",
    "    elif category == 'Structural Columns':\n",
    "        return 2\n",
    "    elif category == 'Structural Framing':\n",
    "        return 3\n",
    "    elif category == 'Roofs':\n",
    "        return 4\n",
    "    elif category == 'Floors':\n",
    "        return 5\n",
    "    else:\n",
    "        return None\"\"\"\n",
    "\n",
    "# codeblock for \"SubType\"\n",
    "codeblock2 = \"\"\"\n",
    "def reclass(category):\n",
    "    if category == 'Structural Foundations':\n",
    "        return 1\n",
    "    elif category == 'Structural Framing':\n",
    "        return 2\n",
    "    elif category == 'Floors':\n",
    "        return 3\n",
    "    elif category == 'Structural Columns':\n",
    "        return 4\n",
    "    elif category == 'Roofs':\n",
    "        return 5\n",
    "    else:\n",
    "        return None\"\"\"\n",
    "\n",
    "calculateFields = ['Type', 'SubType']\n",
    "for field in calculateFields:\n",
    "    expression = \"reclass(!{}!)\".format(\"Category\")\n",
    "    if field == 'Type':\n",
    "        arcpy.CalculateField_management(output_feature, field, expression, \"PYTHON3\", codeblock)\n",
    "    else:\n",
    "        arcpy.CalculateField_management(output_feature, field, expression, \"PYTHON3\", codeblock2)\n",
    "        "
   ]
  },
  {
   "cell_type": "code",
   "execution_count": 10,
   "metadata": {},
   "outputs": [],
   "source": [
    "# Set the initial status = 'To be Constructed'\n",
    "with arcpy.da.UpdateCursor(output_feature, ['Status']) as cursor:\n",
    "    for row in cursor:\n",
    "        row[0] = 1\n",
    "        cursor.updateRow(row)"
   ]
  },
  {
   "cell_type": "code",
   "execution_count": 16,
   "metadata": {},
   "outputs": [],
   "source": [
    "# Enter station name\n",
    "with arcpy.da.UpdateCursor(output_feature, ['Station']) as cursor:\n",
    "    for row in cursor:\n",
    "        if station == \"NCC\":\n",
    "            row[0] = 1\n",
    "        elif station == \"Depot\":\n",
    "            row[0] = 2\n",
    "        elif station == \"CIA\":\n",
    "            row[0] = 3\n",
    "        elif station == \"Clark\":\n",
    "            row[0] = 4\n",
    "        elif station == \"Angeles\":\n",
    "            row[0] = 5\n",
    "        elif station == \"San Fernando\":\n",
    "            row[0] = 6\n",
    "        elif station == \"Apalit\":\n",
    "            row[0] = 7\n",
    "        elif station == \"Calumpit\":\n",
    "            row[0] = 8\n",
    "        elif station == \"Malolos\":\n",
    "            row[0] = 9\n",
    "        elif station == \"Solis\":\n",
    "            row[0] = 10\n",
    "        elif station == \"Blumentritt\":\n",
    "            row[0] = 11\n",
    "        elif station == \"Espana\":\n",
    "            row[0] = 12\n",
    "        elif station == \"Santa Mesa\":\n",
    "            row[0] = 13\n",
    "        elif station == \"Paco\":\n",
    "            row[0] = 14\n",
    "        elif station == \"Buendia\":\n",
    "            row[0] = 15\n",
    "        elif station == \"EDSA\":\n",
    "            row[0] = 16\n",
    "        elif station == \"Nichols\":\n",
    "            row[0] = 17\n",
    "        elif station == \"FTI\":\n",
    "            row[0] = 18\n",
    "        elif station == \"Bicutan\":\n",
    "            row[0] = 19\n",
    "        elif station == \"Sucat\":\n",
    "            row[0] = 20\n",
    "        elif station == \"Alabang\":\n",
    "            row[0] = 21\n",
    "        elif station == \"Muntinlupa\":\n",
    "            row[0] = 22\n",
    "        elif station == \"San Pedro\":\n",
    "            row[0] = 23\n",
    "        elif station == \"Pacita\":\n",
    "            row[0] = 24\n",
    "        elif station == \"Binan\":\n",
    "            row[0] = 25\n",
    "        elif station == \"Santa Rosa\":\n",
    "            row[0] = 26\n",
    "        elif station == \"Cabuyao\":\n",
    "            row[0] = 27\n",
    "        elif station == \"Banlic Depot\":\n",
    "            row[0] = 28\n",
    "        elif station == \"Banlic\":\n",
    "            row[0] = 29\n",
    "        elif station == \"Calamba\":\n",
    "            row[0] = 30\n",
    "        cursor.updateRow(row)\n"
   ]
  },
  {
   "cell_type": "code",
   "execution_count": 19,
   "metadata": {},
   "outputs": [
    {
     "data": {
      "text/html": [
       "<h2>Output</h2>a Layer object<h2>Messages</h2>Start Time: 2021年4月28日 2:01:42 PM<br/>Succeeded at 2021年4月28日 2:01:42 PM (Elapsed Time: 0.70 seconds)<br/><style>.rendered_html td, .rendered_html th {text-align: left;}.rendered_html tbody {border: 1px solid black;}</style>"
      ],
      "text/plain": [
       "<Result 'Station_Structure_merged_APLSTN'>"
      ]
     },
     "execution_count": 19,
     "metadata": {},
     "output_type": "execute_result"
    }
   ],
   "source": [
    "# Assign Domains\n",
    "#domains = arcpy.da.ListDomains(workspace)\n",
    "#listDomain = [d.name for d in domains]\n",
    "#reg = re.compile(r'Station Structures*|Station*')\n",
    "#listFinal = list(filter(reg.match, listDomain))\n",
    "\n",
    "arcpy.AssignDomainToField_management(output_feature, 'Type', domainList[0])\n",
    "arcpy.AssignDomainToField_management(output_feature, 'SubType', domainList[1])\n",
    "arcpy.AssignDomainToField_management(output_feature, 'Status', domainList[2])\n",
    "arcpy.AssignDomainToField_management(output_feature, 'Station', domainList[3])"
   ]
  },
  {
   "cell_type": "code",
   "execution_count": 20,
   "metadata": {},
   "outputs": [
    {
     "data": {
      "text/plain": [
       "<arcpy._mp.Layer object at 0x0000025285F6C608>"
      ]
     },
     "execution_count": 20,
     "metadata": {},
     "output_type": "execute_result"
    }
   ],
   "source": [
    "# Apply Symbology\n",
    "symbolLyrx = r'C:/Users/oc3512/Dropbox/01-Railway/02-NSCR-Ex/10-ArcGIS/01-Reference/01-Layer File/03-Station_Structure/Station_Structures.lyrx'\n",
    "arcpy.ApplySymbologyFromLayer_management(output_feature, symbolLyrx, [[\"VALUE_FIELD\", \"Status\", \"Status\"]], update_symbology=\"MAINTAIN\")[0]"
   ]
  },
  {
   "cell_type": "code",
   "execution_count": 21,
   "metadata": {},
   "outputs": [
    {
     "data": {
      "text/html": [
       "<h2>Output</h2>a Layer object<h2>Messages</h2>Start Time: 2021年4月28日 2:04:55 PM<br/>Succeeded at 2021年4月28日 2:04:57 PM (Elapsed Time: 1.83 seconds)<br/><style>.rendered_html td, .rendered_html th {text-align: left;}.rendered_html tbody {border: 1px solid black;}</style>"
      ],
      "text/plain": [
       "<Result 'Station_Structure_merged_APLSTN'>"
      ]
     },
     "execution_count": 21,
     "metadata": {},
     "output_type": "execute_result"
    }
   ],
   "source": [
    "# Delete Fields\n",
    "dropF = ['Category', 'Bldg_Name', 'OmniClassDescription', 'BldgLevel_Desc']\n",
    "arcpy.DeleteField_management(output_feature, dropF)"
   ]
  }
 ],
 "metadata": {
  "kernelspec": {
   "display_name": "ArcGISPro",
   "language": "Python",
   "name": "python3"
  },
  "language_info": {
   "file_extension": ".py",
   "name": "python",
   "version": "3"
  }
 },
 "nbformat": 4,
 "nbformat_minor": 2
}
