{
 "cells": [
  {
   "cell_type": "markdown",
   "metadata": {},
   "source": [
    "## Identify URL\n",
    "\n"
   ]
  },
  {
   "cell_type": "code",
   "execution_count": 1,
   "metadata": {},
   "outputs": [],
   "source": [
    "from pathlib import Path\n",
    "import sys\n",
    "\n",
    "from arcgis.gis import GIS, Item\n",
    "from arcgis.features import FeatureLayerCollection\n",
    "from arcgis.mapping import WebMap\n",
    "from arcgis.mapping import WebScene\n",
    "\n",
    "\n",
    "import arcpy\n",
    "import csv, os\n",
    "import time\n",
    "from IPython.display import display, HTML\n",
    "import json\n",
    "import pandas\n",
    "import logging\n",
    "log = logging.getLogger()"
   ]
  },
  {
   "cell_type": "code",
   "execution_count": 2,
   "metadata": {},
   "outputs": [],
   "source": [
    "# 1. Sign in Portal for ArcGIS\n",
    "source = GIS(\"https://gis.railway-sector.com/portal\", \"matsuzakieiji\", \"timberland12345\", verify_cert = False)"
   ]
  },
  {
   "cell_type": "code",
   "execution_count": 3,
   "metadata": {},
   "outputs": [],
   "source": [
    "# Search all feature services\n",
    "active_gis = source"
   ]
  },
  {
   "cell_type": "code",
   "execution_count": 4,
   "metadata": {},
   "outputs": [],
   "source": [
    "def get_user_items(user, active_gis):\n",
    "    user_inventory = {}\n",
    "    user_items = source.content.search(query=f\"* AND owner:{user.username}\",\n",
    "                                    item_type = \"Feature Layer\", max_items=500)\n",
    "    for item in user_items:\n",
    "        if item.type not in user_inventory:\n",
    "            user_inventory[item.type] = [i \n",
    "                                         for i in user_items \n",
    "                                         if i.type == item.type]\n",
    "    return user_inventory"
   ]
  },
  {
   "cell_type": "code",
   "execution_count": 8,
   "metadata": {},
   "outputs": [],
   "source": [
    "def print_user_inventory(inventory):\n",
    "    for itype, ilist in inventory.items():\n",
    "        try:\n",
    "            print(f\"{itype}\\n{'-'*50}\")\n",
    "            for i in ilist:\n",
    "                print(f\"{' ':3}{i.title:50}\")\n",
    "            print(\"\\n\")\n",
    "        except Exception as e:\n",
    "            print(f\"\\t\\tOperation failed on: {i.title}\")\n",
    "            print(f\"\\t\\tException: {sys.exc_info()[1]}\")\n",
    "            continue  "
   ]
  },
  {
   "cell_type": "code",
   "execution_count": 5,
   "metadata": {},
   "outputs": [],
   "source": [
    "source_admin_inventory = get_user_items(source.users.me, source)"
   ]
  },
  {
   "cell_type": "code",
   "execution_count": 9,
   "metadata": {},
   "outputs": [
    {
     "name": "stdout",
     "output_type": "stream",
     "text": [
      "Feature Service\n",
      "--------------------------------------------------\n",
      "   Status_of_Relocation_ISF_N2                       \n",
      "   EVS_Boundary                                      \n",
      "   Parcellary_Structure_Datasets                     \n",
      "   Demolition_Plan_Test                              \n",
      "   PierHead_Column_N2                                \n",
      "   NSCR_Centerline                                   \n",
      "   NSCR_Boundary                                     \n",
      "   PO_Section                                        \n",
      "   Structure__NLO_LO                                 \n",
      "   RailwayNetwork                                    \n",
      "   Building_Structures                               \n",
      "   Pier_N2                                           \n",
      "   EVS_Drawings                                      \n",
      "   BuildingStructures                                \n",
      "   Station_Structure_merged                          \n",
      "   ExistingUtilityPoint                              \n",
      "   PRI_building                                      \n",
      "   NSTren_Alignment                                  \n",
      "   TandangSora_CreekDiversion                        \n",
      "   Utility_Relocation_N2                             \n",
      "   TandangSoraCreek                                  \n",
      "   Population_Map_WFL1                               \n",
      "   TBM_Shaft_CutCover_Progress_portal                \n",
      "   Excavation_Spot                                   \n",
      "   gisdata_GISOWNER_Station_Name                     \n",
      "   ExistingCreek                                     \n",
      "   EVS_Drawings                                      \n",
      "   Excavation_Spot_tbm_shaft_cc                      \n",
      "   NSCR_Map                                          \n",
      "   Viaduct                                           \n",
      "   Parcellary                                        \n",
      "   Tree_Cutting_Compensation_mmsp                    \n",
      "   NSCR_Web_Scene_WFL1                               \n",
      "   Cut_and_Cover                                     \n",
      "   TBM_Shaft_v2                                      \n",
      "   Utility Relocation Dataset_mmsp                   \n",
      "   Depot_building_PRI                                \n",
      "   Station_Structures_mmsp                           \n",
      "   Alignment_Datasets_N2SC                           \n",
      "   Alignment all for RailSectorMaps                  \n",
      "   Stations                                          \n",
      "   TBM_Machine                                       \n",
      "   TBM_Alignment_for_Assembly                        \n",
      "   TBM Assembly Progress                             \n",
      "   Land and Structure Dataset_N2                     \n",
      "   Tree Inventory_N2                                 \n",
      "   Station_Structure_N2                              \n",
      "   Viaduct_N2                                        \n",
      "   TBM_Alignment_tunnel portal                       \n",
      "   Geotech_TSS                                       \n",
      "   Dilapidation Survey                               \n",
      "   Land Acquisition Dataset_mmsp                     \n",
      "   TBM_segmentedLine                                 \n",
      "   OBS_Bridge                                        \n",
      "   Stations_all                                      \n",
      "   Utility Relocation Dataset_N2                     \n",
      "   Alignment Dataset_N2                              \n",
      "\n",
      "\n"
     ]
    }
   ],
   "source": [
    "print_user_inventory(source_admin_inventory)"
   ]
  },
  {
   "cell_type": "code",
   "execution_count": 6,
   "metadata": {},
   "outputs": [
    {
     "ename": "NameError",
     "evalue": "name 'user' is not defined",
     "output_type": "error",
     "traceback": [
      "\u001b[0;31m---------------------------------------------------------------------------\u001b[0m\n\u001b[0;31mNameError\u001b[0m                                 Traceback (most recent call last)",
      "In  \u001b[0;34m[6]\u001b[0m:\nLine \u001b[0;34m1\u001b[0m:     search_content = source.content.search(query = \u001b[33mf\u001b[39;49;00m\u001b[33m\"\u001b[39;49;00m\u001b[33m* AND owner:\u001b[39;49;00m\u001b[33m{\u001b[39;49;00muser.username\u001b[33m}\u001b[39;49;00m\u001b[33m\"\u001b[39;49;00m,\n",
      "\u001b[0;31mNameError\u001b[0m: name 'user' is not defined\n\u001b[0;31m---------------------------------------------------------------------------\u001b[0m"
     ]
    }
   ],
   "source": [
    "search_content = source.content.search(query = f\"* AND owner:{user.username}\",\n",
    "                                    item_type = \"Feature Layer\", max_items=500)"
   ]
  },
  {
   "cell_type": "code",
   "execution_count": 7,
   "metadata": {},
   "outputs": [
    {
     "data": {
      "text/plain": [
       "{'Feature Service': [<Item title:\"Status_of_Relocation_ISF_N2\" type:Feature Layer Collection owner:matsuzakieiji>, <Item title:\"EVS_Boundary\" type:Feature Layer Collection owner:matsuzakieiji>, <Item title:\"Parcellary_Structure_Datasets\" type:Feature Layer Collection owner:matsuzakieiji>, <Item title:\"Demolition_Plan_Test\" type:Feature Layer Collection owner:matsuzakieiji>, <Item title:\"PierHead_Column_N2\" type:Feature Layer Collection owner:matsuzakieiji>, <Item title:\"NSCR_Centerline\" type:Feature Layer Collection owner:matsuzakieiji>, <Item title:\"NSCR_Boundary\" type:Feature Layer Collection owner:matsuzakieiji>, <Item title:\"PO_Section\" type:Feature Layer Collection owner:matsuzakieiji>, <Item title:\"Structure__NLO_LO\" type:Feature Layer Collection owner:matsuzakieiji>, <Item title:\"RailwayNetwork\" type:Feature Layer Collection owner:matsuzakieiji>, <Item title:\"Building_Structures\" type:Feature Layer Collection owner:matsuzakieiji>, <Item title:\"Pier_N2\" type:Feature Layer Collection owner:matsuzakieiji>, <Item title:\"EVS_Drawings\" type:Feature Layer Collection owner:matsuzakieiji>, <Item title:\"BuildingStructures\" type:Feature Layer Collection owner:matsuzakieiji>, <Item title:\"Station_Structure_merged\" type:Feature Layer Collection owner:matsuzakieiji>, <Item title:\"ExistingUtilityPoint\" type:Feature Layer Collection owner:matsuzakieiji>, <Item title:\"PRI_building\" type:Feature Layer Collection owner:matsuzakieiji>, <Item title:\"NSTren_Alignment\" type:Feature Layer Collection owner:matsuzakieiji>, <Item title:\"TandangSora_CreekDiversion\" type:Feature Layer Collection owner:matsuzakieiji>, <Item title:\"Utility_Relocation_N2\" type:Feature Layer Collection owner:matsuzakieiji>, <Item title:\"TandangSoraCreek\" type:Feature Layer Collection owner:matsuzakieiji>, <Item title:\"Population_Map_WFL1\" type:Feature Layer Collection owner:matsuzakieiji>, <Item title:\"TBM_Shaft_CutCover_Progress_portal\" type:Feature Layer Collection owner:matsuzakieiji>, <Item title:\"Excavation_Spot\" type:Feature Layer Collection owner:matsuzakieiji>, <Item title:\"gisdata_GISOWNER_Station_Name\" type:Feature Layer Collection owner:matsuzakieiji>, <Item title:\"ExistingCreek\" type:Feature Layer Collection owner:matsuzakieiji>, <Item title:\"EVS_Drawings\" type:Feature Layer Collection owner:matsuzakieiji>, <Item title:\"Excavation_Spot_tbm_shaft_cc\" type:Feature Layer Collection owner:matsuzakieiji>, <Item title:\"NSCR_Map\" type:Feature Layer Collection owner:matsuzakieiji>, <Item title:\"Viaduct\" type:Feature Layer Collection owner:matsuzakieiji>, <Item title:\"Parcellary\" type:Feature Layer Collection owner:matsuzakieiji>, <Item title:\"Tree_Cutting_Compensation_mmsp\" type:Feature Layer Collection owner:matsuzakieiji>, <Item title:\"NSCR_Web_Scene_WFL1\" type:Feature Layer Collection owner:matsuzakieiji>, <Item title:\"Cut_and_Cover\" type:Feature Layer Collection owner:matsuzakieiji>, <Item title:\"TBM_Shaft_v2\" type:Feature Layer Collection owner:matsuzakieiji>, <Item title:\"Utility Relocation Dataset_mmsp\" type:Feature Layer Collection owner:matsuzakieiji>, <Item title:\"Depot_building_PRI\" type:Feature Layer Collection owner:matsuzakieiji>, <Item title:\"Station_Structures_mmsp\" type:Feature Layer Collection owner:matsuzakieiji>, <Item title:\"Alignment_Datasets_N2SC\" type:Feature Layer Collection owner:matsuzakieiji>, <Item title:\"Alignment all for RailSectorMaps\" type:Feature Layer Collection owner:matsuzakieiji>, <Item title:\"Stations\" type:Feature Layer Collection owner:matsuzakieiji>, <Item title:\"TBM_Machine\" type:Feature Layer Collection owner:matsuzakieiji>, <Item title:\"TBM_Alignment_for_Assembly\" type:Feature Layer Collection owner:matsuzakieiji>, <Item title:\"TBM Assembly Progress\" type:Table Layer owner:matsuzakieiji>, <Item title:\"Land and Structure Dataset_N2\" type:Feature Layer Collection owner:matsuzakieiji>, <Item title:\"Tree Inventory_N2\" type:Feature Layer Collection owner:matsuzakieiji>, <Item title:\"Station_Structure_N2\" type:Feature Layer Collection owner:matsuzakieiji>, <Item title:\"Viaduct_N2\" type:Feature Layer Collection owner:matsuzakieiji>, <Item title:\"TBM_Alignment_tunnel portal\" type:Feature Layer Collection owner:matsuzakieiji>, <Item title:\"Geotech_TSS\" type:Feature Layer Collection owner:matsuzakieiji>, <Item title:\"Dilapidation Survey\" type:Feature Layer Collection owner:matsuzakieiji>, <Item title:\"Land Acquisition Dataset_mmsp\" type:Feature Layer Collection owner:matsuzakieiji>, <Item title:\"TBM_segmentedLine\" type:Feature Layer Collection owner:matsuzakieiji>, <Item title:\"OBS_Bridge\" type:Feature Layer Collection owner:matsuzakieiji>, <Item title:\"Stations_all\" type:Feature Layer Collection owner:matsuzakieiji>, <Item title:\"Utility Relocation Dataset_N2\" type:Feature Layer Collection owner:matsuzakieiji>, <Item title:\"Alignment Dataset_N2\" type:Feature Layer Collection owner:matsuzakieiji>]}"
      ]
     },
     "execution_count": 7,
     "metadata": {},
     "output_type": "execute_result"
    }
   ],
   "source": [
    "source_admin_inventory"
   ]
  },
  {
   "cell_type": "code",
   "execution_count": null,
   "metadata": {},
   "outputs": [],
   "source": []
  }
 ],
 "metadata": {
  "kernelspec": {
   "display_name": "ArcGISPro",
   "language": "Python",
   "name": "python3"
  },
  "language_info": {
   "file_extension": ".py",
   "name": "python",
   "version": "3"
  }
 },
 "nbformat": 4,
 "nbformat_minor": 2
}
