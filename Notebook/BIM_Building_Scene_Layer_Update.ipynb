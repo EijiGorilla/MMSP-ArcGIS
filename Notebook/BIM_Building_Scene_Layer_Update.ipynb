{
 "cells": [
  {
   "cell_type": "markdown",
   "metadata": {},
   "source": [
    "### Update Building Scene Layers for Construction Monitoring\n",
    "\n",
    "#### This Notebook helps to update existing building scene layer using new revit files to update construction progress of statino structures\n",
    "\n",
    "#### -------------- Steps ----------------- ####\n",
    "#### A. Process new revit files (with new construction status)\n",
    "1. Define Projection to PRS92\n",
    "2. BIM to Geodatabase (file geodatabase)\n",
    "3. Make Building Layers\n",
    "\n",
    "#### B. Update Existing Building Layers\n",
    "##### For Each building component layer, repeat the follow:\n",
    "1. Join Field using new layer ([transfer field = 'Status'])\n",
    "2. Update 'Status' for selective rows\n",
    "3. Delete 'Status1'\n",
    "\n",
    "#### C. Update Existing Building Layers\n",
    "##### Truncate existing building layers in SDE and append the copied\n",
    "1. Truncate existing building layers in enterprise geodatabase\n",
    "2. Append the copied to the truncated building layers\n",
    "\n",
    "#### E. Delete temporary file geodatabase\n",
    "1. Delete file geodatabase created during the process 'A'\n",
    "2. Delete file geodatabase copied during the process 'C'"
   ]
  },
  {
   "cell_type": "code",
   "execution_count": 1,
   "metadata": {},
   "outputs": [],
   "source": [
    "import time, os, datetime, sys, logging, logging.handlers, shutil, traceback, re\n",
    "from pathlib import Path\n",
    "import arcpy\n",
    "\n",
    "arcpy.env.overwriteOutput = True\n",
    "arcpy.env.outputCoordinateSystem = arcpy.SpatialReference(\"WGS 1984 Web Mercator (auxiliary sphere)\")\n",
    "arcpy.env.geographicTransformations = \"PRS_1992_To_WGS_1984_1\"\n",
    "\n",
    "home = Path.home()\n",
    "directory = r'OneDrive - Oriental Consultants Global JV/Documents/ArcGIS/Projects/During-Construction_nscrexn2'\n",
    "workspace = os.path.join(home, directory)\n",
    "\n",
    "BuildingLayerName = \"temporary_BIM_layers_new\""
   ]
  },
  {
   "cell_type": "markdown",
   "metadata": {},
   "source": [
    "### A. Process new revit files"
   ]
  },
  {
   "cell_type": "code",
   "execution_count": 2,
   "metadata": {},
   "outputs": [],
   "source": [
    "out_gdb_path = os.path.join(workspace,\"During-Construction_nscrexn2.gdb\")\n",
    "out_dataset_name = \"temporary_BIM_dataset\""
   ]
  },
  {
   "cell_type": "code",
   "execution_count": 3,
   "metadata": {},
   "outputs": [
    {
     "data": {
      "text/html": [
       "<div class='gpresult'><h2>Messages</h2><div id='messages' data-messages='[\"Start Time: Friday, June 9, 2023 1:00:15 PM\",\"Succeeded at Friday, June 9, 2023 1:02:29 PM (Elapsed Time: 2 minutes 14 seconds)\"]' data-show='true'><div id = 'default' /></div></div>"
      ],
      "text/plain": [
       "<Result 'C:\\\\Users\\\\eiji.LAPTOP-KSD9P6CP\\\\OneDrive - Oriental Consultants Global JV/Documents/ArcGIS/Projects/During-Construction_nscrexn2\\\\During-Construction_nscrexn2.gdb\\\\temporary_BIM_dataset'>"
      ]
     },
     "execution_count": 3,
     "metadata": {},
     "output_type": "execute_result"
    }
   ],
   "source": [
    "# 2. BIM File to Geodatabase\n",
    "## This saves all Revit models to enterprise geodatabase\n",
    "RevitWD = os.path.join(home, \"Dropbox/01-Railway/02-NSCR-Ex/01-N2/01-Basedata/09-Station_Structure/99-BIM Model\") \n",
    "Revit1 = os.path.join(RevitWD,\"N-01/NSCR-GCR-N01-APLSTN-MOD-ST-000001.rvt\")\n",
    "#Revit2 = os.path.join(RevitWD, \"N-01/NSCR-GCR-N01-CLPSTN-MOD-ST-000001.rvt\")\n",
    "\n",
    "#inputRevit = [Revit1,Revit2]\n",
    "inputRevit = [Revit1]\n",
    "\n",
    "# Choose enterprise geodatabase for Output Geodatabase\n",
    "spatial_reference = \"PRS_1992_Philippines_Zone_III\"\n",
    "\n",
    "arcpy.BIMFileToGeodatabase_conversion(inputRevit, out_gdb_path, out_dataset_name, spatial_reference)\n"
   ]
  },
  {
   "cell_type": "code",
   "execution_count": 4,
   "metadata": {},
   "outputs": [
    {
     "data": {
      "text/html": [
       "<div class='gpresult'><h2>Messages</h2><div id='messages' data-messages='[\"Start Time: Friday, June 9, 2023 1:02:46 PM\",\"Succeeded at Friday, June 9, 2023 1:02:53 PM (Elapsed Time: 7.03 seconds)\"]' data-show='true'><div id = 'default' /></div></div>"
      ],
      "text/plain": [
       "<Result 'temporary_BIM_layers_new'>"
      ]
     },
     "execution_count": 4,
     "metadata": {},
     "output_type": "execute_result"
    }
   ],
   "source": [
    "# 3. Make Building Layer\n",
    "out_dataset = os.path.join(out_gdb_path, out_dataset_name)\n",
    "arcpy.MakeBuildingLayer_management(out_dataset,BuildingLayerName)"
   ]
  },
  {
   "cell_type": "code",
   "execution_count": null,
   "metadata": {},
   "outputs": [],
   "source": [
    "# 4. 'remove empty layer' (Is this necessary?)"
   ]
  },
  {
   "cell_type": "code",
   "execution_count": 5,
   "metadata": {},
   "outputs": [
    {
     "data": {
      "text/plain": [
       "['StructuralColumns', 'StructuralFoundation', 'StructuralFraming', 'Columns', 'Floors', 'Walls']"
      ]
     },
     "execution_count": 5,
     "metadata": {},
     "output_type": "execute_result"
    }
   ],
   "source": [
    "# 5. Specificy input Tables\n",
    "buildingLayerNameArchitectural = BuildingLayerName + \"\\\\\" + \"Architectural\"\n",
    "buildingLayerNameStructural = BuildingLayerName + \"\\\\\" + \"Structural\"\n",
    "\n",
    "input_features = [buildingLayerNameStructural + \"\\\\\" + \"StructuralColumns\",\n",
    "               buildingLayerNameStructural + \"\\\\\" + \"StructuralFoundation\",\n",
    "               buildingLayerNameStructural + \"\\\\\" + \"StructuralFraming\",\n",
    "               buildingLayerNameArchitectural + \"\\\\\" + \"Columns\",\n",
    "               buildingLayerNameArchitectural + \"\\\\\" + \"Floors\",\n",
    "               buildingLayerNameArchitectural + \"\\\\\" + \"Walls\"\n",
    "              ]\n",
    "\n",
    "basename_input = []\n",
    "for feature in input_features:\n",
    "    basename = os.path.basename(feature)\n",
    "    basename_input.append(basename)\n",
    "    \n",
    "basename_input"
   ]
  },
  {
   "cell_type": "markdown",
   "metadata": {},
   "source": [
    "### C. Update Existing Building Layers in SDE"
   ]
  },
  {
   "cell_type": "code",
   "execution_count": 6,
   "metadata": {},
   "outputs": [
    {
     "data": {
      "text/plain": [
       "['N2_Station_Structure_practice\\\\Structural\\\\StructuralColumns', 'N2_Station_Structure_practice\\\\Structural\\\\StructuralFoundation', 'N2_Station_Structure_practice\\\\Structural\\\\StructuralFraming', 'N2_Station_Structure_practice\\\\Architectural\\\\Columns', 'N2_Station_Structure_practice\\\\Architectural\\\\Floors', 'N2_Station_Structure_practice\\\\Architectural\\\\Walls']"
      ]
     },
     "execution_count": 6,
     "metadata": {},
     "output_type": "execute_result"
    }
   ],
   "source": [
    "# 1. Specify copied Building Layers (to be updated)\n",
    "existingBuildingLayer = \"N2_Station_Structure_practice\"\n",
    "existingBuildingLayerNameArchitectural = existingBuildingLayer + \"\\\\\" + \"Architectural\"\n",
    "existingBuildingLayerNameStructural = existingBuildingLayer + \"\\\\\" + \"Structural\"\n",
    "\n",
    "target_features = [existingBuildingLayerNameStructural + \"\\\\\" + \"StructuralColumns\",\n",
    "               existingBuildingLayerNameStructural + \"\\\\\" + \"StructuralFoundation\",\n",
    "               existingBuildingLayerNameStructural + \"\\\\\" + \"StructuralFraming\",\n",
    "               existingBuildingLayerNameArchitectural + \"\\\\\" + \"Columns\",\n",
    "               existingBuildingLayerNameArchitectural + \"\\\\\" + \"Floors\",\n",
    "               existingBuildingLayerNameArchitectural + \"\\\\\" + \"Walls\"\n",
    "              ]\n",
    "\n",
    "target_features"
   ]
  },
  {
   "cell_type": "code",
   "execution_count": 7,
   "metadata": {},
   "outputs": [],
   "source": [
    "#** IMPORTANT\n",
    "## If this process failed for specific layer, it implies that you need to unlock the layer's connection\n",
    "## in the enterprise geodabase. Only database administrator is allowed to do this.\n",
    "\n",
    "# 2. Join Field\n",
    "## Join updating new building layers to existing layers\n",
    "## When starting to receive real revit models, make sure to use 'Status'\n",
    "\n",
    "deleteTransferField = 'Family'\n",
    "#deleteTransferField = 'Status'\n",
    "joinField = 'ObjectId'\n",
    "\n",
    "for feature in target_features:\n",
    "    #arcpy.DeleteField_management(feature, [deleteTransferField])\n",
    "    \n",
    "    # Get input_feature corresponding to target_feature\n",
    "    basename = os.path.basename(feature)\n",
    "    index = basename_input.index(basename)\n",
    "    joinTable = input_features[index]\n",
    "    \n",
    "    # Join\n",
    "    arcpy.management.JoinField(feature, joinField, joinTable, joinField, deleteTransferField)"
   ]
  },
  {
   "cell_type": "code",
   "execution_count": 8,
   "metadata": {},
   "outputs": [],
   "source": [
    "# 3. Update 'Status' using 'Status1'\n",
    "## This process is needed because only subset of rows may be updated.\n",
    "## In this case, we should check if 'Status' must be updated using new information.\n",
    "## Otherwise, keep existing 'Status'\n",
    "\n",
    "tempField = 'Family_1'\n",
    "# tempField = 'Status_1'\n",
    "\n",
    "for feature in target_features:\n",
    "    with arcpy.da.UpdateCursor(feature, [deleteTransferField, tempField]) as cursor:\n",
    "        for row in cursor:\n",
    "            if row[1] is None:\n",
    "                row[0] = row[0]\n",
    "            elif row[0] is not row[1]:\n",
    "                row[0] = row[1]\n",
    "            cursor.updateRow(row)"
   ]
  },
  {
   "cell_type": "code",
   "execution_count": 9,
   "metadata": {},
   "outputs": [],
   "source": [
    "# delete tempField \n",
    "for feature in target_features:\n",
    "    arcpy.DeleteField_management(feature, tempField)"
   ]
  },
  {
   "cell_type": "markdown",
   "metadata": {},
   "source": [
    "### C. Delete temporary feature dataset"
   ]
  },
  {
   "cell_type": "code",
   "execution_count": null,
   "metadata": {},
   "outputs": [],
   "source": [
    "# You should manually delete temporary feature dataset in your local file geodatabase"
   ]
  }
 ],
 "metadata": {
  "kernelspec": {
   "display_name": "ArcGISPro",
   "language": "Python",
   "name": "python3"
  },
  "language_info": {
   "file_extension": ".py",
   "name": "python",
   "version": "3"
  }
 },
 "nbformat": 4,
 "nbformat_minor": 2
}
