{
 "cells": [
  {
   "cell_type": "markdown",
   "metadata": {},
   "source": [
    "### Update Building Scene Layers for Construction Monitoring\n",
    "\n",
    "#### This Notebook helps to update existing building scene layer using new revit files to update construction progress of statino structures\n",
    "\n",
    "#### Steps\n",
    "#### A. Process new revit files (with new construction status)\n",
    "1. Define Projection to PRS92\n",
    "2. BIM to Geodatabase (file geodatabase)\n",
    "3. Make Building Layers\n",
    "\n",
    "#### B. Update Existing Building Scene Layer\n",
    "##### For Each building component layer, repeat the follow:\n",
    "1. Delete Field 'Status'\n",
    "2. Join Field using new layer ([transfer field = 'Status'])\n",
    "\n",
    "#### C. Delete temporary file geodatabase\n",
    "1. Delete file geodatabase created during the process 'A'"
   ]
  },
  {
   "cell_type": "code",
   "execution_count": 30,
   "metadata": {},
   "outputs": [],
   "source": [
    "import time, os, datetime, sys, logging, logging.handlers, shutil, traceback, re\n",
    "from pathlib import Path\n",
    "import arcpy\n",
    "\n",
    "arcpy.env.overwriteOutput = True\n",
    "arcpy.env.outputCoordinateSystem = arcpy.SpatialReference(\"WGS 1984 Web Mercator (auxiliary sphere)\")\n",
    "arcpy.env.geographicTransformations = \"PRS_1992_To_WGS_1984_1\"\n",
    "\n",
    "home = Path.home()\n",
    "directory = r'OneDrive - Oriental Consultants Global JV/Documents/ArcGIS/Projects/During-Construction_nscrexn2'\n",
    "workspace = os.path.join(home, directory)\n",
    "\n",
    "BuildingLayerName = \"temporary_BIM_layers\""
   ]
  },
  {
   "cell_type": "markdown",
   "metadata": {},
   "source": [
    "### A. Process new revit files"
   ]
  },
  {
   "cell_type": "code",
   "execution_count": 36,
   "metadata": {},
   "outputs": [],
   "source": [
    "out_gdb_path = os.path.join(workspace,\"During-Construction_nscrexn2.gdb\")\n",
    "out_dataset_name = \"temporary_BIM_dataset\""
   ]
  },
  {
   "cell_type": "code",
   "execution_count": 37,
   "metadata": {},
   "outputs": [
    {
     "data": {
      "text/html": [
       "<div class='gpresult'><h2>Messages</h2><div id='messages' data-messages='[\"Start Time: Thursday, June 8, 2023 1:30:20 PM\",\"Succeeded at Thursday, June 8, 2023 1:33:38 PM (Elapsed Time: 3 minutes 17 seconds)\"]' data-show='true'><div id = 'default' /></div></div>"
      ],
      "text/plain": [
       "<Result 'C:\\\\Users\\\\eiji.LAPTOP-KSD9P6CP\\\\OneDrive - Oriental Consultants Global JV/Documents/ArcGIS/Projects/During-Construction_nscrexn2\\\\During-Construction_nscrexn2.gdb\\\\temporary_BIM_dataset'>"
      ]
     },
     "execution_count": 37,
     "metadata": {},
     "output_type": "execute_result"
    }
   ],
   "source": [
    "# 2. BIM File to Geodatabase\n",
    "## This saves all Revit models to enterprise geodatabase\n",
    "RevitWD = os.path.join(home, \"Dropbox/01-Railway/02-NSCR-Ex/01-N2/01-Basedata/09-Station_Structure/99-BIM Model\") \n",
    "Revit1 = os.path.join(RevitWD,\"N-01/NSCR-GCR-N01-APLSTN-MOD-ST-000001.rvt\")\n",
    "Revit2 = os.path.join(RevitWD, \"N-01/NSCR-GCR-N01-CLPSTN-MOD-ST-000001.rvt\")\n",
    "\n",
    "inputRevit = [Revit1,Revit2]\n",
    "# Choose enterprise geodatabase for Output Geodatabase\n",
    "spatial_reference = \"PRS_1992_Philippines_Zone_III\"\n",
    "\n",
    "arcpy.BIMFileToGeodatabase_conversion(inputRevit, out_gdb_path, out_dataset_name, spatial_reference)\n"
   ]
  },
  {
   "cell_type": "code",
   "execution_count": 38,
   "metadata": {},
   "outputs": [
    {
     "data": {
      "text/html": [
       "<div class='gpresult'><h2>Messages</h2><div id='messages' data-messages='[\"Start Time: Thursday, June 8, 2023 1:36:51 PM\",\"Succeeded at Thursday, June 8, 2023 1:36:58 PM (Elapsed Time: 6.92 seconds)\"]' data-show='true'><div id = 'default' /></div></div>"
      ],
      "text/plain": [
       "<Result 'temporary_BIM_layers'>"
      ]
     },
     "execution_count": 38,
     "metadata": {},
     "output_type": "execute_result"
    }
   ],
   "source": [
    "# 3. Make Building Layer\n",
    "out_dataset = os.path.join(out_gdb_path, out_dataset_name)\n",
    "arcpy.MakeBuildingLayer_management(out_dataset,BuildingLayerName)"
   ]
  },
  {
   "cell_type": "code",
   "execution_count": null,
   "metadata": {},
   "outputs": [],
   "source": [
    "# 4. Make sure to 'remove empty layer'"
   ]
  },
  {
   "cell_type": "code",
   "execution_count": 48,
   "metadata": {},
   "outputs": [],
   "source": [
    "# 5. Specificy input Tables\n",
    "buildingLayerNameArchitectural = BuildingLayerName + \"\\\\\" + \"Architectural\"\n",
    "buildingLayerNameStructural = BuildingLayerName + \"\\\\\" + \"Structural\"\n",
    "\n",
    "input_features = [buildingLayerNameStructural + \"\\\\\" + \"StructuralColumns\",\n",
    "               buildingLayerNameStructural + \"\\\\\" + \"StructuralFoundation\",\n",
    "               buildingLayerNameStructural + \"\\\\\" + \"StructuralFraming\",\n",
    "               buildingLayerNameArchitectural + \"\\\\\" + \"Columns\",\n",
    "               buildingLayerNameArchitectural + \"\\\\\" + \"Floors\",\n",
    "               buildingLayerNameArchitectural + \"\\\\\" + \"Walls\"\n",
    "              ]\n",
    "\n",
    "basename_input = []\n",
    "for feature in input_features:\n",
    "    basename = os.path.basename(feature)\n",
    "    basename_input.append(basename)"
   ]
  },
  {
   "cell_type": "markdown",
   "metadata": {},
   "source": [
    "### B. Update Existing Building Scene Layer"
   ]
  },
  {
   "cell_type": "code",
   "execution_count": 40,
   "metadata": {},
   "outputs": [],
   "source": [
    "# 1. Specify Existing Building Layers (to be updated)\n",
    "existingBuildingLayer = 'N2_Station_Structure_practice'\n",
    "existingBuildingLayerNameArchitectural = existingBuildingLayer + \"\\\\\" + \"Architectural\"\n",
    "existingBuildingLayerNameStructural = existingBuildingLayer + \"\\\\\" + \"Structural\"\n",
    "\n",
    "target_features = [existingBuildingLayerNameStructural + \"\\\\\" + \"StructuralColumns\",\n",
    "               existingBuildingLayerNameStructural + \"\\\\\" + \"StructuralFoundation\",\n",
    "               existingBuildingLayerNameStructural + \"\\\\\" + \"StructuralFraming\",\n",
    "               existingBuildingLayerNameArchitectural + \"\\\\\" + \"Columns\",\n",
    "               existingBuildingLayerNameArchitectural + \"\\\\\" + \"Floors\",\n",
    "               existingBuildingLayerNameArchitectural + \"\\\\\" + \"Walls\"\n",
    "              ]"
   ]
  },
  {
   "cell_type": "code",
   "execution_count": 50,
   "metadata": {},
   "outputs": [],
   "source": [
    "# 2. Join Field\n",
    "## Join updating new building layers to existing layers\n",
    "## When starting to receive real revit models, make sure to use 'Status'\n",
    "\n",
    "deleteTransferField = 'Family'\n",
    "#deleteTransferField = 'Status'\n",
    "joinField = 'ObjectId'\n",
    "\n",
    "\n",
    "for feature in target_features:\n",
    "    arcpy.DeleteField_management(feature, [deleteTransferField])\n",
    "    \n",
    "    # Get input_feature corresponding to target_feature\n",
    "    basename = os.path.basename(feature)\n",
    "    index = basename_input.index(basename)\n",
    "    joinTable = input_features[index]\n",
    "    \n",
    "    # Join\n",
    "    arcpy.management.JoinField(feature, joinField, joinTable, joinField, deleteTransferField)"
   ]
  },
  {
   "cell_type": "markdown",
   "metadata": {},
   "source": [
    "### C. Delete temporary feature dataset"
   ]
  },
  {
   "cell_type": "code",
   "execution_count": null,
   "metadata": {},
   "outputs": [],
   "source": []
  }
 ],
 "metadata": {
  "kernelspec": {
   "display_name": "ArcGISPro",
   "language": "Python",
   "name": "python3"
  },
  "language_info": {
   "file_extension": ".py",
   "name": "python",
   "version": "3"
  }
 },
 "nbformat": 4,
 "nbformat_minor": 2
}
