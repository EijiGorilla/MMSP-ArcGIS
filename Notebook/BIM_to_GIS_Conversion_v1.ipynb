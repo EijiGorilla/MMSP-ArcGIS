{
 "cells": [
  {
   "cell_type": "markdown",
   "metadata": {},
   "source": [
    "### BIM to GIS Conversion\n",
    "\n",
    "#### This Notebook imports revit files from BIM models and convert them to GIS geodatabase in prepartion for monitoring\n",
    "#### Please implement the following steps:\n",
    "1. Define Projection to PRS92\n",
    "2. Export Feature to file geodatabase\n",
    "3. Merge all feature layers\n",
    "4. Delete unwanted fields\n",
    "5. Add Fields\n",
    "6. Calculate Field for Type\n",
    "7. Calculate Field for SubType\n",
    "8. Delete Fields"
   ]
  },
  {
   "cell_type": "code",
   "execution_count": 82,
   "metadata": {},
   "outputs": [],
   "source": [
    "import time, os, datetime, sys, logging, logging.handlers, shutil, traceback, re\n",
    "import arcpy\n",
    "\n",
    "arcpy.env.overwriteOutput = True\n",
    "arcpy.env.outputCoordinateSystem = arcpy.SpatialReference(\"WGS 1984 Web Mercator (auxiliary sphere)\")\n",
    "arcpy.env.geographicTransformations = \"PRS_1992_To_WGS_1984_1\"\n",
    "workspace = r'C:/Users/oc3512/OneDrive - Oriental Consultants Global JV/Documents/ArcGIS/Projects/During-Construction_nscrexn2/During-Construction_nscrexn2.gdb'\n",
    "\n",
    "fDataset = r'Station_AG'\n",
    "path = os.path.join(workspace, fDataset)\n"
   ]
  },
  {
   "cell_type": "code",
   "execution_count": 83,
   "metadata": {},
   "outputs": [],
   "source": [
    "# 1. Define Projection to PRS92\n",
    "## Add revit files to the Contents panel\n",
    "roof = r'Roofs'\n",
    "framing = r'StructuralFraming'\n",
    "foundation = r'StructuralFoundation'\n",
    "column = r'StructuralColumns'\n",
    "\n",
    "in_features = [framing, foundation, column]\n",
    "\n",
    "sr = arcpy.SpatialReference(\"PRS 1992 Philippines Zone III\")\n",
    "\n",
    "for fl in in_features:\n",
    "    # Define Projection first\n",
    "    arcpy.DefineProjection_management(fl, sr)    \n"
   ]
  },
  {
   "cell_type": "code",
   "execution_count": 84,
   "metadata": {},
   "outputs": [
    {
     "data": {
      "text/html": [
       "<h2>Output</h2>C:\\Users\\oc3512\\OneDrive - Oriental Consultants Global JV\\Documents\\ArcGIS\\Projects\\During-Construction_nscrexn2\\During-Construction_nscrexn2.gdb\\Station_AG<h2>Messages</h2>Start Time: 2021年4月6日 3:26:05 PM<br/>StructuralFraming Successfully converted:  C:/Users/oc3512/OneDrive - Oriental Consultants Global JV/Documents/ArcGIS/Projects/During-Construction_nscrexn2/During-Construction_nscrexn2.gdb\\Station_AG\\StructuralFraming<br/>StructuralFoundation Successfully converted:  C:/Users/oc3512/OneDrive - Oriental Consultants Global JV/Documents/ArcGIS/Projects/During-Construction_nscrexn2/During-Construction_nscrexn2.gdb\\Station_AG\\StructuralFoundation<br/>StructuralColumns Successfully converted:  C:/Users/oc3512/OneDrive - Oriental Consultants Global JV/Documents/ArcGIS/Projects/During-Construction_nscrexn2/During-Construction_nscrexn2.gdb\\Station_AG\\StructuralColumns<br/>Succeeded at 2021年4月6日 3:26:30 PM (Elapsed Time: 25.54 seconds)<br/><style>.rendered_html td, .rendered_html th {text-align: left;}.rendered_html tbody {border: 1px solid black;}</style>"
      ],
      "text/plain": [
       "<Result 'C:\\\\Users\\\\oc3512\\\\OneDrive - Oriental Consultants Global JV\\\\Documents\\\\ArcGIS\\\\Projects\\\\During-Construction_nscrexn2\\\\During-Construction_nscrexn2.gdb\\\\Station_AG'>"
      ]
     },
     "execution_count": 84,
     "metadata": {},
     "output_type": "execute_result"
    }
   ],
   "source": [
    "# 2. Export to file geodatabase\n",
    "\n",
    "arcpy.FeatureClassToGeodatabase_conversion(in_features, path)\n"
   ]
  },
  {
   "cell_type": "code",
   "execution_count": 85,
   "metadata": {},
   "outputs": [
    {
     "data": {
      "text/html": [
       "<h2>Output</h2>C:/Users/oc3512/OneDrive - Oriental Consultants Global JV/Documents/ArcGIS/Projects/During-Construction_nscrexn2/During-Construction_nscrexn2.gdb\\Station_AG\\Station_Structure_merged<h2>Messages</h2>Start Time: 2021年4月6日 3:27:02 PM<br/>Succeeded at 2021年4月6日 3:27:13 PM (Elapsed Time: 10.29 seconds)<br/><style>.rendered_html td, .rendered_html th {text-align: left;}.rendered_html tbody {border: 1px solid black;}</style>"
      ],
      "text/plain": [
       "<Result 'C:/Users/oc3512/OneDrive - Oriental Consultants Global JV/Documents/ArcGIS/Projects/During-Construction_nscrexn2/During-Construction_nscrexn2.gdb\\\\Station_AG\\\\Station_Structure_merged'>"
      ]
     },
     "execution_count": 85,
     "metadata": {},
     "output_type": "execute_result"
    }
   ],
   "source": [
    "# 3. Merge all feature layers\n",
    "arcpy.env.workspace = path\n",
    "output_feature = \"Station_Structure_merged\"\n",
    "arcpy.Merge_management(in_features, output_feature,\"\",\"\")"
   ]
  },
  {
   "cell_type": "code",
   "execution_count": 86,
   "metadata": {},
   "outputs": [
    {
     "data": {
      "text/html": [
       "<h2>Output</h2>a Layer object<h2>Messages</h2>Start Time: 2021年4月6日 3:27:45 PM<br/>Succeeded at 2021年4月6日 3:27:55 PM (Elapsed Time: 10.52 seconds)<br/><style>.rendered_html td, .rendered_html th {text-align: left;}.rendered_html tbody {border: 1px solid black;}</style>"
      ],
      "text/plain": [
       "<Result 'Station_Structure_merged'>"
      ]
     },
     "execution_count": 86,
     "metadata": {},
     "output_type": "execute_result"
    }
   ],
   "source": [
    "# 4. Delete Fields\n",
    "## 4.1 Obtain fields to be kept\n",
    "fieldList = [f.name for f in arcpy.ListFields(output_feature)]\n",
    "\n",
    "# find OBJECTID, as this is not deletable\n",
    "reg = re.compile(r'OBJECTID*|Shape|Shape_Length|Shape_Area|Shape.STArea()|Shape.STLength()|GlobalID')\n",
    "objField = list(filter(reg.match, fieldList))\n",
    "keepFields = objField + ['Category', 'Bldg_Name', 'BldgLevel', 'OmniClassDescription', 'BldgLevel_Desc']\n",
    "\n",
    "# Drop fields\n",
    "dropFields = [e for e in fieldList if e not in keepFields]\n",
    "\n",
    "## 4.2 Delete fields from feature layer\n",
    "arcpy.DeleteField_management(output_feature, dropFields)"
   ]
  },
  {
   "cell_type": "code",
   "execution_count": 87,
   "metadata": {},
   "outputs": [],
   "source": [
    "# 5. Add Fields\n",
    "addFields = ['Station', 'Type', 'SubType', 'Status', 'StartDate', 'TargetDate']\n",
    "\n",
    "for field in addFields:\n",
    "    if field in ('StartDate', 'TargetDate'):\n",
    "        arcpy.AddField_management(output_feature, field, \"DATE\", \"\", \"\", \"\", field, \"NULLABLE\", \"\")\n",
    "    else:\n",
    "        arcpy.AddField_management(output_feature, field, \"SHORT\", \"\", \"\", \"\", field, \"NULLABLE\", \"\")"
   ]
  },
  {
   "cell_type": "code",
   "execution_count": 88,
   "metadata": {},
   "outputs": [],
   "source": [
    "# 6. Calculate Field for 'Type'\n",
    "# codeblok for \"Type\"\n",
    "codeblock = \"\"\"\n",
    "def reclass(category):\n",
    "    if category == 'Structural Foundations':\n",
    "        return 1\n",
    "    elif category == 'Structural Columns':\n",
    "        return 2\n",
    "    elif category == 'Structural Framing':\n",
    "        return 3\n",
    "    elif category == 'Roofs':\n",
    "        return 4\n",
    "    else:\n",
    "        return None\"\"\"\n",
    "\n",
    "# codeblock for \"SubType\"\n",
    "codeblock2 = \"\"\"\n",
    "def reclass(category):\n",
    "    if category == 'Structural Foundations':\n",
    "        return 1\n",
    "    elif category == 'Structural Framing':\n",
    "        return 2\n",
    "    elif category == 'Structural Columns':\n",
    "        return 4\n",
    "    elif category == 'Roofs':\n",
    "        return 5\n",
    "    else:\n",
    "        return None\"\"\"\n",
    "\n",
    "calculateFields = ['Type', 'SubType']\n",
    "for field in calculateFields:\n",
    "    expression = \"reclass(!{}!)\".format(\"Category\")\n",
    "    if field == 'Type':\n",
    "        arcpy.CalculateField_management(output_feature, field, expression, \"PYTHON3\", codeblock)\n",
    "    else:\n",
    "        arcpy.CalculateField_management(output_feature, field, expression, \"PYTHON3\", codeblock2)\n",
    "        "
   ]
  },
  {
   "cell_type": "code",
   "execution_count": 89,
   "metadata": {},
   "outputs": [
    {
     "data": {
      "text/html": [
       "<h2>Output</h2>a Layer object<h2>Messages</h2>Start Time: 2021年4月6日 3:28:27 PM<br/>Succeeded at 2021年4月6日 3:28:28 PM (Elapsed Time: 1.00 seconds)<br/><style>.rendered_html td, .rendered_html th {text-align: left;}.rendered_html tbody {border: 1px solid black;}</style>"
      ],
      "text/plain": [
       "<Result 'Station_Structure_merged'>"
      ]
     },
     "execution_count": 89,
     "metadata": {},
     "output_type": "execute_result"
    }
   ],
   "source": [
    "# Assign Domains\n",
    "domains = arcpy.da.ListDomains(workspace)\n",
    "listDomain = [d.name for d in domains]\n",
    "reg = re.compile(r'Station Structures*|Station*')\n",
    "listFinal = list(filter(reg.match, listDomain))\n",
    "\n",
    "listFinal\n",
    "\n",
    "arcpy.AssignDomainToField_management(output_feature, 'Type', listFinal[0])\n",
    "arcpy.AssignDomainToField_management(output_feature, 'SubType', listFinal[1])\n",
    "arcpy.AssignDomainToField_management(output_feature, 'Status', listFinal[2])\n",
    "arcpy.AssignDomainToField_management(output_feature, 'Station', listFinal[3])"
   ]
  },
  {
   "cell_type": "code",
   "execution_count": 90,
   "metadata": {},
   "outputs": [
    {
     "data": {
      "text/plain": [
       "<arcpy._mp.Layer object at 0x00000255338D59C8>"
      ]
     },
     "execution_count": 90,
     "metadata": {},
     "output_type": "execute_result"
    }
   ],
   "source": [
    "# Apply Symbology\n",
    "symbolLyrx = r'C:/Users/oc3512/Dropbox/01-Railway/02-NSCR-Ex/10-ArcGIS/01-Reference/01-Layer File/03-Station_Structure/Station_Structures.lyrx'\n",
    "arcpy.ApplySymbologyFromLayer_management(output_feature, symbolLyrx, [[\"VALUE_FIELD\", \"Status\", \"Status\"]], update_symbology=\"MAINTAIN\")[0]"
   ]
  },
  {
   "cell_type": "code",
   "execution_count": 91,
   "metadata": {},
   "outputs": [
    {
     "data": {
      "text/html": [
       "<h2>Output</h2>a Layer object<h2>Messages</h2>Start Time: 2021年4月6日 3:28:35 PM<br/>Succeeded at 2021年4月6日 3:28:36 PM (Elapsed Time: 1.68 seconds)<br/><style>.rendered_html td, .rendered_html th {text-align: left;}.rendered_html tbody {border: 1px solid black;}</style>"
      ],
      "text/plain": [
       "<Result 'Station_Structure_merged'>"
      ]
     },
     "execution_count": 91,
     "metadata": {},
     "output_type": "execute_result"
    }
   ],
   "source": [
    "# Delete Fields\n",
    "dropF = ['Category', 'Bldg_Name', 'OmniClassDescription', 'BldgLevel_Desc']\n",
    "arcpy.DeleteField_management(output_feature, dropF)"
   ]
  },
  {
   "cell_type": "code",
   "execution_count": null,
   "metadata": {},
   "outputs": [],
   "source": []
  }
 ],
 "metadata": {
  "kernelspec": {
   "display_name": "ArcGISPro",
   "language": "Python",
   "name": "python3"
  },
  "language_info": {
   "file_extension": ".py",
   "name": "python",
   "version": "3"
  }
 },
 "nbformat": 4,
 "nbformat_minor": 2
}
