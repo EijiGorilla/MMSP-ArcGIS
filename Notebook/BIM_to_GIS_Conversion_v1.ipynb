{
 "cells": [
  {
   "cell_type": "markdown",
   "metadata": {},
   "source": [
    "### BIM to GIS Conversion\n",
    "\n",
    "#### This Notebook imports revit files from BIM models and convert them to GIS geodatabase in prepartion for monitoring\n",
    "\n",
    "### 1. To publish SceneLayer (hosted) in Portal\n",
    "\n",
    "### 2. To publish BuildingSceneLayer (hosted) in Portal\n"
   ]
  },
  {
   "cell_type": "code",
   "execution_count": 1,
   "metadata": {},
   "outputs": [],
   "source": [
    "# 1. To publish SceneLayer (hosted) in Portal\n",
    "\n",
    "import time, os, datetime, sys, logging, logging.handlers, shutil, traceback, re\n",
    "import arcpy\n",
    "\n",
    "arcpy.env.overwriteOutput = True\n",
    "arcpy.env.outputCoordinateSystem = arcpy.SpatialReference(\"WGS 1984 Web Mercator (auxiliary sphere)\")\n",
    "arcpy.env.geographicTransformations = \"PRS_1992_To_WGS_1984_1\"\n",
    "workspace = r'C:/Users/oc3512/OneDrive - Oriental Consultants Global JV/Documents/ArcGIS/Projects/During-Construction_nscrexn2/During-Construction_nscrexn2.gdb'\n",
    "\n",
    "fDataset = r'Station_BG' # 'Station_AG'\n",
    "path = os.path.join(workspace, fDataset)\n"
   ]
  },
  {
   "cell_type": "code",
   "execution_count": 2,
   "metadata": {},
   "outputs": [],
   "source": [
    "# 0. Station name\n",
    "station = \"CIA\"\n",
    "\n",
    "# 0. Domain Name\n",
    "domainList = ['Station Structures_TYPE', 'Station Structures_SUBTYPE', 'Station Structures_STATUS', 'Station_nscrex']\n",
    "\n",
    "# 1. Define Projection to PRS92\n",
    "## Add revit files to the Contents panel\n",
    "## Note that 'Floors' in the BIM Model includes both slab and floors together.\n",
    "\n",
    "columnA = r'Columns' # CIA Station has this column in Architectural\n",
    "floor = r'Floors'\n",
    "roof = r'Roofs'\n",
    "framing = r'StructuralFraming'\n",
    "foundation = r'StructuralFoundation'\n",
    "column = r'StructuralColumns'\n",
    "\n",
    "in_features = [floor, framing, foundation, column, columnA, roof]\n",
    "\n",
    "sr = arcpy.SpatialReference(\"PRS 1992 Philippines Zone III\")\n",
    "\n",
    "for fl in in_features:\n",
    "    # Define Projection first\n",
    "    arcpy.DefineProjection_management(fl, sr)    \n"
   ]
  },
  {
   "cell_type": "code",
   "execution_count": 3,
   "metadata": {},
   "outputs": [
    {
     "data": {
      "text/html": [
       "<h2>Output</h2>C:\\Users\\oc3512\\OneDrive - Oriental Consultants Global JV\\Documents\\ArcGIS\\Projects\\During-Construction_nscrexn2\\During-Construction_nscrexn2.gdb\\Station_BG<h2>Messages</h2>Start Time: 2021年5月19日 12:15:59 PM<br/>Floors Successfully converted:  C:/Users/oc3512/OneDrive - Oriental Consultants Global JV/Documents/ArcGIS/Projects/During-Construction_nscrexn2/During-Construction_nscrexn2.gdb\\Station_BG\\Floors<br/>StructuralFraming Successfully converted:  C:/Users/oc3512/OneDrive - Oriental Consultants Global JV/Documents/ArcGIS/Projects/During-Construction_nscrexn2/During-Construction_nscrexn2.gdb\\Station_BG\\StructuralFraming<br/>StructuralFoundation Successfully converted:  C:/Users/oc3512/OneDrive - Oriental Consultants Global JV/Documents/ArcGIS/Projects/During-Construction_nscrexn2/During-Construction_nscrexn2.gdb\\Station_BG\\StructuralFoundation<br/>StructuralColumns Successfully converted:  C:/Users/oc3512/OneDrive - Oriental Consultants Global JV/Documents/ArcGIS/Projects/During-Construction_nscrexn2/During-Construction_nscrexn2.gdb\\Station_BG\\StructuralColumns<br/>Columns Successfully converted:  C:/Users/oc3512/OneDrive - Oriental Consultants Global JV/Documents/ArcGIS/Projects/During-Construction_nscrexn2/During-Construction_nscrexn2.gdb\\Station_BG\\Columns<br/>Roofs Successfully converted:  C:/Users/oc3512/OneDrive - Oriental Consultants Global JV/Documents/ArcGIS/Projects/During-Construction_nscrexn2/During-Construction_nscrexn2.gdb\\Station_BG\\Roofs<br/>Succeeded at 2021年5月19日 12:16:54 PM (Elapsed Time: 55.68 seconds)<br/><style>.rendered_html td, .rendered_html th {text-align: left;}.rendered_html tbody {border: 1px solid black;}</style>"
      ],
      "text/plain": [
       "<Result 'C:\\\\Users\\\\oc3512\\\\OneDrive - Oriental Consultants Global JV\\\\Documents\\\\ArcGIS\\\\Projects\\\\During-Construction_nscrexn2\\\\During-Construction_nscrexn2.gdb\\\\Station_BG'>"
      ]
     },
     "execution_count": 3,
     "metadata": {},
     "output_type": "execute_result"
    }
   ],
   "source": [
    "# 2. Export to file geodatabase\n",
    "\n",
    "arcpy.FeatureClassToGeodatabase_conversion(in_features, path)\n"
   ]
  },
  {
   "cell_type": "code",
   "execution_count": 4,
   "metadata": {},
   "outputs": [
    {
     "data": {
      "text/html": [
       "<h2>Output</h2>C:/Users/oc3512/OneDrive - Oriental Consultants Global JV/Documents/ArcGIS/Projects/During-Construction_nscrexn2/During-Construction_nscrexn2.gdb\\Station_BG\\Station_Structure_merged_CIA<h2>Messages</h2>Start Time: 2021年5月19日 12:18:22 PM<br/>Succeeded at 2021年5月19日 12:18:27 PM (Elapsed Time: 5.19 seconds)<br/><style>.rendered_html td, .rendered_html th {text-align: left;}.rendered_html tbody {border: 1px solid black;}</style>"
      ],
      "text/plain": [
       "<Result 'C:/Users/oc3512/OneDrive - Oriental Consultants Global JV/Documents/ArcGIS/Projects/During-Construction_nscrexn2/During-Construction_nscrexn2.gdb\\\\Station_BG\\\\Station_Structure_merged_CIA'>"
      ]
     },
     "execution_count": 4,
     "metadata": {},
     "output_type": "execute_result"
    }
   ],
   "source": [
    "# 3. Merge all feature layers\n",
    "arcpy.env.workspace = path\n",
    "output_feature = \"Station_Structure_merged\" + \"_\" + station\n",
    "arcpy.Merge_management(in_features, output_feature,\"\",\"\")"
   ]
  },
  {
   "cell_type": "code",
   "execution_count": 5,
   "metadata": {},
   "outputs": [
    {
     "data": {
      "text/html": [
       "<h2>Output</h2>a Layer object<h2>Messages</h2>Start Time: 2021年5月19日 12:20:19 PM<br/>Succeeded at 2021年5月19日 12:20:31 PM (Elapsed Time: 11.85 seconds)<br/><style>.rendered_html td, .rendered_html th {text-align: left;}.rendered_html tbody {border: 1px solid black;}</style>"
      ],
      "text/plain": [
       "<Result 'Station_Structure_merged_CIA'>"
      ]
     },
     "execution_count": 5,
     "metadata": {},
     "output_type": "execute_result"
    }
   ],
   "source": [
    "# 4. Delete Fields\n",
    "## 4.1 Obtain fields to be kept\n",
    "fieldList = [f.name for f in arcpy.ListFields(output_feature)]\n",
    "\n",
    "# find OBJECTID, as this is not deletable\n",
    "reg = re.compile(r'OBJECTID*|Shape|Shape_Length|Shape_Area|Shape.STArea()|Shape.STLength()|GlobalID')\n",
    "objField = list(filter(reg.match, fieldList))\n",
    "keepFields = objField + ['Category', 'ObjectID', 'Bldg_Name', 'BldgLevel', 'OmniClassDescription', 'BldgLevel_Desc', 'DocName']\n",
    "\n",
    "# Drop fields\n",
    "dropFields = [e for e in fieldList if e not in keepFields]\n",
    "\n",
    "## 4.2 Delete fields from feature layer\n",
    "arcpy.DeleteField_management(output_feature, dropFields)"
   ]
  },
  {
   "cell_type": "code",
   "execution_count": 6,
   "metadata": {},
   "outputs": [],
   "source": [
    "# 5. Add Fields\n",
    "addFields = ['Station', 'Type', 'SubType', 'Status', 'StartDate', 'TargetDate']\n",
    "\n",
    "for field in addFields:\n",
    "    if field in ('StartDate', 'TargetDate'):\n",
    "        arcpy.AddField_management(output_feature, field, \"DATE\", \"\", \"\", \"\", field, \"NULLABLE\", \"\")\n",
    "    else:\n",
    "        arcpy.AddField_management(output_feature, field, \"SHORT\", \"\", \"\", \"\", field, \"NULLABLE\", \"\")"
   ]
  },
  {
   "cell_type": "code",
   "execution_count": 7,
   "metadata": {},
   "outputs": [],
   "source": [
    "# 6. Calculate Field for 'Type'\n",
    "# codeblok for \"Type\"\n",
    "codeblock = \"\"\"\n",
    "def reclass(category):\n",
    "    if category == 'Structural Foundations':\n",
    "        return 1\n",
    "    elif category == 'Structural Columns' or 'Columns':\n",
    "        return 2\n",
    "    elif category == 'Structural Framing':\n",
    "        return 3\n",
    "    elif category == 'Roofs':\n",
    "        return 4\n",
    "    elif category == 'Floors':\n",
    "        return 5\n",
    "    else:\n",
    "        return None\"\"\"\n",
    "\n",
    "# codeblock for \"SubType\"\n",
    "codeblock2 = \"\"\"\n",
    "def reclass(category):\n",
    "    if category == 'Structural Foundations':\n",
    "        return 1\n",
    "    elif category == 'Structural Framing':\n",
    "        return 2\n",
    "    elif category == 'Floors':\n",
    "        return 3\n",
    "    elif category == 'Structural Columns' or 'Columns':\n",
    "        return 4\n",
    "    elif category == 'Roofs':\n",
    "        return 5\n",
    "    else:\n",
    "        return None\"\"\"\n",
    "\n",
    "calculateFields = ['Type', 'SubType']\n",
    "for field in calculateFields:\n",
    "    expression = \"reclass(!{}!)\".format(\"Category\")\n",
    "    if field == 'Type':\n",
    "        arcpy.CalculateField_management(output_feature, field, expression, \"PYTHON3\", codeblock)\n",
    "    else:\n",
    "        arcpy.CalculateField_management(output_feature, field, expression, \"PYTHON3\", codeblock2)\n",
    "        "
   ]
  },
  {
   "cell_type": "code",
   "execution_count": 13,
   "metadata": {},
   "outputs": [],
   "source": [
    "# Set the initial status = 'To be Constructed'\n",
    "with arcpy.da.UpdateCursor(output_feature, ['Status']) as cursor:\n",
    "    for row in cursor:\n",
    "        row[0] = 1\n",
    "        cursor.updateRow(row)"
   ]
  },
  {
   "cell_type": "code",
   "execution_count": 14,
   "metadata": {},
   "outputs": [],
   "source": [
    "# Enter station name\n",
    "with arcpy.da.UpdateCursor(output_feature, ['Station']) as cursor:\n",
    "    for row in cursor:\n",
    "        if station == \"NCC\":\n",
    "            row[0] = 1\n",
    "        elif station == \"Depot\":\n",
    "            row[0] = 2\n",
    "        elif station == \"CIA\":\n",
    "            row[0] = 3\n",
    "        elif station == \"Clark\":\n",
    "            row[0] = 4\n",
    "        elif station == \"Angeles\":\n",
    "            row[0] = 5\n",
    "        elif station == \"San Fernando\":\n",
    "            row[0] = 6\n",
    "        elif station == \"Apalit\":\n",
    "            row[0] = 7\n",
    "        elif station == \"Calumpit\":\n",
    "            row[0] = 8\n",
    "        elif station == \"Malolos\":\n",
    "            row[0] = 9\n",
    "        elif station == \"Solis\":\n",
    "            row[0] = 10\n",
    "        elif station == \"Blumentritt\":\n",
    "            row[0] = 11\n",
    "        elif station == \"Espana\":\n",
    "            row[0] = 12\n",
    "        elif station == \"Santa Mesa\":\n",
    "            row[0] = 13\n",
    "        elif station == \"Paco\":\n",
    "            row[0] = 14\n",
    "        elif station == \"Buendia\":\n",
    "            row[0] = 15\n",
    "        elif station == \"EDSA\":\n",
    "            row[0] = 16\n",
    "        elif station == \"Nichols\":\n",
    "            row[0] = 17\n",
    "        elif station == \"FTI\":\n",
    "            row[0] = 18\n",
    "        elif station == \"Bicutan\":\n",
    "            row[0] = 19\n",
    "        elif station == \"Sucat\":\n",
    "            row[0] = 20\n",
    "        elif station == \"Alabang\":\n",
    "            row[0] = 21\n",
    "        elif station == \"Muntinlupa\":\n",
    "            row[0] = 22\n",
    "        elif station == \"San Pedro\":\n",
    "            row[0] = 23\n",
    "        elif station == \"Pacita\":\n",
    "            row[0] = 24\n",
    "        elif station == \"Binan\":\n",
    "            row[0] = 25\n",
    "        elif station == \"Santa Rosa\":\n",
    "            row[0] = 26\n",
    "        elif station == \"Cabuyao\":\n",
    "            row[0] = 27\n",
    "        elif station == \"Banlic Depot\":\n",
    "            row[0] = 28\n",
    "        elif station == \"Banlic\":\n",
    "            row[0] = 29\n",
    "        elif station == \"Calamba\":\n",
    "            row[0] = 30\n",
    "        cursor.updateRow(row)\n"
   ]
  },
  {
   "cell_type": "code",
   "execution_count": 15,
   "metadata": {},
   "outputs": [
    {
     "data": {
      "text/html": [
       "<h2>Output</h2>a Layer object<h2>Messages</h2>Start Time: 2021年5月19日 10:54:49 AM<br/>Succeeded at 2021年5月19日 10:54:54 AM (Elapsed Time: 4.74 seconds)<br/><style>.rendered_html td, .rendered_html th {text-align: left;}.rendered_html tbody {border: 1px solid black;}</style>"
      ],
      "text/plain": [
       "<Result 'Station_Structure_merged_CIA'>"
      ]
     },
     "execution_count": 15,
     "metadata": {},
     "output_type": "execute_result"
    }
   ],
   "source": [
    "# Assign Domains\n",
    "#domains = arcpy.da.ListDomains(workspace)\n",
    "#listDomain = [d.name for d in domains]\n",
    "#reg = re.compile(r'Station Structures*|Station*')\n",
    "#listFinal = list(filter(reg.match, listDomain))\n",
    "\n",
    "arcpy.AssignDomainToField_management(output_feature, 'Type', domainList[0])\n",
    "arcpy.AssignDomainToField_management(output_feature, 'SubType', domainList[1])\n",
    "arcpy.AssignDomainToField_management(output_feature, 'Status', domainList[2])\n",
    "arcpy.AssignDomainToField_management(output_feature, 'Station', domainList[3])"
   ]
  },
  {
   "cell_type": "code",
   "execution_count": 16,
   "metadata": {},
   "outputs": [
    {
     "data": {
      "text/plain": [
       "<arcpy._mp.Layer object at 0x000001CADCEEA108>"
      ]
     },
     "execution_count": 16,
     "metadata": {},
     "output_type": "execute_result"
    }
   ],
   "source": [
    "# Apply Symbology\n",
    "symbolLyrx = r'C:/Users/oc3512/Dropbox/01-Railway/02-NSCR-Ex/10-ArcGIS/01-Reference/01-Layer File/03-Station_Structure/Station_Structures.lyrx'\n",
    "arcpy.ApplySymbologyFromLayer_management(output_feature, symbolLyrx, [[\"VALUE_FIELD\", \"Status\", \"Status\"]], update_symbology=\"MAINTAIN\")[0]"
   ]
  },
  {
   "cell_type": "code",
   "execution_count": 17,
   "metadata": {},
   "outputs": [
    {
     "data": {
      "text/html": [
       "<h2>Output</h2>a Layer object<h2>Messages</h2>Start Time: 2021年5月19日 10:58:00 AM<br/>Succeeded at 2021年5月19日 10:58:05 AM (Elapsed Time: 5.30 seconds)<br/><style>.rendered_html td, .rendered_html th {text-align: left;}.rendered_html tbody {border: 1px solid black;}</style>"
      ],
      "text/plain": [
       "<Result 'Station_Structure_merged_CIA'>"
      ]
     },
     "execution_count": 17,
     "metadata": {},
     "output_type": "execute_result"
    }
   ],
   "source": [
    "# Delete Fields\n",
    "dropF = ['Category', 'Bldg_Name', 'OmniClassDescription', 'BldgLevel_Desc']\n",
    "arcpy.DeleteField_management(output_feature, dropF)"
   ]
  },
  {
   "cell_type": "code",
   "execution_count": null,
   "metadata": {},
   "outputs": [],
   "source": [
    "# 2. To publish BuildingSceneLayer (hosted) in Portal"
   ]
  },
  {
   "cell_type": "code",
   "execution_count": 1,
   "metadata": {},
   "outputs": [],
   "source": [
    "from pathlib import Path\n",
    "import os\n",
    "import re"
   ]
  },
  {
   "cell_type": "code",
   "execution_count": 2,
   "metadata": {},
   "outputs": [],
   "source": [
    "homeDirectory = Path.home()\n",
    "bimDirectory = r'Dropbox/01-Railway/02-NSCR-Ex/02-SC/01-Basedata/09-Building_Depot/01-BIM'\n",
    "wd = os.path.join(homeDirectory, bimDirectory)"
   ]
  },
  {
   "cell_type": "code",
   "execution_count": 3,
   "metadata": {},
   "outputs": [],
   "source": [
    "# Output feature dataset from BIM\n",
    "#!!!!! MAKE SURE THAT THE NAME DOES NOT OVERLAP. OTHERWISE, THE ORIGINAL WILL BE OVERWRITTEN.!!\n",
    "#out_dataset_name = \"SC_DEPOT_BIM\"\n",
    "out_dataset_name = \"sc_depot_BIM_temp\""
   ]
  },
  {
   "cell_type": "code",
   "execution_count": 4,
   "metadata": {},
   "outputs": [
    {
     "name": "stdout",
     "output_type": "stream",
     "text": [
      "\n"
     ]
    }
   ],
   "source": [
    "# Extract folder names where each BIM model is stored\n",
    "allFolders = []\n",
    "inFolders = os.listdir(wd)\n",
    "for folder in inFolders:\n",
    "    reg = folder.endswith('.Rhistory')\n",
    "    if reg:\n",
    "        print(\"\")\n",
    "    else:\n",
    "        allFolders.append(folder)"
   ]
  },
  {
   "cell_type": "code",
   "execution_count": 5,
   "metadata": {},
   "outputs": [
    {
     "data": {
      "text/plain": [
       "['10_TMO', '11_MCS', '12_DBS1', '13-14_WPH1', '15-16_WPH2', '17_SH1', '18_BPS', '19_MPS', '1_OCC', '21_CPS', '23_CNT', '24_CWT', '25_FPH1', '26_DB', '27_DSP', '2_LRS', '3_URS', '4_WRS', '5_CMV', '6_LOS', '7_DHS', '8_LGS', '9_TGB']"
      ]
     },
     "execution_count": 5,
     "metadata": {},
     "output_type": "execute_result"
    }
   ],
   "source": [
    "allFolders"
   ]
  },
  {
   "cell_type": "code",
   "execution_count": 5,
   "metadata": {},
   "outputs": [
    {
     "data": {
      "text/plain": [
       "['24_CWT', '26_DB']"
      ]
     },
     "execution_count": 5,
     "metadata": {},
     "output_type": "execute_result"
    }
   ],
   "source": [
    "## Use this code when required to choose only one or subset of folders of depot buildings\n",
    "keywords = ['24_CWT', '26_DB']\n",
    "temp = [f for f in allFolders if f in keywords]\n",
    "allFolders = temp\n",
    "allFolders"
   ]
  },
  {
   "cell_type": "code",
   "execution_count": 28,
   "metadata": {},
   "outputs": [
    {
     "name": "stdout",
     "output_type": "stream",
     "text": [
      "NSCR-GCR-S07-BANCWT-MOD-ST-000001.rvt \n",
      "NSCR-GCR-S07-BANDB1-MOD-ST-000001.rvt \n",
      "NSCR-GCR-S07-BANDB2-MOD-ST-000001.rvt \n"
     ]
    }
   ],
   "source": [
    "# Compile all Structural discipline revit files\n",
    "compile = []\n",
    "compileDepNames = []\n",
    "for folder in allFolders:\n",
    "    files = os.listdir(os.path.join(wd, folder))\n",
    "    n = 0\n",
    "    for file in files:\n",
    "        n = n + 1\n",
    "        tt = file.endswith('MOD-ST-000001.rvt')\n",
    "        if tt:\n",
    "            print(file, end =' \\n')\n",
    "            compile.append(os.path.join(wd, folder, files[n-1]))\n",
    "            compileDepNames.append(file)"
   ]
  },
  {
   "cell_type": "code",
   "execution_count": 7,
   "metadata": {},
   "outputs": [],
   "source": [
    "# Define directory of enterprise geodatabase\n",
    "sde_name = \"NSCR-Ex.sde\"\n",
    "out_gdb_path = os.path.join(homeDirectory,\n",
    "                            \"OneDrive - Oriental Consultants Global JV/Documents/ArcGIS/Projects/During-Construction_nscrexsc\",\n",
    "                            sde_name)\n",
    "\n",
    "spatial_reference = \"PRS 1992 Philippines Zone III\""
   ]
  },
  {
   "cell_type": "code",
   "execution_count": 35,
   "metadata": {},
   "outputs": [
    {
     "data": {
      "text/html": [
       "<div class='gpresult'><h2>Messages</h2><div id='messages' data-messages='[\"Start Time: Thursday, October 20, 2022 7:28:34 AM\",\"Succeeded at Thursday, October 20, 2022 10:53:17 AM (Elapsed Time: 3 hours 24 minutes 42 seconds)\"]' data-show='true'><div id = 'default' /></div></div>"
      ],
      "text/plain": [
       "<Result 'C:\\\\Users\\\\eiji.LAPTOP-KSD9P6CP\\\\OneDrive - Oriental Consultants Global JV/Documents/ArcGIS/Projects/During-Construction_nscrexsc\\\\NSCR-Ex.sde\\\\NSCR_Ex.NSCREXUSER.sc_depot_BIM_temp'>"
      ]
     },
     "execution_count": 35,
     "metadata": {},
     "output_type": "execute_result"
    }
   ],
   "source": [
    "# Run BIM File To Geodatabase\n",
    "arcpy.BIMFileToGeodatabase_conversion(compile, out_gdb_path, out_dataset_name, spatial_reference, \"\")"
   ]
  },
  {
   "cell_type": "code",
   "execution_count": 36,
   "metadata": {},
   "outputs": [
    {
     "data": {
      "text/html": [
       "<div class='gpresult'><h2>Messages</h2><div id='messages' data-messages='[\"Start Time: Thursday, October 20, 2022 11:34:17 AM\",\"Succeeded at Thursday, October 20, 2022 11:35:27 AM (Elapsed Time: 1 minutes 9 seconds)\"]' data-show='true'><div id = 'default' /></div></div>"
      ],
      "text/plain": [
       "<Result 'sc_depot_BIM_temp'>"
      ]
     },
     "execution_count": 36,
     "metadata": {},
     "output_type": "execute_result"
    }
   ],
   "source": [
    "# Run Make Building layer\n",
    "input_dataset = os.path.join(out_gdb_path, out_dataset_name)\n",
    "arcpy.MakeBuildingLayer_management(input_dataset, out_dataset_name)"
   ]
  },
  {
   "cell_type": "code",
   "execution_count": 6,
   "metadata": {},
   "outputs": [],
   "source": [
    "# Drag and Drop all layers\n",
    "inFeatures = [\"sc_depot_BIM_temp\\\\Structural\\\\StructuralColumns\",\n",
    "              \"sc_depot_BIM_temp\\\\Structural\\\\StructuralFoundation\",\n",
    "              \"sc_depot_BIM_temp\\\\Architectural\\\\Floors\",\n",
    "              \"sc_depot_BIM_temp\\\\Architectural\\\\Walls\"]"
   ]
  },
  {
   "cell_type": "code",
   "execution_count": 38,
   "metadata": {},
   "outputs": [],
   "source": [
    "# Add Field Names\n",
    "## As default, field name 'Type' exists so remove this first\n",
    "for feature in inFeatures:\n",
    "    arcpy.management.DeleteField(feature, 'Type')\n",
    "\n",
    "addFields = ['Name', 'Type', 'SubType', 'Status', 'StartDate', 'TargetDate', 'CP', 'ID', 'Comment']\n",
    "\n",
    "for feature in inFeatures:\n",
    "    for field in addFields:\n",
    "        if field in ('StartDate', 'TargetDate'):\n",
    "            arcpy.AddField_management(feature, field, \"DATE\", \"\", \"\", \"\", field, \"NULLABLE\", \"\")\n",
    "        elif field in ('CP', 'ID', 'Comment', 'Name'):\n",
    "            arcpy.AddField_management(feature, field, \"TEXT\", \"\", \"\", \"\", field, \"NULLABLE\", \"\")\n",
    "        else:\n",
    "            arcpy.AddField_management(feature, field, \"SHORT\", \"\", \"\", \"\", field, \"NULLABLE\", \"\")"
   ]
  },
  {
   "cell_type": "code",
   "execution_count": 39,
   "metadata": {},
   "outputs": [],
   "source": [
    "# Set the initial status = 'To be Constructed'\n",
    "for feature in inFeatures:\n",
    "    with arcpy.da.UpdateCursor(feature, ['Status']) as cursor:\n",
    "        for row in cursor:\n",
    "            row[0] = 1\n",
    "            cursor.updateRow(row)"
   ]
  },
  {
   "cell_type": "code",
   "execution_count": 8,
   "metadata": {},
   "outputs": [],
   "source": [
    "# Add CP = S-07\n",
    "for feature in inFeatures:\n",
    "    with arcpy.da.UpdateCursor(feature, ['CP']) as cursor:\n",
    "        for row in cursor:\n",
    "            row[0] = 'S-07'\n",
    "            cursor.updateRow(row)"
   ]
  },
  {
   "cell_type": "code",
   "execution_count": 9,
   "metadata": {},
   "outputs": [],
   "source": [
    "# Assign Depot building names for each multipatch layer\n",
    "separator = ';'\n",
    "for feature in inFeatures:\n",
    "    with arcpy.da.UpdateCursor(feature, ['DocName', 'Name']) as cursor:\n",
    "        for row in cursor:\n",
    "            if row[0] is None:\n",
    "                print('no')\n",
    "            else:\n",
    "                tName = row[0]\n",
    "                fName = tName[16:19]\n",
    "                row[1] = fName\n",
    "                cursor.updateRow(row)"
   ]
  },
  {
   "cell_type": "code",
   "execution_count": 8,
   "metadata": {},
   "outputs": [],
   "source": [
    "# Fix WP1 and WP2: correct ones are WPH1 and WPH2\n",
    "for feature in inFeatures:\n",
    "    with arcpy.da.UpdateCursor(feature, ['Name']) as cursor:\n",
    "        for row in cursor:\n",
    "            if row[0] == 'WP1':\n",
    "                row[0] = 'WPH1'\n",
    "            elif row[0] == 'WP2':\n",
    "                row[0] = 'WPH2'\n",
    "            cursor.updateRow(row)"
   ]
  },
  {
   "cell_type": "code",
   "execution_count": 8,
   "metadata": {},
   "outputs": [],
   "source": [
    "domains = arcpy.da.ListDomains(out_gdb_path)\n",
    "#listDomain = [d.name for d in domains]\n",
    "domainList = ['Station Structures_TYPE', 'Station Structures_STATUS', 'N2_Depot_Building_NAME']\n",
    "\n",
    "for feature in inFeatures:\n",
    "    arcpy.AssignDomainToField_management(feature, 'Type', domainList[0])\n",
    "    arcpy.AssignDomainToField_management(feature, 'Status', domainList[1])\n",
    "    arcpy.AssignDomainToField_management(feature, 'Name', domainList[2])"
   ]
  },
  {
   "cell_type": "code",
   "execution_count": 69,
   "metadata": {},
   "outputs": [],
   "source": [
    "# Assign Symbology\n",
    "## 2. Apply symbolology\n",
    "symbolLyrx = os.path.join(homeDirectory, \"Dropbox/01-Railway/02-NSCR-Ex/10-ArcGIS/01-Reference/01-Layer File/03-Station_Structure/Station_Structure_FINAL.lyrx\")\n",
    "\n",
    "for feature in inFeatures:\n",
    "    arcpy.ApplySymbologyFromLayer_management(feature, symbolLyrx, [[\"VALUE_FIELD\", \"Status\", \"Status\"]], update_symbology=\"MAINTAIN\")[0]"
   ]
  },
  {
   "cell_type": "code",
   "execution_count": 9,
   "metadata": {},
   "outputs": [],
   "source": [
    "# Assign Type based on Category field\n",
    "### Domain Type (corresponding Category):\n",
    "## 1. Structural Foundations (Structural Foundations)\n",
    "## 2. Structural Columns (Structural Columns)\n",
    "## 3. Structural Framing (Structural Framing)\n",
    "## 4. Roofs (Roofs)\n",
    "## 5. Floors (Floors)\n",
    "## 6. Walls (Walls)\n",
    "## 7. Columns (Columns)\n",
    "## 8. Others\n",
    "\n",
    "## note that 4 to 8 fall under Architectural disciplines of Structural revit file\n",
    "for feature in inFeatures:\n",
    "    with arcpy.da.UpdateCursor(feature, ['Category', 'Type']) as cursor:\n",
    "        for row in cursor:\n",
    "            if row[0] == 'Structural Foundations':\n",
    "                row[1] = 1\n",
    "            elif row[0] == 'Structural Columns':\n",
    "                row[1] = 2\n",
    "            elif row[0] == 'Structural Framing':\n",
    "                row[1] = 3\n",
    "            elif row[0] == 'Roofs':\n",
    "                row[1] = 4\n",
    "            elif row[0] == 'Floors':\n",
    "                row[1] = 5\n",
    "            elif row[0] == 'Walls':\n",
    "                row[1] = 6\n",
    "            elif row[0] == 'Columns':\n",
    "                row[1] = 7\n",
    "            else:\n",
    "                row[1] = 8\n",
    "            cursor.updateRow(row)"
   ]
  },
  {
   "cell_type": "code",
   "execution_count": null,
   "metadata": {},
   "outputs": [],
   "source": []
  }
 ],
 "metadata": {
  "kernelspec": {
   "display_name": "ArcGISPro",
   "language": "Python",
   "name": "python3"
  },
  "language_info": {
   "file_extension": ".py",
   "name": "python",
   "version": "3"
  }
 },
 "nbformat": 4,
 "nbformat_minor": 2
}
