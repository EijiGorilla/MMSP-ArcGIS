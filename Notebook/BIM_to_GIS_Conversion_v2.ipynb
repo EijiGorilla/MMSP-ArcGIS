{
 "cells": [
  {
   "cell_type": "markdown",
   "metadata": {},
   "source": [
    "### BIM to GIS Conversion\n",
    "\n",
    "#### This Notebook imports revit files from BIM models and convert them to GIS geodatabase in prepartion for monitoring\n",
    "#### Please implement the following steps:\n",
    "1. Define Projection to PRS92\n",
    "2. Export Feature to file geodatabase\n",
    "3. Merge all feature layers\n",
    "4. Delete unwanted fields\n",
    "5. Add Fields\n",
    "6. Calculate Field for Type\n",
    "7. Calculate Field for SubType\n",
    "8. Delete Fields"
   ]
  },
  {
   "cell_type": "code",
   "execution_count": 71,
   "metadata": {},
   "outputs": [],
   "source": [
    "import time, os, datetime, sys, logging, logging.handlers, shutil, traceback, re\n",
    "import arcpy\n",
    "\n",
    "arcpy.env.overwriteOutput = True\n",
    "arcpy.env.outputCoordinateSystem = arcpy.SpatialReference(\"WGS 1984 Web Mercator (auxiliary sphere)\")\n",
    "arcpy.env.geographicTransformations = \"PRS_1992_To_WGS_1984_1\"\n",
    "workspace = r'C:/Users/emasu/OneDrive - Oriental Consultants Global JV/Documents/ArcGIS/Projects/During-Construction_nscrexn2/During-Construction_nscrexn2.gdb'\n"
   ]
  },
  {
   "cell_type": "code",
   "execution_count": 72,
   "metadata": {},
   "outputs": [],
   "source": [
    "# First, makre sure to Add to Current Map all the models:\n",
    "## e.g. 'StructuralColumns', 'Roofs'\n",
    "\n",
    "# 0. Station name\n",
    "station = \"Apalit\"\n",
    "\n",
    "if station == \"CIA\":\n",
    "    fDataset = r'Station_BG'\n",
    "else:\n",
    "    fDataset = r'Station_AG'\n",
    "    \n",
    "path = os.path.join(workspace, fDataset)"
   ]
  },
  {
   "cell_type": "code",
   "execution_count": 73,
   "metadata": {},
   "outputs": [],
   "source": [
    "# 1. Define Projection to PRS92\n",
    "## Add revit files to the Contents panel\n",
    "## Note that 'Floors' in the BIM Model includes both slab and floors together.\n",
    "\n",
    "columnA = r'Columns'\n",
    "floor = r'Floors'\n",
    "roof = r'Roofs'\n",
    "framing = r'StructuralFraming'\n",
    "foundation = r'StructuralFoundation'\n",
    "column = r'StructuralColumns'\n",
    "\n",
    "# Note that if we import from '-MOD-A-000001.rvt', it uses different 'BldgLevel' domain\n",
    "# names and levels fro '-MOD-ST-000001.rvt'.\n",
    "# It may be better for the GIS model to only utilize '-MOD-ST-000001.rvt' (i.e., drop 'roof')\n",
    "\n",
    "if station == \"Apalit\" or station == \"CIA\":\n",
    "    in_features = [columnA, floor, framing, foundation, column]\n",
    "elif station == \"Clark\":\n",
    "    in_features = [floor, framing, foundation, column]\n",
    "\n",
    "\n",
    "sr = arcpy.SpatialReference(\"PRS 1992 Philippines Zone III\")\n",
    "\n",
    "for fl in in_features:\n",
    "    # Define Projection first\n",
    "    arcpy.DefineProjection_management(fl, sr)    \n"
   ]
  },
  {
   "cell_type": "code",
   "execution_count": 74,
   "metadata": {},
   "outputs": [
    {
     "data": {
      "text/html": [
       "<div class='gpresult'><h2>Messages</h2><div id='messages' data-messages='[\"Start Time: Sunday, December 12, 2021 7:45:20 AM\",\"Failed to convert: Columns. ERROR 000600: Cannot delete C:\\\\Users\\\\emasu\\\\OneDrive - Oriental Consultants Global JV\\\\Documents\\\\ArcGIS\\\\Projects\\\\During-Construction_nscrexn2\\\\During-Construction_nscrexn2.gdb\\\\Station_AG\\\\Columns.  It is being edited by the application.\\nFailed to execute (CopyFeatures).\\n\",\"Failed to convert: Floors. ERROR 000600: Cannot delete C:\\\\Users\\\\emasu\\\\OneDrive - Oriental Consultants Global JV\\\\Documents\\\\ArcGIS\\\\Projects\\\\During-Construction_nscrexn2\\\\During-Construction_nscrexn2.gdb\\\\Station_AG\\\\Floors.  It is being edited by the application.\\nFailed to execute (CopyFeatures).\\n\",\"Failed to convert: StructuralFraming. ERROR 000600: Cannot delete C:\\\\Users\\\\emasu\\\\OneDrive - Oriental Consultants Global JV\\\\Documents\\\\ArcGIS\\\\Projects\\\\During-Construction_nscrexn2\\\\During-Construction_nscrexn2.gdb\\\\Station_AG\\\\StructuralFraming.  It is being edited by the application.\\nFailed to execute (CopyFeatures).\\n\",\"Failed to convert: StructuralFoundation. ERROR 000600: Cannot delete C:\\\\Users\\\\emasu\\\\OneDrive - Oriental Consultants Global JV\\\\Documents\\\\ArcGIS\\\\Projects\\\\During-Construction_nscrexn2\\\\During-Construction_nscrexn2.gdb\\\\Station_AG\\\\StructuralFoundation.  It is being edited by the application.\\nFailed to execute (CopyFeatures).\\n\",\"Failed to convert: StructuralColumns. ERROR 000600: Cannot delete C:\\\\Users\\\\emasu\\\\OneDrive - Oriental Consultants Global JV\\\\Documents\\\\ArcGIS\\\\Projects\\\\During-Construction_nscrexn2\\\\During-Construction_nscrexn2.gdb\\\\Station_AG\\\\StructuralColumns.  It is being edited by the application.\\nFailed to execute (CopyFeatures).\\n\",\"Succeeded at Sunday, December 12, 2021 7:45:24 AM (Elapsed Time: 4.34 seconds)\"]' data-show='true'><div id = 'default' /></div></div>"
      ],
      "text/plain": [
       "<Result 'C:\\\\Users\\\\emasu\\\\OneDrive - Oriental Consultants Global JV\\\\Documents\\\\ArcGIS\\\\Projects\\\\During-Construction_nscrexn2\\\\During-Construction_nscrexn2.gdb\\\\Station_AG'>"
      ]
     },
     "execution_count": 74,
     "metadata": {},
     "output_type": "execute_result"
    }
   ],
   "source": [
    "# 2. Export to file geodatabase\n",
    "\n",
    "arcpy.FeatureClassToGeodatabase_conversion(in_features, path)\n"
   ]
  },
  {
   "cell_type": "code",
   "execution_count": 76,
   "metadata": {},
   "outputs": [
    {
     "data": {
      "text/html": [
       "<div class='gpresult'><h2>Messages</h2><div id='messages' data-messages='[\"Start Time: Sunday, December 12, 2021 7:46:56 AM\",\"Succeeded at Sunday, December 12, 2021 7:47:25 AM (Elapsed Time: 28.55 seconds)\"]' data-show='true'><div id = 'default' /></div></div>"
      ],
      "text/plain": [
       "<Result 'C:/Users/emasu/OneDrive - Oriental Consultants Global JV/Documents/ArcGIS/Projects/During-Construction_nscrexn2/During-Construction_nscrexn2.gdb\\\\Station_AG\\\\Station_Structure_merged_Apalit'>"
      ]
     },
     "execution_count": 76,
     "metadata": {},
     "output_type": "execute_result"
    }
   ],
   "source": [
    "# 3. Merge all feature layers\n",
    "arcpy.env.workspace = path\n",
    "output_feature = \"Station_Structure_merged\" + \"_\" + station\n",
    "arcpy.Merge_management(in_features, output_feature,\"\",\"\")"
   ]
  },
  {
   "cell_type": "code",
   "execution_count": 77,
   "metadata": {},
   "outputs": [
    {
     "data": {
      "text/html": [
       "<div class='gpresult'><h2>Messages</h2><div id='messages' data-messages='[\"Start Time: Sunday, December 12, 2021 7:47:44 AM\",\"Succeeded at Sunday, December 12, 2021 7:47:48 AM (Elapsed Time: 4.26 seconds)\"]' data-show='true'><div id = 'default' /></div></div>"
      ],
      "text/plain": [
       "<Result 'Station_Structure_merged_Apalit'>"
      ]
     },
     "execution_count": 77,
     "metadata": {},
     "output_type": "execute_result"
    }
   ],
   "source": [
    "# 4. Delete Fields\n",
    "## 4.1 Obtain fields to be kept\n",
    "fieldList = [f.name for f in arcpy.ListFields(output_feature)]\n",
    "\n",
    "# find OBJECTID, as this is not deletable\n",
    "reg = re.compile(r'OBJECTID*|Shape|Shape_Length|Shape_Area|Shape.STArea()|Shape.STLength()|GlobalID')\n",
    "objField = list(filter(reg.match, fieldList))\n",
    "keepFields = objField + ['Category', 'Family', 'FamilyType','ObjectID', 'ObjectId', 'Bldg_Name', 'BldgLevel', 'OmniClassDescription', 'BldgLevel_Desc', 'DocName', 'Discipline']\n",
    "\n",
    "# Drop fields\n",
    "dropFields = [e for e in fieldList if e not in keepFields]\n",
    "\n",
    "## 4.2 Delete fields from feature layer\n",
    "arcpy.DeleteField_management(output_feature, dropFields)"
   ]
  },
  {
   "cell_type": "code",
   "execution_count": 78,
   "metadata": {},
   "outputs": [],
   "source": [
    "# 5. Add Fields\n",
    "addFields = ['Station', 'Type', 'SubType', 'Status', 'StartDate', 'TargetDate', 'StructureType', 'StructureLevel']\n",
    "\n",
    "for field in addFields:\n",
    "    if field in ('StartDate', 'TargetDate'):\n",
    "        arcpy.AddField_management(output_feature, field, \"DATE\", \"\", \"\", \"\", field, \"NULLABLE\", \"\")\n",
    "    else:\n",
    "        arcpy.AddField_management(output_feature, field, \"SHORT\", \"\", \"\", \"\", field, \"NULLABLE\", \"\")"
   ]
  },
  {
   "cell_type": "code",
   "execution_count": 70,
   "metadata": {},
   "outputs": [],
   "source": [
    "# Each station may have different criteria\n",
    "# 6. Add \"temp\" field \n",
    "## Some Subtypes (domain) are not automatically extractable from existing information.\n",
    "## As such, we must extract matching letters for these SubTypes.\n",
    "arcpy.AddField_management(output_feature, 'temp', \"TEXT\", \"\", \"\", \"\", 'temp', \"NULLABLE\",\"\")\n",
    "\n",
    "############ APALIT STATION ###############\n",
    "# if station == 'Apalit':\n",
    "FGirder = ['FG1','FG2','FG3','FG4','FG5','FG11','FG12','FG21']\n",
    "FBeam = ['B100','B150']\n",
    "Columns = ['SC1','SC2','2000x2000'] # 2000x2000 is from architectural column\n",
    "FireExitStair = ['MC13X50']\n",
    "SteelStaircase = ['W18X106']\n",
    "BeamConcourse = ['B70','B70A','B90','B100','B150']\n",
    "BeamPlatform = ['SB40','SB40A','SB40B','SB50','SB60','SB60M','SB100A']\n",
    "SlabConcourse = ['S20','S25','S25A']\n",
    "SlabPlatform = ['S15']\n",
    "Girder = ['PSG']\n",
    "RoofGirder = ['RSG']\n",
    "Brace = ['HB1']\n",
    "RoofBeam = ['SB30M','SB50M','SB70N','SB85']\n",
    "Delete = ['TB1_','B1_','C1_','S1_','S2_','HSS','W8X31','W8X15', 'W12X26']\n",
    "# 'W12X26' is Slab Beam on steel staircase\n",
    "\n",
    "joinText = FGirder + FBeam + Columns + FireExitStair + \\\n",
    "             SteelStaircase + BeamConcourse + \\\n",
    "             BeamPlatform + SlabConcourse + SlabPlatform + \\\n",
    "             Girder + RoofGirder + Brace + RoofBeam + Delete\n",
    "\n",
    "searchText = \"|\".join(joinText)\n",
    "\n",
    "with arcpy.da.UpdateCursor(output_feature, [\"FamilyType\",\"temp\"]) as cursor:\n",
    "    for row in cursor:\n",
    "        if row[0]:\n",
    "            try:\n",
    "                reg = re.search(searchText,row[0]).group()\n",
    "            except AttributeError:\n",
    "                reg = re.search(searchText,row[0])\n",
    "            row[1] = reg\n",
    "        else:\n",
    "            row[1] = None\n",
    "        cursor.updateRow(row)"
   ]
  },
  {
   "cell_type": "code",
   "execution_count": 69,
   "metadata": {},
   "outputs": [],
   "source": [
    "## APALIT\n",
    "\n",
    "# Delete rows if FamilyType includes 'TB1_|B1_|C1_|S1_|S2_|HSS|W8X|W8X'\n",
    "with arcpy.da.UpdateCursor(output_feature, [\"temp\"]) as cursor:\n",
    "    for row in cursor:\n",
    "        if row[0] in Delete:\n",
    "            cursor.deleteRow()"
   ]
  },
  {
   "cell_type": "code",
   "execution_count": 44,
   "metadata": {},
   "outputs": [
    {
     "ename": "TypeError",
     "evalue": "'in <string>' requires string as left operand, not NoneType",
     "output_type": "error",
     "traceback": [
      "\u001b[0;31m---------------------------------------------------------------------------\u001b[0m\n\u001b[0;31mTypeError\u001b[0m                                 Traceback (most recent call last)",
      "In  \u001b[0;34m[44]\u001b[0m:\nLine \u001b[0;34m32\u001b[0m:    \u001b[34melif\u001b[39;49;00m row[\u001b[34m5\u001b[39;49;00m] \u001b[35min\u001b[39;49;00m (\u001b[33m\"\u001b[39;49;00m\u001b[33mFG1\u001b[39;49;00m\u001b[33m'\u001b[39;49;00m\u001b[33m,\u001b[39;49;00m\u001b[33m'\u001b[39;49;00m\u001b[33mFG2\u001b[39;49;00m\u001b[33m'\u001b[39;49;00m\u001b[33m,\u001b[39;49;00m\u001b[33m'\u001b[39;49;00m\u001b[33mFG3\u001b[39;49;00m\u001b[33m'\u001b[39;49;00m\u001b[33m,\u001b[39;49;00m\u001b[33m'\u001b[39;49;00m\u001b[33mFG4\u001b[39;49;00m\u001b[33m'\u001b[39;49;00m\u001b[33m,\u001b[39;49;00m\u001b[33m'\u001b[39;49;00m\u001b[33mFG5\u001b[39;49;00m\u001b[33m'\u001b[39;49;00m\u001b[33m,\u001b[39;49;00m\u001b[33m'\u001b[39;49;00m\u001b[33mFG11\u001b[39;49;00m\u001b[33m'\u001b[39;49;00m\u001b[33m,\u001b[39;49;00m\u001b[33m'\u001b[39;49;00m\u001b[33mFG12\u001b[39;49;00m\u001b[33m'\u001b[39;49;00m\u001b[33m,\u001b[39;49;00m\u001b[33m'\u001b[39;49;00m\u001b[33mFG21\u001b[39;49;00m\u001b[33m\"\u001b[39;49;00m): \u001b[37m# Foundation Girder\u001b[39;49;00m\n",
      "\u001b[0;31mTypeError\u001b[0m: 'in <string>' requires string as left operand, not NoneType\n\u001b[0;31m---------------------------------------------------------------------------\u001b[0m"
     ]
    }
   ],
   "source": [
    "# Enter 'Type' and 'SubType'\n",
    "# 'Type' field domain:\n",
    "## 1. Foundations\n",
    "## 2. Columns\n",
    "## 3. Framing\n",
    "## 4. Roofs\n",
    "## 5. Floor\n",
    "\n",
    "# 'SubType' field domain:\n",
    "## 1. Pile\n",
    "## 2. Pile Cap\n",
    "## 3. Column\n",
    "## 4. Foundation Girder []\n",
    "## 5. Girder\n",
    "## 6. Roof Girder\n",
    "## 7. Foundation Beam\n",
    "## 8. Beam\n",
    "## 9. Brace\n",
    "## 10. Fire Exit Stair\n",
    "## 11. Steel Staircase\n",
    "## 12. Slab\n",
    "## 13. Roof Beam\n",
    "\n",
    "FGirder = ['FG1','FG2','FG3','FG4','FG5','FG11','FG12','FG21']\n",
    "FBeam = ['B100','B150']\n",
    "Columns = ['SC1','SC2','2000x2000'] # 2000x2000 is from architectural column\n",
    "FireExitStair = ['MC13X50']\n",
    "SteelStaircase = ['W18X106']\n",
    "BeamConcourse = ['B70','B70A','B90','B100','B150']\n",
    "BeamPlatform = ['SB40','SB40A','SB40B','SB50','SB60','SB60M','SB100A']\n",
    "SlabConcourse = ['S20','S25','S25A']\n",
    "SlabPlatform = ['S15']\n",
    "Girder = ['PSG']\n",
    "RoofGirder = ['RSG']\n",
    "Brace = ['HB1']\n",
    "RoofBeam = ['SB30M','SB50M','SB70N','SB85']\n",
    "Delete = ['TB1_','B1_','C1_','S1_','S2_','HSS','W8X31','W8X15']\n",
    "\n",
    "with arcpy.da.UpdateCursor(output_feature, ['Category', 'Type', 'SubType','FamilyType', 'OmniClassDescription','temp']) as cursor:\n",
    "    for row in cursor:\n",
    "        if row[0] == 'Structural Foundations' and row[4] == 'Foundation Piles': # Pile and Pile Cap as one\n",
    "            row[1] = 1\n",
    "            row[2] = 1\n",
    "        elif row[4] == 'Columns': # Columns\n",
    "            row[1] = 2\n",
    "            row[2] = 3\n",
    "        elif row[5] in FGirder: # Foundation Girder\n",
    "            row[1] = 3\n",
    "            row[2] = 4\n",
    "        elif row[5] == Girder: # Girder\n",
    "            row[1] = 3\n",
    "            row[2] = 5\n",
    "        elif row[5] == RoofGirder: # Roof Girder\n",
    "            row[1] = 3\n",
    "            row[2] = 6\n",
    "        elif row[5] in FBeam: # Foundation Beam\n",
    "            row[1] = 3\n",
    "            row[2] = 7\n",
    "        elif row[5] in (BeamConcourse, BeamPlatform): # Beam\n",
    "            row[1] = 3\n",
    "            row[2] = 8\n",
    "        elif row[5] == Brace: # Brace\n",
    "            row[1] = 3\n",
    "            row[2] = 9\n",
    "        elif row[5] == FireExitStair: # Fire Exit Stair\n",
    "            row[1] = 3\n",
    "            row[2] = 10\n",
    "        elif row[5] == SteelStaircase: # Steel Staircase\n",
    "            row[1] = 3\n",
    "            row[2] = 11\n",
    "        elif row[0] == 'Floors':\n",
    "            row[1] = 5\n",
    "            row[2] = 12\n",
    "        elif row[0] in RoofBeam: # Roof Beam\n",
    "            row[1] = 3\n",
    "            row[2] = 13\n",
    "        else:\n",
    "            row[1] = None\n",
    "            row[2] = None\n",
    "        #elif row[0] == 'Roofs':\n",
    "        #    row[1] = 4\n",
    "        #    row[2] = 5\n",
    "        cursor.updateRow(row)"
   ]
  },
  {
   "cell_type": "code",
   "execution_count": null,
   "metadata": {},
   "outputs": [],
   "source": [
    "# Enter 'StructureType' and 'StructureLevel' from P6\n",
    "# StructureType\n",
    "## 1. Substructure\n",
    "## 2. Superstructure\n",
    "\n",
    "# StructureLevel\n",
    "## 1. Foundation\n",
    "## 2. Concourse Level\n",
    "## 3. Platform Level\n",
    "## 4. Roof Level\n",
    "\n",
    "# 'SubType' field domain:\n",
    "## 1. Pile\n",
    "## 2. Pile Cap\n",
    "## 3. Column\n",
    "## 4. Foundation Girder []\n",
    "## 5. Girder\n",
    "## 6. Roof Girder\n",
    "## 7. Foundation Beam\n",
    "## 8. Beam\n",
    "## 9. Brace\n",
    "## 10. Fire Exit Stair\n",
    "## 11. Steel Staircase\n",
    "## 12. Slab\n",
    "## 13. Roof Beam\n",
    "\n",
    "with arcpy.da.UpdateCursor(output_feature, ['SubType', 'temp', 'StructureType', 'StructureLevel']) as cursor:\n",
    "    for row in cursor:\n",
    "        # 'Foundation' and 'Substructure'\n",
    "        if row[0] in (FGirder, FBeam): \n",
    "            row[2] = 1\n",
    "            row[3] = 1\n",
    "        # Concorse Level\n",
    "        elif row[0] in (Columns, FireExitStair, SteelStaircase): # 'Concourse Level'\n",
    "            row[3] = 2\n",
    "        elif row[1] in BeamConcourse:\n",
    "            row[3] = 2\n",
    "        elif row[1] in SlabConcourse:\n",
    "            row[3] = 2\n",
    "        # Platform Level\n",
    "        elif row[1] in (BeamPlatform, Girder, SlabPlatform):\n",
    "            row[3] = 3\n",
    "        # Roof Level\n",
    "        elif row[1] in  (RoofGirder, Brace, RoofBeam):\n",
    "            row[3] = 4\n",
    "        # SuperStructure\n",
    "        elif row[0] not in (FGirder, FBeam):\n",
    "            row[2] = 2\n",
    "        "
   ]
  },
  {
   "cell_type": "code",
   "execution_count": 26,
   "metadata": {},
   "outputs": [],
   "source": [
    "# Delete observations with SubType = None\n",
    "with arcpy.da.UpdateCursor(output_feature, ['SubType']) as cursor:\n",
    "    for row in cursor:\n",
    "        if row[0] is None:\n",
    "            cursor.deleteRow()"
   ]
  },
  {
   "cell_type": "code",
   "execution_count": null,
   "metadata": {},
   "outputs": [],
   "source": [
    "# Delete some which do not require monitoring\n",
    "## Apalit\n",
    "### FamilyType includes the values 'W8X31', 'W8X15', 'HSS', 'TB1'\n",
    "#with arcpy.da.UpdateCursor(output_feature, ['Station', 'FamilyType']) as cursor:\n",
    "#    for row in cursor:\n",
    "#        if row[0] == 7 and row[1]: # Apalit\n",
    "            \n",
    "        "
   ]
  },
  {
   "cell_type": "code",
   "execution_count": 27,
   "metadata": {},
   "outputs": [],
   "source": [
    "# Set the initial status = 'To be Constructed'\n",
    "with arcpy.da.UpdateCursor(output_feature, ['Status']) as cursor:\n",
    "    for row in cursor:\n",
    "        row[0] = 1\n",
    "        cursor.updateRow(row)"
   ]
  },
  {
   "cell_type": "code",
   "execution_count": 28,
   "metadata": {},
   "outputs": [],
   "source": [
    "# Enter station name\n",
    "with arcpy.da.UpdateCursor(output_feature, ['Station']) as cursor:\n",
    "    for row in cursor:\n",
    "        if station == \"NCC\":\n",
    "            row[0] = 1\n",
    "        elif station == \"Depot\":\n",
    "            row[0] = 2\n",
    "        elif station == \"CIA\":\n",
    "            row[0] = 3\n",
    "        elif station == \"Clark\":\n",
    "            row[0] = 4\n",
    "        elif station == \"Angeles\":\n",
    "            row[0] = 5\n",
    "        elif station == \"San Fernando\":\n",
    "            row[0] = 6\n",
    "        elif station == \"Apalit\":\n",
    "            row[0] = 7\n",
    "        elif station == \"Calumpit\":\n",
    "            row[0] = 8\n",
    "        elif station == \"Malolos\":\n",
    "            row[0] = 9\n",
    "        elif station == \"Solis\":\n",
    "            row[0] = 10\n",
    "        elif station == \"Blumentritt\":\n",
    "            row[0] = 11\n",
    "        elif station == \"Espana\":\n",
    "            row[0] = 12\n",
    "        elif station == \"Santa Mesa\":\n",
    "            row[0] = 13\n",
    "        elif station == \"Paco\":\n",
    "            row[0] = 14\n",
    "        elif station == \"Buendia\":\n",
    "            row[0] = 15\n",
    "        elif station == \"EDSA\":\n",
    "            row[0] = 16\n",
    "        elif station == \"Nichols\":\n",
    "            row[0] = 17\n",
    "        elif station == \"FTI\":\n",
    "            row[0] = 18\n",
    "        elif station == \"Bicutan\":\n",
    "            row[0] = 19\n",
    "        elif station == \"Sucat\":\n",
    "            row[0] = 20\n",
    "        elif station == \"Alabang\":\n",
    "            row[0] = 21\n",
    "        elif station == \"Muntinlupa\":\n",
    "            row[0] = 22\n",
    "        elif station == \"San Pedro\":\n",
    "            row[0] = 23\n",
    "        elif station == \"Pacita\":\n",
    "            row[0] = 24\n",
    "        elif station == \"Binan\":\n",
    "            row[0] = 25\n",
    "        elif station == \"Santa Rosa\":\n",
    "            row[0] = 26\n",
    "        elif station == \"Cabuyao\":\n",
    "            row[0] = 27\n",
    "        elif station == \"Banlic Depot\":\n",
    "            row[0] = 28\n",
    "        elif station == \"Banlic\":\n",
    "            row[0] = 29\n",
    "        elif station == \"Calamba\":\n",
    "            row[0] = 30\n",
    "        cursor.updateRow(row)\n"
   ]
  },
  {
   "cell_type": "code",
   "execution_count": 29,
   "metadata": {},
   "outputs": [
    {
     "data": {
      "text/html": [
       "<div class='gpresult'><h2>Messages</h2><div id='messages' data-messages='[\"Start Time: Friday, December 10, 2021 3:46:47 PM\",\"Succeeded at Friday, December 10, 2021 3:46:47 PM (Elapsed Time: 0.15 seconds)\"]' data-show='true'><div id = 'default' /></div></div>"
      ],
      "text/plain": [
       "<Result 'Station_Structure_merged_Apalit'>"
      ]
     },
     "execution_count": 29,
     "metadata": {},
     "output_type": "execute_result"
    }
   ],
   "source": [
    "# Assign Domains\n",
    "# 0. Domain Name\n",
    "domainList = ['Station Structures_TYPE', 'Station Structures_SUBTYPE',\\\n",
    "              'Station Structures_STATUS', 'Station Structures_STRUCTURETYPE',\\\n",
    "              'Station Structures_STRUCTURELEVEL','Station_nscrex']\n",
    "\n",
    "#domains = arcpy.da.ListDomains(workspace)\n",
    "#listDomain = [d.name for d in domains]\n",
    "#reg = re.compile(r'Station Structures*|Station*')\n",
    "#listFinal = list(filter(reg.match, listDomain))\n",
    "\n",
    "arcpy.AssignDomainToField_management(output_feature, 'Type', domainList[0])\n",
    "arcpy.AssignDomainToField_management(output_feature, 'SubType', domainList[1])\n",
    "arcpy.AssignDomainToField_management(output_feature, 'Status', domainList[2])\n",
    "arcpy.AssignDomainToField_management(output_feature, 'StructureType', domainList[3])\n",
    "arcpy.AssignDomainToField_management(output_feature, 'StructureLevel', domainList[4])\n",
    "arcpy.AssignDomainToField_management(output_feature, 'Station', domainList[5])"
   ]
  },
  {
   "cell_type": "code",
   "execution_count": 30,
   "metadata": {},
   "outputs": [
    {
     "data": {
      "text/plain": [
       "<arcpy._mp.Layer object at 0x000002BCF0B06288>"
      ]
     },
     "execution_count": 30,
     "metadata": {},
     "output_type": "execute_result"
    }
   ],
   "source": [
    "# Apply Symbology\n",
    "symbolLyrx = r'C:/Users/emasu/Dropbox/01-Railway/02-NSCR-Ex/10-ArcGIS/01-Reference/01-Layer File/03-Station_Structure/Station_Structures.lyrx'\n",
    "arcpy.ApplySymbologyFromLayer_management(output_feature, symbolLyrx, [[\"VALUE_FIELD\", \"Status\", \"Status\"]], update_symbology=\"MAINTAIN\")[0]"
   ]
  },
  {
   "cell_type": "code",
   "execution_count": 31,
   "metadata": {},
   "outputs": [
    {
     "data": {
      "text/html": [
       "<div class='gpresult'><h2>Messages</h2><div id='messages' data-messages='[\"Start Time: Friday, December 10, 2021 3:46:53 PM\",\"Succeeded at Friday, December 10, 2021 3:46:53 PM (Elapsed Time: 0.21 seconds)\"]' data-show='true'><div id = 'default' /></div></div>"
      ],
      "text/plain": [
       "<Result 'Station_Structure_merged_Apalit'>"
      ]
     },
     "execution_count": 31,
     "metadata": {},
     "output_type": "execute_result"
    }
   ],
   "source": [
    "# Alter field. Rename a field name 'ObjectId' to 'ObjectId1'. The GIS table has OBJECTID, which is reserved name.\n",
    "# We cannot use this name.\n",
    "arcpy.AlterField_management(output_feature, 'ObjectId', 'ObjectId1', 'ObjectId1', 'TEXT')\n"
   ]
  },
  {
   "cell_type": "code",
   "execution_count": 32,
   "metadata": {},
   "outputs": [
    {
     "data": {
      "text/html": [
       "<div class='gpresult'><h2>Messages</h2><div id='messages' data-messages='[\"Start Time: Friday, December 10, 2021 3:46:56 PM\",\"Succeeded at Friday, December 10, 2021 3:46:56 PM (Elapsed Time: 0.31 seconds)\"]' data-show='true'><div id = 'default' /></div></div>"
      ],
      "text/plain": [
       "<Result 'Station_Structure_merged_Apalit'>"
      ]
     },
     "execution_count": 32,
     "metadata": {},
     "output_type": "execute_result"
    }
   ],
   "source": [
    "# Delete Fields\n",
    "dropF = ['Bldg_Name', 'OmniClassDescription', 'temp']\n",
    "arcpy.DeleteField_management(output_feature, dropF)"
   ]
  },
  {
   "cell_type": "code",
   "execution_count": 33,
   "metadata": {},
   "outputs": [],
   "source": [
    "# Add 'Grid' and 'Zone' for monitoring. this is used in reference to P6, too\n",
    "addFields = ['Grid', 'Zone']\n",
    "\n",
    "for field in addFields:\n",
    "    arcpy.AddField_management(output_feature, field, \"TEXT\", \"\", \"\", \"\", field, \"NULLABLE\",\"\")"
   ]
  },
  {
   "cell_type": "code",
   "execution_count": null,
   "metadata": {},
   "outputs": [],
   "source": []
  }
 ],
 "metadata": {
  "kernelspec": {
   "display_name": "ArcGISPro",
   "language": "Python",
   "name": "python3"
  },
  "language_info": {
   "file_extension": ".py",
   "name": "python",
   "version": "3"
  }
 },
 "nbformat": 4,
 "nbformat_minor": 2
}
