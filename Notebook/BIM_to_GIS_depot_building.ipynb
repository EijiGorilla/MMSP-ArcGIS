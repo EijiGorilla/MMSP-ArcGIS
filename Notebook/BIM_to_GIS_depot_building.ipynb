{
 "cells": [
  {
   "cell_type": "markdown",
   "metadata": {},
   "source": [
    "### BIM to GIS Conversion\n",
    "\n",
    "#### This Notebook imports revit files from BIM models and convert them to GIS geodatabase in prepartion for monitoring\n",
    "#### Please implement the following steps:\n",
    "1. Define Projection to PRS92\n",
    "2. Export Feature to file geodatabase\n",
    "3. Merge all feature layers\n",
    "4. Delete unwanted fields\n",
    "5. Add Fields\n",
    "6. Calculate Field for Type\n",
    "7. Calculate Field for SubType\n",
    "8. Delete Fields"
   ]
  },
  {
   "cell_type": "code",
   "execution_count": 1,
   "metadata": {},
   "outputs": [],
   "source": [
    "import time, os, datetime, sys, logging, logging.handlers, shutil, traceback, re\n",
    "import arcpy\n",
    "\n",
    "arcpy.env.overwriteOutput = True\n",
    "arcpy.env.outputCoordinateSystem = arcpy.SpatialReference(\"WGS 1984 Web Mercator (auxiliary sphere)\")\n",
    "arcpy.env.geographicTransformations = \"PRS_1992_To_WGS_1984_1\"\n",
    "workspace = r'C:/Users/eiji.LAPTOP-KSD9P6CP/OneDrive - Oriental Consultants Global JV/Documents/ArcGIS/Projects/During-Construction_nscrexsc/During-Construction_nscrexsc.gdb'\n",
    "#workspace = r'C:/Users/oc3512/OneDrive - Oriental Consultants Global JV/Documents/ArcGIS/Projects/During-Construction_nscrexn2/During-Construction_nscrexn2.gdb'\n"
   ]
  },
  {
   "cell_type": "code",
   "execution_count": 2,
   "metadata": {},
   "outputs": [],
   "source": [
    "# First, makre sure to Add to Current Map all the models:\n",
    "## e.g. 'StructuralColumns', 'Roofs'\n",
    "\n",
    "# Bulding name\n",
    "building_name = \"WRS\"\n",
    "\n",
    "fDataset = r'Depot_Building'\n",
    "\n",
    "path = os.path.join(workspace, fDataset)"
   ]
  },
  {
   "cell_type": "code",
   "execution_count": 4,
   "metadata": {},
   "outputs": [
    {
     "ename": "ExecuteError",
     "evalue": "ERROR 000289: Failed to alter spatial reference.\nFailed to execute (DefineProjection).\n",
     "output_type": "error",
     "traceback": [
      "\u001b[0;31m---------------------------------------------------------------------------\u001b[0m\n\u001b[0;31mExecuteError\u001b[0m                              Traceback (most recent call last)",
      "In  \u001b[0;34m[4]\u001b[0m:\nLine \u001b[0;34m33\u001b[0m:    arcpy.DefineProjection_management(fl, sr)    \n",
      "File \u001b[0;34mC:\\Program Files\\ArcGIS\\Pro\\Resources\\ArcPy\\arcpy\\management.py\u001b[0m, in \u001b[0;32mDefineProjection\u001b[0m:\nLine \u001b[0;34m13138\u001b[0m: \u001b[34mraise\u001b[39;49;00m e\n",
      "File \u001b[0;34mC:\\Program Files\\ArcGIS\\Pro\\Resources\\ArcPy\\arcpy\\management.py\u001b[0m, in \u001b[0;32mDefineProjection\u001b[0m:\nLine \u001b[0;34m13135\u001b[0m: retval = convertArcObjectToPythonObject(gp.DefineProjection_management(*gp_fixargs((in_dataset, coor_system), \u001b[34mTrue\u001b[39;49;00m)))\n",
      "File \u001b[0;34mC:\\Program Files\\ArcGIS\\Pro\\Resources\\ArcPy\\arcpy\\geoprocessing\\_base.py\u001b[0m, in \u001b[0;32m<lambda>\u001b[0m:\nLine \u001b[0;34m512\u001b[0m:   \u001b[34mreturn\u001b[39;49;00m \u001b[34mlambda\u001b[39;49;00m *args: val(*gp_fixargs(args, \u001b[34mTrue\u001b[39;49;00m))\n",
      "\u001b[0;31mExecuteError\u001b[0m: ERROR 000289: Failed to alter spatial reference.\nFailed to execute (DefineProjection).\n\n\u001b[0;31m---------------------------------------------------------------------------\u001b[0m"
     ]
    }
   ],
   "source": [
    "# 1. Define Projection to PRS92\n",
    "## Add revit files to the Contents panel\n",
    "## Note that 'Floors' in the BIM Model includes both slab and floors together.\n",
    "\n",
    "columnA = r'Columns'\n",
    "floor = r'Floors'\n",
    "roof = r'Roofs'\n",
    "framing = r'StructuralFraming'\n",
    "foundation = r'StructuralFoundation'\n",
    "column = r'StructuralColumns'\n",
    "\n",
    "# Note that if we import from '-MOD-A-000001.rvt', it uses different 'BldgLevel' domain\n",
    "# names and levels fro '-MOD-ST-000001.rvt'.\n",
    "# It may be better for the GIS model to only utilize '-MOD-ST-000001.rvt' (i.e., drop 'roof')\n",
    "\n",
    "if building_name in (\"DHS\", \"LGS\",\"TLOS\",\"URS\"):\n",
    "    in_features = [roof, framing, foundation, column]\n",
    "elif building_name in (\"MPS\",\"WRS\"):\n",
    "    in_features = [framing, foundation, column]\n",
    "elif building_name in (\"CMV\", \"DB1\",\"MCS\",\"TGB\"):\n",
    "    in_features = [floor, framing, foundation, column]\n",
    "elif building_name in (\"CPS\", \"CNT\",\"DSP\",\"LRS\",\"OCC\",\"SH1\",\"TMO\"):\n",
    "    in_features = [roof, floor, framing, foundation, column]\n",
    "elif building_name in (\"BPS\"):\n",
    "    in_features = [roof, columnA, framing, foundation, column]\n",
    "elif building_name in (\"FP1\"):\n",
    "    in_features = [roof, floor, columnA, framing, foundation, column]\n",
    "                      \n",
    "sr = arcpy.SpatialReference(\"PRS 1992 Philippines Zone III\")\n",
    "\n",
    "for fl in in_features:\n",
    "    # Define Projection first\n",
    "    arcpy.DefineProjection_management(fl, sr)    \n"
   ]
  },
  {
   "cell_type": "code",
   "execution_count": 53,
   "metadata": {},
   "outputs": [
    {
     "data": {
      "text/html": [
       "<div class='gpresult'><h2>Messages</h2><div id='messages' data-messages='[\"Start Time: Wednesday, January 12, 2022 3:44:56 PM\",\"Roofs Successfully converted:  C:/Users/eiji.LAPTOP-KSD9P6CP/OneDrive - Oriental Consultants Global JV/Documents/ArcGIS/Projects/During-Construction_nscrexsc/During-Construction_nscrexsc.gdb\\\\Depot_Building\\\\Roofs\",\"Floors Successfully converted:  C:/Users/eiji.LAPTOP-KSD9P6CP/OneDrive - Oriental Consultants Global JV/Documents/ArcGIS/Projects/During-Construction_nscrexsc/During-Construction_nscrexsc.gdb\\\\Depot_Building\\\\Floors\",\"StructuralFraming Successfully converted:  C:/Users/eiji.LAPTOP-KSD9P6CP/OneDrive - Oriental Consultants Global JV/Documents/ArcGIS/Projects/During-Construction_nscrexsc/During-Construction_nscrexsc.gdb\\\\Depot_Building\\\\StructuralFraming\",\"StructuralFoundation Successfully converted:  C:/Users/eiji.LAPTOP-KSD9P6CP/OneDrive - Oriental Consultants Global JV/Documents/ArcGIS/Projects/During-Construction_nscrexsc/During-Construction_nscrexsc.gdb\\\\Depot_Building\\\\StructuralFoundation\",\"StructuralColumns Successfully converted:  C:/Users/eiji.LAPTOP-KSD9P6CP/OneDrive - Oriental Consultants Global JV/Documents/ArcGIS/Projects/During-Construction_nscrexsc/During-Construction_nscrexsc.gdb\\\\Depot_Building\\\\StructuralColumns\",\"Succeeded at Wednesday, January 12, 2022 3:45:11 PM (Elapsed Time: 15.37 seconds)\"]' data-show='true'><div id = 'default' /></div></div>"
      ],
      "text/plain": [
       "<Result 'C:\\\\Users\\\\eiji.LAPTOP-KSD9P6CP\\\\OneDrive - Oriental Consultants Global JV\\\\Documents\\\\ArcGIS\\\\Projects\\\\During-Construction_nscrexsc\\\\During-Construction_nscrexsc.gdb\\\\Depot_Building'>"
      ]
     },
     "execution_count": 53,
     "metadata": {},
     "output_type": "execute_result"
    }
   ],
   "source": [
    "# 2. Export to file geodatabase\n",
    "\n",
    "arcpy.FeatureClassToGeodatabase_conversion(in_features, path)\n"
   ]
  },
  {
   "cell_type": "code",
   "execution_count": 5,
   "metadata": {},
   "outputs": [
    {
     "data": {
      "text/html": [
       "<div class='gpresult'><h2>Messages</h2><div id='messages' data-messages='[\"Start Time: Wednesday, January 12, 2022 3:56:47 PM\",\"Succeeded at Wednesday, January 12, 2022 3:56:48 PM (Elapsed Time: 1.14 seconds)\"]' data-show='true'><div id = 'default' /></div></div>"
      ],
      "text/plain": [
       "<Result 'C:/Users/eiji.LAPTOP-KSD9P6CP/OneDrive - Oriental Consultants Global JV/Documents/ArcGIS/Projects/During-Construction_nscrexsc/During-Construction_nscrexsc.gdb\\\\Depot_Building\\\\Depot_Building_merged_WRS'>"
      ]
     },
     "execution_count": 5,
     "metadata": {},
     "output_type": "execute_result"
    }
   ],
   "source": [
    "# 3. Merge all feature layers\n",
    "arcpy.env.workspace = path\n",
    "output_feature = \"Depot_Building_merged\" + \"_\" + building_name\n",
    "arcpy.Merge_management(in_features, output_feature,\"\",\"\")"
   ]
  },
  {
   "cell_type": "code",
   "execution_count": 6,
   "metadata": {},
   "outputs": [
    {
     "data": {
      "text/html": [
       "<div class='gpresult'><h2>Messages</h2><div id='messages' data-messages='[\"Start Time: Wednesday, January 12, 2022 3:57:05 PM\",\"Succeeded at Wednesday, January 12, 2022 3:57:08 PM (Elapsed Time: 3.37 seconds)\"]' data-show='true'><div id = 'default' /></div></div>"
      ],
      "text/plain": [
       "<Result 'Depot_Building_merged_WRS'>"
      ]
     },
     "execution_count": 6,
     "metadata": {},
     "output_type": "execute_result"
    }
   ],
   "source": [
    "# 4. Delete Fields\n",
    "## 4.1 Obtain fields to be kept\n",
    "fieldList = [f.name for f in arcpy.ListFields(output_feature)]\n",
    "\n",
    "# find OBJECTID, as this is not deletable\n",
    "reg = re.compile(r'OBJECTID*|Shape|Shape_Length|Shape_Area|Shape.STArea()|Shape.STLength()|GlobalID')\n",
    "objField = list(filter(reg.match, fieldList))\n",
    "keepFields = objField + ['Category', 'Family', 'FamilyType','ObjectID', 'ObjectId', 'Bldg_Name', 'BldgLevel', 'OmniClassDescription', 'BldgLevel_Desc', 'DocName', 'Discipline']\n",
    "\n",
    "# Drop fields\n",
    "dropFields = [e for e in fieldList if e not in keepFields]\n",
    "\n",
    "## 4.2 Delete fields from feature layer\n",
    "arcpy.DeleteField_management(output_feature, dropFields)"
   ]
  },
  {
   "cell_type": "code",
   "execution_count": 7,
   "metadata": {},
   "outputs": [],
   "source": [
    "# 5. Add Fields\n",
    "addFields = ['Type', 'SubType', 'Status', 'StartDate', 'TargetDate', \\\n",
    "             'StructureType', 'StructureLevel', 'P6ID', 'Comment', \\\n",
    "            'GridX', 'GridY', 'CP', 'temp', 'Name']\n",
    "\n",
    "for field in addFields:\n",
    "    if field in ('StartDate', 'TargetDate'):\n",
    "        arcpy.AddField_management(output_feature, field, \"DATE\", \"\", \"\", \"\", field, \"NULLABLE\", \"\")\n",
    "    elif field in ('P6ID', 'Comment', 'GridX', 'GridY', 'CP', 'temp', 'Name'):\n",
    "        arcpy.AddField_management(output_feature, field, \"TEXT\", \"\", \"\", \"\", field, \"NULLABLE\", \"\")\n",
    "    else:\n",
    "        arcpy.AddField_management(output_feature, field, \"SHORT\", \"\", \"\", \"\", field, \"NULLABLE\", \"\")"
   ]
  },
  {
   "cell_type": "code",
   "execution_count": 12,
   "metadata": {},
   "outputs": [],
   "source": [
    "# Each station may have different criteria\n",
    "# 6. Add \"temp\" field \n",
    "## Some Subtypes (domain) are not automatically extractable from existing information.\n",
    "## As such, we must extract matching letters for these SubTypes.\n",
    "\n",
    "\n",
    "# Foundation\n",
    "FGirder = ['FG\\\\d{2}','FG\\\\d{1}']\n",
    "FBeam = ['B\\\\d{2}','B\\\\d{1}']\n",
    "FSlab = ['Slab']\n",
    "FoundationAll = FGirder + FBeam + FSlab\n",
    "\n",
    "#\n",
    "Brace = ['HB1']\n",
    "Beam = ['B\\\\d{1}', 'b\\\\d{1}']\n",
    "Girder = ['G\\\\d{1}']\n",
    "Column = ['C\\\\d{1}']\n",
    "Footing = ['P\\\\d{1}/F\\\\d{1}']\n",
    "Turnbuckle = ['Turnbuckle']\n",
    "LC = ['^LC']\n",
    "OthersAll = Beam + Girder + Column + Footing + Turnbuckle + LC\n",
    "\n",
    "joinText = FoundationAll + OthersAll\n",
    "\n",
    "searchText = \"|\".join(joinText)\n",
    "\n",
    "with arcpy.da.UpdateCursor(output_feature, [\"FamilyType\",\"temp\"]) as cursor:\n",
    "    for row in cursor:\n",
    "        if row[0]:\n",
    "            try:\n",
    "                reg = re.search(searchText,row[0]).group()\n",
    "            except AttributeError:\n",
    "                reg = re.search(searchText,row[0])\n",
    "            row[1] = reg\n",
    "        else:\n",
    "            row[1] = None\n",
    "        cursor.updateRow(row)"
   ]
  },
  {
   "cell_type": "code",
   "execution_count": 3,
   "metadata": {},
   "outputs": [],
   "source": [
    "# Delete rows if FamilyType includes 'TB1_|B1_|C1_|S1_|S2_|HSS|W8X|W8X'\n",
    "with arcpy.da.UpdateCursor(output_feature, [\"temp\"]) as cursor:\n",
    "    for row in cursor:\n",
    "        if row[0] in Delete:\n",
    "            cursor.deleteRow()"
   ]
  },
  {
   "cell_type": "code",
   "execution_count": 15,
   "metadata": {},
   "outputs": [],
   "source": [
    "# Enter 'Type' and 'SubType'\n",
    "# 'Type' field domain:\n",
    "## 1. Foundations\n",
    "## 2. Columns\n",
    "## 3. Framing\n",
    "## 4. Roofs\n",
    "## 5. Floor\n",
    "\n",
    "# 'SubType' field domain:\n",
    "## 1. Pile\n",
    "## 2. Pile Cap\n",
    "## 3. Column\n",
    "## 4. Foundation Girder []\n",
    "## 5. Girder\n",
    "## 6. Roof Girder\n",
    "## 7. Foundation Beam\n",
    "## 8. Beam\n",
    "## 9. Brace\n",
    "## 10. Fire Exit Stair\n",
    "## 11. Steel Staircase\n",
    "## 12. Slab\n",
    "## 13. Roof Beam\n",
    "\n",
    "#\n",
    "FGirder = ['FG1']\n",
    "Beam = ['B1','B2']\n",
    "Girder = ['FG1']\n",
    "Turnbuckle = ['Turnbuckle']\n",
    "Footing = ['P1/F1']\n",
    "LC = ['LC']\n",
    "\n",
    "with arcpy.da.UpdateCursor(output_feature, ['Category', 'Type', 'SubType','FamilyType', 'OmniClassDescription','temp','Family']) as cursor:\n",
    "    for row in cursor:\n",
    "        if row[0] == 'Structural Foundations' and row[4] == 'Foundation Piles': # Pile and Pile Cap as one\n",
    "            row[1] = 1\n",
    "            row[2] = 1\n",
    "        elif row[4] == 'Columns': # Columns\n",
    "            row[1] = 2\n",
    "            row[2] = 3\n",
    "        elif row[5] in FGirder: # Foundation Girder\n",
    "            row[1] = 3\n",
    "            row[2] = 4\n",
    "        elif row[5] in GirderAll: # Girder\n",
    "            row[1] = 3\n",
    "            row[2] = 5\n",
    "        elif row[5] in RoofGirder: # Roof Girder\n",
    "            row[1] = 3\n",
    "            row[2] = 6\n",
    "        elif row[5] in FBeam: # Foundation Beam\n",
    "            row[1] = 3\n",
    "            row[2] = 7\n",
    "        elif row[5] in BeamAll: # Beam\n",
    "            row[1] = 3\n",
    "            row[2] = 8\n",
    "        elif row[5] in Brace: # Brace\n",
    "            row[1] = 3\n",
    "            row[2] = 9\n",
    "        elif row[5] in FireExitStair: # Fire Exit Stair\n",
    "            row[1] = 3\n",
    "            row[2] = 10\n",
    "        elif row[5] in SteelStaircase: # Steel Staircase\n",
    "            row[1] = 3\n",
    "            row[2] = 11\n",
    "        elif row[6] == 'Floor':\n",
    "            row[1] = 5\n",
    "            row[2] = 12\n",
    "        elif row[5] in RoofBeam: # Roof Beam\n",
    "            row[1] = 3\n",
    "            row[2] = 13\n",
    "        else:\n",
    "            row[1] = None\n",
    "            row[2] = None\n",
    "        cursor.updateRow(row)"
   ]
  },
  {
   "cell_type": "code",
   "execution_count": 13,
   "metadata": {},
   "outputs": [],
   "source": [
    "# Enter 'StructureType' and 'StructureLevel' from P6\n",
    "# StructureType\n",
    "## 1. Substructure\n",
    "## 2. Superstructure\n",
    "\n",
    "# StructureLevel\n",
    "## 1. Foundation\n",
    "## 2. Ground Level\n",
    "## 3. Concourse Level\n",
    "## 4. Platform Level\n",
    "## 5. Roof Level\n",
    "\n",
    "# 'SubType' field domain:\n",
    "## 1. Pile\n",
    "## 2. Pile Cap\n",
    "## 3. Column\n",
    "## 4. Foundation Girder []\n",
    "## 5. Girder\n",
    "## 6. Roof Girder\n",
    "## 7. Foundation Beam\n",
    "## 8. Beam\n",
    "## 9. Brace\n",
    "## 10. Fire Exit Stair\n",
    "## 11. Steel Staircase\n",
    "## 12. Slab\n",
    "## 13. Roof Beam\n",
    "\n",
    "\n",
    "# First fill 'StructureLevel'\n",
    "with arcpy.da.UpdateCursor(output_feature, ['SubType', 'temp', 'StructureLevel']) as cursor:\n",
    "    for row in cursor:\n",
    "        # Concorse Level\n",
    "        if row[1] in ConcourseLevel:\n",
    "            row[2] = 3\n",
    "        # Platform Level\n",
    "        elif row[1] in PlatformLevel:\n",
    "            row[2] = 4\n",
    "        # Roof Level\n",
    "        elif row[1] in RoofLevel:\n",
    "            row[2] = 5\n",
    "                # 'Foundation' and 'Substructure'\n",
    "        elif row[1] in Foundation_Substr: \n",
    "            row[2] = 1\n",
    "        else:\n",
    "            row[2] = None\n",
    "        cursor.updateRow(row)\n",
    "\n",
    "# *********************************************************\n",
    "# manually update StructureLevel for Foundation Beam.\n",
    "## B150 familytype occurs in both Foundation and Platform level\n",
    "# *********************************************************\n",
    "\n",
    "# Then 'StructureType'\n",
    "with arcpy.da.UpdateCursor(output_feature, ['StructureType', 'StructureLevel']) as cursor:\n",
    "    for row in cursor:\n",
    "        if row[1] == 1:\n",
    "            row[0] = 1\n",
    "        else:\n",
    "            row[0] = 2\n",
    "        cursor.updateRow(row)"
   ]
  },
  {
   "cell_type": "code",
   "execution_count": 2,
   "metadata": {},
   "outputs": [],
   "source": [
    "# Add some comments if necessary to 'Comment' field\n",
    "output_feature = \"Station_Structure_merged_Clark\"\n",
    "with arcpy.da.UpdateCursor(output_feature, ['temp','Comment']) as cursor:\n",
    "    for row in cursor:\n",
    "        if row[0] in ('B4','B5','G4','G5', 'C1'):# for Clark station\n",
    "            row[1] = \"Roof Framing Plan\"\n",
    "        else:\n",
    "            row[1] == row[1]\n",
    "        cursor.updateRow(row)\n",
    "        "
   ]
  },
  {
   "cell_type": "code",
   "execution_count": 14,
   "metadata": {},
   "outputs": [],
   "source": [
    "# Delete observations with SubType = None\n",
    "with arcpy.da.UpdateCursor(output_feature, ['SubType']) as cursor:\n",
    "    for row in cursor:\n",
    "        if row[0] is None:\n",
    "            cursor.deleteRow()"
   ]
  },
  {
   "cell_type": "code",
   "execution_count": 3,
   "metadata": {},
   "outputs": [],
   "source": [
    "# Set the initial status = 'To be Constructed'\n",
    "with arcpy.da.UpdateCursor(output_feature, ['Status']) as cursor:\n",
    "    for row in cursor:\n",
    "        row[0] = 1\n",
    "        cursor.updateRow(row)"
   ]
  },
  {
   "cell_type": "code",
   "execution_count": 6,
   "metadata": {},
   "outputs": [],
   "source": [
    "# Enter station name\n",
    "with arcpy.da.UpdateCursor(output_feature, ['Name']) as cursor:\n",
    "    for row in cursor:\n",
    "        if Name == \"BPS\":\n",
    "            row[0] = 1\n",
    "        elif Name == \"Depot\":\n",
    "            row[0] = 2\n",
    "        elif Name == \"CIA\":\n",
    "            row[0] = 3\n",
    "        elif Name == \"Clark\":\n",
    "            row[0] = 4\n",
    "        elif Name == \"Angeles\":\n",
    "            row[0] = 5\n",
    "        elif Name == \"SanFernando\":\n",
    "            row[0] = 6\n",
    "        elif Name == \"Apalit\":\n",
    "            row[0] = 7\n",
    "        elif Name == \"Calumpit\":\n",
    "            row[0] = 8\n",
    "        elif Name == \"Malolos\":\n",
    "            row[0] = 9\n",
    "        elif Name == \"Solis\":\n",
    "            row[0] = 10\n",
    "        elif Name == \"Blumentritt\":\n",
    "            row[0] = 11\n",
    "        elif Name == \"Espana\":\n",
    "            row[0] = 12\n",
    "        elif Name == \"Santa Mesa\":\n",
    "            row[0] = 13\n",
    "        elif Name == \"Paco\":\n",
    "            row[0] = 14\n",
    "        elif Name == \"Buendia\":\n",
    "            row[0] = 15\n",
    "        elif Name == \"EDSA\":\n",
    "            row[0] = 16\n",
    "        elif Name == \"Nichols\":\n",
    "            row[0] = 17\n",
    "        elif Name == \"FTI\":\n",
    "            row[0] = 18\n",
    "        elif Name == \"Bicutan\":\n",
    "            row[0] = 19\n",
    "        elif Name == \"Sucat\":\n",
    "            row[0] = 20\n",
    "        elif Name == \"Alabang\":\n",
    "            row[0] = 21\n",
    "        elif Name == \"Muntinlupa\":\n",
    "            row[0] = 22\n",
    "        elif Name == \"San Pedro\":\n",
    "            row[0] = 23\n",
    "        elif Name == \"Pacita\":\n",
    "            row[0] = 24\n",
    "        elif Name == \"Binan\":\n",
    "            row[0] = 25\n",
    "        elif Name == \"Santa Rosa\":\n",
    "            row[0] = 26\n",
    "        elif Name == \"Cabuyao\":\n",
    "            row[0] = 27\n",
    "        elif Name == \"Banlic Depot\":\n",
    "            row[0] = 28\n",
    "        elif Name == \"Banlic\":\n",
    "            row[0] = 29\n",
    "        elif Name == \"Calamba\":\n",
    "            row[0] = 30\n",
    "        cursor.updateRow(row)\n"
   ]
  },
  {
   "cell_type": "code",
   "execution_count": 7,
   "metadata": {},
   "outputs": [
    {
     "data": {
      "text/html": [
       "<div class='gpresult'><h2>Messages</h2><div id='messages' data-messages='[\"Start Time: Monday, January 10, 2022 11:19:25 AM\",\"Succeeded at Monday, January 10, 2022 11:19:25 AM (Elapsed Time: 0.16 seconds)\"]' data-show='true'><div id = 'default' /></div></div>"
      ],
      "text/plain": [
       "<Result 'Station_Structure_merged_CIA'>"
      ]
     },
     "execution_count": 7,
     "metadata": {},
     "output_type": "execute_result"
    }
   ],
   "source": [
    "# Assign Domains\n",
    "# 0. Domain Name\n",
    "domainList = ['Station Structures_TYPE', 'Station Structures_SUBTYPE',\\\n",
    "              'Station Structures_STATUS', 'Station Structures_STRUCTURETYPE',\\\n",
    "              'Station Structures_STRUCTURELEVEL','Station_nscrex']\n",
    "\n",
    "#domains = arcpy.da.ListDomains(workspace)\n",
    "#listDomain = [d.name for d in domains]\n",
    "#reg = re.compile(r'Station Structures*|Station*')\n",
    "#listFinal = list(filter(reg.match, listDomain))\n",
    "\n",
    "arcpy.AssignDomainToField_management(output_feature, 'Type', domainList[0])\n",
    "arcpy.AssignDomainToField_management(output_feature, 'SubType', domainList[1])\n",
    "arcpy.AssignDomainToField_management(output_feature, 'Status', domainList[2])\n",
    "arcpy.AssignDomainToField_management(output_feature, 'StructureType', domainList[3])\n",
    "arcpy.AssignDomainToField_management(output_feature, 'StructureLevel', domainList[4])\n",
    "arcpy.AssignDomainToField_management(output_feature, 'Station', domainList[5])"
   ]
  },
  {
   "cell_type": "code",
   "execution_count": 18,
   "metadata": {},
   "outputs": [
    {
     "data": {
      "text/plain": [
       "<arcpy._mp.Layer object at 0x00000225B0784248>"
      ]
     },
     "execution_count": 18,
     "metadata": {},
     "output_type": "execute_result"
    }
   ],
   "source": [
    "# Apply Symbology\n",
    "symbolLyrx = r'C:/Users/emasu/Dropbox/01-Railway/02-NSCR-Ex/10-ArcGIS/01-Reference/01-Layer File/03-Station_Structure/Station_Structures.lyrx'\n",
    "arcpy.ApplySymbologyFromLayer_management(output_feature, symbolLyrx, [[\"VALUE_FIELD\", \"Status\", \"Status\"]], update_symbology=\"MAINTAIN\")[0]"
   ]
  },
  {
   "cell_type": "code",
   "execution_count": 19,
   "metadata": {},
   "outputs": [
    {
     "data": {
      "text/html": [
       "<div class='gpresult'><h2>Messages</h2><div id='messages' data-messages='[\"Start Time: Sunday, December 12, 2021 9:52:09 AM\",\"Succeeded at Sunday, December 12, 2021 9:52:10 AM (Elapsed Time: 0.17 seconds)\"]' data-show='true'><div id = 'default' /></div></div>"
      ],
      "text/plain": [
       "<Result 'Station_Structure_merged_Apalit'>"
      ]
     },
     "execution_count": 19,
     "metadata": {},
     "output_type": "execute_result"
    }
   ],
   "source": [
    "# Alter field. Rename a field name 'ObjectId' to 'ObjectId1'. The GIS table has OBJECTID, which is reserved name.\n",
    "# We cannot use this name.\n",
    "arcpy.AlterField_management(output_feature, 'ObjectId', 'ObjectId1', 'ObjectId1', 'TEXT')\n"
   ]
  },
  {
   "cell_type": "code",
   "execution_count": 20,
   "metadata": {},
   "outputs": [
    {
     "data": {
      "text/html": [
       "<div class='gpresult'><h2>Messages</h2><div id='messages' data-messages='[\"Start Time: Sunday, December 12, 2021 9:52:14 AM\",\"Succeeded at Sunday, December 12, 2021 9:52:14 AM (Elapsed Time: 0.31 seconds)\"]' data-show='true'><div id = 'default' /></div></div>"
      ],
      "text/plain": [
       "<Result 'Station_Structure_merged_Apalit'>"
      ]
     },
     "execution_count": 20,
     "metadata": {},
     "output_type": "execute_result"
    }
   ],
   "source": [
    "# Delete Fields\n",
    "dropF = ['Bldg_Name', 'OmniClassDescription', 'temp']\n",
    "arcpy.DeleteField_management(output_feature, dropF)"
   ]
  },
  {
   "cell_type": "code",
   "execution_count": 21,
   "metadata": {},
   "outputs": [],
   "source": [
    "# Add 'Grid' and 'Zone' for monitoring. this is used in reference to P6, too\n",
    "addFields = ['Grid', 'Zone', 'ID']\n",
    "\n",
    "for field in addFields:\n",
    "    arcpy.AddField_management(output_feature, field, \"TEXT\", \"\", \"\", \"\", field, \"NULLABLE\",\"\")"
   ]
  },
  {
   "cell_type": "code",
   "execution_count": null,
   "metadata": {},
   "outputs": [],
   "source": []
  }
 ],
 "metadata": {
  "kernelspec": {
   "display_name": "ArcGISPro",
   "language": "Python",
   "name": "python3"
  },
  "language_info": {
   "file_extension": ".py",
   "name": "python",
   "version": "3"
  }
 },
 "nbformat": 4,
 "nbformat_minor": 2
}
