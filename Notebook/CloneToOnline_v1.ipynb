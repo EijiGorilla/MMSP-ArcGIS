{
 "cells": [
  {
   "cell_type": "markdown",
   "metadata": {},
   "source": [
    "## How to Clone from Portal for ArcGIS to ArcGIS Online\n",
    "\n",
    "Procedure:\n",
    "\n",
    "##### Clone individual feature services\n",
    "1. Sign in Portal for ArcGIS (**Source)\n",
    "2. Sign in ArcGIS Online (**Target)\n",
    "3. Create helper functions\n",
    "4. Extract only hosted feature services from the **source\n",
    "5. Clone the feature services from source to **target\n",
    "6. Check the feature services cloned in the **target\n",
    "\n",
    "##### Clone Web Maps\n",
    "1. Look at web maps in source.\n",
    "2. Inspect what layers in the web maps.\n",
    "3. Clone the web map(s).\n",
    "   A. Return a list of unique itemID values consumed in user-selected web map.\n",
    "   A. Return a list of unique itemID values consumed in ALL web maps.\n",
    "4. Examine the resulting web map item(s).\n",
    "\n",
    "##### Note that non-hosted feature services cannot be cloned.\n",
    "\n",
    "Reference: https://developers.arcgis.com/python/guide/cloning-content/\n",
    "https://support.esri.com/en/technical-article/000018924"
   ]
  },
  {
   "cell_type": "code",
   "execution_count": 1,
   "metadata": {},
   "outputs": [],
   "source": [
    "from pathlib import Path\n",
    "import sys\n",
    "\n",
    "from arcgis.gis import GIS, Item\n",
    "from arcgis.env import active_gis\n",
    "from arcgis.features import FeatureLayerCollection\n",
    "from arcgis.mapping import WebMap"
   ]
  },
  {
   "cell_type": "code",
   "execution_count": 38,
   "metadata": {},
   "outputs": [],
   "source": [
    "# 1. Sign in Source (Portal)\n",
    "#source = GIS(\"https://mmspgc-gis.mmspgc.local/portal\", \"matsuzakieiji\", \"timberland12345\", verify_cert = False)\n",
    "source = GIS(\"https://arcgis.com\", \"MatsuzakiEiji\", \"timberland56789\", verify_cert = False)"
   ]
  },
  {
   "cell_type": "code",
   "execution_count": 39,
   "metadata": {},
   "outputs": [],
   "source": [
    "# Sign in Target (ArcGIS Online)\n",
    "target = GIS(\"https://arcgis.com\", \"matsuzakieijinscrex\", \"timberland12345\", verity_cert=False)"
   ]
  },
  {
   "cell_type": "code",
   "execution_count": 40,
   "metadata": {},
   "outputs": [],
   "source": [
    "active_gis = source"
   ]
  },
  {
   "cell_type": "code",
   "execution_count": 41,
   "metadata": {},
   "outputs": [],
   "source": [
    "def get_user_items(user, active_gis):\n",
    "    user_inventory = {}\n",
    "    user_items = active_gis.content.search(query=f\"* AND owner:{user.username}\", \n",
    "                                           max_items=500)\n",
    "    for item in user_items:\n",
    "        if item.type not in user_inventory:\n",
    "            user_inventory[item.type] = [i \n",
    "                                         for i in user_items \n",
    "                                         if i.type == item.type]\n",
    "    return user_inventory"
   ]
  },
  {
   "cell_type": "code",
   "execution_count": 42,
   "metadata": {},
   "outputs": [],
   "source": [
    "def print_user_inventory(inventory):\n",
    "    for itype, ilist in inventory.items():\n",
    "        try:\n",
    "            print(f\"{itype}\\n{'-'*50}\")\n",
    "            for i in ilist:\n",
    "                print(f\"{' ':3}{i.title:50}\")\n",
    "            print(\"\\n\")\n",
    "        except Exception as e:\n",
    "            print(f\"\\t\\tOperation failed on: {i.title}\")\n",
    "            print(f\"\\t\\tException: {sys.exc_info()[1]}\")\n",
    "            continue           "
   ]
  },
  {
   "cell_type": "code",
   "execution_count": 43,
   "metadata": {},
   "outputs": [],
   "source": [
    "def get_fs_webmaps(fs, inv):\n",
    "    fs_webmap_inventory = {}\n",
    "    fs_inv = []\n",
    "    try:\n",
    "        for wm in inv['Web Map']:\n",
    "            if fs.id in get_layer_item_ids(wm):\n",
    "                if not wm in fs_inv:\n",
    "                    fs_inv.append(wm)\n",
    "        fs_webmap_inventory[fs.title] = fs_inv\n",
    "        return fs_webmap_inventory\n",
    "    except KeyError as ke:\n",
    "        pass"
   ]
  },
  {
   "cell_type": "code",
   "execution_count": 44,
   "metadata": {},
   "outputs": [],
   "source": [
    "def get_layer_item_ids(wm):\n",
    "    wmo = WebMap(wm)\n",
    "    wm_id_list = []\n",
    "    for layer in wmo.layers:\n",
    "        try:\n",
    "            fsvc = FeatureLayerCollection(layer['url'][:-1], active_gis)\n",
    "            if not fsvc.properties['serviceItemId'] in wm_id_list:\n",
    "                wm_id_list.append(fsvc.properties['serviceItemId'])\n",
    "        except Exception as e:\n",
    "            pass\n",
    "    return wm_id_list"
   ]
  },
  {
   "cell_type": "code",
   "execution_count": 45,
   "metadata": {},
   "outputs": [],
   "source": [
    "def get_dash_wm(dash):\n",
    "    return [active_gis.content.get(widget['itemId']) \n",
    "            for widget in dash.get_data()['widgets'] \n",
    "            if widget['type'] == \"mapWidget\"]"
   ]
  },
  {
   "cell_type": "code",
   "execution_count": 46,
   "metadata": {},
   "outputs": [],
   "source": [
    "source_admin_inventory = get_user_items(source.users.me, source)"
   ]
  },
  {
   "cell_type": "code",
   "execution_count": 47,
   "metadata": {
    "scrolled": false
   },
   "outputs": [
    {
     "name": "stdout",
     "output_type": "stream",
     "text": [
      "Web Map\n",
      "--------------------------------------------------\n",
      "   World Imgery (Clarity)                            \n",
      "   01-Status_Properties for Acquisition              \n",
      "   01-Status_NVS2_PaymentProcessing                  \n",
      "   00-Status of Land and Structure Acquisition_N2    \n",
      "   01-Status_NVS                                     \n",
      "   Tree inventory sample_delete                      \n",
      "\n",
      "\n",
      "Feature Service\n",
      "--------------------------------------------------\n",
      "   TreesA_delete                                     \n",
      "   Parcellary_Status                                 \n",
      "   Station_N2                                        \n",
      "   AsBuilt_Compiled_N2_points                        \n",
      "   Station_Box_N2                                    \n",
      "   N2_Tree_Inventoried_Input                         \n",
      "   Viaduct_sample_test                               \n",
      "   AsBuilt_Compiled_N2                               \n",
      "   N2_Station1                                       \n",
      "   N2_Tree_Inventoried                               \n",
      "   Parcellary_compiled_N2                            \n",
      "   NSCR_Ex PROW                                      \n",
      "\n",
      "\n",
      "Layer Package\n",
      "--------------------------------------------------\n",
      "   2018_PHL_Region_Municipality_WGS84                \n",
      "\n",
      "\n",
      "Dashboard\n",
      "--------------------------------------------------\n",
      "   Status of Land and Structure Acquisition_N211     \n",
      "   Status of Land and Structure Acquisition-N2       \n",
      "   01-Status_NVS                                     \n",
      "   00-Status of Land and Structure Acquisition-N2    \n",
      "   Tree_Inventory_Sample_Delete                      \n",
      "\n",
      "\n",
      "Image\n",
      "--------------------------------------------------\n",
      "   Logo (OCGlobal-JV)                                \n",
      "   Hatched_symbol_template                           \n",
      "\n",
      "\n",
      "Scene Service\n",
      "--------------------------------------------------\n",
      "   Viaduct_sample_test                               \n",
      "   N2_Station1                                       \n",
      "   TreesA_delete                                     \n",
      "\n",
      "\n",
      "Service Definition\n",
      "--------------------------------------------------\n",
      "   Station_N2                                        \n",
      "   N2_Tree_Inventoried                               \n",
      "   AsBuilt_Compiled_N2                               \n",
      "   Parcellary_Status                                 \n",
      "   Parcellary_compiled_N2                            \n",
      "   TreesA_delete                                     \n",
      "   N2_Station1                                       \n",
      "   Viaduct_sample_test                               \n",
      "   N2_Tree_Inventoried_Input                         \n",
      "   NSCR_Ex PROW                                      \n",
      "   AsBuilt_Compiled_N2_points                        \n",
      "\n",
      "\n",
      "Vector Tile Service\n",
      "--------------------------------------------------\n",
      "   World Street Map (Night NoBuilding)               \n",
      "\n",
      "\n",
      "Project Template\n",
      "--------------------------------------------------\n",
      "   Central Park Proposed Theater                     \n",
      "\n",
      "\n"
     ]
    }
   ],
   "source": [
    "print_user_inventory(source_admin_inventory)"
   ]
  },
  {
   "cell_type": "code",
   "execution_count": 48,
   "metadata": {
    "scrolled": true
   },
   "outputs": [
    {
     "name": "stdout",
     "output_type": "stream",
     "text": [
      "Web Map\n",
      "Feature Service\n",
      "Layer Package\n",
      "Dashboard\n",
      "Image\n",
      "Scene Service\n",
      "Service Definition\n",
      "Vector Tile Service\n",
      "Project Template\n"
     ]
    }
   ],
   "source": [
    "for item_type in list(source_admin_inventory.keys()):\n",
    "    print(item_type)"
   ]
  },
  {
   "cell_type": "markdown",
   "metadata": {},
   "source": [
    "### Feature Services (Hosted)\n",
    "\n",
    "Clone hosted feature services. Please note that non-hosted feature services (i.e., registered feature services) cannot be cloned.\n",
    "###### If web maps or operations dashboard is cloned, skip this process"
   ]
  },
  {
   "cell_type": "code",
   "execution_count": 14,
   "metadata": {},
   "outputs": [],
   "source": [
    "# Extract only hosted feature layer from Feature Service\n",
    "hosted_fsvc = [fs \n",
    "               for fs in source_admin_inventory[\"Feature Service\"]\n",
    "               if 'Hosted Service' in fs.typeKeywords]"
   ]
  },
  {
   "cell_type": "code",
   "execution_count": 15,
   "metadata": {},
   "outputs": [
    {
     "data": {
      "text/plain": [
       "[<Item title:\"Creek_PO\" type:Feature Layer Collection owner:matsuzakieiji>, <Item title:\"OBS_River\" type:Feature Layer Collection owner:matsuzakieiji>, <Item title:\"MonitorBuildingPoint\" type:Feature Layer Collection owner:matsuzakieiji>, <Item title:\"TBM_Centerline_Zvalue\" type:Feature Layer Collection owner:matsuzakieiji>, <Item title:\"TBM_Spot\" type:Feature Layer Collection owner:matsuzakieiji>, <Item title:\"Geotech_TSS\" type:Feature Layer Collection owner:matsuzakieiji>, <Item title:\"Find_Locations_in_Process\" type:Feature Layer Collection owner:matsuzakieiji>, <Item title:\"TBM_segmentedLine\" type:Feature Layer Collection owner:matsuzakieiji>, <Item title:\"Summarize_Parcellary_Boundary_within_Municipality_Boundary\" type:Feature Layer Collection owner:matsuzakieiji>, <Item title:\"TBM_Manufacture_Progress\" type:Table Layer owner:matsuzakieiji>, <Item title:\"OBS_Abutment\" type:Feature Layer Collection owner:matsuzakieiji>, <Item title:\"GeoTechSpot\" type:Feature Layer Collection owner:matsuzakieiji>, <Item title:\"Excavation Spot\" type:Feature Layer Collection owner:matsuzakieiji>, <Item title:\"OBS_Affected_Structures\" type:Feature Layer Collection owner:matsuzakieiji>]"
      ]
     },
     "execution_count": 15,
     "metadata": {},
     "output_type": "execute_result"
    }
   ],
   "source": [
    "hosted_fsvc"
   ]
  },
  {
   "cell_type": "code",
   "execution_count": 16,
   "metadata": {},
   "outputs": [
    {
     "name": "stdout",
     "output_type": "stream",
     "text": [
      "Cloning Creek_PO...\n",
      "...completed\n",
      "Cloning OBS_River...\n",
      "...completed\n",
      "Cloning MonitorBuildingPoint...\n",
      "...completed\n",
      "Cloning TBM_Centerline_Zvalue...\n",
      "...completed\n",
      "Cloning TBM_Spot...\n",
      "...completed\n",
      "Cloning Geotech_TSS...\n",
      "...Failed to Clone Geotech_TSS...\n",
      "\tException Type: <class 'arcgis._impl.common._clone._ItemCreateException'>\n",
      "\tException Value: ('Failed to create Feature Service Geotech_TSS: list index out of range', <Item title:\"Geotech_TSS\" type:Feature Layer Collection owner:eijimatsuzaki1>)\n",
      "\tException Traceback line: 12\n",
      "\tException Traceback instruction: 116\n",
      "Cloning Find_Locations_in_Process...\n",
      "...completed\n",
      "Cloning TBM_segmentedLine...\n",
      "...completed\n",
      "Cloning Summarize_Parcellary_Boundary_within_Municipality_Boundary...\n",
      "...completed\n",
      "Cloning TBM_Manufacture_Progress...\n",
      "...completed\n",
      "Cloning OBS_Abutment...\n",
      "...completed\n",
      "Cloning GeoTechSpot...\n",
      "...completed\n",
      "Cloning Excavation Spot...\n",
      "...completed\n",
      "Cloning OBS_Affected_Structures...\n",
      "...completed\n"
     ]
    }
   ],
   "source": [
    "# Clone selected hosted feature layer from source to target\n",
    "for hfs in hosted_fsvc:\n",
    "    try:\n",
    "        if hfs.ownerFolder:\n",
    "            folder = next((f['title'] \n",
    "                          for f in source.users.me.folders \n",
    "                          if f['id'] == hfs.ownerFolder))\n",
    "            if not folder in [fld['title']\n",
    "                              for fld in target.users.me.folders]:\n",
    "                target.content.create_folder(folder=folder)\n",
    "            print(f\"Cloning {hfs.title}...\")\n",
    "            clone_fs = target.content.clone_items([hfs], folder=folder)\n",
    "            print(f\"...completed\")\n",
    "        else:\n",
    "            print(f\"Cloning {hfs.title}...\")\n",
    "            cloned_fs = target.content.clone_items([hfs])\n",
    "            if not cloned_fs:\n",
    "                print(f\"{hfs.title} not cloned\")\n",
    "            else:\n",
    "                print(f\"...completed\")       \n",
    "    except Exception as e:\n",
    "        print(f\"...Failed to Clone {hfs.title}...\")\n",
    "        print(f\"\\tException Type: {sys.exc_info()[0]}\")\n",
    "        print(f\"\\tException Value: {sys.exc_info()[1]}\")\n",
    "        print(f\"\\tException Traceback line: {sys.exc_info()[2].tb_lineno}\")\n",
    "        print(f\"\\tException Traceback instruction: {sys.exc_info()[2].tb_lasti}\")\n",
    "        continue"
   ]
  },
  {
   "cell_type": "code",
   "execution_count": 17,
   "metadata": {},
   "outputs": [],
   "source": [
    "# Query the target to inspect the results of cloning the feature services\n",
    "target_admin_inventory = get_user_items(target.users.me, target)"
   ]
  },
  {
   "cell_type": "code",
   "execution_count": 18,
   "metadata": {},
   "outputs": [
    {
     "name": "stdout",
     "output_type": "stream",
     "text": [
      "Service Definition\n",
      "--------------------------------------------------\n",
      "   PO_34_v2_tif                                      \n",
      "   PO_SURF_2m1_tif                                   \n",
      "   01_NVS Simplified_WFL1                            \n",
      "   PO_SURF_2m1_reproject_tif                         \n",
      "   PO Section Alignment and LAR                      \n",
      "   Rail Sector Maps_WFL1                             \n",
      "   World Imagery _for Export__062DDF47_DF27_4261_9D11_D2EB33D7CBD2_tpk\n",
      "   TestImage                                         \n",
      "   Civil_EIJI_TBM_Manufacture_1                      \n",
      "   PO_1_2_TIF                                        \n",
      "\n",
      "\n",
      "Vector Tile Service\n",
      "--------------------------------------------------\n",
      "   Nova (No Buildings)                               \n",
      "   Nova                                              \n",
      "   OpenStreetMap (WGS84-NoBuildings)                 \n",
      "   World Street Map (Night)                          \n",
      "   World Street Map (Night-NoBuilding-NoSmallStrees) \n",
      "   Dark Gray Canvas Nobuildings and Scaledroads      \n",
      "   Dark Gray Canvas (Only Canvas)                    \n",
      "   Community (for Overview)                          \n",
      "   Community (No Buildings)                          \n",
      "   Dark Gray Canvas_noBuilding                       \n",
      "   Dark Gray Canvas (No Buildings)                   \n",
      "   Colored Pencil (No Buildings)                     \n",
      "   Community                                         \n",
      "   World Street Map_Night_No Buildings               \n",
      "   OpenStreetMap (No Buildings)                      \n",
      "\n",
      "\n",
      "Map Service\n",
      "--------------------------------------------------\n",
      "   World Imagery _for Export__062DDF47_DF27_4261_9D11_D2EB33D7CBD2_tpk\n",
      "   PO_34_v2_tif                                      \n",
      "   Civil_Tandang_Sora_sample                         \n",
      "   PO_1_2_TIF                                        \n",
      "   PO_SURF_2m1_tif                                   \n",
      "   PO_SURF_2m1_reproject_tif                         \n",
      "\n",
      "\n",
      "Feature Service\n",
      "--------------------------------------------------\n",
      "   Summarize_Parcellary_Boundary_within_Municipality_Boundary\n",
      "   OBS_River                                         \n",
      "   TBM_Manufacturing_ProgressCurve_summary           \n",
      "   PO Section Alignment and LAR                      \n",
      "   GeoTechSpot                                       \n",
      "   OBS_Affected_Structures                           \n",
      "   Excavation Spot                                   \n",
      "   TBM_Centerline_Zvalue                             \n",
      "   MonitorBuildingPoint                              \n",
      "   TBM_Spot                                          \n",
      "   Rail Sector Maps_WFL1                             \n",
      "   TBM_Manufacture_Progress                          \n",
      "   OBS_Abutment                                      \n",
      "   Find_Locations_in_Process                         \n",
      "   TBM_Manufacture_ProgressCurve                     \n",
      "   Creek_PO                                          \n",
      "   01_NVS Simplified_WFL1                            \n",
      "   Civil_EIJI_TBM_Manufacture_1                      \n",
      "   TBM_segmentedLine                                 \n",
      "\n",
      "\n",
      "Web Mapping Application\n",
      "--------------------------------------------------\n",
      "   11-TBM Tunneling - timeStamps                     \n",
      "   11-TBM Tunneling                                  \n",
      "   Dwall & Station-Box Structures                    \n",
      "   Civil Construction Monitoring - Editor edition    \n",
      "   NSCR-Ex_civil_viaduct_sample                      \n",
      "\n",
      "\n",
      "Web Map\n",
      "--------------------------------------------------\n",
      "   Status of OtB and OtC                             \n",
      "   01-Status_NVS2_PaymentProcessing                  \n",
      "   Google Satellite-Copy                             \n",
      "   TBM_Manufacture                                   \n",
      "   TBM_Location                                      \n",
      "   World_Imagery_Basemap                             \n",
      "   Payment Processing and Expropriation Cases        \n",
      "   01-Status_Properties for Acquisition              \n",
      "   01_NVS Simplified                                 \n",
      "   Rail Sector Maps                                  \n",
      "   TBM_Segment                                       \n",
      "   01-Status_NVS                                     \n",
      "   01_NVS Simplified-Priority1                       \n",
      "   OtB Preparation and OtB Delivered                 \n",
      "\n",
      "\n",
      "Dashboard\n",
      "--------------------------------------------------\n",
      "   01-NVS_Simplified_Priority1                       \n",
      "   01-Status_Properties for Acquisition              \n",
      "   1-Properties for Land Acquisition (NVS)_Compiled  \n",
      "   Rail Sector Maps                                  \n",
      "   Noise Level Sample-Dashboard                      \n",
      "   01-Status_NVS                                     \n",
      "   01-Status_NVS2_PaymentProcessing                  \n",
      "   Architecture-Interior-Sample Dashboard            \n",
      "   Air Quality Sample-Dashboard                      \n",
      "   01-NVS_Simplified                                 \n",
      "\n",
      "\n",
      "Map Area\n",
      "--------------------------------------------------\n",
      "   World_Imagery_Basemap_MapArea                     \n",
      "\n",
      "\n",
      "Layer Package\n",
      "--------------------------------------------------\n",
      "   Station Name                                      \n",
      "   Station Name                                      \n",
      "\n",
      "\n",
      "Hub Site Application\n",
      "--------------------------------------------------\n",
      "   Railway Project                                   \n",
      "\n",
      "\n",
      "Image\n",
      "--------------------------------------------------\n",
      "   Logo-2                                            \n",
      "\n",
      "\n"
     ]
    }
   ],
   "source": [
    "print_user_inventory(target_admin_inventory)"
   ]
  },
  {
   "cell_type": "code",
   "execution_count": 15,
   "metadata": {},
   "outputs": [
    {
     "name": "stdout",
     "output_type": "stream",
     "text": [
      "Target Item: Summarize_Parcellary_Boundary_within_Municipality_Boundarysource-3942c9991c2045fdb00de87237460cc5\n",
      "  Source Item: Summarize_Parcellary_Boundary_within_Municipality_Boundary3942c9991c2045fdb00de87237460cc5\n",
      "\n",
      "\n",
      "Target Item: TBM_Manufacturing_ProgressCurve_summary      source-2e9df6e6243b4d96b2b5b786fc29f799\n",
      "  Source Item: TBM_Manufacturing_ProgressCurve_summary      2e9df6e6243b4d96b2b5b786fc29f799\n",
      "\n",
      "\n",
      "Target Item: GeoTechSpot                                  source-aae2ce08a9724807babd5e811b80f0dc\n",
      "  Source Item: GeoTechSpot                                  aae2ce08a9724807babd5e811b80f0dc\n",
      "\n",
      "\n",
      "Target Item: TBM_Centerline_Zvalue                        source-fa7aad7fd11d401a9911c8b261784980\n",
      "  Source Item: TBM_Centerline_Zvalue                        fa7aad7fd11d401a9911c8b261784980\n",
      "\n",
      "\n",
      "Target Item: MonitorBuildingPoint                         source-f390ff14dba74058b9922c85e793043b\n",
      "  Source Item: MonitorBuildingPoint                         f390ff14dba74058b9922c85e793043b\n",
      "\n",
      "\n",
      "Target Item: TBM_Spot                                     source-9068ec49a80d46a18a667450e12cc870\n",
      "  Source Item: TBM_Spot                                     9068ec49a80d46a18a667450e12cc870\n",
      "\n",
      "\n",
      "Target Item: Excavation Spot                              source-1bc7404021644b3ba6e28b815e4e200a\n",
      "  Source Item: Excavation Spot                              1bc7404021644b3ba6e28b815e4e200a\n",
      "\n",
      "\n",
      "Target Item: TBM_Manufacture_ProgressCurve                source-632afdfe5fb1418f9ebe96e615b8a43b\n",
      "  Source Item: TBM_Manufacture_ProgressCurve                632afdfe5fb1418f9ebe96e615b8a43b\n",
      "\n",
      "\n",
      "Target Item: Find_Locations_in_Process                    source-c3df35e180dd4cb3a8883c992cd170e6\n",
      "  Source Item: Find_Locations_in_Process                    c3df35e180dd4cb3a8883c992cd170e6\n",
      "\n",
      "\n",
      "Target Item: Creek_PO                                     source-8ae1414fecbd413fa96038d146c5c73f\n",
      "  Source Item: Creek_PO                                     8ae1414fecbd413fa96038d146c5c73f\n",
      "\n",
      "\n"
     ]
    }
   ],
   "source": [
    "# Check feature services ID cloned between source and target\n",
    "target_to_source = {}\n",
    "for targ_fsvc_item in target_admin_inventory['Feature Service']:\n",
    "    for keyword in targ_fsvc_item.typeKeywords:\n",
    "        if 'source' in keyword:\n",
    "            source_id = keyword.split('-')[1]\n",
    "            try:\n",
    "                flyr = source.content.get(source_id)\n",
    "                target_to_source[targ_fsvc_item.title] = (keyword,\n",
    "                                                          flyr.title,\n",
    "                                                          flyr.id)\n",
    "            except Exception as e:\n",
    "                pass\n",
    "for trg_item, src_item in target_to_source.items():\n",
    "    print(f\"Target Item: {trg_item:45}{src_item[0]}\\n{' '*2}\"\n",
    "          f\"Source Item: {src_item[1]:45}{src_item[2]}\")\n",
    "    print(\"\\n\")"
   ]
  },
  {
   "cell_type": "code",
   "execution_count": 18,
   "metadata": {},
   "outputs": [],
   "source": [
    "# Examine the target feature services to see that we also created the folder structure\n",
    "target_hosted_fsvc = [fs \n",
    "               for fs in target_admin_inventory[\"Feature Service\"]\n",
    "               if 'Hosted Service' in fs.typeKeywords]"
   ]
  },
  {
   "cell_type": "code",
   "execution_count": 19,
   "metadata": {},
   "outputs": [],
   "source": [
    "active_gis = target"
   ]
  },
  {
   "cell_type": "code",
   "execution_count": 20,
   "metadata": {},
   "outputs": [
    {
     "name": "stdout",
     "output_type": "stream",
     "text": [
      "Feature Layer                    Folder ID                          Folder Name    Item ID\n",
      "----------------------------  ---------------------------------  -------------  -------------------------------------\n",
      "Summarize_Parcellary_Boundary_   e0beb38cc1c64124b3e76d190e766629   NSCR-Ex N2     4fe9ceae05014e9891253b92dceca9c0\n",
      "\n",
      "\n",
      "TBM_Manufacturing_ProgressCurv   44bb62c88708479aa3496a8f8caa8897   MMSP_Civil     5f0338048d5249669465cd90abdc55f9\n",
      "\n",
      "\n",
      "GeoTechSpot                      44bb62c88708479aa3496a8f8caa8897   MMSP_Civil     ac2acec6635844d1b49dd27f0679590e\n",
      "\n",
      "\n",
      "TBM_Centerline_Zvalue            44bb62c88708479aa3496a8f8caa8897   MMSP_Civil     79d65648dcbc40c8b9cf8429540d50f3\n",
      "\n",
      "\n",
      "MonitorBuildingPoint             44bb62c88708479aa3496a8f8caa8897   MMSP_Civil     b896be37b46743dd88fe678d1ba27719\n",
      "\n",
      "\n",
      "TBM_Spot                         44bb62c88708479aa3496a8f8caa8897   MMSP_Civil     917cd229de214ea3aec5146a9b17caa3\n",
      "\n",
      "\n",
      "Excavation Spot                  44bb62c88708479aa3496a8f8caa8897   MMSP_Civil     5b64e66c4b494251bf056cc129fb428a\n",
      "\n",
      "\n",
      "Rail Sector Maps_WFL1                                               Root Folder    cdc84581509a47419e3a4354b0dec67c\n",
      "  ...consumed in Rail Sector Maps web map\n",
      "\n",
      "\n",
      "Creek_PO                                                            Root Folder    ad539be492b84de2883b64ca1af31479\n",
      "\n",
      "\n",
      "TBM_Manufacture_ProgressCurve    44bb62c88708479aa3496a8f8caa8897   MMSP_Civil     d739f5e1e68040dca4bee43db5b0b94d\n",
      "\n",
      "\n",
      "Find_Locations_in_Process        44bb62c88708479aa3496a8f8caa8897   MMSP_Civil     911d8e7a688d436b883cca7ab6410852\n",
      "\n",
      "\n"
     ]
    }
   ],
   "source": [
    "print(f\"{'Feature Layer':<33}{'Folder ID':<35}{'Folder Name':15}{'Item ID'}\\n\"\n",
    "      f\"{'-'*28:<30}{'-'*33:<35}{'-'*13:<15}{'-'*37}\")\n",
    "for hosted_fs in target_hosted_fsvc:\n",
    "    try:\n",
    "        fs_wm_maps = get_fs_webmaps(hosted_fs, target_admin_inventory)[hosted_fs.title]\n",
    "    except TypeError as te:\n",
    "        pass\n",
    "        continue\n",
    "    finally:\n",
    "        if not hosted_fs.ownerFolder:\n",
    "            print(f\"{hosted_fs.title[:30]:33}{' ':35}{'Root Folder':15}{hosted_fs.id}\")\n",
    "            if fs_wm_maps:\n",
    "                for wm in fs_wm_maps:\n",
    "                    print(f\"{' '*2}...consumed in {wm.title} web map\")\n",
    "            else:\n",
    "                pass\n",
    "        else:\n",
    "            print(f\"{hosted_fs.title[:30]:33}{hosted_fs.ownerFolder:35}\"\n",
    "                  f\"\"\"{next(f['title'] for f in target.users.me.folders \n",
    "                   if f['id'] == hosted_fs.ownerFolder):15}\"\"\"\n",
    "                  f\"{hosted_fs.id}\")\n",
    "            if fs_wm_maps:\n",
    "                for wm in fs_wm_maps:\n",
    "                    print(f\"{' '*2}...consumed in {wm.title} web map\")\n",
    "            else:\n",
    "                pass\n",
    "        print(\"\\n\")"
   ]
  },
  {
   "cell_type": "markdown",
   "metadata": {},
   "source": [
    "### Web Maps\n",
    "\n",
    "Clone Web Maps and hosted feature services consumed in the web maps.\n",
    "NOTE: non-hosted feature services (e.g., registered feature services) are not cloned but only reference.\n",
    "      This means that you need to sign in the Portal for ArcGIS when web maps makes a reference to the\n",
    "      the registered feature services."
   ]
  },
  {
   "cell_type": "code",
   "execution_count": 49,
   "metadata": {},
   "outputs": [
    {
     "name": "stdout",
     "output_type": "stream",
     "text": [
      "World Imgery (Clarity)\n",
      "01-Status_Properties for Acquisition\n",
      "01-Status_NVS2_PaymentProcessing\n",
      "00-Status of Land and Structure Acquisition_N2\n",
      "01-Status_NVS\n",
      "Tree inventory sample_delete\n"
     ]
    }
   ],
   "source": [
    "# Look at the Web Maps in our source organization\n",
    "for wm in source_admin_inventory['Web Map']:\n",
    "    wm_obj = WebMap(wm)\n",
    "    print(wm_obj.item.title)"
   ]
  },
  {
   "cell_type": "code",
   "execution_count": null,
   "metadata": {},
   "outputs": [],
   "source": [
    "# Inpsect what layers are in each Web Map"
   ]
  },
  {
   "cell_type": "code",
   "execution_count": 50,
   "metadata": {},
   "outputs": [],
   "source": [
    "def is_hosted(item):\n",
    "    return [keyword for keyword in item.typeKeywords if \"Hosted\" in keyword]"
   ]
  },
  {
   "cell_type": "code",
   "execution_count": 51,
   "metadata": {},
   "outputs": [],
   "source": [
    "def print_webmap_inventory(wm):\n",
    "    wm_obj = WebMap(wm)\n",
    "    print(f\"{wm_obj.item.title}\\n{'-'*100}\")\n",
    "    for wm_layer in wm_obj.layers:\n",
    "        try:\n",
    "            if is_hosted(Item(active_gis, wm_layer['itemId'])):\n",
    "                print(f\"{' '*2}{wm_layer['title']:40}HOSTED{' ':5}\"\n",
    "                      f\"{wm_layer['layerType']:20}{dict(wm_layer)['itemId']}\")\n",
    "            else:\n",
    "                print(f\"{' '*2}{wm_layer['title']:40}other{' ':6}\"\n",
    "                      f\"{wm_layer['layerType']:20}{wm_layer.id}\") \n",
    "        except:\n",
    "            print(f\"{' '*2}{wm_layer['title']:40}other{' ':6}\"\n",
    "                  f\"{wm_layer['layerType']:20}{wm_layer.id}\")\n",
    "    print(\"\\n\")"
   ]
  },
  {
   "cell_type": "code",
   "execution_count": 52,
   "metadata": {},
   "outputs": [],
   "source": [
    "# Remember to set the active_gis variable when using the helper functions\n",
    "active_gis = source"
   ]
  },
  {
   "cell_type": "code",
   "execution_count": 63,
   "metadata": {
    "scrolled": true
   },
   "outputs": [
    {
     "name": "stdout",
     "output_type": "stream",
     "text": [
      "World Imgery (Clarity)\n",
      "----------------------------------------------------------------------------------------------------\n",
      "\n",
      "\n",
      "01-Status_Properties for Acquisition\n",
      "----------------------------------------------------------------------------------------------------\n",
      "  Proposed Drainage Pipe                  other      ArcGISFeatureLayer  Drainage_DP_1637\n",
      "  PO Section                              other      ArcGISFeatureLayer  PO_Section_5521\n",
      "  EVS_Drawings                            other      ArcGISFeatureLayer  EVS_Drawings_1468\n",
      "  EVS Boundary                            other      ArcGISFeatureLayer  Boundary_6622_4603\n",
      "  BSS                                     other      ArcGISFeatureLayer  Boundary_6622_3600\n",
      "  Construction Boundary                   other      ArcGISFeatureLayer  Boundary_6622\n",
      "  Target Plan for Map Series              other      ArcGISFeatureLayer  Target_Plan_for_Map_Series_9858\n",
      "  Target_Plan_Schedule                    other      ArcGISFeatureLayer  Target_Plan_Schedule_5428\n",
      "  Creek                                   other      ArcGISFeatureLayer  Creek_PO_7730\n",
      "  Tandang Sora Creek Diversion            other      ArcGISFeatureLayer  TandangSora_CreekDiversion_8407\n",
      "  TandangSoraCreek                        other      ArcGISFeatureLayer  TandangSoraCreek_9833\n",
      "  Depot Building                          other      ArcGISFeatureLayer  Depot_Building_7707\n",
      "  Priority                                other      ArcGISFeatureLayer  OtB_Preparation___OtB_Delivered_9302_5739_8862\n",
      "  Properties for Land Acquisition         HOSTED     ArcGISFeatureLayer  96d2154d248346f2a7cba99ecb1ce155\n",
      "  Lot Boundary                            other      ArcGISFeatureLayer  Lot_Boundary_3403\n",
      "\n",
      "\n",
      "01-Status_NVS2_PaymentProcessing\n",
      "----------------------------------------------------------------------------------------------------\n",
      "  Proposed Drainage Pipe                  other      ArcGISFeatureLayer  Drainage_DP_1637\n",
      "  PO Section                              other      ArcGISFeatureLayer  PO_Section_5521\n",
      "  EVS_Drawings                            other      ArcGISFeatureLayer  EVS_Drawings_5487\n",
      "  EVS Boundary                            other      ArcGISFeatureLayer  Boundary_6622_4603\n",
      "  BSS                                     other      ArcGISFeatureLayer  Boundary_6622_3600\n",
      "  Construction Boundary                   other      ArcGISFeatureLayer  Boundary_6622\n",
      "  Target Plan for Map Series              other      ArcGISFeatureLayer  Target_Plan_for_Map_Series_9858\n",
      "  Target_Plan_Schedule                    other      ArcGISFeatureLayer  Target_Plan_Schedule_5428\n",
      "  Creek                                   other      ArcGISFeatureLayer  Creek_PO_7730\n",
      "  Tandang Sora Creek Diversion            other      ArcGISFeatureLayer  TandangSora_CreekDiversion_8407\n",
      "  TandangSoraCreek                        other      ArcGISFeatureLayer  TandangSoraCreek_9833\n",
      "  Depot Building                          other      ArcGISFeatureLayer  Depot_Building_7707\n",
      "  Priority                                other      ArcGISFeatureLayer  OtB_Preparation___OtB_Delivered_3621\n",
      "  Parcellary_Status                       HOSTED     ArcGISFeatureLayer  96d2154d248346f2a7cba99ecb1ce155\n",
      "  Payment Processing                      other      ArcGISFeatureLayer  OtB_Preparation___OtB_Delivered_2337\n",
      "  Lot Boundary                            other      ArcGISFeatureLayer  Lot_Boundary_3403\n",
      "\n",
      "\n",
      "00-Status of Land and Structure Acquisition_N2\n",
      "----------------------------------------------------------------------------------------------------\n",
      "  Priority Lots                           other      ArcGISFeatureLayer  7617c62176a043e9b92e0f3033accd83_9401\n",
      "  Station_N2                              HOSTED     ArcGISFeatureLayer  7d48d4a94a2a49cea562379f7bfb47f6\n",
      "  NSCR_Ex PROW                            HOSTED     ArcGISFeatureLayer  129a076969614aad93597a4ac97836cf\n",
      "  Status for Relocation                   HOSTED     ArcGISFeatureLayer  86408c40e1e7407f884162233aa6ebe7\n",
      "  Status of Structure                     HOSTED     ArcGISFeatureLayer  cc0f8d1a3d5645b38c386e1a02b6fb08\n",
      "  Status of Land Acquisition              HOSTED     ArcGISFeatureLayer  de32db5d87614e6a8f35c8524e768852\n",
      "  Structure Boundary                      HOSTED     ArcGISFeatureLayer  cc0f8d1a3d5645b38c386e1a02b6fb08\n",
      "  Lot Boundary                            HOSTED     ArcGISFeatureLayer  de32db5d87614e6a8f35c8524e768852\n",
      "  Station_Box_N2                          HOSTED     ArcGISFeatureLayer  a4762864b14e4b07b65e17de539e3a95\n",
      "\n",
      "\n",
      "01-Status_NVS\n",
      "----------------------------------------------------------------------------------------------------\n",
      "  Proposed Drainage Pipe                  other      ArcGISFeatureLayer  Drainage_DP_1637\n",
      "  PO Section                              other      ArcGISFeatureLayer  PO_Section_5521\n",
      "  EVS_Drawings                            other      ArcGISFeatureLayer  EVS_Drawings_4758\n",
      "  EVS Boundary                            other      ArcGISFeatureLayer  Boundary_6622_4603\n",
      "  BSS                                     other      ArcGISFeatureLayer  Boundary_6622_3600\n",
      "  Construction Boundary                   other      ArcGISFeatureLayer  Boundary_6622\n",
      "  Target Plan for Map Series              other      ArcGISFeatureLayer  Target_Plan_for_Map_Series_9858\n",
      "  Target_Plan_Schedule                    other      ArcGISFeatureLayer  Target_Plan_Schedule_5428\n",
      "  Creek                                   other      ArcGISFeatureLayer  Creek_PO_7730\n",
      "  Tandang Sora Creek Diversion            other      ArcGISFeatureLayer  TandangSora_CreekDiversion_8407\n",
      "  TandangSoraCreek                        other      ArcGISFeatureLayer  TandangSoraCreek_9833\n",
      "  Depot Building                          other      ArcGISFeatureLayer  Depot_Building_7707\n",
      "  Priority                                other      ArcGISFeatureLayer  OtB_Preparation___OtB_Delivered_3621\n",
      "  NVS                                     HOSTED     ArcGISFeatureLayer  96d2154d248346f2a7cba99ecb1ce155\n",
      "  Lot Boundary                            other      ArcGISFeatureLayer  Lot_Boundary_3403\n",
      "\n",
      "\n",
      "Tree inventory sample_delete\n",
      "----------------------------------------------------------------------------------------------------\n",
      "  N2_Tree_Inventoried                     HOSTED     ArcGISFeatureLayer  5e57498677ec4293984d059501135db8\n",
      "\n",
      "\n"
     ]
    }
   ],
   "source": [
    "# This helper function may also freeze.\n",
    "for wm in source_admin_inventory['Web Map']:\n",
    "    print_webmap_inventory(wm)"
   ]
  },
  {
   "cell_type": "code",
   "execution_count": 62,
   "metadata": {},
   "outputs": [
    {
     "name": "stdout",
     "output_type": "stream",
     "text": [
      "id\n",
      "<built-in method title of str object at 0x0000029042105C70>\n",
      "--------------------------------------------------------------------------------\n"
     ]
    },
    {
     "ename": "AttributeError",
     "evalue": "'str' object has no attribute 'type'",
     "output_type": "error",
     "traceback": [
      "\u001b[0;31m---------------------------------------------------------------------------\u001b[0m\n\u001b[0;31mAttributeError\u001b[0m                            Traceback (most recent call last)",
      "In  \u001b[0;34m[62]\u001b[0m:\nLine \u001b[0;34m5\u001b[0m:     \u001b[34mfor\u001b[39;49;00m item_id \u001b[35min\u001b[39;49;00m get_layer_item_ids(wm):\n",
      "In  \u001b[0;34m[44]\u001b[0m:\nLine \u001b[0;34m2\u001b[0m:     wmo = WebMap(wm)\n",
      "File \u001b[0;34mC:\\Program Files\\ArcGIS\\Pro\\bin\\Python\\envs\\arcgispro-py3\\Lib\\site-packages\\arcgis\\mapping\\_types.py\u001b[0m, in \u001b[0;32m__init__\u001b[0m:\nLine \u001b[0;34m174\u001b[0m:   \u001b[34mif\u001b[39;49;00m webmapitem.type.lower() != \u001b[33m'\u001b[39;49;00m\u001b[33mweb map\u001b[39;49;00m\u001b[33m'\u001b[39;49;00m:\n",
      "\u001b[0;31mAttributeError\u001b[0m: 'str' object has no attribute 'type'\n\u001b[0;31m---------------------------------------------------------------------------\u001b[0m"
     ]
    }
   ],
   "source": [
    "# A. if you wish to clone all the web maps, run followings:\n",
    "# Use helper functions to return a list of the unique itemId values consumed in each web map\n",
    "for wm in source_admin_inventory['Web Map']:\n",
    "    print(f\"{wm.title}\\n{'-'*80}\")\n",
    "    for item_id in get_layer_item_ids(wm):\n",
    "        print(f\"{' '*2}{item_id}\")\n",
    "    print(\"\\n\")"
   ]
  },
  {
   "cell_type": "code",
   "execution_count": null,
   "metadata": {},
   "outputs": [],
   "source": [
    "# Clone web maps\n",
    "## If item ID exists in the web maps, it will use ones in target. If item ID does not exist, it will clone the item.\n",
    "## For non-hosted items, it will recreate those items in the resulting web map.\n",
    "wm_map = {}\n",
    "for wm in source_admin_inventory['Web Map']:\n",
    "    wm_obj = WebMap(wm)\n",
    "    print(f\"{wm_obj.item.title}\\n{'-'*50}\")\n",
    "    if wm_obj.item.ownerFolder:\n",
    "        folder_name = [f['title'] for f in source.users.me.folders \n",
    "                       if f['id'] == wm_obj.item.ownerFolder][0]\n",
    "        try:\n",
    "            print(f\"...cloning {wm_obj.item.title}\")\n",
    "            cloned_wm = target.content.clone_items(items=[wm_obj.item], \n",
    "                                              folder=folder_name)          \n",
    "            wm_map[wm.id] = cloned_wm[0].id\n",
    "            print(f\"...completed\")\n",
    "            print(f\"\\n\")\n",
    "        except Exception as e:\n",
    "            print(f\"....failed to clone {wm_obj.item.title}\")\n",
    "            print(str(e))\n",
    "            print(f\"\\n\")"
   ]
  },
  {
   "cell_type": "code",
   "execution_count": 82,
   "metadata": {},
   "outputs": [
    {
     "name": "stdout",
     "output_type": "stream",
     "text": [
      "00-Status of Land and Structure Acquisition_N2\n",
      "--------------------------------------------------------------------------------\n",
      "  de32db5d87614e6a8f35c8524e768852\n",
      "  7d48d4a94a2a49cea562379f7bfb47f6\n",
      "  129a076969614aad93597a4ac97836cf\n",
      "  86408c40e1e7407f884162233aa6ebe7\n",
      "  cc0f8d1a3d5645b38c386e1a02b6fb08\n",
      "  a4762864b14e4b07b65e17de539e3a95\n",
      "\n",
      "\n"
     ]
    }
   ],
   "source": [
    "# B. if you wish to clone only selected web map, run followings:\n",
    "# Use helper functions to return a list of the unique itemId values consumed in each web map\n",
    "## When you want only specific web map:\n",
    "wbName = \"00-Status of Land and Structure Acquisition_N2\"\n",
    "for wm in source_admin_inventory['Web Map']:\n",
    "    if f\"{wm.title}\" == wbName:\n",
    "        print(f\"{wm.title}\\n{'-'*80}\")\n",
    "        for item_id in get_layer_item_ids(wm):\n",
    "            print(f\"{' '*2}{item_id}\")\n",
    "        print(\"\\n\")"
   ]
  },
  {
   "cell_type": "code",
   "execution_count": 83,
   "metadata": {},
   "outputs": [
    {
     "name": "stdout",
     "output_type": "stream",
     "text": [
      "00-Status of Land and Structure Acquisition_N2\n",
      "--------------------------------------------------\n",
      "...cloning 00-Status of Land and Structure Acquisition_N2\n",
      "...completed\n",
      "\n",
      "\n"
     ]
    }
   ],
   "source": [
    "# Clone web maps\n",
    "## If item ID exists in the web maps, it will use ones in target. If item ID does not exist, it will clone the item.\n",
    "## For non-hosted items, it will recreate those items in the resulting web map.\n",
    "wm_map = {}\n",
    "for wm in source_admin_inventory['Web Map']:\n",
    "    if f\"{wm.title}\" == \"00-Status of Land and Structure Acquisition_N2\":\n",
    "        wm_obj = WebMap(wm)\n",
    "        print(f\"{wm_obj.item.title}\\n{'-'*50}\")\n",
    "        if wm_obj.item.ownerFolder:\n",
    "            folder_name = [f['title'] for f in source.users.me.folders \n",
    "                           if f['id'] == wm_obj.item.ownerFolder][0]\n",
    "            \n",
    "            try:\n",
    "                print(f\"...cloning {wm_obj.item.title}\")\n",
    "                cloned_wm = target.content.clone_items(items=[wm_obj.item],folder=folder_name)\n",
    "                wm_map[wm.id] = cloned_wm[0].id\n",
    "                print(f\"...completed\")\n",
    "                print(f\"\\n\")\n",
    "            except Exception as e:\n",
    "                print(f\"....failed to clone {wm_obj.item.title}\")\n",
    "                print(str(e))\n",
    "                print(f\"\\n\")"
   ]
  },
  {
   "cell_type": "code",
   "execution_count": 22,
   "metadata": {},
   "outputs": [],
   "source": [
    "# Examine the resulting Web Map items in the target\n",
    "target_admin_inventory = get_user_items(target.users.me, target)"
   ]
  },
  {
   "cell_type": "code",
   "execution_count": 23,
   "metadata": {},
   "outputs": [],
   "source": [
    "active_gis = target"
   ]
  },
  {
   "cell_type": "code",
   "execution_count": 24,
   "metadata": {},
   "outputs": [
    {
     "name": "stdout",
     "output_type": "stream",
     "text": [
      "TBM_Manufacture\n",
      "----------------------------------------------------------------------------------------------------\n",
      "  Stations                                other      ArcGISFeatureLayer  Stations_6343\n",
      "  Boundary                                other      ArcGISFeatureLayer  Boundary_6723\n",
      "  TBM_Alighnment                          other      ArcGISFeatureLayer  TBM_Alighnment_4641\n",
      "\n",
      "\n",
      "Status of OtB and OtC\n",
      "----------------------------------------------------------------------------------------------------\n",
      "  Muncipality_Boundary_Parcellary_N2      other      ArcGISFeatureLayer  Muncipality_Boundary_Parcellary_N2_3321\n",
      "  OtC AsBuilt                             other      ArcGISFeatureLayer  AsBuilt_N2_5798\n",
      "  OtC AsBuilt - copy                      other      ArcGISFeatureLayer  AsBuilt_N2_5798_552\n",
      "  AsBuilt Boundary                        other      ArcGISFeatureLayer  AsBuilt_N2_3225\n",
      "  ROW                                     other      ArcGISFeatureLayer  Alignment_N2_7286\n",
      "  Parcellary Boundary                     other      ArcGISFeatureLayer  Parcellary_N2_7351\n",
      "  OtB Parcellary                          other      ArcGISFeatureLayer  Parcellary_N2_1312\n",
      "  Station Names                           other      ArcGISFeatureLayer  Alignment_N2_1901\n",
      "  Station Box                             other      ArcGISFeatureLayer  Alignment_N2_1228\n",
      "\n",
      "\n",
      "Google Satellite-Copy\n",
      "----------------------------------------------------------------------------------------------------\n",
      "\n",
      "\n",
      "01-Status_NVS2_PaymentProcessing\n",
      "----------------------------------------------------------------------------------------------------\n",
      "  Proposed Drainage Pipe                  other      ArcGISFeatureLayer  Drainage_DP_1637\n",
      "  PO Section                              other      ArcGISFeatureLayer  PO_Section_5521\n",
      "  EVS_Drawings                            other      ArcGISFeatureLayer  EVS_Drawings_5487\n",
      "  EVS Boundary                            other      ArcGISFeatureLayer  Boundary_6622_4603\n",
      "  BSS                                     other      ArcGISFeatureLayer  Boundary_6622_3600\n",
      "  Construction Boundary                   other      ArcGISFeatureLayer  Boundary_6622\n",
      "  Target Plan for Map Series              other      ArcGISFeatureLayer  Target_Plan_for_Map_Series_9858\n",
      "  Target_Plan_Schedule                    other      ArcGISFeatureLayer  Target_Plan_Schedule_5428\n",
      "  Creek                                   HOSTED     ArcGISFeatureLayer  ad539be492b84de2883b64ca1af31479\n",
      "  Tandang Sora Creek Diversion            other      ArcGISFeatureLayer  TandangSora_CreekDiversion_8407\n",
      "  TandangSoraCreek                        other      ArcGISFeatureLayer  TandangSoraCreek_9833\n",
      "  Depot Building                          other      ArcGISFeatureLayer  Depot_Building_7707\n",
      "  Priority                                other      ArcGISFeatureLayer  OtB_Preparation___OtB_Delivered_3621\n",
      "  Payment Processing                      other      ArcGISFeatureLayer  OtB_Preparation___OtB_Delivered_2337\n",
      "  Lot Boundary                            other      ArcGISFeatureLayer  Lot_Boundary_3403\n",
      "\n",
      "\n",
      "01-NVS Simplified\n",
      "----------------------------------------------------------------------------------------------------\n",
      "  Proposed Drainage Pipe                  other      ArcGISFeatureLayer  Drainage_DP_1637\n",
      "  PO Section                              other      ArcGISFeatureLayer  PO_Section_5521\n",
      "  EVS_Drawings                            other      ArcGISFeatureLayer  EVS_Drawings_4758\n",
      "  EVS Boundary                            other      ArcGISFeatureLayer  Boundary_6622_4603\n",
      "  BSS                                     other      ArcGISFeatureLayer  Boundary_6622_3600\n",
      "  Construction Boundary                   other      ArcGISFeatureLayer  Boundary_6622\n",
      "  Target Plan for Map Series              other      ArcGISFeatureLayer  Target_Plan_for_Map_Series_9858\n",
      "  Target_Plan_Schedule                    other      ArcGISFeatureLayer  Target_Plan_Schedule_5428\n",
      "  Creek                                   HOSTED     ArcGISFeatureLayer  ad539be492b84de2883b64ca1af31479\n",
      "  Tandang Sora Creek Diversion            other      ArcGISFeatureLayer  TandangSora_CreekDiversion_8407\n",
      "  TandangSoraCreek                        other      ArcGISFeatureLayer  TandangSoraCreek_9833\n",
      "  Depot Building                          other      ArcGISFeatureLayer  Depot_Building_7707\n",
      "  PriorityNVS                             other      ArcGISFeatureLayer  OtB_Preparation___OtB_Delivered_2550\n",
      "  Status                                  other      ArcGISFeatureLayer  OtB_Preparation___OtB_Delivered_9302_5739\n",
      "  Lot Boundary                            other      ArcGISFeatureLayer  Lot_Boundary_3403\n",
      "\n",
      "\n",
      "01-NVS Simplified-Priority1\n",
      "----------------------------------------------------------------------------------------------------\n",
      "  Proposed Drainage Pipe                  other      ArcGISFeatureLayer  Drainage_DP_1637\n",
      "  PO Section                              other      ArcGISFeatureLayer  PO_Section_5521\n",
      "  EVS_Drawings                            other      ArcGISFeatureLayer  EVS_Drawings_4758\n",
      "  EVS Boundary                            other      ArcGISFeatureLayer  Boundary_6622_4603\n",
      "  BSS                                     other      ArcGISFeatureLayer  Boundary_6622_3600\n",
      "  Construction Boundary                   other      ArcGISFeatureLayer  Boundary_6622\n",
      "  Target Plan for Map Series              other      ArcGISFeatureLayer  Target_Plan_for_Map_Series_9858\n",
      "  Target_Plan_Schedule                    other      ArcGISFeatureLayer  Target_Plan_Schedule_5428\n",
      "  Creek                                   HOSTED     ArcGISFeatureLayer  ad539be492b84de2883b64ca1af31479\n",
      "  Tandang Sora Creek Diversion            other      ArcGISFeatureLayer  TandangSora_CreekDiversion_8407\n",
      "  TandangSoraCreek                        other      ArcGISFeatureLayer  TandangSoraCreek_9833\n",
      "  Depot Building                          other      ArcGISFeatureLayer  Depot_Building_7707\n",
      "  PriorityNVS                             other      ArcGISFeatureLayer  OtB_Preparation___OtB_Delivered_2550\n",
      "  Status                                  other      ArcGISFeatureLayer  OtB_Preparation___OtB_Delivered_9302_5739\n",
      "  Lot Boundary                            other      ArcGISFeatureLayer  Lot_Boundary_3403\n",
      "\n",
      "\n",
      "TBM_Location\n",
      "----------------------------------------------------------------------------------------------------\n",
      "  TBM_Spot                                HOSTED     ArcGISFeatureLayer  917cd229de214ea3aec5146a9b17caa3\n",
      "  TBM_Segment                             other      ArcGISFeatureLayer  TBM_Segment_862\n",
      "  TBM_Alighnment                          other      ArcGISFeatureLayer  TBM_Alighnment_2588\n",
      "  Dark Gray Canvas Nobuildings and Scaledroadsother      VectorTileLayer     VectorTile_2363\n",
      "\n",
      "\n",
      "World_Imagery_Basemap\n",
      "----------------------------------------------------------------------------------------------------\n",
      "\n",
      "\n",
      "Payment Processing and Expropriation Cases\n",
      "----------------------------------------------------------------------------------------------------\n",
      "  EVS Boundary                            other      ArcGISFeatureLayer  Boundary_5842\n",
      "  BSS Boundary                            other      ArcGISFeatureLayer  Boundary_6721\n",
      "  Drainage_DP                             other      ArcGISFeatureLayer  Drainage_DP_1674\n",
      "  PO Section                              other      ArcGISFeatureLayer  PO_Section_8767\n",
      "  Construction Boundary                   other      ArcGISFeatureLayer  Boundary_4523\n",
      "  Target Plan for Map Series              other      ArcGISFeatureLayer  Target_Plan_for_Map_Series_1433\n",
      "  Target Plan Schedule                    other      ArcGISFeatureLayer  Target_Plan_Schedule_8686\n",
      "  Creek                                   HOSTED     ArcGISFeatureLayer  ad539be492b84de2883b64ca1af31479\n",
      "  Tandang Sora Creek Diversion            other      ArcGISFeatureLayer  TandangSora_CreekDiversion_6243\n",
      "  Depot Building                          other      ArcGISFeatureLayer  Depot_Building_6302\n",
      "  Valenzuela Station                      other      ArcGISFeatureLayer  Valenzuela_Station_3504\n",
      "  Priority                                other      ArcGISFeatureLayer  Priority_2326\n",
      "  Payment Process and ExproCase           other      ArcGISFeatureLayer  Payment_Process_and_ExproCase_4674\n",
      "  Lot Boundary                            other      ArcGISFeatureLayer  Lot_Boundary_5789\n",
      "\n",
      "\n",
      "Rail Sector Maps\n",
      "----------------------------------------------------------------------------------------------------\n",
      "  NSCR-Ex (N2)                            HOSTED     ArcGISFeatureLayer  cdc84581509a47419e3a4354b0dec67c\n",
      "  NSCR-Ex (SC)                            HOSTED     ArcGISFeatureLayer  cdc84581509a47419e3a4354b0dec67c\n",
      "  MMSP                                    HOSTED     ArcGISFeatureLayer  cdc84581509a47419e3a4354b0dec67c\n",
      "  NSTren (N1)                             HOSTED     ArcGISFeatureLayer  cdc84581509a47419e3a4354b0dec67c\n",
      "  NSCR-Ex (N2)                            HOSTED     ArcGISFeatureLayer  cdc84581509a47419e3a4354b0dec67c\n",
      "  NSCR-Ex (SC)                            HOSTED     ArcGISFeatureLayer  cdc84581509a47419e3a4354b0dec67c\n",
      "  MMSP                                    HOSTED     ArcGISFeatureLayer  cdc84581509a47419e3a4354b0dec67c\n",
      "  NSTren (N1)                             HOSTED     ArcGISFeatureLayer  cdc84581509a47419e3a4354b0dec67c\n",
      "\n",
      "\n",
      "01-Status_Properties for Acquisition\n",
      "----------------------------------------------------------------------------------------------------\n",
      "  Proposed Drainage Pipe                  other      ArcGISFeatureLayer  Drainage_DP_1637\n",
      "  PO Section                              other      ArcGISFeatureLayer  PO_Section_5521\n",
      "  EVS_Drawings                            other      ArcGISFeatureLayer  EVS_Drawings_1468\n",
      "  EVS Boundary                            other      ArcGISFeatureLayer  Boundary_6622_4603\n",
      "  BSS                                     other      ArcGISFeatureLayer  Boundary_6622_3600\n",
      "  Construction Boundary                   other      ArcGISFeatureLayer  Boundary_6622\n",
      "  Target Plan for Map Series              other      ArcGISFeatureLayer  Target_Plan_for_Map_Series_9858\n",
      "  Target_Plan_Schedule                    other      ArcGISFeatureLayer  Target_Plan_Schedule_5428\n",
      "  Creek                                   HOSTED     ArcGISFeatureLayer  ad539be492b84de2883b64ca1af31479\n",
      "  Tandang Sora Creek Diversion            other      ArcGISFeatureLayer  TandangSora_CreekDiversion_8407\n",
      "  TandangSoraCreek                        other      ArcGISFeatureLayer  TandangSoraCreek_9833\n",
      "  Depot Building                          other      ArcGISFeatureLayer  Depot_Building_7707\n",
      "  Priority                                other      ArcGISFeatureLayer  OtB_Preparation___OtB_Delivered_9302_5739_8862\n",
      "  Properties for Acquisition              other      ArcGISFeatureLayer  OtB_Preparation___OtB_Delivered_9302_5739\n",
      "  Lot Boundary                            other      ArcGISFeatureLayer  Lot_Boundary_3403\n",
      "\n",
      "\n",
      "TBM_Segment\n",
      "----------------------------------------------------------------------------------------------------\n",
      "  TBM_Segment                             other      ArcGISFeatureLayer  TBM_Segment_862\n",
      "  TBM_Drawing                             other      ArcGISFeatureLayer  TBM_Drawing_3397\n",
      "  TBM_Alighnment                          other      ArcGISFeatureLayer  TBM_Alighnment_2588\n",
      "\n",
      "\n",
      "01-Status_NVS\n",
      "----------------------------------------------------------------------------------------------------\n",
      "  Proposed Drainage Pipe                  other      ArcGISFeatureLayer  Drainage_DP_1637\n",
      "  PO Section                              other      ArcGISFeatureLayer  PO_Section_5521\n",
      "  EVS_Drawings                            other      ArcGISFeatureLayer  EVS_Drawings_4758\n",
      "  EVS Boundary                            other      ArcGISFeatureLayer  Boundary_6622_4603\n",
      "  BSS                                     other      ArcGISFeatureLayer  Boundary_6622_3600\n",
      "  Construction Boundary                   other      ArcGISFeatureLayer  Boundary_6622\n",
      "  Target Plan for Map Series              other      ArcGISFeatureLayer  Target_Plan_for_Map_Series_9858\n",
      "  Target_Plan_Schedule                    other      ArcGISFeatureLayer  Target_Plan_Schedule_5428\n",
      "  Creek                                   HOSTED     ArcGISFeatureLayer  ad539be492b84de2883b64ca1af31479\n",
      "  Tandang Sora Creek Diversion            other      ArcGISFeatureLayer  TandangSora_CreekDiversion_8407\n",
      "  TandangSoraCreek                        other      ArcGISFeatureLayer  TandangSoraCreek_9833\n",
      "  Depot Building                          other      ArcGISFeatureLayer  Depot_Building_7707\n",
      "  Priority                                other      ArcGISFeatureLayer  OtB_Preparation___OtB_Delivered_3621\n",
      "  NVS                                     other      ArcGISFeatureLayer  OtB_Preparation___OtB_Delivered_9302_5739\n",
      "  Lot Boundary                            other      ArcGISFeatureLayer  Lot_Boundary_3403\n",
      "\n",
      "\n",
      "OtB Preparation and OtB Delivered\n",
      "----------------------------------------------------------------------------------------------------\n",
      "  Proposed Drainage Pipe                  other      ArcGISFeatureLayer  Drainage_DP_1637\n",
      "  PO Section                              other      ArcGISFeatureLayer  PO_Section_5521\n",
      "  EVS Boundary                            other      ArcGISFeatureLayer  Boundary_6622_4603\n",
      "  BSS                                     other      ArcGISFeatureLayer  Boundary_6622_3600\n",
      "  Construction Boundary                   other      ArcGISFeatureLayer  Boundary_6622\n",
      "  Target Plan for Map Series              other      ArcGISFeatureLayer  Target_Plan_for_Map_Series_9858\n",
      "  Target_Plan_Schedule                    other      ArcGISFeatureLayer  Target_Plan_Schedule_5428\n",
      "  BuildingStructures                      other      ArcGISFeatureLayer  BuildingStructures_8774\n",
      "  Creek                                   HOSTED     ArcGISFeatureLayer  ad539be492b84de2883b64ca1af31479\n",
      "  Tandang Sora Creek Diversion            other      ArcGISFeatureLayer  TandangSora_CreekDiversion_8407\n",
      "  TandangSoraCreek                        other      ArcGISFeatureLayer  TandangSoraCreek_9833\n",
      "  Depot Building                          other      ArcGISFeatureLayer  Depot_Building_7707\n",
      "  Priority                                other      ArcGISFeatureLayer  Priority_9570\n",
      "  OtB Preparation  and OtB Delivered      other      ArcGISFeatureLayer  OtB_Preparation___OtB_Delivered_9302\n",
      "  Lot Boundary                            other      ArcGISFeatureLayer  Lot_Boundary_3403\n",
      "\n",
      "\n"
     ]
    }
   ],
   "source": [
    "for wm in target_admin_inventory['Web Map']:\n",
    "    print_webmap_inventory(wm)"
   ]
  },
  {
   "cell_type": "code",
   "execution_count": 25,
   "metadata": {},
   "outputs": [
    {
     "data": {
      "text/plain": [
       "{'3f81684836e049f8a5734219b6fc7b83': '4cbbc202e3e24932960cdab9042d315b', '9062169ef6cc491c9683551c44b0c6d0': 'eb8c4c0f2c5d4b8d9daf06574da0aece', 'ab2b92d17d7342149c54f99e3aa41d9b': '880a4ce5e49846169635bc1b9dea7734', '2bead0d6d989440fbdc7fcd5b04134a1': 'b2a48a14583c422c9fb2a81274be358d', 'ef6ae541ccfd4683b279b4de7ffc0f12': 'd6d90cbbfa124b96b9df60fe77d09c65'}"
      ]
     },
     "execution_count": 25,
     "metadata": {},
     "output_type": "execute_result"
    }
   ],
   "source": [
    "# Examine wm_map dictionary to see that we indeed have a dictionary mapping that has ids as\n",
    "# both keys (source web map id) and values (target web map id).\n",
    "wm_map"
   ]
  },
  {
   "cell_type": "code",
   "execution_count": null,
   "metadata": {},
   "outputs": [],
   "source": [
    "# Visually compare our web maps"
   ]
  },
  {
   "cell_type": "code",
   "execution_count": 29,
   "metadata": {
    "scrolled": true
   },
   "outputs": [
    {
     "data": {
      "application/vnd.jupyter.widget-view+json": {
       "model_id": "4bde7c914d084eeda8bf5cb09c2f75b5",
       "version_major": 2,
       "version_minor": 0
      },
      "text/plain": [
       "MapView(hide_mode_switch=True, layout=Layout(height='400px', width='100%'))"
      ]
     },
     "metadata": {},
     "output_type": "display_data"
    },
    {
     "data": {
      "text/html": [
       "<div class=\"map-static-img-preview-e16ab930-7595-475b-9095-89dd2513f1ed\"><img src=\"\"></img></div>"
      ],
      "text/plain": [
       "<display.HTML object>"
      ]
     },
     "metadata": {},
     "output_type": "display_data"
    }
   ],
   "source": [
    "# Source web map\n",
    "source_webmap = WebMap(source.content.get(list(wm_map.keys())[1]))\n",
    "source_webmap"
   ]
  },
  {
   "cell_type": "code",
   "execution_count": 31,
   "metadata": {
    "scrolled": true
   },
   "outputs": [
    {
     "ename": "TypeError",
     "evalue": "item type must be web map",
     "output_type": "error",
     "traceback": [
      "\u001b[0;31m---------------------------------------------------------------------------\u001b[0m\n\u001b[0;31mTypeError\u001b[0m                                 Traceback (most recent call last)",
      "In  \u001b[0;34m[31]\u001b[0m:\nLine \u001b[0;34m2\u001b[0m:     target_webmap = WebMap(target.content.get(\u001b[36mlist\u001b[39;49;00m(wm_map.values())[\u001b[34m1\u001b[39;49;00m]))\n",
      "File \u001b[0;34mC:\\Program Files\\ArcGIS\\Pro\\bin\\Python\\envs\\arcgispro-py3\\Lib\\site-packages\\arcgis\\mapping\\_types.py\u001b[0m, in \u001b[0;32m__init__\u001b[0m:\nLine \u001b[0;34m175\u001b[0m:   \u001b[34mraise\u001b[39;49;00m \u001b[36mTypeError\u001b[39;49;00m(\u001b[33m\"\u001b[39;49;00m\u001b[33mitem type must be web map\u001b[39;49;00m\u001b[33m\"\u001b[39;49;00m)\n",
      "\u001b[0;31mTypeError\u001b[0m: item type must be web map\n\u001b[0;31m---------------------------------------------------------------------------\u001b[0m"
     ]
    }
   ],
   "source": [
    "# Target web map\n",
    "target_webmap = WebMap(target.content.get(list(wm_map.values())[1]))\n",
    "target_webmap"
   ]
  },
  {
   "cell_type": "markdown",
   "metadata": {},
   "source": [
    "### ArcGIS Dashboards\n",
    "\n",
    "Clone Operations Dashboard and associated hosted and other feature services"
   ]
  },
  {
   "cell_type": "code",
   "execution_count": 103,
   "metadata": {},
   "outputs": [
    {
     "data": {
      "text/html": [
       "<div class=\"item_container\" style=\"height: auto; overflow: hidden; border: 1px solid #cfcfcf; border-radius: 2px; background: #f6fafa; line-height: 1.21429em; padding: 10px;\">\n",
       "                    <div class=\"item_left\" style=\"width: 210px; float: left;\">\n",
       "                       <a href='https://mmsp.maps.arcgis.com/home/item.html?id=cf2f2aafd33041cfb1428d38b57544d5' target='_blank'>\n",
       "                        <img src='data:image/png;base64,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' width='200' height='133' class=\"itemThumbnail\">\n",
       "                       </a>\n",
       "                    </div>\n",
       "\n",
       "                    <div class=\"item_right\"     style=\"float: none; width: auto; overflow: hidden;\">\n",
       "                        <a href='https://mmsp.maps.arcgis.com/home/item.html?id=cf2f2aafd33041cfb1428d38b57544d5' target='_blank'><b>00-Status of Land and Structure Acquisition-N2</b>\n",
       "                        </a>\n",
       "                        <br/>test<img src='https://mmsp.maps.arcgis.com/home/js/jsapi/esri/css/images/item_type_icons/layers16.png' style=\"vertical-align:middle;\">Dashboard by MatsuzakiEiji\n",
       "                        <br/>Last Modified: December 23, 2020\n",
       "                        <br/>0 comments, 75 views\n",
       "                    </div>\n",
       "                </div>\n",
       "                "
      ],
      "text/plain": [
       "<Item title:\"00-Status of Land and Structure Acquisition-N2\" type:Dashboard owner:MatsuzakiEiji>"
      ]
     },
     "execution_count": 103,
     "metadata": {},
     "output_type": "execute_result"
    }
   ],
   "source": [
    "ops_dash = source_admin_inventory['Dashboard'][3]\n",
    "ops_dash"
   ]
  },
  {
   "cell_type": "code",
   "execution_count": 104,
   "metadata": {},
   "outputs": [],
   "source": [
    "active_gis = source"
   ]
  },
  {
   "cell_type": "code",
   "execution_count": 105,
   "metadata": {},
   "outputs": [
    {
     "data": {
      "text/html": [
       "<div class=\"item_container\" style=\"height: auto; overflow: hidden; border: 1px solid #cfcfcf; border-radius: 2px; background: #f6fafa; line-height: 1.21429em; padding: 10px;\">\n",
       "                    <div class=\"item_left\" style=\"width: 210px; float: left;\">\n",
       "                       <a href='https://mmsp.maps.arcgis.com/home/item.html?id=5388b97c2f444ea4b89a92af63b1b3fa' target='_blank'>\n",
       "                        <img src='data:image/png;base64,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' width='200' height='133' class=\"itemThumbnail\">\n",
       "                       </a>\n",
       "                    </div>\n",
       "\n",
       "                    <div class=\"item_right\"     style=\"float: none; width: auto; overflow: hidden;\">\n",
       "                        <a href='https://mmsp.maps.arcgis.com/home/item.html?id=5388b97c2f444ea4b89a92af63b1b3fa' target='_blank'><b>00-Status of Land and Structure Acquisition_N2</b>\n",
       "                        </a>\n",
       "                        <br/>updated<img src='https://mmsp.maps.arcgis.com/home/js/jsapi/esri/css/images/item_type_icons/maps16.png' style=\"vertical-align:middle;\">Web Map by MatsuzakiEiji\n",
       "                        <br/>Last Modified: December 23, 2020\n",
       "                        <br/>0 comments, 231 views\n",
       "                    </div>\n",
       "                </div>\n",
       "                "
      ],
      "text/plain": [
       "<Item title:\"00-Status of Land and Structure Acquisition_N2\" type:Web Map owner:MatsuzakiEiji>"
      ]
     },
     "execution_count": 105,
     "metadata": {},
     "output_type": "execute_result"
    }
   ],
   "source": [
    "# Get Web Map used in the Operations Dashboard\n",
    "dash_wm = get_dash_wm(ops_dash)[0]\n",
    "dash_wm"
   ]
  },
  {
   "cell_type": "code",
   "execution_count": 106,
   "metadata": {},
   "outputs": [
    {
     "data": {
      "application/vnd.jupyter.widget-view+json": {
       "model_id": "2d02792dcb5e4905b88f13831b705884",
       "version_major": 2,
       "version_minor": 0
      },
      "text/plain": [
       "MapView(hide_mode_switch=True, layout=Layout(height='400px', width='100%'))"
      ]
     },
     "metadata": {},
     "output_type": "display_data"
    },
    {
     "data": {
      "text/html": [
       "<div class=\"map-static-img-preview-c8e7c9ef-4df8-4c01-8509-c2329c298e99\"><img src=\"\"></img></div>"
      ],
      "text/plain": [
       "<display.HTML object>"
      ]
     },
     "metadata": {},
     "output_type": "display_data"
    }
   ],
   "source": [
    "# Visualize the web map\n",
    "WebMap(dash_wm)"
   ]
  },
  {
   "cell_type": "code",
   "execution_count": 107,
   "metadata": {},
   "outputs": [
    {
     "data": {
      "text/plain": [
       "'5388b97c2f444ea4b89a92af63b1b3fa'"
      ]
     },
     "execution_count": 107,
     "metadata": {},
     "output_type": "execute_result"
    }
   ],
   "source": [
    "dash_wm.id"
   ]
  },
  {
   "cell_type": "code",
   "execution_count": 108,
   "metadata": {},
   "outputs": [
    {
     "name": "stdout",
     "output_type": "stream",
     "text": [
      "00-Status of Land and Structure Acquisition_N2\n",
      "----------------------------------------------------------------------------------------------------\n",
      "  Priority Lots                           other      ArcGISFeatureLayer  7617c62176a043e9b92e0f3033accd83_9401\n",
      "  Station_N2                              HOSTED     ArcGISFeatureLayer  7d48d4a94a2a49cea562379f7bfb47f6\n",
      "  NSCR_Ex PROW                            HOSTED     ArcGISFeatureLayer  129a076969614aad93597a4ac97836cf\n",
      "  Status for Relocation                   HOSTED     ArcGISFeatureLayer  86408c40e1e7407f884162233aa6ebe7\n",
      "  Status of Structure                     HOSTED     ArcGISFeatureLayer  cc0f8d1a3d5645b38c386e1a02b6fb08\n",
      "  Status of Land Acquisition              HOSTED     ArcGISFeatureLayer  de32db5d87614e6a8f35c8524e768852\n",
      "  Structure Boundary                      HOSTED     ArcGISFeatureLayer  cc0f8d1a3d5645b38c386e1a02b6fb08\n",
      "  Lot Boundary                            HOSTED     ArcGISFeatureLayer  de32db5d87614e6a8f35c8524e768852\n",
      "  Station_Box_N2                          HOSTED     ArcGISFeatureLayer  a4762864b14e4b07b65e17de539e3a95\n",
      "\n",
      "\n"
     ]
    }
   ],
   "source": [
    "print_webmap_inventory(dash_wm)"
   ]
  },
  {
   "cell_type": "code",
   "execution_count": 109,
   "metadata": {},
   "outputs": [
    {
     "data": {
      "text/plain": [
       "{'5388b97c2f444ea4b89a92af63b1b3fa': '16ebe882576345479b38fde85ed7ccf5'}"
      ]
     },
     "execution_count": 109,
     "metadata": {},
     "output_type": "execute_result"
    }
   ],
   "source": [
    "# Query the web map object we created to see if this web map id was cloned.\n",
    "wm_item_mapping = {src_wm:trg_wm for src_wm,trg_wm in wm_map.items()\n",
    "                   if dash_wm.id == src_wm}\n",
    "wm_item_mapping"
   ]
  },
  {
   "cell_type": "code",
   "execution_count": 110,
   "metadata": {},
   "outputs": [
    {
     "data": {
      "text/plain": [
       "[<Item title:\"00-Status of Land and Structure Acquisition-N2\" type:Dashboard owner:matsuzakieijinscrex>]"
      ]
     },
     "execution_count": 110,
     "metadata": {},
     "output_type": "execute_result"
    }
   ],
   "source": [
    "# Clone Operations Dashboard\n",
    "target.content.clone_items(items=[ops_dash],\n",
    "                           folder=\"NSCR-Ex_preC\",\n",
    "                           item_mapping=wm_item_mapping)"
   ]
  },
  {
   "cell_type": "code",
   "execution_count": null,
   "metadata": {},
   "outputs": [],
   "source": []
  }
 ],
 "metadata": {
  "kernelspec": {
   "display_name": "ArcGISPro",
   "language": "Python",
   "name": "python3"
  },
  "language_info": {
   "file_extension": ".py",
   "name": "python",
   "version": "3"
  }
 },
 "nbformat": 4,
 "nbformat_minor": 2
}
