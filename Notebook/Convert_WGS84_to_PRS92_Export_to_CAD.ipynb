{
 "cells": [
  {
   "cell_type": "markdown",
   "metadata": {},
   "source": [
    "### Convert to PRS92 and Export to CAD\n",
    "\n",
    "#### This Notebook converts coordinate system from WGS84 to PRS92 and export the layer to CAD. This code is primarily used for checking 3D revit models derived from the BIM Team for elevation, orientation, and coordinates.\n",
    "\n",
    "#### Please implement the following steps:\n",
    "1. Define Projection to PRS92\n",
    "2. Export to CAD\n",
    "3. Delete copied"
   ]
  },
  {
   "cell_type": "code",
   "execution_count": 46,
   "metadata": {},
   "outputs": [],
   "source": [
    "# 1. Define projection\n",
    "import time, os, datetime, sys, logging, logging.handlers, shutil, traceback, re\n",
    "import arcpy\n",
    "\n",
    "arcpy.env.overwriteOutput = True\n",
    "arcpy.env.outputCoordinateSystem = arcpy.SpatialReference(\"PRS 1992 Philippines Zone III\")\n",
    "arcpy.env.geographicTransformations = \"PRS_1992_To_WGS_1984_1\"\n",
    "\n",
    "workspace = r'C:/Users/eiji.LAPTOP-KSD9P6CP/OneDrive - Oriental Consultants Global JV/Documents/ArcGIS/Projects/During-Construction_nscrexn2/During-Construction_nscrexn2.gdb'\n",
    "output_path = r'C:/Users/eiji.LAPTOP-KSD9P6CP/Dropbox/01-Railway/02-NSCR-Ex/01-N2/01-Basedata/11-Building_Depot/01-CAD/01-Original'"
   ]
  },
  {
   "cell_type": "code",
   "execution_count": 47,
   "metadata": {},
   "outputs": [],
   "source": [
    "# 1.1. Add input layer and export to FGDB\n",
    "input_layer = 'N2_DEP_WS_merged'\n",
    "output_layer = input_layer + \"_prs\"\n",
    "\n",
    "out_layer = arcpy.CopyFeatures_management(input_layer, output_layer)"
   ]
  },
  {
   "cell_type": "code",
   "execution_count": 48,
   "metadata": {},
   "outputs": [
    {
     "data": {
      "text/html": [
       "<div class='gpresult'><h2>Messages</h2><div id='messages' data-messages='[\"Start Time: Tuesday, February 22, 2022 12:44:59 PM\",\"...Exporting C:/Users/eiji.LAPTOP-KSD9P6CP/OneDrive - Oriental Consultants Global JV/Documents/ArcGIS/Projects/During-Construction_nscrexn2/During-Construction_nscrexn2.gdb\\\\Depot_Building\\\\N2_DEP_WS_merged_prs to CAD\",\".....exporting to C:\\\\Users\\\\eiji.LAPTOP-KSD9P6CP\\\\Dropbox\\\\01-Railway\\\\02-NSCR-Ex\\\\01-N2\\\\01-Basedata\\\\11-Building_Depot\\\\01-CAD\\\\01-Original\\\\N2_DEP_WS_merged.dwg\",\"Succeeded at Tuesday, February 22, 2022 12:46:12 PM (Elapsed Time: 1 minutes 13 seconds)\"]' data-show='true'><div id = 'default' /></div></div>"
      ],
      "text/plain": [
       "<Result 'C:\\\\Users\\\\eiji.LAPTOP-KSD9P6CP\\\\Dropbox\\\\01-Railway\\\\02-NSCR-Ex\\\\01-N2\\\\01-Basedata\\\\11-Building_Depot\\\\01-CAD\\\\01-Original\\\\N2_DEP_WS_merged.dwg'>"
      ]
     },
     "execution_count": 48,
     "metadata": {},
     "output_type": "execute_result"
    }
   ],
   "source": [
    "# 2. Export to CAD\n",
    "output_type = \"DWG_R2018\"\n",
    "output_name = input_layer + \".dwg\"\n",
    "output_file = os.path.join(output_path,output_name)\n",
    "arcpy.ExportCAD_conversion(out_layer, output_type, output_file, \"\",\"OVERWRITE_EXISTING_FILES\")"
   ]
  },
  {
   "cell_type": "code",
   "execution_count": 49,
   "metadata": {},
   "outputs": [
    {
     "data": {
      "text/html": [
       "<div class='gpresult'><h2>Messages</h2><div id='messages' data-messages='[\"Start Time: Tuesday, February 22, 2022 12:46:17 PM\",\"Succeeded at Tuesday, February 22, 2022 12:46:18 PM (Elapsed Time: 0.46 seconds)\"]' data-show='true'><div id = 'default' /></div></div>"
      ],
      "text/plain": [
       "<Result 'true'>"
      ]
     },
     "execution_count": 49,
     "metadata": {},
     "output_type": "execute_result"
    }
   ],
   "source": [
    "# Delete copied feature layer\n",
    "arcpy.Delete_management(out_layer)"
   ]
  },
  {
   "cell_type": "code",
   "execution_count": null,
   "metadata": {},
   "outputs": [],
   "source": []
  }
 ],
 "metadata": {
  "kernelspec": {
   "display_name": "ArcGISPro",
   "language": "Python",
   "name": "python3"
  },
  "language_info": {
   "file_extension": ".py",
   "name": "python",
   "version": "3"
  }
 },
 "nbformat": 4,
 "nbformat_minor": 2
}
