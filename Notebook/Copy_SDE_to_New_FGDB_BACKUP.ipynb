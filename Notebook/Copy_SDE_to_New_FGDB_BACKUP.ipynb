{
 "cells": [
  {
   "cell_type": "markdown",
   "metadata": {},
   "source": [
    "### Copy Enterprise Geodatabase to New File Geodatabase\n",
    "\n",
    "##### This notebook copies contents of enterprise geodataase to a new file geodatabase.\n",
    "\n",
    "* Please make sure to use a correct directory where your enterprise geodatabases are stored.\n",
    "1. Define Enterprise geodatabase path and names.\n",
    "    @ This code automatically chooses multiple sde directories and run the code for each SDE\n",
    "2. Create a file geodatabase (target GDB)\n",
    "3. Copy SDE to the newly created FGDB"
   ]
  },
  {
   "cell_type": "code",
   "execution_count": 1,
   "metadata": {},
   "outputs": [],
   "source": [
    "import time, os, datetime, sys, logging, logging.handlers, shutil, traceback, re\n",
    "import arcpy\n",
    "from pathlib import Path\n",
    "\n",
    "arcpy.env.overwriteOutput = True"
   ]
  },
  {
   "cell_type": "code",
   "execution_count": 2,
   "metadata": {},
   "outputs": [
    {
     "data": {
      "text/plain": [
       "['DOTr_Planning.sde', 'L1CE.sde', 'MMSP.sde', 'NSCR-Ex.sde', 'NSCR.sde']"
      ]
     },
     "execution_count": 2,
     "metadata": {},
     "output_type": "execute_result"
    }
   ],
   "source": [
    "# Obtain all the SDE\n",
    "home = str(Path.home())\n",
    "projectFolder = os.path.join(home,'OneDrive - Oriental Consultants Global JV/Documents/ArcGIS/Projects/BACKUP')\n",
    "listDir = os.listdir(projectFolder)\n",
    "\n",
    "sdeListArray = []\n",
    "for e in listDir:\n",
    "    if '.sde' in e:\n",
    "        sdeListArray.append(e)\n",
    "sdeListArray"
   ]
  },
  {
   "cell_type": "code",
   "execution_count": 3,
   "metadata": {},
   "outputs": [
    {
     "data": {
      "text/plain": [
       "'NSCR.sde'"
      ]
     },
     "execution_count": 3,
     "metadata": {},
     "output_type": "execute_result"
    }
   ],
   "source": [
    "sdeListArray[-1]"
   ]
  },
  {
   "cell_type": "code",
   "execution_count": 3,
   "metadata": {},
   "outputs": [
    {
     "name": "stdout",
     "output_type": "stream",
     "text": [
      "Feature Dataset: L1CE.L1CEUSER.L1CE_Land_Acquisition\n",
      "Feature Dataset: LCE_Land_Acquisition\n",
      "Feature Dataset: L1CE.L1CEUSER.L1CE_Viaduct\n",
      "Feature Dataset: LCE_Viaduct\n",
      "Feature Class: MMSP.MMSPUSER.MMSP_Land_test\n",
      "Feature Class: MMSP.MMSPUSER.MMSP_Tree_test\n",
      "Feature Class: MMSP.MMSPUSER.MMSP_Affected_Structures_Test\n",
      "Feature Class: MMSP.MMSPUSER.CP104_Existing_Utility_Point_PRS92\n",
      "Feature Class: MMSP.MMSPUSER.CP104_Existing_Utility_Line_PRS92\n",
      "Feature Class: MMSP.MMSPUSER.CONSTRUCTION_BOUNDARY_NEW\n",
      "Feature Table: MMSP.MMSPUSER.MMSP_TBM_Assembly_Progress\n",
      "targetName of Table: MMSP.MMSPUSER.MMSP_TBM_Assembly_Progress\n",
      "Feature Table: MMSP.MMSPUSER.Site_Photo__ATTACH\n",
      "targetName of Table: MMSP.MMSPUSER.Site_Photo__ATTACH\n",
      "Feature Dataset: MMSP.MMSPUSER.Alignment\n",
      "Feature Dataset: Alignment\n",
      "Feature Dataset: MMSP.MMSPUSER.Civil_Construction\n",
      "Feature Dataset: Civil_Construction\n"
     ]
    },
    {
     "ename": "ExecuteError",
     "evalue": "ERROR 999999: Something unexpected caused the tool to fail. Contact Esri Technical Support (http://esriurl.com/support) to Report a Bug, and refer to the error help for potential solutions or workarounds.\nFailure to access the DBMS server [[Microsoft][ODBC Driver 17 for SQL Server]Communication link failure] [MMSP.sde.GDB_Items]\nFailure to access the DBMS server [08S01:[Microsoft][ODBC Driver 17 for SQL Server]TCP Provider: A connection attempt failed because the connected party did not properly respond after a period of time, or established connection failed because connected host has failed to respond.\r\n] [MMSP.MMSPUSER.MMSP_Buildings_Depot]\nFailed to execute (CopyFeatures).\n",
     "output_type": "error",
     "traceback": [
      "\u001b[0;31m---------------------------------------------------------------------------\u001b[0m\n\u001b[0;31mExecuteError\u001b[0m                              Traceback (most recent call last)",
      "In  \u001b[0;34m[3]\u001b[0m:\nLine \u001b[0;34m64\u001b[0m:    arcpy.CopyFeatures_management(fc, targetPath)\n",
      "File \u001b[0;34mC:\\Program Files\\ArcGIS\\Pro\\Resources\\ArcPy\\arcpy\\management.py\u001b[0m, in \u001b[0;32mCopyFeatures\u001b[0m:\nLine \u001b[0;34m4323\u001b[0m:  \u001b[34mraise\u001b[39;49;00m e\n",
      "File \u001b[0;34mC:\\Program Files\\ArcGIS\\Pro\\Resources\\ArcPy\\arcpy\\management.py\u001b[0m, in \u001b[0;32mCopyFeatures\u001b[0m:\nLine \u001b[0;34m4320\u001b[0m:  retval = convertArcObjectToPythonObject(gp.CopyFeatures_management(*gp_fixargs((in_features, out_feature_class, config_keyword, spatial_grid_1, spatial_grid_2, spatial_grid_3), \u001b[34mTrue\u001b[39;49;00m)))\n",
      "File \u001b[0;34mC:\\Program Files\\ArcGIS\\Pro\\Resources\\ArcPy\\arcpy\\geoprocessing\\_base.py\u001b[0m, in \u001b[0;32m<lambda>\u001b[0m:\nLine \u001b[0;34m512\u001b[0m:   \u001b[34mreturn\u001b[39;49;00m \u001b[34mlambda\u001b[39;49;00m *args: val(*gp_fixargs(args, \u001b[34mTrue\u001b[39;49;00m))\n",
      "\u001b[0;31mExecuteError\u001b[0m: ERROR 999999: Something unexpected caused the tool to fail. Contact Esri Technical Support (http://esriurl.com/support) to Report a Bug, and refer to the error help for potential solutions or workarounds.\nFailure to access the DBMS server [[Microsoft][ODBC Driver 17 for SQL Server]Communication link failure] [MMSP.sde.GDB_Items]\nFailure to access the DBMS server [08S01:[Microsoft][ODBC Driver 17 for SQL Server]TCP Provider: A connection attempt failed because the connected party did not properly respond after a period of time, or established connection failed because connected host has failed to respond.\r\n] [MMSP.MMSPUSER.MMSP_Buildings_Depot]\nFailed to execute (CopyFeatures).\n\n\u001b[0;31m---------------------------------------------------------------------------\u001b[0m"
     ]
    }
   ],
   "source": [
    "# Loop for each .sde, create a new FGDB and backup to the new fgdb\n",
    "fgdb_path = os.path.join(home,'Dropbox/01-Railway/02-NSCR-Ex/10-ArcGIS/01-Reference/13-File_Geodatabase')\n",
    "\n",
    "for sde in sdeListArray:\n",
    "    \n",
    "    ## Make sure to define workspace for each sde\n",
    "    sde_path = os.path.join(projectFolder, sde)\n",
    "    arcpy.env.workspace = sde_path\n",
    "    \n",
    "    # Create a new File Geodatabase\n",
    "    fgdb_name = time.strftime(\"%Y%m%d\") + \"_\" + sde.replace('.sde','')\n",
    "    arcpy.management.CreateFileGDB(fgdb_path, fgdb_name)\n",
    "    \n",
    "    # targetGDB\n",
    "    targetGDB = os.path.join(fgdb_path, fgdb_name + \".gdb\") \n",
    "    \n",
    "    # Copy stand-alone Feature Classes\n",
    "    featureClasses = arcpy.ListFeatureClasses()\n",
    "    for fc in featureClasses:\n",
    "        print('Feature Class: {}'.format(fc))\n",
    "        targetName = fc.split('.')[-1]\n",
    "        targetPath = os.path.join(targetGDB, targetName)\n",
    "        \n",
    "        arcpy.CopyFeatures_management(fc, targetPath)\n",
    "    \n",
    "    # Copy tables\n",
    "    tables = arcpy.ListTables()\n",
    "    for table in tables:\n",
    "        print('Feature Table: {}'.format(table))\n",
    "        \n",
    "        targetName = table.split('.')[-1]\n",
    "        print('targetName of Table: {}'.format(table))\n",
    "        \n",
    "        targetPath = os.path.join(targetGDB, targetName)\n",
    "        \n",
    "        arcpy.Copy_management(table, targetPath)\n",
    "        \n",
    "    # Copy Feature Classes insdie Feature Datasets\n",
    "    datasetList = arcpy.ListDatasets(feature_type='feature')\n",
    "    for ds in datasetList:\n",
    "        print('Feature Dataset: {}'.format(ds))      \n",
    "        \n",
    "        # Obtain spatial refernce of a feature dataset\n",
    "        desc = arcpy.Describe(ds)\n",
    "        sr = desc.spatialReference\n",
    "        featureDatasetName = ds.split('.')[-1] # e.g., Alignment\n",
    "        \n",
    "        # If the name of feature dataset starts with numbers, we need to remove it\n",
    "        try:\n",
    "            reg = re.compile(r'\\d')\n",
    "            m = reg.search(featureDatasetName).group()\n",
    "            featureDatasetName = reg.sub(r'',featureDatasetName)\n",
    "        except:\n",
    "            featureDasetName = featureDatasetName\n",
    "        \n",
    "        # Create a feature dataset\n",
    "        arcpy.CreateFeatureDataset_management(targetGDB, featureDatasetName, sr)\n",
    "        print(\"Feature Dataset: {}\".format(featureDatasetName))\n",
    "        \n",
    "        for fc in arcpy.ListFeatureClasses(feature_dataset=ds):\n",
    "            targetName = fc.split('.')[-1]\n",
    "            targetPath = os.path.join(targetGDB, featureDatasetName, targetName)\n",
    "            \n",
    "            arcpy.CopyFeatures_management(fc, targetPath)"
   ]
  },
  {
   "cell_type": "code",
   "execution_count": null,
   "metadata": {},
   "outputs": [],
   "source": []
  },
  {
   "cell_type": "code",
   "execution_count": 55,
   "metadata": {},
   "outputs": [
    {
     "name": "stdout",
     "output_type": "stream",
     "text": [
      "_Land_Acquisition\n"
     ]
    }
   ],
   "source": [
    "try:\n",
    "    reg = re.compile(r'\\d')\n",
    "    m = reg.search(test).group()\n",
    "    test = reg.sub(r'', test)\n",
    "    print(test)\n",
    "except:\n",
    "    test = 'Error'\n",
    "    print(test)"
   ]
  },
  {
   "cell_type": "code",
   "execution_count": null,
   "metadata": {},
   "outputs": [],
   "source": []
  }
 ],
 "metadata": {
  "kernelspec": {
   "display_name": "ArcGISPro",
   "language": "Python",
   "name": "python3"
  },
  "language_info": {
   "file_extension": ".py",
   "name": "python",
   "version": "3"
  }
 },
 "nbformat": 4,
 "nbformat_minor": 2
}
