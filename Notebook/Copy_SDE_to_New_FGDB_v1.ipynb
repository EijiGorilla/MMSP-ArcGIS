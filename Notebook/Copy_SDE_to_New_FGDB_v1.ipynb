{
 "cells": [
  {
   "cell_type": "markdown",
   "metadata": {},
   "source": [
    "### Copy Enterprise Geodatabase to New File Geodatabase\n",
    "\n",
    "##### This notebook copies contents of enterprise geodataase to a new file geodatabase.\n",
    "\n",
    "1. Define Enterprise geodatabase path and name (input GDB)\n",
    "2. Create a file geodatabase (target GDB)\n",
    "3. "
   ]
  },
  {
   "cell_type": "code",
   "execution_count": 39,
   "metadata": {},
   "outputs": [],
   "source": [
    "import time, os, datetime, sys, logging, logging.handlers, shutil, traceback, re\n",
    "import arcpy\n",
    "\n",
    "arcpy.env.overwriteOutput = True"
   ]
  },
  {
   "cell_type": "code",
   "execution_count": 2,
   "metadata": {},
   "outputs": [],
   "source": [
    "# Define Enterprise geodatabase folder path and name\n",
    "sde_path = r'C:/Users/oc3512/OneDrive - Oriental Consultants Global JV/Documents/ArcGIS/Projects/Pre-Construction_nscrexn2'\n",
    "sde_name = 'Basedata_mmsp.sde'\n",
    "dbConnection = os.path.join(sde_path, sde_name)\n",
    "\n",
    "## Make sure to define workspace\n",
    "arcpy.env.workspace = dbConnection"
   ]
  },
  {
   "cell_type": "code",
   "execution_count": 3,
   "metadata": {},
   "outputs": [],
   "source": [
    "# Create File Geodatabase as target GDB\n",
    "fgdb_path = r'C:/Users/oc3512/OneDrive - Oriental Consultants Global JV/Desktop/tempCheck'\n",
    "\n",
    "fgdb_name = time.strftime(\"%Y%m%d\") + \"_\" + sde_name.replace('.sde','')\n",
    "targetGDB = os.path.join(fgdb_path, fgdb_name + \".gdb\")\n",
    "\n",
    "arcpy.management.CreateFileGDB(fgdb_path, fgdb_name)"
   ]
  },
  {
   "cell_type": "code",
   "execution_count": 57,
   "metadata": {},
   "outputs": [],
   "source": [
    "# Remove feature class with DBO\n",
    "dboArray = []\n",
    "for element in allDbData:\n",
    "    if 'DBO' in element:\n",
    "        dboArray.append(element)\n",
    "allDbData = list(set(allDbData).difference(dboArray))"
   ]
  },
  {
   "cell_type": "code",
   "execution_count": 104,
   "metadata": {},
   "outputs": [
    {
     "name": "stdout",
     "output_type": "stream",
     "text": [
      "C:/Users/oc3512/OneDrive - Oriental Consultants Global JV/Desktop/tempCheck\\20210326_Basedata_mmsp.gdb\\CONTRACT_PACKAGE_LABELS\n"
     ]
    }
   ],
   "source": [
    "# Copy stand-alone Feature Classes\n",
    "featureClasses = arcpy.ListFeatureClasses()\n",
    "for fc in featureClasses:\n",
    "    targetName = fc.split('.')[-1]\n",
    "    targetPath = os.path.join(targetGDB, targetName)\n",
    "    print(targetPath)\n",
    "    \n",
    "    arcpy.CopyFeatures_management(fc, targetPath)"
   ]
  },
  {
   "cell_type": "code",
   "execution_count": 105,
   "metadata": {},
   "outputs": [],
   "source": [
    "# Copy tables\n",
    "tables = arcpy.ListTables()\n",
    "for table in tables:\n",
    "    targetName = table.split('.')[-1]\n",
    "    targetPath = os.path.join(targetGDB, targetName)\n",
    "    \n",
    "    arcpy.CopyFeatures_management(table, targetPath)"
   ]
  },
  {
   "cell_type": "code",
   "execution_count": 100,
   "metadata": {},
   "outputs": [
    {
     "name": "stdout",
     "output_type": "stream",
     "text": [
      "C:/Users/oc3512/OneDrive - Oriental Consultants Global JV/Desktop/tempCheck\\20210326_Basedata_mmsp.gdb\\Basemap\\Valenzuela_Road_Centerline_2017\n"
     ]
    },
    {
     "ename": "ExecuteError",
     "evalue": "ERROR 000110: C:/Users/oc3512/OneDrive - Oriental Consultants Global JV/Desktop/tempCheck\\20210326_Basedata_mmsp.gdb\\Basemap does not exist\nERROR 000260: Failed to copy C:/Users/oc3512/OneDrive - Oriental Consultants Global JV/Documents/ArcGIS/Projects/Pre-Construction_nscrexn2\\Basedata_mmsp.sde\\gisbasedata.BASEUSER.Valenzuela_Road_Centerline_2017 into C:/Users/oc3512/OneDrive - Oriental Consultants Global JV/Desktop/tempCheck\\20210326_Basedata_mmsp.gdb\\Basemap\\Valenzuela_Road_Centerline_2017\nFailed to execute (Copy).\n",
     "output_type": "error",
     "traceback": [
      "\u001b[0;31m---------------------------------------------------------------------------\u001b[0m\n\u001b[0;31mExecuteError\u001b[0m                              Traceback (most recent call last)",
      "In  \u001b[0;34m[100]\u001b[0m:\nLine \u001b[0;34m9\u001b[0m:     arcpy.Copy_management(fc, targetPath)\n",
      "File \u001b[0;34mC:\\Program Files\\ArcGIS\\Pro\\Resources\\ArcPy\\arcpy\\management.py\u001b[0m, in \u001b[0;32mCopy\u001b[0m:\nLine \u001b[0;34m6230\u001b[0m:  \u001b[34mraise\u001b[39;49;00m e\n",
      "File \u001b[0;34mC:\\Program Files\\ArcGIS\\Pro\\Resources\\ArcPy\\arcpy\\management.py\u001b[0m, in \u001b[0;32mCopy\u001b[0m:\nLine \u001b[0;34m6227\u001b[0m:  retval = convertArcObjectToPythonObject(gp.Copy_management(*gp_fixargs((in_data, out_data, data_type, associated_data), \u001b[34mTrue\u001b[39;49;00m)))\n",
      "File \u001b[0;34mC:\\Program Files\\ArcGIS\\Pro\\Resources\\ArcPy\\arcpy\\geoprocessing\\_base.py\u001b[0m, in \u001b[0;32m<lambda>\u001b[0m:\nLine \u001b[0;34m511\u001b[0m:   \u001b[34mreturn\u001b[39;49;00m \u001b[34mlambda\u001b[39;49;00m *args: val(*gp_fixargs(args, \u001b[34mTrue\u001b[39;49;00m))\n",
      "\u001b[0;31mExecuteError\u001b[0m: ERROR 000110: C:/Users/oc3512/OneDrive - Oriental Consultants Global JV/Desktop/tempCheck\\20210326_Basedata_mmsp.gdb\\Basemap does not exist\nERROR 000260: Failed to copy C:/Users/oc3512/OneDrive - Oriental Consultants Global JV/Documents/ArcGIS/Projects/Pre-Construction_nscrexn2\\Basedata_mmsp.sde\\gisbasedata.BASEUSER.Valenzuela_Road_Centerline_2017 into C:/Users/oc3512/OneDrive - Oriental Consultants Global JV/Desktop/tempCheck\\20210326_Basedata_mmsp.gdb\\Basemap\\Valenzuela_Road_Centerline_2017\nFailed to execute (Copy).\n\n\u001b[0;31m---------------------------------------------------------------------------\u001b[0m"
     ]
    }
   ],
   "source": [
    "# Copy Feature Classes insdie Feature Datasets\n",
    "datasetList = arcpy.ListDatasets(feature_type='feature')\n",
    "for ds in datasetList:\n",
    "    for fc in arcpy.ListFeatureClasses(feature_dataset=ds):\n",
    "        datasetName = ds.split('.')[-1] # e.g., Alignment\n",
    "        targetName = fc.split('.')[-1]\n",
    "        targetPath = os.path.join(targetGDB, targetName)\n",
    "        print(targetPath)\n",
    "\n",
    "        arcpy.CopyFeatures_management(fc, targetPath)"
   ]
  }
 ],
 "metadata": {
  "kernelspec": {
   "display_name": "ArcGISPro",
   "language": "Python",
   "name": "python3"
  },
  "language_info": {
   "file_extension": ".py",
   "name": "python",
   "version": "3"
  }
 },
 "nbformat": 4,
 "nbformat_minor": 2
}
