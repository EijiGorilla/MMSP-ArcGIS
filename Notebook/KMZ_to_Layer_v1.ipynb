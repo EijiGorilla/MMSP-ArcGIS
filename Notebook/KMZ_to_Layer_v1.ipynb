{
 "cells": [
  {
   "cell_type": "markdown",
   "metadata": {},
   "source": [
    "### Convert KMZ to Feature Layer\n",
    "\n",
    "#### This python code is primarily used to convert KMZ to feature layers of:\n",
    "1. Main alignment,\n",
    "2. Centerline,\n",
    "3. PROW,\n",
    "4. Station box (platform), and\n",
    "\n",
    "##### The data source is NSCR-Ex NAS. [ /NCREx-Files01/19_CIVN2 Team (GF Server, Active)/08_DRAWINGS (Katherine Magculang, sakamoto, Ricardo Cagaanan)/05_KMZ file/MCRP_KMZ (Rev.0) 20210319]"
   ]
  },
  {
   "cell_type": "code",
   "execution_count": 30,
   "metadata": {},
   "outputs": [],
   "source": [
    "from pathlib import Path\n",
    "import sys\n",
    "\n",
    "from arcgis.gis import GIS, Item\n",
    "from arcgis.features import FeatureLayerCollection\n",
    "from arcgis.mapping import WebMap\n",
    "\n",
    "import arcpy\n",
    "import os\n",
    "import re\n",
    "\n",
    "workSpace = \"C:/Users/oc3512/OneDrive - Oriental Consultants Global JV/Documents/ArcGIS/Projects/Pre-Construction_nscrexn2\"\n",
    "arcpy.env.workspace = workSpace\n",
    "arcpy.env.overwriteOutput = True"
   ]
  },
  {
   "cell_type": "code",
   "execution_count": null,
   "metadata": {},
   "outputs": [],
   "source": [
    "# 1. Download all KMZ files from the above link. KMZ files are saved by CP."
   ]
  },
  {
   "cell_type": "code",
   "execution_count": 43,
   "metadata": {},
   "outputs": [],
   "source": [
    "# 2. Specify a directory of the downloaded KMZ files\n",
    "kmzDir = \"C:/Users/oc3512/Dropbox/01-Railway\"\n",
    "allFilesList = os.listdir(kmzDir)"
   ]
  },
  {
   "cell_type": "code",
   "execution_count": 44,
   "metadata": {},
   "outputs": [],
   "source": [
    "reg = re.compile(r\".*kmz\")\n",
    "kmzList = list(filter(reg.match, allFilesList))"
   ]
  },
  {
   "cell_type": "code",
   "execution_count": 47,
   "metadata": {},
   "outputs": [
    {
     "data": {
      "text/html": [
       "<h2>Output</h2><table><tr><th>id</th><th>value</th></tr><tr><td>0</td><td>a Layer object</td></tr><tr><td>1</td><td>C:\\Users\\oc3512\\OneDrive - Oriental Consultants Global JV\\Documents\\ArcGIS\\Projects\\Pre-Construction_nscrexn2\\MCRP_CP_N01.gdb</td></tr></table><h2>Messages</h2>Start Time: 2021年5月17日 1:06:35 PM<br/>Succeeded at 2021年5月17日 1:06:58 PM (Elapsed Time: 23.81 seconds)<br/><style>.rendered_html td, .rendered_html th {text-align: left;}.rendered_html tbody {border: 1px solid black;}</style>"
      ],
      "text/plain": [
       "<Result 'MCRP_CP_N01'>"
      ]
     },
     "execution_count": 47,
     "metadata": {},
     "output_type": "execute_result"
    }
   ],
   "source": [
    "in_kmz_file = os.path.join(kmzDir, kmzList[0])\n",
    "arcpy.conversion.KMLToLayer(in_kmz_file, workSpace)"
   ]
  },
  {
   "cell_type": "code",
   "execution_count": 56,
   "metadata": {},
   "outputs": [],
   "source": [
    "gdbName = os.path.splitext(kmzList[0])[0] + \".gdb\"\n",
    "Polylines = os.path.join(workSpace,gdbName, \"Placemarks/Polylines\")"
   ]
  },
  {
   "cell_type": "code",
   "execution_count": 57,
   "metadata": {},
   "outputs": [
    {
     "data": {
      "text/plain": [
       "'C:/Users/oc3512/OneDrive - Oriental Consultants Global JV/Documents/ArcGIS/Projects/Pre-Construction_nscrexn2\\\\MCRP_CP_N01.gdb\\\\Placemarks/Polylines'"
      ]
     },
     "execution_count": 57,
     "metadata": {},
     "output_type": "execute_result"
    }
   ],
   "source": [
    "# Columnation\n",
    "sqlExpression = \"SymbolID = 0\" + \" AND \" + \n",
    "columnationLayer = arcpy.MakeFeatureLayer_management(Polylines, \"Columnation\", sqlExpression)"
   ]
  },
  {
   "cell_type": "code",
   "execution_count": null,
   "metadata": {},
   "outputs": [],
   "source": []
  }
 ],
 "metadata": {
  "kernelspec": {
   "display_name": "ArcGISPro",
   "language": "Python",
   "name": "python3"
  },
  "language_info": {
   "file_extension": ".py",
   "name": "python",
   "version": "3"
  }
 },
 "nbformat": 4,
 "nbformat_minor": 2
}
