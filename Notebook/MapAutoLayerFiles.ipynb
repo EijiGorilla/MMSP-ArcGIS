{
 "cells": [
  {
   "cell_type": "markdown",
   "metadata": {},
   "source": [
    "### Map Automation using Multiple Layer Files\n",
    "THis notebook creates a series of maps using many layer files but without map series."
   ]
  },
  {
   "cell_type": "code",
   "execution_count": 1,
   "metadata": {},
   "outputs": [],
   "source": [
    "import arcpy\n",
    "import os\n",
    "\n",
    "aprx = arcpy.mp.ArcGISProject('current')"
   ]
  },
  {
   "cell_type": "code",
   "execution_count": 2,
   "metadata": {},
   "outputs": [],
   "source": [
    "# Define input feature layer, file directory, and output directory\n",
    "## Note inputFeature directly reading from the Contents pane\n",
    "inputFeature = r\"Process of Land Acquisition\\Osec Maps\\Simplified Status\"\n",
    "#inputFeature = \"C:/Users/oc3512/OneDrive - Oriental Consultants Global JV/Documents/ArcGIS/Projects/Osec_Map_temp/pre-construction_mmsp.gdb/Parcellary_Status\"\n",
    "layerFileDir = \"C:/Users/oc3512/Dropbox/★01-Railway/01-MMSP/10-ArcGIS/01-Reference/01-Layer File-lyrx/01-Land Acquisition/01-Parcellary Maps/New PRI JV\"\n",
    "outputDir = \"C:/Users/oc3512/OneDrive - Oriental Consultants Global JV/Desktop/Envi/Parcellary Map/20201102\"\n",
    "asofDate = \"20201102\""
   ]
  },
  {
   "cell_type": "code",
   "execution_count": 3,
   "metadata": {},
   "outputs": [],
   "source": [
    "mmp = aprx.listMaps(\"Parcellary Map_v2\")[0]"
   ]
  },
  {
   "cell_type": "code",
   "execution_count": 4,
   "metadata": {},
   "outputs": [],
   "source": [
    "# Name of layout file being open (i.e., target layout file)\n",
    "layout = aprx.listLayouts('MPR')[0]"
   ]
  },
  {
   "cell_type": "code",
   "execution_count": 5,
   "metadata": {},
   "outputs": [],
   "source": [
    "# Month list \n",
    "monthList= [\"endSep\", \"endOct\", \"endNov\", \"endDec\", \"endJan\"]\n",
    "#monthList= [\"09end\", \"10end\"]"
   ]
  },
  {
   "cell_type": "code",
   "execution_count": 6,
   "metadata": {},
   "outputs": [],
   "source": [
    "# Apply symbology using layer files (.lyr) and export in PDF\n",
    "for m in monthList:\n",
    "    symbolLyrx = os.path.join(layerFileDir, \"newPRI_JV_onlyLabel_\" + m + \".lyrx\")\n",
    "    #temp = arcpy.ApplySymbologyFromLayer_management(inputFeature, symbolLyrx, [[\"VALUE_FIELD\",\"DateIssueHandOver_JV\", \"DateIssueHandOver_JV\"]], update_symbology=\"MAINTAIN\")[0]\n",
    "    arcpy.ApplySymbologyFromLayer_management(inputFeature, symbolLyrx, [[\"VALUE_FIELD\",\"DateIssueHandOver_JV\", \"DateIssueHandOver_JV\"]], update_symbology=\"MAINTAIN\")[0]\n",
    "    \n",
    "    # Get the corresponding map series page numbers\n",
    "    msPDF = os.path.join(outputDir, asofDate + \"_\" + \"Handover_to_Contractor_\" + m + \".pdf\")\n",
    "    \n",
    "    #layout.exportToPDF(msPDF, 'SELECTED', multiple_files = \"PDF_MULTIPLE_FILES_PAGE_NAME\")\n",
    "    layout.exportToPDF(msPDF)\n",
    "    del symbolLyrx"
   ]
  },
  {
   "cell_type": "code",
   "execution_count": null,
   "metadata": {},
   "outputs": [],
   "source": []
  }
 ],
 "metadata": {
  "kernelspec": {
   "display_name": "ArcGISPro",
   "language": "Python",
   "name": "python3"
  },
  "language_info": {
   "file_extension": ".py",
   "name": "python",
   "version": "3"
  }
 },
 "nbformat": 4,
 "nbformat_minor": 2
}
