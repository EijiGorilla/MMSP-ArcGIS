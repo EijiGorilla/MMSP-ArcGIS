{
 "cells": [
  {
   "cell_type": "markdown",
   "metadata": {},
   "source": [
    "### BIM to BuildingSceneLayer\n",
    "\n",
    "#### This Notebook imports revit files from BIM models and convert them to BuildingSceneLayer in prepartion for smart map\n",
    "#### Please implement the following steps in preparing building layers to be published to Portal for ArcGIS.\n",
    "1. Define Projection to PRS92\n",
    "2. BIM File to Geodatabase\n",
    "3. Make Building Layer\n",
    "4. Enable Archiving, GlobalIDs, and Editor Tracking\n",
    "5. Add Fields for Structural discipline layers\n",
    "6. Apply symbology to Status\n",
    "7. Set the initial status = 'To be Constructed'\n",
    "8. Add station names and CP\n",
    "9.Assign Domains\n"
   ]
  },
  {
   "cell_type": "code",
   "execution_count": 2,
   "metadata": {},
   "outputs": [],
   "source": [
    "import time, os, datetime, sys, logging, logging.handlers, shutil, traceback, re\n",
    "import arcpy\n",
    "\n",
    "arcpy.env.overwriteOutput = True\n",
    "arcpy.env.outputCoordinateSystem = arcpy.SpatialReference(\"WGS 1984 Web Mercator (auxiliary sphere)\")\n",
    "arcpy.env.geographicTransformations = \"PRS_1992_To_WGS_1984_1\"\n",
    "workspace = r'C:/Users/eiji.LAPTOP-KSD9P6CP/OneDrive - Oriental Consultants Global JV/Documents/ArcGIS/Projects/During-Construction_nscrexn2'\n",
    "#workspace = r'C:/Users/oc3512/OneDrive - Oriental Consultants Global JV/Documents/ArcGIS/Projects/During-Construction_nscrexn2/During-Construction_nscrexn2.gdb'\n",
    "\n",
    "BuldingLayerName = \"N2_Station_Structure\""
   ]
  },
  {
   "cell_type": "code",
   "execution_count": null,
   "metadata": {},
   "outputs": [],
   "source": [
    "# 1. Define Projection\n",
    "## Manually check projection of all Revit models of structural disciplines\n",
    "## Make sure that all the models have projection defined (i.e., at the right location)"
   ]
  },
  {
   "cell_type": "code",
   "execution_count": 3,
   "metadata": {},
   "outputs": [],
   "source": [
    "out_gdb_path = os.path.join(workspace,\"10.10.5.5.sde\")\n",
    "out_dataset_name = \"N2_Station_Structure_BIM\""
   ]
  },
  {
   "cell_type": "code",
   "execution_count": 6,
   "metadata": {},
   "outputs": [
    {
     "data": {
      "text/html": [
       "<div class='gpresult'><h2>Messages</h2><div id='messages' data-messages='[\"Start Time: Tuesday, May 10, 2022 10:01:08 AM\",\"Succeeded at Tuesday, May 10, 2022 10:14:55 AM (Elapsed Time: 13 minutes 47 seconds)\"]' data-show='true'><div id = 'default' /></div></div>"
      ],
      "text/plain": [
       "<Result 'C:/Users/eiji.LAPTOP-KSD9P6CP/OneDrive - Oriental Consultants Global JV/Documents/ArcGIS/Projects/During-Construction_nscrexn2\\\\10.10.5.5.sde\\\\NSCR_Ex.NSCREXUSER.N2_Station_Structure_BIM'>"
      ]
     },
     "execution_count": 6,
     "metadata": {},
     "output_type": "execute_result"
    }
   ],
   "source": [
    "# 2. BIM File to Geodatabase\n",
    "## This saves all Revit models to enterprise geodatabase\n",
    "RevitWD = \"C:/Users/eiji.LAPTOP-KSD9P6CP/Dropbox/01-Railway/02-NSCR-Ex/01-N2/01-Basedata/09-Station_Structure/99-BIM Model/\"\n",
    "Revit1 = os.path.join(RevitWD,\"N-01/NSCR-GCR-N01-APLSTN-MOD-ST-000001.rvt\")\n",
    "Revit2 = os.path.join(RevitWD, \"N-01/NSCR-GCR-N01-CLPSTN-MOD-ST-000001.rvt\")\n",
    "Revit3 = os.path.join(RevitWD, \"N-02/NSCR-GCR-N02-CSFSTN-MOD-ST-000001.rvt\")\n",
    "Revit4 = os.path.join(RevitWD, \"N-03/NSCR-GCR-N03-ANGSTN-MOD-ST-000001.rvt\")\n",
    "Revit5 = os.path.join(RevitWD, \"N-03/NSCR-GCR-N03-CRKSTN-MOD-ST-000001.rvt\")\n",
    "Revit6 = os.path.join(RevitWD, \"N-04/NSCR-GCR-N04-CIASTN-MOD-ST-000001.rvt\")\n",
    "\n",
    "inputRevit = [Revit1,Revit2,Revit3,Revit4,Revit5,Revit6]\n",
    "# Choose enterprise geodatabase for Output Geodatabase\n",
    "spatial_reference = \"PRS_1992_Philippines_Zone_III\"\n",
    "\n",
    "arcpy.BIMFileToGeodatabase_conversion(inputRevit, out_gdb_path, out_dataset_name, spatial_reference)\n"
   ]
  },
  {
   "cell_type": "code",
   "execution_count": null,
   "metadata": {},
   "outputs": [],
   "source": [
    "# 3. Make Building Layer\n",
    "## Convert files created above to building layer\n",
    "# Make a building layer from a Dataset\n",
    "# The code below failed. why? but succeeded when it was manually executed in Geoprocessing.\n",
    "out_dataset = os.path.join(out_gdb_path,\"NSCR_Ex.NSCREXUSER.N2_Station_Structure_BIM\")\n",
    "arcpy.MakeBuildingLayer_management(out_dataset,BuldingLayerName)"
   ]
  },
  {
   "cell_type": "code",
   "execution_count": 10,
   "metadata": {},
   "outputs": [],
   "source": [
    "# 4. Enable Archiving, GlobalIDs, and Editor Tracking by\n",
    "#    right-clicking enterprise geodatabase created by 'BIM File to Geodatabase' tool"
   ]
  },
  {
   "cell_type": "code",
   "execution_count": 4,
   "metadata": {},
   "outputs": [],
   "source": [
    "stColumn = os.path.join(BuldingLayerName,\"Structural\",\"StructuralColumns\")\n",
    "stFraming = os.path.join(BuldingLayerName,\"Structural\",\"StructuralFraming\")\n",
    "stFoundation = os.path.join(BuldingLayerName,\"Structural\",\"StructuralFoundation\")\n",
    "\n",
    "in_features = [stColumn, stFraming, stFoundation]\n",
    "addFields = ['Station', 'Types', 'SubType', 'Status', 'start_date', 'end_date', \\\n",
    "             'StructureType', 'StructureLevel', 'P6ID', 'Comment', \\\n",
    "            'GridX', 'GridY', 'CP', 'ID']"
   ]
  },
  {
   "cell_type": "code",
   "execution_count": 16,
   "metadata": {},
   "outputs": [],
   "source": [
    "# 5. Add Fields for Structural discipline layers\n",
    "## StructuralColumns, StructuralFraming, and StructuralFoundation\n",
    "for feature in in_features:\n",
    "    for field in addFields:\n",
    "        if field in ('start_date', 'end_date'):\n",
    "            arcpy.AddField_management(feature, field, \"DATE\", \"\", \"\", \"\", field, \"NULLABLE\", \"\")\n",
    "        elif field in ('P6ID', 'Comment', 'GridX', 'GridY', 'CP', 'ID'):\n",
    "            arcpy.AddField_management(feature, field, \"TEXT\", \"\", \"\", \"\", field, \"NULLABLE\", \"\")\n",
    "        else:\n",
    "            arcpy.AddField_management(feature, field, \"SHORT\", \"\", \"\", \"\", field, \"NULLABLE\", \"\")"
   ]
  },
  {
   "cell_type": "code",
   "execution_count": 17,
   "metadata": {},
   "outputs": [],
   "source": [
    "# 6. Apply symbology to Status\n",
    "symbolLyrx = r'C:/Users/eiji.LAPTOP-KSD9P6CP/Dropbox/01-Railway/02-NSCR-Ex/10-ArcGIS/01-Reference/01-Layer File/03-Station_Structure/Station_Structure_FINAL.lyrx'\n",
    "\n",
    "for feature in in_features:\n",
    "    arcpy.ApplySymbologyFromLayer_management(feature, symbolLyrx, [[\"VALUE_FIELD\", \"Status\", \"Status\"]], update_symbology=\"MAINTAIN\")[0]"
   ]
  },
  {
   "cell_type": "code",
   "execution_count": 18,
   "metadata": {},
   "outputs": [],
   "source": [
    "# 7. Set the initial status = 'To be Constructed'\n",
    "for feature in in_features:\n",
    "    with arcpy.da.UpdateCursor(feature, ['Status']) as cursor:\n",
    "        for row in cursor:\n",
    "            row[0] = 1\n",
    "            cursor.updateRow(row)"
   ]
  },
  {
   "cell_type": "code",
   "execution_count": 31,
   "metadata": {},
   "outputs": [],
   "source": [
    "# 8. Add station names and CP\n",
    "searchStns = \"APLSTN|CLPSTN|CSFSTN|ANGSTN|CRKSTN|CIASTN\"\n",
    "\n",
    "# Enter 'Station'\n",
    "for feature in in_features:\n",
    "    with arcpy.da.UpdateCursor(feature,['DocName','Station','CP']) as cursor:\n",
    "        for row in cursor:\n",
    "            if row[0]:\n",
    "                try:\n",
    "                    reg = re.search(searchStns,row[0]).group()\n",
    "                except AttributeError:\n",
    "                    reg = re.search(searchStns,row[0])\n",
    "                \n",
    "                # Station name\n",
    "                if reg == \"APLSTN\":\n",
    "                    row[1] = 7\n",
    "                    row[2] = \"N-01\"\n",
    "                elif reg == \"CLPSTN\":\n",
    "                    row[1] = 8\n",
    "                    row[2] = \"N-01\"\n",
    "                elif reg == \"CSFSTN\":\n",
    "                    row[1] = 6\n",
    "                    row[2] = \"N-02\"\n",
    "                elif reg == \"ANGSTN\":\n",
    "                    row[1] = 5\n",
    "                    row[2] = \"N-03\"\n",
    "                elif reg == \"CRKSTN\":\n",
    "                    row[1] = 4\n",
    "                    row[2] = \"N-03\"\n",
    "                elif reg == \"CIASTN\":\n",
    "                    row[1] = 3\n",
    "                    row[2] = \"N-04\"\n",
    "            else:\n",
    "                row[1] = None\n",
    "                row[2] = None\n",
    "            cursor.updateRow(row)"
   ]
  },
  {
   "cell_type": "code",
   "execution_count": 32,
   "metadata": {},
   "outputs": [],
   "source": [
    "# Enter CP\n",
    "for feature in in_features:\n",
    "    with arcpy.da.UpdateCursor(feature,['DocName','CP']) as cursor:\n",
    "        for row in cursor:\n",
    "            if row[0]:\n",
    "                try:\n",
    "                    reg = re.search(searchStns,row[0]).group()\n",
    "                except AttributeError:\n",
    "                    reg = re.search(searchStns,row[0])\n",
    "                \n",
    "                # Station name\n",
    "                if reg == \"APLSTN\":\n",
    "                    row[1] = \"N-01\"\n",
    "                elif reg == \"CLPSTN\":\n",
    "                    row[1] = \"N-01\"\n",
    "                elif reg == \"CSFSTN\":\n",
    "                    row[1] = \"N-02\"\n",
    "                elif reg == \"ANGSTN\":\n",
    "                    row[1] = \"N-03\"\n",
    "                elif reg == \"CRKSTN\":\n",
    "                    row[1] = \"N-03\"\n",
    "                elif reg == \"CIASTN\":\n",
    "                    row[1] = \"N-04\"\n",
    "            else:\n",
    "                row[1] = None\n",
    "            cursor.updateRow(row)"
   ]
  },
  {
   "cell_type": "code",
   "execution_count": 5,
   "metadata": {},
   "outputs": [],
   "source": [
    "# 9.Assign Domains\n",
    "# 0. Domain Name\n",
    "domainList = ['Station Structures_TYPE', 'Station Structures_SUBTYPE',\\\n",
    "              'Station Structures_STATUS', 'Station Structures_STRUCTURETYPE',\\\n",
    "              'Station Structures_STRUCTURELEVEL','Station_nscrex']\n",
    "\n",
    "#domains = arcpy.da.ListDomains(workspace)\n",
    "#listDomain = [d.name for d in domains]\n",
    "#reg = re.compile(r'Station Structures*|Station*')\n",
    "#listFinal = list(filter(reg.match, listDomain))\n",
    "for feature in in_features:\n",
    "    arcpy.AssignDomainToField_management(feature, 'Types', domainList[0])\n",
    "    arcpy.AssignDomainToField_management(feature, 'SubType', domainList[1])\n",
    "    arcpy.AssignDomainToField_management(feature, 'Status', domainList[2])\n",
    "    arcpy.AssignDomainToField_management(feature, 'StructureType', domainList[3])\n",
    "    arcpy.AssignDomainToField_management(feature, 'StructureLevel', domainList[4])\n",
    "    arcpy.AssignDomainToField_management(feature, 'Station', domainList[5])"
   ]
  },
  {
   "cell_type": "markdown",
   "metadata": {},
   "source": [
    "## Replace Pile and Pile Caps\n",
    "\n",
    "#### 1. Delete pile/pile caps from StructuralFoundation (As pile and pile caps in BIM models are groupd together, we need to replace them with ours.)\n",
    "\n",
    "#### 2. 'Make Building Layer' again\n",
    "#### 3. Re-apply symbology\n",
    "#### 4. Add necessary information\n",
    "#### 5. Append pile/pile caps to StructuralFoundation\n",
    "#### 6. 'Make Building Layer' again"
   ]
  },
  {
   "cell_type": "code",
   "execution_count": 5,
   "metadata": {},
   "outputs": [],
   "source": [
    "# 1. Delete piles/pile caps from StructuralFoundation\n",
    "## Note that when run the following and try to delete rows, this edit is not reflected in the 'Make Building Layer'.\n",
    "## But the change is reflected in the source layer in the enterprise geodatabase.\n",
    "\n",
    "with arcpy.da.UpdateCursor(stFoundation,[\"OmniClassDescription\"]) as cursor:\n",
    "    for row in cursor:\n",
    "        if row[0] == \"Foundation Piles\":\n",
    "            cursor.deleteRow()\n",
    "\n",
    "## You need to run 'Make Building Layer' again due to the above reason."
   ]
  },
  {
   "cell_type": "code",
   "execution_count": 4,
   "metadata": {},
   "outputs": [
    {
     "data": {
      "text/html": [
       "<div class='gpresult'><h2>Messages</h2><div id='messages' data-messages='[\"Start Time: Wednesday, May 11, 2022 11:20:11 AM\",\"Succeeded at Wednesday, May 11, 2022 11:20:20 AM (Elapsed Time: 8.93 seconds)\"]' data-show='true'><div id = 'default' /></div></div>"
      ],
      "text/plain": [
       "<Result 'N2_Station_Structure'>"
      ]
     },
     "execution_count": 4,
     "metadata": {},
     "output_type": "execute_result"
    }
   ],
   "source": [
    "# 2. 'Make Building Layer' again\n",
    "out_gdb_path = os.path.join(workspace,\"10.10.5.5.sde\")\n",
    "out_dataset = os.path.join(out_gdb_path,\"NSCR_Ex.NSCREXUSER.N2_Station_Structure_BIM\")\n",
    "\n",
    "arcpy.MakeBuildingLayer_management(out_dataset,BuldingLayerName)"
   ]
  },
  {
   "cell_type": "code",
   "execution_count": 7,
   "metadata": {},
   "outputs": [],
   "source": []
  },
  {
   "cell_type": "code",
   "execution_count": 1,
   "metadata": {},
   "outputs": [],
   "source": [
    "# 3. Add necessary information to pile/pile caps layer before appending to Building Layer\n",
    "### I created empty multipatch layer, imported field names from the Make Building Layer, and\n",
    "### appended separated pile and pile caps to the empty layer. The layer is named \"N2_Pile_PileCaps\"\n",
    "\n",
    "## BaseCategory = StructuralFoundation\n",
    "## Discipline = Structural\n",
    "## AssemblyDesc = Pile Caps\n",
    "## BldgLevel = 1 (00_TOP OF PILE)\n",
    "## Category = Structural Foundations\n",
    "## OmniClassDescription = Foundation Piles\n",
    "## BldgLevel_Desc = 00_TOP OF PILE\n",
    "## TopLevel = 00_TOP OF PILE\n",
    "## TopLevel_Desc = 00_TOP OF PILE\n",
    "## CreatedPhase = 2\n",
    "\n",
    "## *********** VERY IMPORTNAT ***********\n",
    "# If CreatedPhase field is empty, nothing will be displayed. Make sure to fill CreatedPhase field.\n",
    "\n",
    "input_feature = \"N2_Pile_PileCaps\"\n",
    "\n",
    "with arcpy.da.UpdateCursor(input_feature,[\"BaseCategory\",\"Discipline\",\"AssemblyDesc\",\"BldgLevel\",\"Category\",\"OmniClassDescription\",\"BldgLevel_Desc\",\"TopLevel\",\"TopLevel_Desc\",\"CreatedPhase\"]) as cursor:\n",
    "    for row in cursor:\n",
    "        row[0] = \"StructuralFoundation\"\n",
    "        row[1] = \"Structural\"\n",
    "        row[2] = \"Pile Caps\"\n",
    "        row[3] = 1\n",
    "        row[4] = \"Structural Foundations\"\n",
    "        row[5] = \"Foundation Piles\"\n",
    "        row[6] = \"00_TOP OF PILE\"\n",
    "        row[7] = 1\n",
    "        row[8] = \"00_TOP OF PILE\"\n",
    "        row[9] = 2\n",
    "        cursor.updateRow(row)\n"
   ]
  },
  {
   "cell_type": "code",
   "execution_count": 11,
   "metadata": {},
   "outputs": [
    {
     "data": {
      "text/html": [
       "<div class='gpresult'><h2>Messages</h2><div id='messages' data-messages='[\"Start Time: Wednesday, May 11, 2022 11:38:20 AM\",\"Succeeded at Wednesday, May 11, 2022 11:38:33 AM (Elapsed Time: 12.78 seconds)\"]' data-show='true'><div id = 'default' /></div></div>"
      ],
      "text/plain": [
       "<Result 'N2_Station_Structure\\\\Structural\\\\StructuralFoundation'>"
      ]
     },
     "execution_count": 11,
     "metadata": {},
     "output_type": "execute_result"
    }
   ],
   "source": [
    "# 4. Add pile and pile caps to StructuralFoundation\n",
    "## In other words, new pile and pile caps that are separated by the GIS Team\n",
    "## Check the coordinate system\n",
    "source_ref = arcpy.Describe(input_feature).spatialReference.name\n",
    "target_ref = arcpy.Describe(stFoundation).spatialReference.name\n",
    "\n",
    "input_feature = \"N2_Pile_PileCaps\"\n",
    "\n",
    "if source_ref == target_ref:\n",
    "    arcpy.Append_management(input_feature, stFoundation, schema_type = 'NO_TEST')\n",
    "else:\n",
    "    print(\"Two Layers have different coordinate system. PLEASE CHECK\")"
   ]
  },
  {
   "cell_type": "code",
   "execution_count": 19,
   "metadata": {},
   "outputs": [
    {
     "data": {
      "text/html": [
       "<div class='gpresult'><h2>Messages</h2><div id='messages' data-messages='[\"Start Time: Wednesday, May 11, 2022 12:19:04 PM\",\"Succeeded at Wednesday, May 11, 2022 12:19:13 PM (Elapsed Time: 8.29 seconds)\"]' data-show='true'><div id = 'default' /></div></div>"
      ],
      "text/plain": [
       "<Result 'N2_Station_Structure'>"
      ]
     },
     "execution_count": 19,
     "metadata": {},
     "output_type": "execute_result"
    }
   ],
   "source": [
    "# 5. 'Make Building Layer' again\n",
    "out_gdb_path = os.path.join(workspace,\"10.10.5.5.sde\")\n",
    "out_dataset = os.path.join(out_gdb_path,\"NSCR_Ex.NSCREXUSER.N2_Station_Structure_BIM\")\n",
    "\n",
    "arcpy.MakeBuildingLayer_management(out_dataset,BuldingLayerName)"
   ]
  },
  {
   "cell_type": "code",
   "execution_count": 5,
   "metadata": {},
   "outputs": [],
   "source": []
  },
  {
   "cell_type": "markdown",
   "metadata": {},
   "source": [
    "## Join Previously Worked Layer to Building Layer\n",
    "\n",
    "### Note that we entered lots of information to previously worked station-structure layer.\n",
    "### Now that we use Building Layer, we need to join information to this Building Layer\n",
    "\n",
    "#### 1. Delete fields from building layers\n",
    "#### 2. Join "
   ]
  },
  {
   "cell_type": "code",
   "execution_count": 7,
   "metadata": {},
   "outputs": [],
   "source": [
    "# 1. Delete fiels from Building Layer\n",
    "## Field Names to be deleted: Status, P6ID, StructureType, StructureLevel, Types, SubType,\n",
    "## Comment, GridX, GridY, uniqueID\n",
    "\n",
    "fields_delete = ['Types','SubType','Status','StructureLevel','P6ID','Comment','StructureType',\n",
    "                'GridX', 'GridY', 'uniqueID']\n",
    "\n",
    "for feature in in_features:\n",
    "    arcpy.DeleteField_management(feature, fields_delete)     "
   ]
  },
  {
   "cell_type": "code",
   "execution_count": 10,
   "metadata": {},
   "outputs": [],
   "source": [
    "# 2. Join Fields\n",
    "inputTable = \"N2_Station_Structure_local copy\"\n",
    "\n",
    "inputJoinField = \"ObjectId\"\n",
    "joinTableField = \"ObjectId1\"\n",
    "transferFields = fields_delete\n",
    "\n",
    "for feature in in_features:\n",
    "    arcpy.JoinField_management(in_data=feature, in_field=inputJoinField, join_table=inputTable,\n",
    "                               join_field=joinTableField, fields=transferFields)\n"
   ]
  },
  {
   "cell_type": "code",
   "execution_count": 11,
   "metadata": {},
   "outputs": [],
   "source": [
    "# 6. Apply symbology again\n",
    "symbolLyrx = r'C:/Users/eiji.LAPTOP-KSD9P6CP/Dropbox/01-Railway/02-NSCR-Ex/10-ArcGIS/01-Reference/01-Layer File/03-Station_Structure/Station_Structure_FINAL.lyrx'\n",
    "\n",
    "for feature in in_features:\n",
    "    arcpy.ApplySymbologyFromLayer_management(feature, symbolLyrx, [[\"VALUE_FIELD\", \"Status\", \"Status\"]], update_symbology=\"MAINTAIN\")[0]"
   ]
  },
  {
   "cell_type": "code",
   "execution_count": null,
   "metadata": {},
   "outputs": [],
   "source": []
  }
 ],
 "metadata": {
  "kernelspec": {
   "display_name": "ArcGISPro",
   "language": "Python",
   "name": "python3"
  },
  "language_info": {
   "file_extension": ".py",
   "name": "python",
   "version": "3"
  }
 },
 "nbformat": 4,
 "nbformat_minor": 2
}
