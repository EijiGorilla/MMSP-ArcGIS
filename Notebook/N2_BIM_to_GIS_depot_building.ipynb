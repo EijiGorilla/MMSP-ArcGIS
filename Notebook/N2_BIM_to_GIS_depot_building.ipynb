{
 "cells": [
  {
   "cell_type": "markdown",
   "metadata": {},
   "source": [
    "### BIM to GIS Conversion\n",
    "\n",
    "#### This Notebook imports revit files from BIM models and convert them to GIS geodatabase in prepartion for monitoring\n",
    "#### Please implement the following steps:\n",
    "1. Define Projection to PRS92\n",
    "2. Export Feature to file geodatabase\n",
    "3. Merge all feature layers\n",
    "4. Delete unwanted fields\n",
    "5. Add Fields\n",
    "6. Calculate Field for Type\n",
    "7. Calculate Field for SubType\n",
    "8. Delete Fields"
   ]
  },
  {
   "cell_type": "code",
   "execution_count": 36,
   "metadata": {},
   "outputs": [],
   "source": [
    "import time, os, datetime, sys, logging, logging.handlers, shutil, traceback, re\n",
    "import arcpy\n",
    "\n",
    "arcpy.env.overwriteOutput = True\n",
    "arcpy.env.outputCoordinateSystem = arcpy.SpatialReference(\"WGS 1984 Web Mercator (auxiliary sphere)\")\n",
    "arcpy.env.geographicTransformations = \"PRS_1992_To_WGS_1984_1\"\n",
    "workspace = r'C:/Users/eiji.LAPTOP-KSD9P6CP/OneDrive - Oriental Consultants Global JV/Documents/ArcGIS/Projects/During-Construction_nscrexn2/During-Construction_nscrexn2.gdb'\n",
    "#workspace = r'C:/Users/oc3512/OneDrive - Oriental Consultants Global JV/Documents/ArcGIS/Projects/During-Construction_nscrexn2/During-Construction_nscrexn2.gdb'\n"
   ]
  },
  {
   "cell_type": "code",
   "execution_count": 37,
   "metadata": {},
   "outputs": [],
   "source": [
    "# First, makre sure to Add to Current Map all the models:\n",
    "## e.g. 'StructuralColumns', 'Roofs'\n",
    "\n",
    "# Name of Depot Building\n",
    "dName = \"WS\"\n",
    "fDataset = \"Depot_Building\"\n",
    "    \n",
    "path = os.path.join(workspace, fDataset)"
   ]
  },
  {
   "cell_type": "code",
   "execution_count": 38,
   "metadata": {},
   "outputs": [],
   "source": [
    "# 1. Define Projection to PRS92\n",
    "## Add revit files to the Contents panel\n",
    "## Note that 'Floors' in the BIM Model includes both slab and floors together.\n",
    "\n",
    "columnA = r'Columns'\n",
    "floor = r'Floors'\n",
    "roof = r'Roofs'\n",
    "framing = r'StructuralFraming'\n",
    "foundation = r'StructuralFoundation'\n",
    "column = r'StructuralColumns'\n",
    "\n",
    "# Note that if we import from '-MOD-A-000001.rvt', it uses different 'BldgLevel' domain\n",
    "# names and levels fro '-MOD-ST-000001.rvt'.\n",
    "# It may be better for the GIS model to only utilize '-MOD-ST-000001.rvt' (i.e., drop 'roof')\n",
    "\n",
    "if dName in (\"LRS\", \"WS\"):\n",
    "    in_features = [floor, roof, framing, foundation, column]\n",
    "elif dName in (\"SanFernando\"):\n",
    "    in_features = [columnA, framing, foundation, column]\n",
    "elif dName in (\"Clark\", \"Angeles\"):\n",
    "    in_features = [floor, framing, foundation, column]\n",
    "elif dName in (\"CMV\", \"LOS\"):\n",
    "    in_features = [framing, foundation, column]\n",
    "\n",
    "\n",
    "sr = arcpy.SpatialReference(\"PRS 1992 Philippines Zone III\")\n",
    "\n",
    "for fl in in_features:\n",
    "    # Define Projection first\n",
    "    arcpy.DefineProjection_management(fl, sr)    \n"
   ]
  },
  {
   "cell_type": "code",
   "execution_count": 39,
   "metadata": {},
   "outputs": [
    {
     "data": {
      "text/html": [
       "<div class='gpresult'><h2>Messages</h2><div id='messages' data-messages='[\"Start Time: Tuesday, February 22, 2022 12:27:14 PM\",\"Failed to convert: Floors. Failed to execute. Parameters are not valid.\\nERROR 002852: Output Feature Class: C:\\\\Users\\\\eiji.LAPTOP-KSD9P6CP\\\\OneDrive - Oriental Consultants Global JV\\\\Documents\\\\ArcGIS\\\\Projects\\\\During-Construction_nscrexn2\\\\During-Construction_nscrexn2.gdb\\\\Depot_Building\\\\Floors exists within geodatabase as C:\\\\Users\\\\eiji.LAPTOP-KSD9P6CP\\\\OneDrive - Oriental Consultants Global JV\\\\Documents\\\\ArcGIS\\\\Projects\\\\During-Construction_nscrexn2\\\\During-Construction_nscrexn2.gdb\\\\Station_AG\\\\Floors. A feature class name can only exist once within a geodatabase, including within all feature datasets.\\nFailed to execute (CopyFeatures).\\n\",\"Failed to convert: Roofs. Failed to execute. Parameters are not valid.\\nERROR 002852: Output Feature Class: C:\\\\Users\\\\eiji.LAPTOP-KSD9P6CP\\\\OneDrive - Oriental Consultants Global JV\\\\Documents\\\\ArcGIS\\\\Projects\\\\During-Construction_nscrexn2\\\\During-Construction_nscrexn2.gdb\\\\Depot_Building\\\\Roofs exists within geodatabase as C:\\\\Users\\\\eiji.LAPTOP-KSD9P6CP\\\\OneDrive - Oriental Consultants Global JV\\\\Documents\\\\ArcGIS\\\\Projects\\\\During-Construction_nscrexn2\\\\During-Construction_nscrexn2.gdb\\\\Station_BG\\\\Roofs. A feature class name can only exist once within a geodatabase, including within all feature datasets.\\nFailed to execute (CopyFeatures).\\n\",\"Failed to convert: StructuralFraming. Failed to execute. Parameters are not valid.\\nERROR 002852: Output Feature Class: C:\\\\Users\\\\eiji.LAPTOP-KSD9P6CP\\\\OneDrive - Oriental Consultants Global JV\\\\Documents\\\\ArcGIS\\\\Projects\\\\During-Construction_nscrexn2\\\\During-Construction_nscrexn2.gdb\\\\Depot_Building\\\\StructuralFraming exists within geodatabase as C:\\\\Users\\\\eiji.LAPTOP-KSD9P6CP\\\\OneDrive - Oriental Consultants Global JV\\\\Documents\\\\ArcGIS\\\\Projects\\\\During-Construction_nscrexn2\\\\During-Construction_nscrexn2.gdb\\\\Station_AG\\\\StructuralFraming. A feature class name can only exist once within a geodatabase, including within all feature datasets.\\nFailed to execute (CopyFeatures).\\n\",\"Failed to convert: StructuralFoundation. Failed to execute. Parameters are not valid.\\nERROR 002852: Output Feature Class: C:\\\\Users\\\\eiji.LAPTOP-KSD9P6CP\\\\OneDrive - Oriental Consultants Global JV\\\\Documents\\\\ArcGIS\\\\Projects\\\\During-Construction_nscrexn2\\\\During-Construction_nscrexn2.gdb\\\\Depot_Building\\\\StructuralFoundation exists within geodatabase as C:\\\\Users\\\\eiji.LAPTOP-KSD9P6CP\\\\OneDrive - Oriental Consultants Global JV\\\\Documents\\\\ArcGIS\\\\Projects\\\\During-Construction_nscrexn2\\\\During-Construction_nscrexn2.gdb\\\\Station_AG\\\\StructuralFoundation. A feature class name can only exist once within a geodatabase, including within all feature datasets.\\nFailed to execute (CopyFeatures).\\n\",\"Failed to convert: StructuralColumns. Failed to execute. Parameters are not valid.\\nERROR 002852: Output Feature Class: C:\\\\Users\\\\eiji.LAPTOP-KSD9P6CP\\\\OneDrive - Oriental Consultants Global JV\\\\Documents\\\\ArcGIS\\\\Projects\\\\During-Construction_nscrexn2\\\\During-Construction_nscrexn2.gdb\\\\Depot_Building\\\\StructuralColumns exists within geodatabase as C:\\\\Users\\\\eiji.LAPTOP-KSD9P6CP\\\\OneDrive - Oriental Consultants Global JV\\\\Documents\\\\ArcGIS\\\\Projects\\\\During-Construction_nscrexn2\\\\During-Construction_nscrexn2.gdb\\\\Station_AG\\\\StructuralColumns. A feature class name can only exist once within a geodatabase, including within all feature datasets.\\nFailed to execute (CopyFeatures).\\n\",\"Succeeded at Tuesday, February 22, 2022 12:27:52 PM (Elapsed Time: 37.92 seconds)\"]' data-show='true'><div id = 'default' /></div></div>"
      ],
      "text/plain": [
       "<Result 'C:\\\\Users\\\\eiji.LAPTOP-KSD9P6CP\\\\OneDrive - Oriental Consultants Global JV\\\\Documents\\\\ArcGIS\\\\Projects\\\\During-Construction_nscrexn2\\\\During-Construction_nscrexn2.gdb\\\\Depot_Building'>"
      ]
     },
     "execution_count": 39,
     "metadata": {},
     "output_type": "execute_result"
    }
   ],
   "source": [
    "# 2. Export to file geodatabase\n",
    "\n",
    "arcpy.FeatureClassToGeodatabase_conversion(in_features, path)\n"
   ]
  },
  {
   "cell_type": "code",
   "execution_count": 40,
   "metadata": {},
   "outputs": [
    {
     "data": {
      "text/html": [
       "<div class='gpresult'><h2>Messages</h2><div id='messages' data-messages='[\"Start Time: Tuesday, February 22, 2022 12:28:20 PM\",\"Succeeded at Tuesday, February 22, 2022 12:29:40 PM (Elapsed Time: 1 minutes 19 seconds)\"]' data-show='true'><div id = 'default' /></div></div>"
      ],
      "text/plain": [
       "<Result 'C:/Users/eiji.LAPTOP-KSD9P6CP/OneDrive - Oriental Consultants Global JV/Documents/ArcGIS/Projects/During-Construction_nscrexn2/During-Construction_nscrexn2.gdb\\\\Depot_Building\\\\N2_DEP_WS_merged'>"
      ]
     },
     "execution_count": 40,
     "metadata": {},
     "output_type": "execute_result"
    }
   ],
   "source": [
    "# 3. Merge all feature layers\n",
    "arcpy.env.workspace = path\n",
    "output_feature = \"N2_DEP_\" + dName + \"_merged\"\n",
    "arcpy.Merge_management(in_features, output_feature,\"\",\"\")"
   ]
  },
  {
   "cell_type": "code",
   "execution_count": 41,
   "metadata": {},
   "outputs": [
    {
     "data": {
      "text/html": [
       "<div class='gpresult'><h2>Messages</h2><div id='messages' data-messages='[\"Start Time: Tuesday, February 22, 2022 12:30:49 PM\",\"Succeeded at Tuesday, February 22, 2022 12:31:42 PM (Elapsed Time: 53.30 seconds)\"]' data-show='true'><div id = 'default' /></div></div>"
      ],
      "text/plain": [
       "<Result 'N2_DEP_WS_merged'>"
      ]
     },
     "execution_count": 41,
     "metadata": {},
     "output_type": "execute_result"
    }
   ],
   "source": [
    "# 4. Delete Fields\n",
    "## 4.1 Obtain fields to be kept\n",
    "fieldList = [f.name for f in arcpy.ListFields(output_feature)]\n",
    "\n",
    "# find OBJECTID, as this is not deletable\n",
    "reg = re.compile(r'OBJECTID*|Shape|Shape_Length|Shape_Area|Shape.STArea()|Shape.STLength()|GlobalID')\n",
    "objField = list(filter(reg.match, fieldList))\n",
    "keepFields = objField + ['Category', 'Family', 'FamilyType','ObjectID', 'ObjectId', 'Bldg_Name', 'BldgLevel', 'OmniClassDescription', 'BldgLevel_Desc', 'DocName', 'Discipline']\n",
    "\n",
    "# Drop fields\n",
    "dropFields = [e for e in fieldList if e not in keepFields]\n",
    "\n",
    "## 4.2 Delete fields from feature layer\n",
    "arcpy.DeleteField_management(output_feature, dropFields)"
   ]
  },
  {
   "cell_type": "code",
   "execution_count": 42,
   "metadata": {},
   "outputs": [],
   "source": [
    "# 5. Add Fields\n",
    "addFields = ['Name', 'Type', 'SubType', 'Status', 'StartDate', 'TargetDate', \\\n",
    "             'StructureType', 'StructureLevel', 'P6ID', 'Comment', \\\n",
    "            'GridX', 'GridY', 'CP', 'ID'] # ID is for bored piles\n",
    "\n",
    "for field in addFields:\n",
    "    if field in ('StartDate', 'TargetDate'):\n",
    "        arcpy.AddField_management(output_feature, field, \"DATE\", \"\", \"\", \"\", field, \"NULLABLE\", \"\")\n",
    "    elif field in ('P6ID', 'Comment', 'GridX', 'GridY', 'CP', 'Name', 'ID'):\n",
    "        arcpy.AddField_management(output_feature, field, \"TEXT\", \"\", \"\", \"\", field, \"NULLABLE\", \"\")\n",
    "    else:\n",
    "        arcpy.AddField_management(output_feature, field, \"SHORT\", \"\", \"\", \"\", field, \"NULLABLE\", \"\")"
   ]
  },
  {
   "cell_type": "code",
   "execution_count": 43,
   "metadata": {},
   "outputs": [],
   "source": [
    "# Set the initial status = 'To be Constructed'\n",
    "with arcpy.da.UpdateCursor(output_feature, ['Status']) as cursor:\n",
    "    for row in cursor:\n",
    "        row[0] = 1\n",
    "        cursor.updateRow(row)"
   ]
  },
  {
   "cell_type": "code",
   "execution_count": 44,
   "metadata": {},
   "outputs": [],
   "source": [
    "# Enter Depot building name\n",
    "with arcpy.da.UpdateCursor(output_feature, ['Name']) as cursor:\n",
    "    for row in cursor:\n",
    "        if dName == \"DEP\":\n",
    "            row[0] = \"DEP\"\n",
    "        elif dName == \"OCC\":\n",
    "            row[0] = \"OCC\"\n",
    "        elif dName == \"WS\":\n",
    "            row[0] = \"WS\"\n",
    "        elif dName == \"LRS\":\n",
    "            row[0] = \"LRS\"\n",
    "        elif dName == \"UCS\":\n",
    "            row[0] = \"UCS\"\n",
    "        elif dName == \"URS\":\n",
    "            row[0] = \"URS\"\n",
    "        elif dName == \"WRS\":\n",
    "            row[0] = \"WRS\"\n",
    "        elif dName == \"CMV\":\n",
    "            row[0] = \"CMV\"\n",
    "        elif dName == \"SCS\":\n",
    "            row[0] = \"SCS\"\n",
    "        elif dName == \"FPH1\":\n",
    "            row[0] = \"FPH1\"\n",
    "        elif dName == \"WOS\":\n",
    "            row[0] = \"WOS\"\n",
    "        elif dName == \"LOS\":\n",
    "            row[0] = \"LOS\"\n",
    "        elif dName == \"DHS\":\n",
    "            row[0] = \"DHS\"\n",
    "        elif dName == \"LGS\":\n",
    "            row[0] = \"LGS\"\n",
    "        elif dName == \"WGS\":\n",
    "            row[0] = \"WGS\"\n",
    "        elif dName == \"TGB\":\n",
    "            row[0] = \"TGB\"\n",
    "        elif dName == \"TMO\":\n",
    "            row[0] = \"TMO\"\n",
    "        elif dName == \"MCS\":\n",
    "            row[0] = \"MCS\"\n",
    "        elif dName == \"DBS1\":\n",
    "            row[0] = \"DBS1\"\n",
    "        elif dName == \"DBS2\":\n",
    "            row[0] = \"DBS2\"\n",
    "        elif dName == \"WPH1\":\n",
    "            row[0] = \"WPH1\"\n",
    "        elif dName == \"WPH2\":\n",
    "            row[0] = \"WPH2\"\n",
    "        elif dName == \"SH1\":\n",
    "            row[0] = \"SH1\"\n",
    "        elif dName == \"SH2\":\n",
    "            row[0] = \"SH2\"\n",
    "        elif dName == \"BPS\":\n",
    "            row[0] = \"BPS\"\n",
    "        elif dName == \"MPS\":\n",
    "            row[0] = \"MPS\"\n",
    "        elif dName == \"CPS\":\n",
    "            row[0] = \"CPS\"\n",
    "        elif dName == \"CER\":\n",
    "            row[0] = \"CER\"\n",
    "        elif dName == \"CNT\":\n",
    "            row[0] = \"CNT\"\n",
    "        elif dName == \"TRC\":\n",
    "            row[0] = \"TRC\"\n",
    "        cursor.updateRow(row)\n"
   ]
  },
  {
   "cell_type": "code",
   "execution_count": 45,
   "metadata": {},
   "outputs": [
    {
     "data": {
      "text/html": [
       "<div class='gpresult'><h2>Messages</h2><div id='messages' data-messages='[\"Start Time: Tuesday, February 22, 2022 12:38:40 PM\",\"Succeeded at Tuesday, February 22, 2022 12:38:40 PM (Elapsed Time: 0.36 seconds)\"]' data-show='true'><div id = 'default' /></div></div>"
      ],
      "text/plain": [
       "<Result 'N2_DEP_WS_merged'>"
      ]
     },
     "execution_count": 45,
     "metadata": {},
     "output_type": "execute_result"
    }
   ],
   "source": [
    "# Assign Domains\n",
    "# 0. Domain Name\n",
    "domainList = ['Station Structures_TYPE', 'Station Structures_SUBTYPE',\\\n",
    "              'Station Structures_STATUS', 'Station Structures_STRUCTURETYPE',\\\n",
    "              'Station Structures_STRUCTURELEVEL','N2_Depot_Building_NAME']\n",
    "\n",
    "#domains = arcpy.da.ListDomains(workspace)\n",
    "#listDomain = [d.name for d in domains]\n",
    "#reg = re.compile(r'Station Structures*|Station*')\n",
    "#listFinal = list(filter(reg.match, listDomain))\n",
    "\n",
    "arcpy.AssignDomainToField_management(output_feature, 'Type', domainList[0])\n",
    "arcpy.AssignDomainToField_management(output_feature, 'SubType', domainList[1])\n",
    "arcpy.AssignDomainToField_management(output_feature, 'Status', domainList[2])\n",
    "arcpy.AssignDomainToField_management(output_feature, 'StructureType', domainList[3])\n",
    "arcpy.AssignDomainToField_management(output_feature, 'StructureLevel', domainList[4])\n",
    "arcpy.AssignDomainToField_management(output_feature, 'Name', domainList[5])"
   ]
  },
  {
   "cell_type": "code",
   "execution_count": 18,
   "metadata": {},
   "outputs": [
    {
     "data": {
      "text/plain": [
       "<arcpy._mp.Layer object at 0x00000225B0784248>"
      ]
     },
     "execution_count": 18,
     "metadata": {},
     "output_type": "execute_result"
    }
   ],
   "source": [
    "# Apply Symbology\n",
    "symbolLyrx = r'C:/Users/emasu/Dropbox/01-Railway/02-NSCR-Ex/10-ArcGIS/01-Reference/01-Layer File/03-Station_Structure/Station_Structures.lyrx'\n",
    "arcpy.ApplySymbologyFromLayer_management(output_feature, symbolLyrx, [[\"VALUE_FIELD\", \"Status\", \"Status\"]], update_symbology=\"MAINTAIN\")[0]"
   ]
  },
  {
   "cell_type": "code",
   "execution_count": 19,
   "metadata": {},
   "outputs": [
    {
     "data": {
      "text/html": [
       "<div class='gpresult'><h2>Messages</h2><div id='messages' data-messages='[\"Start Time: Sunday, December 12, 2021 9:52:09 AM\",\"Succeeded at Sunday, December 12, 2021 9:52:10 AM (Elapsed Time: 0.17 seconds)\"]' data-show='true'><div id = 'default' /></div></div>"
      ],
      "text/plain": [
       "<Result 'Station_Structure_merged_Apalit'>"
      ]
     },
     "execution_count": 19,
     "metadata": {},
     "output_type": "execute_result"
    }
   ],
   "source": [
    "# Alter field. Rename a field name 'ObjectId' to 'ObjectId1'. The GIS table has OBJECTID, which is reserved name.\n",
    "# We cannot use this name.\n",
    "arcpy.AlterField_management(output_feature, 'ObjectId', 'ObjectId1', 'ObjectId1', 'TEXT')\n"
   ]
  },
  {
   "cell_type": "code",
   "execution_count": 20,
   "metadata": {},
   "outputs": [
    {
     "data": {
      "text/html": [
       "<div class='gpresult'><h2>Messages</h2><div id='messages' data-messages='[\"Start Time: Sunday, December 12, 2021 9:52:14 AM\",\"Succeeded at Sunday, December 12, 2021 9:52:14 AM (Elapsed Time: 0.31 seconds)\"]' data-show='true'><div id = 'default' /></div></div>"
      ],
      "text/plain": [
       "<Result 'Station_Structure_merged_Apalit'>"
      ]
     },
     "execution_count": 20,
     "metadata": {},
     "output_type": "execute_result"
    }
   ],
   "source": [
    "# Delete Fields\n",
    "dropF = ['Bldg_Name', 'OmniClassDescription', 'temp']\n",
    "arcpy.DeleteField_management(output_feature, dropF)"
   ]
  },
  {
   "cell_type": "code",
   "execution_count": 21,
   "metadata": {},
   "outputs": [],
   "source": [
    "# Add 'Grid' and 'Zone' for monitoring. this is used in reference to P6, too\n",
    "addFields = ['Grid', 'Zone', 'ID']\n",
    "\n",
    "for field in addFields:\n",
    "    arcpy.AddField_management(output_feature, field, \"TEXT\", \"\", \"\", \"\", field, \"NULLABLE\",\"\")"
   ]
  },
  {
   "cell_type": "code",
   "execution_count": null,
   "metadata": {},
   "outputs": [],
   "source": []
  }
 ],
 "metadata": {
  "kernelspec": {
   "display_name": "ArcGISPro",
   "language": "Python",
   "name": "python3"
  },
  "language_info": {
   "file_extension": ".py",
   "name": "python",
   "version": "3"
  }
 },
 "nbformat": 4,
 "nbformat_minor": 2
}
