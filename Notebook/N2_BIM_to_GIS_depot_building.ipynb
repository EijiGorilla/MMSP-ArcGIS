{
 "cells": [
  {
   "cell_type": "markdown",
   "metadata": {},
   "source": [
    "# 1. BIM to GIS Conversion\n",
    "\n",
    "This Notebook imports revit files from BIM models and convert them to GIS geodatabase in prepartion for monitoring\n",
    "\n",
    "Workflow:\n",
    "1. Define Projection to PRS92\n",
    "2. Export Feature to file geodatabase\n",
    "3. Merge all feature layers\n",
    "4. Delete unwanted fields\n",
    "5. Add Fields\n",
    "6. Calculate Field for Type\n",
    "7. Calculate Field for SubType\n",
    "8. Delete Fields"
   ]
  },
  {
   "cell_type": "code",
   "execution_count": 1,
   "metadata": {},
   "outputs": [],
   "source": [
    "import time, os, datetime, sys, logging, logging.handlers, shutil, traceback, re\n",
    "import arcpy\n",
    "\n",
    "arcpy.env.overwriteOutput = True\n",
    "arcpy.env.outputCoordinateSystem = arcpy.SpatialReference(\"WGS 1984 Web Mercator (auxiliary sphere)\")\n",
    "arcpy.env.geographicTransformations = \"PRS_1992_To_WGS_1984_1\"\n",
    "workspace = r'C:/Users/eiji.LAPTOP-KSD9P6CP/OneDrive - Oriental Consultants Global JV/Documents/ArcGIS/Projects/During-Construction_nscrexn2/During-Construction_nscrexn2.gdb'\n",
    "#workspace = r'C:/Users/oc3512/OneDrive - Oriental Consultants Global JV/Documents/ArcGIS/Projects/During-Construction_nscrexn2/During-Construction_nscrexn2.gdb'\n",
    "arcpy.env.workspace = workspace"
   ]
  },
  {
   "cell_type": "code",
   "execution_count": 2,
   "metadata": {},
   "outputs": [],
   "source": [
    "## USE DEIFINITION\n",
    "# First, makre sure to Add to Current Map all the models:\n",
    "## e.g. 'StructuralColumns', 'Roofs'\n",
    "\n",
    "# Name of Depot Building\n",
    "dName = \"FPH1\"\n",
    "fDataset = \"Depot_Building\"\n",
    "\n",
    "path = os.path.join(workspace, fDataset)"
   ]
  },
  {
   "cell_type": "code",
   "execution_count": 3,
   "metadata": {},
   "outputs": [],
   "source": [
    "# 1. Define Projection to PRS92\n",
    "## 1.1. Add revit files to the Contents panel\n",
    "## 1.2. Remove empty layers\n",
    "## 1.3. Drag only layers of interest out of revit model and into Contents panel\n",
    "## Note that 'Floors' in the BIM Model includes both slab and floors together.\n",
    "\n",
    "## Architectural\n",
    "a_column = r'Columns'\n",
    "a_floor = r'Floors'\n",
    "a_roof = r'Roofs'\n",
    "a_wall = r'Walls'\n",
    "a_ramp = r'Ramps'\n",
    "a_stairRailing = r'StairsRailing'\n",
    "a_stairs = r'Stairs'\n",
    "a_site = r'Site'\n",
    "\n",
    "## Structural\n",
    "sframing = r'StructuralFraming'\n",
    "sfoundation = r'StructuralFoundation'\n",
    "scolumn = r'StructuralColumns'\n",
    "\n",
    "## Define for each Depot Building\n",
    "in_features = [a_floor, a_roof, a_stairs, a_wall,\n",
    "           sframing, sfoundation, scolumn]\n",
    "\n",
    "## Pick up only avaialble \n",
    "##in_features = [f for f in useLayer if f in categories]\n",
    "##print(in_features)\n",
    "\n",
    "sr = arcpy.SpatialReference(\"PRS 1992 Philippines Zone III\")\n",
    "for fl in in_features:\n",
    "    arcpy.DefineProjection_management(fl, sr)\n",
    "        "
   ]
  },
  {
   "cell_type": "code",
   "execution_count": 4,
   "metadata": {},
   "outputs": [
    {
     "data": {
      "text/html": [
       "<div class='gpresult'><h2>Messages</h2><div id='messages' data-messages='[\"Start Time: Wednesday, August 16, 2023 11:30:37 AM\",\"Floors Successfully converted:  C:/Users/eiji.LAPTOP-KSD9P6CP/OneDrive - Oriental Consultants Global JV/Documents/ArcGIS/Projects/During-Construction_nscrexn2/During-Construction_nscrexn2.gdb\\\\Depot_Building\\\\Floors\",\"Roofs Successfully converted:  C:/Users/eiji.LAPTOP-KSD9P6CP/OneDrive - Oriental Consultants Global JV/Documents/ArcGIS/Projects/During-Construction_nscrexn2/During-Construction_nscrexn2.gdb\\\\Depot_Building\\\\Roofs\",\"Stairs Successfully converted:  C:/Users/eiji.LAPTOP-KSD9P6CP/OneDrive - Oriental Consultants Global JV/Documents/ArcGIS/Projects/During-Construction_nscrexn2/During-Construction_nscrexn2.gdb\\\\Depot_Building\\\\Stairs\",\"Walls Successfully converted:  C:/Users/eiji.LAPTOP-KSD9P6CP/OneDrive - Oriental Consultants Global JV/Documents/ArcGIS/Projects/During-Construction_nscrexn2/During-Construction_nscrexn2.gdb\\\\Depot_Building\\\\Walls\",\"StructuralFraming Successfully converted:  C:/Users/eiji.LAPTOP-KSD9P6CP/OneDrive - Oriental Consultants Global JV/Documents/ArcGIS/Projects/During-Construction_nscrexn2/During-Construction_nscrexn2.gdb\\\\Depot_Building\\\\StructuralFraming\",\"StructuralFoundation Successfully converted:  C:/Users/eiji.LAPTOP-KSD9P6CP/OneDrive - Oriental Consultants Global JV/Documents/ArcGIS/Projects/During-Construction_nscrexn2/During-Construction_nscrexn2.gdb\\\\Depot_Building\\\\StructuralFoundation\",\"StructuralColumns Successfully converted:  C:/Users/eiji.LAPTOP-KSD9P6CP/OneDrive - Oriental Consultants Global JV/Documents/ArcGIS/Projects/During-Construction_nscrexn2/During-Construction_nscrexn2.gdb\\\\Depot_Building\\\\StructuralColumns\",\"Succeeded at Wednesday, August 16, 2023 11:31:12 AM (Elapsed Time: 34.45 seconds)\"]' data-show='true'><div id = 'default' /></div></div>"
      ],
      "text/plain": [
       "<Result 'C:\\\\Users\\\\eiji.LAPTOP-KSD9P6CP\\\\OneDrive - Oriental Consultants Global JV\\\\Documents\\\\ArcGIS\\\\Projects\\\\During-Construction_nscrexn2\\\\During-Construction_nscrexn2.gdb\\\\Depot_Building'>"
      ]
     },
     "execution_count": 4,
     "metadata": {},
     "output_type": "execute_result"
    }
   ],
   "source": [
    "# 2. Export to file geodatabase\n",
    "arcpy.FeatureClassToGeodatabase_conversion(in_features, path)\n"
   ]
  },
  {
   "cell_type": "code",
   "execution_count": 5,
   "metadata": {},
   "outputs": [
    {
     "data": {
      "text/html": [
       "<div class='gpresult'><h2>Messages</h2><div id='messages' data-messages='[\"Start Time: Wednesday, August 16, 2023 11:31:19 AM\",\"Succeeded at Wednesday, August 16, 2023 11:31:25 AM (Elapsed Time: 6.30 seconds)\"]' data-show='true'><div id = 'default' /></div></div>"
      ],
      "text/plain": [
       "<Result 'C:/Users/eiji.LAPTOP-KSD9P6CP/OneDrive - Oriental Consultants Global JV/Documents/ArcGIS/Projects/During-Construction_nscrexn2/During-Construction_nscrexn2.gdb\\\\Depot_Building\\\\N2_DEP_FPH1_merged'>"
      ]
     },
     "execution_count": 5,
     "metadata": {},
     "output_type": "execute_result"
    }
   ],
   "source": [
    "# 3. Merge all feature layers\n",
    "arcpy.env.workspace = path\n",
    "output_feature = \"N2_DEP_\" + dName + \"_merged\"\n",
    "arcpy.Merge_management(in_features, output_feature,\"\",\"\")"
   ]
  },
  {
   "cell_type": "code",
   "execution_count": 6,
   "metadata": {},
   "outputs": [
    {
     "data": {
      "text/html": [
       "<div class='gpresult'><h2>Messages</h2><div id='messages' data-messages='[\"Start Time: Wednesday, August 16, 2023 11:31:36 AM\",\"Succeeded at Wednesday, August 16, 2023 11:31:42 AM (Elapsed Time: 6.11 seconds)\"]' data-show='true'><div id = 'default' /></div></div>"
      ],
      "text/plain": [
       "<Result 'N2_DEP_FPH1_merged'>"
      ]
     },
     "execution_count": 6,
     "metadata": {},
     "output_type": "execute_result"
    }
   ],
   "source": [
    "# 4. Delete Fields\n",
    "## 4.1 Obtain fields to be kept\n",
    "fieldList = [f.name for f in arcpy.ListFields(output_feature)]\n",
    "\n",
    "# find OBJECTID, as this is not deletable\n",
    "reg = re.compile(r'OBJECTID*|Shape|Shape_Length|Shape_Area|Shape.STArea()|Shape.STLength()|GlobalID')\n",
    "objField = list(filter(reg.match, fieldList))\n",
    "keepFields = objField + ['Category', 'Family', 'FamilyType','ObjectID', 'ObjectId', 'Bldg_Name', 'BldgLevel', 'OmniClassDescription', 'BldgLevel_Desc', 'DocName', 'Discipline']\n",
    "\n",
    "# Drop fields\n",
    "dropFields = [e for e in fieldList if e not in keepFields]\n",
    "\n",
    "## 4.2 Delete fields from feature layer\n",
    "arcpy.DeleteField_management(output_feature, dropFields)"
   ]
  },
  {
   "cell_type": "code",
   "execution_count": 7,
   "metadata": {},
   "outputs": [],
   "source": [
    "# 5. Add Fields\n",
    "addFields = ['Name', 'Type', 'SubType', 'Status', 'start_date', 'end_date', \\\n",
    "             'StructureType', 'StructureLevel', 'P6ID', 'Comment', \\\n",
    "            'GridX', 'GridY', 'CP', 'ID'] # ID is for bored piles\n",
    "\n",
    "for field in addFields:\n",
    "    if field in ('start_date', 'end_date'):\n",
    "        arcpy.AddField_management(output_feature, field, \"DATE\", \"\", \"\", \"\", field, \"NULLABLE\", \"\")\n",
    "    elif field in ('P6ID', 'Comment', 'GridX', 'GridY', 'CP', 'Name', 'ID'):\n",
    "        arcpy.AddField_management(output_feature, field, \"TEXT\", \"\", \"\", \"\", field, \"NULLABLE\", \"\")\n",
    "    else:\n",
    "        arcpy.AddField_management(output_feature, field, \"SHORT\", \"\", \"\", \"\", field, \"NULLABLE\", \"\")"
   ]
  },
  {
   "cell_type": "code",
   "execution_count": 8,
   "metadata": {},
   "outputs": [],
   "source": [
    "# Set the initial status = 'To be Constructed'\n",
    "with arcpy.da.UpdateCursor(output_feature, ['Status']) as cursor:\n",
    "    for row in cursor:\n",
    "        row[0] = 1\n",
    "        cursor.updateRow(row)"
   ]
  },
  {
   "cell_type": "code",
   "execution_count": 9,
   "metadata": {},
   "outputs": [],
   "source": [
    "with arcpy.da.UpdateCursor(output_feature, ['CP']) as cursor:\n",
    "    for row in cursor:\n",
    "        row[0] = 'N-05'\n",
    "        cursor.updateRow(row)"
   ]
  },
  {
   "cell_type": "code",
   "execution_count": 10,
   "metadata": {},
   "outputs": [],
   "source": [
    "# Assign Type based on Category field\n",
    "### Domain Type (corresponding Category):\n",
    "## 1. Structural Foundations (Structural Foundations)\n",
    "## 2. Structural Columns (Structural Columns)\n",
    "## 3. Structural Framing (Structural Framing)\n",
    "## 4. Roofs (Roofs)\n",
    "## 5. Floors (Floors)\n",
    "## 6. Walls (Walls)\n",
    "## 7. Columns (Columns)\n",
    "## 8. Others\n",
    "\n",
    "## note that 4 to 8 fall under Architectural disciplines of Structural revit file\n",
    "with arcpy.da.UpdateCursor(output_feature, ['Category', 'Type']) as cursor:\n",
    "    for row in cursor:\n",
    "        if row[0] == 'Structural Foundations':\n",
    "            row[1] = 1\n",
    "        elif row[0] == 'Structural Columns':\n",
    "            row[1] = 2\n",
    "        elif row[0] == 'Structural Framing':\n",
    "            row[1] = 3\n",
    "        elif row[0] == 'Roofs':\n",
    "            row[1] = 4\n",
    "        elif row[0] == 'Floors':\n",
    "            row[1] = 5\n",
    "        elif row[0] == 'Walls':\n",
    "            row[1] = 6\n",
    "        elif row[0] == 'Columns':\n",
    "            row[1] = 7\n",
    "        else:\n",
    "            row[1] = 8\n",
    "        cursor.updateRow(row)"
   ]
  },
  {
   "cell_type": "code",
   "execution_count": 11,
   "metadata": {},
   "outputs": [],
   "source": [
    "# Enter Depot building name\n",
    "with arcpy.da.UpdateCursor(output_feature, ['Name']) as cursor:\n",
    "    for row in cursor:\n",
    "        if dName == \"DEP\":\n",
    "            row[0] = \"DEP\"\n",
    "        elif dName == \"OCC\":\n",
    "            row[0] = \"OCC\"\n",
    "        elif dName == \"WS\":\n",
    "            row[0] = \"WS\"\n",
    "        elif dName == \"LRS\":\n",
    "            row[0] = \"LRS\"\n",
    "        elif dName == \"UCS\":\n",
    "            row[0] = \"UCS\"\n",
    "        elif dName == \"URS\":\n",
    "            row[0] = \"URS\"\n",
    "        elif dName == \"WRS\":\n",
    "            row[0] = \"WRS\"\n",
    "        elif dName == \"CMV\":\n",
    "            row[0] = \"CMV\"\n",
    "        elif dName == \"SCS\":\n",
    "            row[0] = \"SCS\"\n",
    "        elif dName == \"FPH1\":\n",
    "            row[0] = \"FPH1\"\n",
    "        elif dName == \"WOS\":\n",
    "            row[0] = \"WOS\"\n",
    "        elif dName == \"LOS\":\n",
    "            row[0] = \"LOS\"\n",
    "        elif dName == \"DHS\":\n",
    "            row[0] = \"DHS\"\n",
    "        elif dName == \"LGS\":\n",
    "            row[0] = \"LGS\"\n",
    "        elif dName == \"WGS\":\n",
    "            row[0] = \"WGS\"\n",
    "        elif dName == \"TGB\":\n",
    "            row[0] = \"TGB\"\n",
    "        elif dName == \"TMO\":\n",
    "            row[0] = \"TMO\"\n",
    "        elif dName == \"MCS\":\n",
    "            row[0] = \"MCS\"\n",
    "        elif dName == \"DBS1\":\n",
    "            row[0] = \"DBS1\"\n",
    "        elif dName == \"DBS2\":\n",
    "            row[0] = \"DBS2\"\n",
    "        elif dName == \"DB1\":\n",
    "            row[0] = \"DB1\"\n",
    "        elif dName == \"DB2\":\n",
    "            row[0] = \"DB2\"\n",
    "        elif dName == \"DSS\":\n",
    "            row[0] = \"DSS\"\n",
    "        elif dName == \"WPH1\":\n",
    "            row[0] = \"WPH1\"\n",
    "        elif dName == \"WPH2\":\n",
    "            row[0] = \"WPH2\"\n",
    "        elif dName == \"SH1\":\n",
    "            row[0] = \"SH1\"\n",
    "        elif dName == \"SH2\":\n",
    "            row[0] = \"SH2\"\n",
    "        elif dName == \"BPS\":\n",
    "            row[0] = \"BPS\"\n",
    "        elif dName == \"MPS\":\n",
    "            row[0] = \"MPS\"\n",
    "        elif dName == \"CPS\":\n",
    "            row[0] = \"CPS\"\n",
    "        elif dName == \"CER\":\n",
    "            row[0] = \"CER\"\n",
    "        elif dName == \"CNT\":\n",
    "            row[0] = \"CNT\"\n",
    "        elif dName == \"TRC\":\n",
    "            row[0] = \"TRC\"\n",
    "        elif dName == \"TRCE\":\n",
    "            row[0] = \"TRCE\"\n",
    "        cursor.updateRow(row)\n"
   ]
  },
  {
   "cell_type": "code",
   "execution_count": 15,
   "metadata": {},
   "outputs": [
    {
     "data": {
      "text/html": [
       "<div class='gpresult'><h2>Messages</h2><div id='messages' data-messages='[\"Start Time: Monday, August 7, 2023 4:05:10 PM\",\"Succeeded at Monday, August 7, 2023 4:05:29 PM (Elapsed Time: 19.08 seconds)\"]' data-show='true'><div id = 'default' /></div></div>"
      ],
      "text/plain": [
       "<Result 'N2_DEP_FPH1_merged'>"
      ]
     },
     "execution_count": 15,
     "metadata": {},
     "output_type": "execute_result"
    }
   ],
   "source": [
    "# Assign Domains\n",
    "# 0. Domain Name\n",
    "domainList = ['Station Structures_TYPE', 'Station Structures_SUBTYPE',\\\n",
    "              'Station Structures_STATUS', 'Station Structures_STRUCTURETYPE',\\\n",
    "              'Station Structures_STRUCTURELEVEL','N2_Depot_Building_NAME']\n",
    "\n",
    "#domains = arcpy.da.ListDomains(workspace)\n",
    "#listDomain = [d.name for d in domains]\n",
    "#reg = re.compile(r'Station Structures*|Station*')\n",
    "#listFinal = list(filter(reg.match, listDomain))\n",
    "\n",
    "arcpy.AssignDomainToField_management(output_feature, 'Type', domainList[0])\n",
    "arcpy.AssignDomainToField_management(output_feature, 'SubType', domainList[1])\n",
    "arcpy.AssignDomainToField_management(output_feature, 'Status', domainList[2])\n",
    "arcpy.AssignDomainToField_management(output_feature, 'StructureType', domainList[3])\n",
    "arcpy.AssignDomainToField_management(output_feature, 'StructureLevel', domainList[4])\n",
    "arcpy.AssignDomainToField_management(output_feature, 'Name', domainList[5])"
   ]
  },
  {
   "cell_type": "code",
   "execution_count": 1,
   "metadata": {},
   "outputs": [
    {
     "data": {
      "text/html": [
       "<div class='gpresult'><h2>Messages</h2><div id='messages' data-messages='[\"Start Time: Wednesday, August 9, 2023 10:40:48 AM\",\"Succeeded at Wednesday, August 9, 2023 10:40:52 AM (Elapsed Time: 4.37 seconds)\"]' data-show='true'><div id = 'default' /></div></div>"
      ],
      "text/plain": [
       "<Result 'C:\\\\Users\\\\eiji.LAPTOP-KSD9P6CP\\\\OneDrive - Oriental Consultants Global JV\\\\Documents\\\\ArcGIS\\\\Projects\\\\During-Construction_nscrexn2\\\\During-Construction_nscrexn2.gdb\\\\N2_Depot_Build_portal_copy_20230809_sorted'>"
      ]
     },
     "execution_count": 1,
     "metadata": {},
     "output_type": "execute_result"
    }
   ],
   "source": [
    "# When you want to sort attribute table\n",
    "temp_feature =\"N2_Depot_Build_portal_copy_20230809\"\n",
    "out_feature = temp_feature + \"_sorted\"\n",
    "sort_fields = [[\"Name\",\"ASCENDING\"], [\"Type\",\"ASCENDING\"], [\"ObjectId\",\"ASCENDING\"]]\n",
    "arcpy.Sort_management(temp_feature, out_feature, sort_fields)"
   ]
  },
  {
   "cell_type": "code",
   "execution_count": 18,
   "metadata": {},
   "outputs": [
    {
     "data": {
      "text/plain": [
       "<arcpy._mp.Layer object at 0x00000225B0784248>"
      ]
     },
     "execution_count": 18,
     "metadata": {},
     "output_type": "execute_result"
    }
   ],
   "source": [
    "# Apply Symbology\n",
    "symbolLyrx = r'C:/Users/emasu/Dropbox/01-Railway/02-NSCR-Ex/10-ArcGIS/01-Reference/01-Layer File/03-Station_Structure/Station_Structures.lyrx'\n",
    "arcpy.ApplySymbologyFromLayer_management(output_feature, symbolLyrx, [[\"VALUE_FIELD\", \"Status\", \"Status\"]], update_symbology=\"MAINTAIN\")[0]"
   ]
  },
  {
   "cell_type": "markdown",
   "metadata": {},
   "source": [
    "# Update Existing Multipatch using New Layer\n",
    "\n",
    "This code below edit existing N2 Depot Building multipatch layer (compiled one) using new subset\n",
    "For exmple, when BIM revit on Workshop is updated, you can run this code to update the existing.\n",
    "\n",
    "Workflow:\n",
    "1. Convert BIM revit (new one) to feature dataset\n",
    "2. Select and copy subset from existing multipatch layer\n",
    "3. Pre-process the converted multipatch layer\n",
    "    3.1. Add and delete fields in the converted multipatch layer (new one)\n",
    "4. Join the copied subset from the existing multipatch to the pre-processed multipatch (step 3)\n",
    "5. Truncate rows to be replaced with new ones in the existing multipatch\n",
    "6. Append the new converted multipatch to the existing multipatch"
   ]
  },
  {
   "cell_type": "code",
   "execution_count": null,
   "metadata": {},
   "outputs": [],
   "source": [
    "# 1. Convert BIM revit (new one) to feature dataset"
   ]
  },
  {
   "cell_type": "code",
   "execution_count": null,
   "metadata": {},
   "outputs": [],
   "source": [
    "## Run steps in '1. BIM to GIS Conversion'"
   ]
  },
  {
   "cell_type": "markdown",
   "metadata": {
    "heading_collapsed": true
   },
   "source": [
    "# Data Prep for Pile and Pile Cap of N2 Depot Buildings\n",
    "   1. Bernie processes pile and pile caps from CAD and convert to individual multipatch layers\n",
    "   2. I process these two layers for appending to N2_Depot_Bulding compiled database"
   ]
  },
  {
   "cell_type": "code",
   "execution_count": 1,
   "metadata": {
    "hidden": true
   },
   "outputs": [],
   "source": [
    "# 0. \n",
    "import time, os, datetime, sys, logging, logging.handlers, shutil, traceback, re\n",
    "import arcpy\n",
    "\n",
    "arcpy.env.overwriteOutput = True"
   ]
  },
  {
   "cell_type": "code",
   "execution_count": 2,
   "metadata": {
    "hidden": true
   },
   "outputs": [],
   "source": [
    "workspace = r'C:/Users/eiji.LAPTOP-KSD9P6CP/OneDrive - Oriental Consultants Global JV/Documents/ArcGIS/Projects/During-Construction_nscrexn2/During-Construction_nscrexn2.gdb'"
   ]
  },
  {
   "cell_type": "code",
   "execution_count": null,
   "metadata": {
    "hidden": true
   },
   "outputs": [],
   "source": [
    "# 1. Compile pile and pile cap multipatch layers provided by Bernie"
   ]
  },
  {
   "cell_type": "code",
   "execution_count": 16,
   "metadata": {
    "hidden": true
   },
   "outputs": [],
   "source": [
    "## 1.1. Define building name\n",
    "bName = \"URS\"\n",
    "CP = \"N-05\""
   ]
  },
  {
   "cell_type": "code",
   "execution_count": 17,
   "metadata": {
    "hidden": true
   },
   "outputs": [],
   "source": [
    "## 1.2. Define layers\n",
    "pileL = bName + \"_PILE\"\n",
    "pileCapL = bName + \"_PILECAP\""
   ]
  },
  {
   "cell_type": "code",
   "execution_count": 21,
   "metadata": {
    "hidden": true
   },
   "outputs": [],
   "source": [
    "## 1.3. Add important field names needed for appending\n",
    "fields = [\"Type\", \"SubType\", \"Name\", \"CP\", \"Status\",\"Discipline\",\"Category\"]\n",
    "for field in fields:\n",
    "    if field in [\"CP\", \"Name\", \"Category\",\"Discipline\"]:\n",
    "        arcpy.AddField_management(pileL, field, \"TEXT\", \"\", \"\", \"\", field, \"NULLABLE\", \"\")\n",
    "        arcpy.AddField_management(pileCapL, field, \"TEXT\", \"\", \"\", \"\", field, \"NULLABLE\", \"\")\n",
    "        \n",
    "    else:\n",
    "        arcpy.AddField_management(pileL, field, \"SHORT\", \"\", \"\", \"\", field, \"NULLABLE\", \"\")\n",
    "        arcpy.AddField_management(pileCapL, field, \"SHORT\", \"\", \"\", \"\", field, \"NULLABLE\", \"\")"
   ]
  },
  {
   "cell_type": "code",
   "execution_count": 14,
   "metadata": {
    "hidden": true
   },
   "outputs": [],
   "source": [
    "## 1.4. Add information\n",
    "### Pile\n",
    "with arcpy.da.UpdateCursor(pileL, fields) as cursor:\n",
    "    for row in cursor:\n",
    "        row[0] = 1\n",
    "        row[1] = 1\n",
    "        row[2] = bName\n",
    "        row[3] = CP\n",
    "        cursor.updateRow(row)\n",
    "        \n",
    "### Pile caps\n",
    "with arcpy.da.UpdateCursor(pileCapL, fields) as cursor:\n",
    "    for row in cursor:\n",
    "        row[0] = 1\n",
    "        row[1] = 2\n",
    "        row[2] = bName\n",
    "        row[3] = CP\n",
    "        cursor.updateRow(row)"
   ]
  },
  {
   "cell_type": "code",
   "execution_count": 20,
   "metadata": {
    "hidden": true
   },
   "outputs": [
    {
     "data": {
      "text/html": [
       "<div class='gpresult'><h2>Messages</h2><div id='messages' data-messages='[\"Start Time: Friday, May 13, 2022 9:45:50 AM\",\"Succeeded at Friday, May 13, 2022 9:45:50 AM (Elapsed Time: 0.12 seconds)\"]' data-show='true'><div id = 'default' /></div></div>"
      ],
      "text/plain": [
       "<Result 'URS_PILECAP'>"
      ]
     },
     "execution_count": 20,
     "metadata": {},
     "output_type": "execute_result"
    }
   ],
   "source": [
    "## 1.5. Append pile to pile Cap\n",
    "arcpy.Append_management(pileL, pileCapL, schema_type = 'NO_TEST')"
   ]
  },
  {
   "cell_type": "code",
   "execution_count": 16,
   "metadata": {
    "hidden": true
   },
   "outputs": [],
   "source": [
    "# 2. Clearn the compiled table\n",
    "## 2.1. Convert string 'status' to numeric status\n",
    "with arcpy.da.UpdateCursor(pileCapL, [\"Status\", \"Status1\"]) as cursor:\n",
    "    for row in cursor:\n",
    "        if row[0] == 'Completed':\n",
    "            row[1] = 4\n",
    "        else:\n",
    "            row[1] = 1\n",
    "        cursor.updateRow(row)"
   ]
  },
  {
   "cell_type": "code",
   "execution_count": 17,
   "metadata": {
    "hidden": true
   },
   "outputs": [],
   "source": [
    "# 2.2. Delete old Status and alter field names\n",
    "droppedField = 'Status'\n",
    "listFields = [f.name for f in arcpy.ListFields(pileCapL)]\n",
    "statusField = [f for f in listFields if f in droppedField]\n",
    "\n",
    "if len(statusField) > 0:\n",
    "    arcpy.DeleteField_management(pileCapL, droppedField)\n",
    "    arcpy.AlterField_management(pileCapL, 'Status1', 'Status', 'Status')\n",
    "else:\n",
    "    print(\"Fied name 'Status' does not exist.\")\n"
   ]
  },
  {
   "cell_type": "code",
   "execution_count": 19,
   "metadata": {
    "hidden": true
   },
   "outputs": [
    {
     "data": {
      "text/html": [
       "<div class='gpresult'><h2>Messages</h2><div id='messages' data-messages='[\"Start Time: Thursday, March 31, 2022 9:48:14 AM\",\"Succeeded at Thursday, March 31, 2022 9:48:14 AM (Elapsed Time: 0.17 seconds)\"]' data-show='true'><div id = 'default' /></div></div>"
      ],
      "text/plain": [
       "<Result 'OCC_PileCap'>"
      ]
     },
     "execution_count": 19,
     "metadata": {},
     "output_type": "execute_result"
    }
   ],
   "source": [
    "# Alter the following field name to 'ID'\n",
    "arcpy.AlterField_management(pileL, 'BoredPile_ID_Number', 'ID', 'ID')"
   ]
  },
  {
   "cell_type": "code",
   "execution_count": 20,
   "metadata": {
    "hidden": true
   },
   "outputs": [],
   "source": [
    "# 3. Finally, append it to target layer\n",
    "## 3.1. check they share the same coordinate system\n",
    "targetLayer = 'N2_Depot_Building_portal'\n",
    "\n",
    "sourceSP = arcpy.Describe(pileCapL).spatialReference.Name\n",
    "targetSP = arcpy.Describe(targetLayer).spatialReference.Name\n",
    "\n",
    "if sourceSP == targetSP:\n",
    "    arcpy.Append_management(pileCapL, targetLayer, schema_type = 'NO_TEST')\n",
    "else:\n",
    "    print(\"WRONG! Different Coordinate System. Please check the layers.\")\n"
   ]
  },
  {
   "cell_type": "code",
   "execution_count": null,
   "metadata": {
    "hidden": true
   },
   "outputs": [],
   "source": [
    "# 4. When you delete or add observations to the target layer, you need to re-number 'uniqueID'\n"
   ]
  }
 ],
 "metadata": {
  "kernelspec": {
   "display_name": "ArcGISPro",
   "language": "Python",
   "name": "python3"
  },
  "language_info": {
   "file_extension": ".py",
   "name": "python",
   "version": "3"
  }
 },
 "nbformat": 4,
 "nbformat_minor": 2
}
