{
 "cells": [
  {
   "cell_type": "markdown",
   "metadata": {},
   "source": [
    "## How to Overwrite ArcGIS Online Feature Service using Truncate and Append\n",
    "\n",
    "Procedure:\n",
    "\n",
    "##### Clone individual feature services\n",
    "1. Sign in ArcGIS Online\n",
    "2. Import a feature layer from the Contents panel of ArcGIS Pro\n",
    "3. Get the hosted feature layer\n",
    "4. Truncate the hosted feature layer\n",
    "5. Import the hosted feature layer from the Portal in ArcGIS Pro\n",
    "6. Append the input to the targe feature layer (hosted)\n",
    "\n",
    "\n",
    "##### Note that this takes lots of time.\n",
    "\n",
    "Reference:https://community.esri.com/t5/arcgis-online-documents/overwrite-arcgis-online-feature-service-using-truncate-and/ta-p/904457"
   ]
  },
  {
   "cell_type": "code",
   "execution_count": 18,
   "metadata": {},
   "outputs": [],
   "source": [
    "from pathlib import Path\n",
    "import sys\n",
    "\n",
    "from arcgis.gis import GIS, Item\n",
    "from arcgis.features import FeatureLayerCollection\n",
    "from arcgis.mapping import WebMap\n",
    "\n",
    "import arcpy\n",
    "import os"
   ]
  },
  {
   "cell_type": "code",
   "execution_count": 3,
   "metadata": {},
   "outputs": [],
   "source": [
    "# 1. Sign in ArcGIS Online\n",
    "source = GIS(\"https://arcgis.com\", \"MatsuzakiEiji\", \"timberland56789\", verity_cert=False)"
   ]
  },
  {
   "cell_type": "code",
   "execution_count": 21,
   "metadata": {},
   "outputs": [],
   "source": [
    "aprx = arcpy.mp.ArcGISProject('current')"
   ]
  },
  {
   "cell_type": "code",
   "execution_count": 23,
   "metadata": {},
   "outputs": [],
   "source": [
    "# 2. Import a feature layer from the Contents panel of ArcGIS Pro\n",
    "inputLyr = r\"Tree Cutting\\N2_Tree_Inventoried\" # Use exactly the same name as appeared in the Contents panel"
   ]
  },
  {
   "cell_type": "code",
   "execution_count": 31,
   "metadata": {},
   "outputs": [],
   "source": [
    "# 3. Get the hosted feature layer\n",
    "fsItemId = \"5e57498677ec4293984d059501135db8\"\n",
    "premiseLayer = source.content.get(fsItemId)"
   ]
  },
  {
   "cell_type": "code",
   "execution_count": 33,
   "metadata": {},
   "outputs": [
    {
     "data": {
      "text/plain": [
       "{'success': True}"
      ]
     },
     "execution_count": 33,
     "metadata": {},
     "output_type": "execute_result"
    }
   ],
   "source": [
    "# 4. Truncate the hosted feature layer\n",
    "targetLyr = premiseLayer.layers[0]\n",
    "targetLyr.manager.truncate()"
   ]
  },
  {
   "cell_type": "code",
   "execution_count": 41,
   "metadata": {},
   "outputs": [],
   "source": [
    "# 5. Import the hosted feature layer from the Portal in ArcGIS Pro\n",
    "targetLyr = r\"N2_Tree_Inventoried_hosted\""
   ]
  },
  {
   "cell_type": "code",
   "execution_count": 43,
   "metadata": {},
   "outputs": [
    {
     "data": {
      "text/html": [
       "<h2>Output</h2>a Layer object<h2>Messages</h2>Start Time: Tuesday, December 8, 2020 3:44:25 PM<br/>Succeeded at Tuesday, December 8, 2020 4:53:13 PM (Elapsed Time: 1 hours 8 minutes 47 seconds)<br/><style>.rendered_html td, .rendered_html th {text-align: left;}.rendered_html tbody {border: 1px solid black;}</style>"
      ],
      "text/plain": [
       "<Result 'N2_Tree_Inventoried_hosted'>"
      ]
     },
     "execution_count": 43,
     "metadata": {},
     "output_type": "execute_result"
    }
   ],
   "source": [
    "# 6. Append the input to the targe feature layer (hosted)\n",
    "arcpy.Append_management(aLayer, targetLyr)"
   ]
  },
  {
   "cell_type": "code",
   "execution_count": null,
   "metadata": {},
   "outputs": [],
   "source": []
  }
 ],
 "metadata": {
  "kernelspec": {
   "display_name": "ArcGISPro",
   "language": "Python",
   "name": "python3"
  },
  "language_info": {
   "file_extension": ".py",
   "name": "python",
   "version": "3"
  }
 },
 "nbformat": 4,
 "nbformat_minor": 2
}
