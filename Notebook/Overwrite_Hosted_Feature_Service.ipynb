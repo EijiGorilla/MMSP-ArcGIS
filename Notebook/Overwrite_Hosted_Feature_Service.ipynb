{
 "cells": [
  {
   "cell_type": "markdown",
   "metadata": {},
   "source": [
    "## How to Overwrite hosted feature services from ArcGIS Pro to ArcGIS Online or Portal for ArcGIS using Python\n",
    "\n",
    "Procedure:\n",
    "1. Import the necessary modules\n",
    "2. Specify the location of the project file (.aprx)\n",
    "3. Specify the feature service name in ArcGIS Online, including the owner credentials\n",
    "4. Set the desired sharing options.\n",
    "5. Specify a local path for storing temporary contents to be used for publishing the service definition draft and service definition file\n",
    "6. Create a new SDDraft file, and stage the draft to the SD file\n",
    "7. Connect to the specified portal.\n",
    "8. Locate the SD file, update, and *overwrite* the service on the speicified portal.\n",
    "\n",
    "https://support.esri.com/en/technical-article/000023164"
   ]
  },
  {
   "cell_type": "code",
   "execution_count": 1,
   "metadata": {},
   "outputs": [],
   "source": [
    "# 1. Import the necessary modules\n",
    "import arcpy\n",
    "import os, sys\n",
    "from arcgis.gis import GIS"
   ]
  },
  {
   "cell_type": "code",
   "execution_count": 2,
   "metadata": {},
   "outputs": [],
   "source": [
    "# 2. Specify the location of the project file (.aprx)\n",
    "prjPath = r\"C:\\Users\\oc3512\\OneDrive - Oriental Consultants Global JV\\Documents\\ArcGIS\\Projects\\Civil_NSCR-Ex\\Civil_NSCR-Ex.aprx\""
   ]
  },
  {
   "cell_type": "code",
   "execution_count": 3,
   "metadata": {},
   "outputs": [],
   "source": [
    "# 3. Specify the feature service name in ArcGIS Online, including the owner credentials\n",
    "sd_fs_name = \"GeoTechSpot\"\n",
    "portal = \"https://www.arcgis.com\"\n",
    "user = \"MatsuzakiEiji\"\n",
    "password = \"timberland56789\""
   ]
  },
  {
   "cell_type": "code",
   "execution_count": 4,
   "metadata": {},
   "outputs": [],
   "source": [
    "# 4. Set the desired sharing options.\n",
    "shrOrg = True\n",
    "shrEveryone = False\n",
    "shrGroups = \"\""
   ]
  },
  {
   "cell_type": "code",
   "execution_count": 5,
   "metadata": {},
   "outputs": [
    {
     "data": {
      "text/plain": [
       "'C:\\\\Users\\\\SampleFolder_1\\\\GeoTechSpot.sddraft'"
      ]
     },
     "execution_count": 5,
     "metadata": {},
     "output_type": "execute_result"
    }
   ],
   "source": [
    "# 5. Specify a local path for storing temporary contents to be used for publishing the service definition draft and service definition file\n",
    "relPath = r'C:\\Users\\SampleFolder_1'\n",
    "sddraft = os.path.join(relPath,sd_fs_name + \".sddraft\")\n",
    "sd = os.path.join(relPath, sd_fs_name + \".sd\")\n",
    "sddraft"
   ]
  },
  {
   "cell_type": "code",
   "execution_count": 7,
   "metadata": {},
   "outputs": [
    {
     "name": "stdout",
     "output_type": "stream",
     "text": [
      "Creating SD file\n"
     ]
    },
    {
     "ename": "AttributeError",
     "evalue": "module 'arcpy' has no attribute 'CreateMapSDDraft'",
     "output_type": "error",
     "traceback": [
      "\u001b[0;31m---------------------------------------------------------------------------\u001b[0m\n\u001b[0;31mAttributeError\u001b[0m                            Traceback (most recent call last)",
      "In  \u001b[0;34m[7]\u001b[0m:\nLine \u001b[0;34m6\u001b[0m:     arcpy.CreateMapSDDraft(mp, sddraft, sd_fs_name)\n",
      "\u001b[0;31mAttributeError\u001b[0m: module 'arcpy' has no attribute 'CreateMapSDDraft'\n\u001b[0;31m---------------------------------------------------------------------------\u001b[0m"
     ]
    }
   ],
   "source": [
    "# 6. Create a new SDDraft file, and stage the draft to the SD file\n",
    "print(\"Creating SD file\")\n",
    "arcpy.env.overwriteOutput = True\n",
    "prj = arcpy.mp.ArcGISProject(prjPath)\n",
    "mp = prj.listMaps()[0]\n",
    "arcpy.sharing.CreateSharingDraft(mp, sddraft, sd_fs_name)\n",
    "\n",
    "arcpy.StageService_server(sddraft, sd)"
   ]
  },
  {
   "cell_type": "code",
   "execution_count": 105,
   "metadata": {},
   "outputs": [
    {
     "data": {
      "text/plain": [
       "<arcpy._mp.ArcGISProject object at 0x0000020AC893B048>"
      ]
     },
     "execution_count": 105,
     "metadata": {},
     "output_type": "execute_result"
    }
   ],
   "source": [
    "prj"
   ]
  },
  {
   "cell_type": "code",
   "execution_count": 106,
   "metadata": {},
   "outputs": [],
   "source": [
    "mp = prj.listMaps()[0]"
   ]
  },
  {
   "cell_type": "code",
   "execution_count": 107,
   "metadata": {},
   "outputs": [
    {
     "data": {
      "text/plain": [
       "<arcpy._mp.Map object at 0x0000020AC893B0B8>"
      ]
     },
     "execution_count": 107,
     "metadata": {},
     "output_type": "execute_result"
    }
   ],
   "source": [
    "mp"
   ]
  },
  {
   "cell_type": "code",
   "execution_count": null,
   "metadata": {},
   "outputs": [],
   "source": []
  }
 ],
 "metadata": {
  "kernelspec": {
   "display_name": "ArcGISPro",
   "language": "Python",
   "name": "python3"
  },
  "language_info": {
   "file_extension": ".py",
   "name": "python",
   "version": "3"
  }
 },
 "nbformat": 4,
 "nbformat_minor": 2
}
