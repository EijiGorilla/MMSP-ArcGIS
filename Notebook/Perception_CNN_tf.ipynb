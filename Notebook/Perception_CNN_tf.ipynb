{
 "cells": [
  {
   "metadata": {},
   "cell_type": "markdown",
   "source": [
    "# Load Place Plus 2.0 for Tensorflow\n",
    "* First make sure to download all the folders using PyTorch (https://github.com/aleksandrskoselevs/place-pulse-dataset/blob/main/training_example.ipynb)\n",
    "* Read both image and the associated qscore for tensorflow\n",
    "* **Place Pulse 2.0** is a crowdsourced dataset and platform developed by MIT Media Lab that measures human perceptions of urban environments. It builds upon the original Place Pulse project by expanding its scope to include 56 cities and collecting data on six perceptual indicators: beautiful, boring, depressing, lively, safe, and wealthy."
   ],
   "id": "3c1be098d6ff84cf"
  },
  {
   "metadata": {},
   "cell_type": "markdown",
   "source": "## 1. Extract study_id for defined study_type",
   "id": "eb91ab90ae36a0cc"
  },
  {
   "metadata": {
    "ExecuteTime": {
     "end_time": "2025-08-04T03:25:22.949866Z",
     "start_time": "2025-08-04T03:25:22.946807Z"
    }
   },
   "cell_type": "code",
   "source": [
    "import os\n",
    "import pandas as pd\n",
    "import numpy as np\n",
    "import matplotlib.pyplot as plt\n",
    "import os\n",
    "import sys\n",
    "import numpy as np\n",
    "import tensorflow as tf\n",
    "from tensorflow import keras\n",
    "from tensorflow.keras import layers\n",
    "from tensorflow.keras.utils import load_img, img_to_array\n",
    "from transformers.image_transforms import to_pil_image\n",
    "import transformers\n",
    "from transformers.models.auto.image_processing_auto import image_processors"
   ],
   "id": "e50fbe196a6c38c7",
   "outputs": [],
   "execution_count": 298
  },
  {
   "metadata": {
    "ExecuteTime": {
     "end_time": "2025-08-04T03:49:03.287245Z",
     "start_time": "2025-08-04T03:49:03.284464Z"
    }
   },
   "cell_type": "code",
   "source": "keras.mixed_precision.set_global_policy('mixed_float16') # Enable mixed precision",
   "id": "cd3c96f686303a9b",
   "outputs": [],
   "execution_count": 310
  },
  {
   "metadata": {
    "ExecuteTime": {
     "end_time": "2025-08-04T00:13:56.829556Z",
     "start_time": "2025-08-04T00:13:56.826795Z"
    }
   },
   "cell_type": "code",
   "source": [
    "def crop_google_logo(img):\n",
    "    return tf.image.crop_to_bounding_box(img, 0, 0, img.size[1]- 25, img.size[0])"
   ],
   "id": "b6c52c2eff022cbc",
   "outputs": [],
   "execution_count": 49
  },
  {
   "metadata": {
    "ExecuteTime": {
     "end_time": "2025-08-03T23:20:29.336777Z",
     "start_time": "2025-08-03T23:20:29.334028Z"
    }
   },
   "cell_type": "code",
   "source": [
    "os.chdir('/home/eiji/place-pulse-dataset')\n",
    "cdir = os.getcwd()"
   ],
   "id": "700cf0e6a6996edd",
   "outputs": [],
   "execution_count": 3
  },
  {
   "metadata": {
    "ExecuteTime": {
     "end_time": "2025-08-03T23:22:52.581016Z",
     "start_time": "2025-08-03T23:22:51.883094Z"
    }
   },
   "cell_type": "code",
   "source": [
    "# Read csv file\n",
    "study_types = {         # Adapted from `studies.tsv`\n",
    "            'safe': '50a68a51fdc9f05596000002',\n",
    "            'lively': '50f62c41a84ea7c5fdd2e454',\n",
    "            'clean': '50f62c68a84ea7c5fdd2e456',\n",
    "            'wealthy': '50f62cb7a84ea7c5fdd2e458',\n",
    "            'depressing': '50f62ccfa84ea7c5fdd2e459',\n",
    "            'beautiful': '5217c351ad93a7d3e7b07a64'\n",
    "        }\n",
    "\n",
    "table = pd.read_csv(os.path.join(cdir, 'data', 'qscores.tsv'), sep='\\t')"
   ],
   "id": "2cd8853197b7a908",
   "outputs": [],
   "execution_count": 4
  },
  {
   "metadata": {
    "ExecuteTime": {
     "end_time": "2025-08-04T02:42:38.844567Z",
     "start_time": "2025-08-04T02:42:38.819727Z"
    }
   },
   "cell_type": "code",
   "source": [
    "# Identify indices of 'study_id' corresponding to the selected study_type\n",
    "study_type = study_types['beautiful']\n",
    "idx0 = table.index[table['study_id'] == study_type]\n",
    "\n",
    "# randomly choose 10\n",
    "num_train_samples = 200\n",
    "idx = np.random.choice(idx0, num_train_samples)\n",
    "idx_test = np.random.choice(idx0, num_train_samples // 2)\n",
    "\n",
    "# Extract IDs and corresponding qscores\n",
    "ids = table.loc[idx, 'location_id'].values\n",
    "qscore = table.loc[idx, 'trueskill.score'].values\n",
    "\n",
    "# Compile in dictionary\n",
    "img_score_dict = {}\n",
    "for i, id in enumerate(ids):\n",
    "    img_score_dict[id] = float(qscore[i])\n",
    "\n",
    "print(img_score_dict)"
   ],
   "id": "fe6df94ed2b6b2b9",
   "outputs": [
    {
     "name": "stdout",
     "output_type": "stream",
     "text": [
      "{'5140cc43fdc9f04926002d61': 21.3489099683, '513d6896fdc9f03587004411': 23.057919633, '5185d3f2fdc9f03fd5001352': 30.9491612609, '513e20d9fdc9f0358700a2f4': 28.1730757115, '5140cb58fdc9f04926002b1d': 20.8343098766, '50f60b91beb2fed910000090': 25.8436449623, '5185cff0fdc9f03fd5000fa6': 30.5883503864, '50f448b5fdc9f065f000423a': 27.2105765302, '51413327fdc9f049260041e4': 15.4522754036, '51413993fdc9f049260054d3': 24.2621708769, '513d9a75fdc9f035870076d4': 30.4155370815, '50f5ebcefdc9f065f0008592': 11.6130828295, '513d78d9fdc9f035870062e1': 21.2901312089, '513d7b7efdc9f03587006bae': 26.6680879191, '51414868fdc9f04926006caf': 30.9277873173, '513d303ffdc9f035870026fb': 25.0, '513e65a3fdc9f0358700b9c4': 34.8913612843, '513d7b08fdc9f03587006a1b': 38.2716912883, '513d30b7fdc9f0358700275a': 28.1730757115, '513e1ffbfdc9f0358700a0a6': 22.1195088028, '51414fc0fdc9f04926007b8a': 22.4794654891, '514094f0fdc9f04926000914': 15.025017161, '50f5ecf3fdc9f065f0008b84': 27.4868686647, '513f2d79fdc9f0358700da4b': 22.9960898326, '50f5e701fdc9f065f0006f00': 23.6322182524, '51413a74fdc9f049260056f6': 24.924406441, '5140c869fdc9f04926002217': 24.2118767178, '514217c0fdc9f04926008078': 29.1007387844, '50f563d4fdc9f065f0005f07': 21.2227749715, '513e1e6dfdc9f03587009c70': 24.9597215445, '51409c1efdc9f0492600115f': 22.0505960395, '513f125dfdc9f0358700c96e': 19.4445264267, '50f562d6fdc9f065f0005a9e': 15.6564127842, '513d7ebafdc9f03587007476': 29.4417030504, '513d5d35fdc9f0358700385a': 25.0578685736, '50f5644bfdc9f065f0006219': 28.2211825105, '50f43b6dfdc9f065f000307f': 22.860744597, '50f447d8fdc9f065f0003ad5': 28.56103701, '513da002fdc9f0358700888e': 22.7056659738, '5140c8bbfdc9f04926002319': 25.0, '513d5f37fdc9f03587003b7c': 20.3766238668, '5141382cfdc9f0492600516e': 30.1293205112, '50f445a8fdc9f065f000353a': 24.0448963165, '513d68c7fdc9f035870044c6': 25.9682209438, '513d5c57fdc9f035870036d3': 36.9016816569, '50f44502fdc9f065f0003365': 13.025568411, '51414e9cfdc9f049260078bc': 34.0107888135, '513d306cfdc9f03587002720': 27.4952088187, '50f4349afdc9f065f0002a40': 34.3520865643, '50f5ee98fdc9f065f0008f16': 18.0790998967, '51421b6ffdc9f04926008453': 30.340528213, '513d9c4dfdc9f03587007cc1': 35.3795337273, '50f5eac8fdc9f065f0007ccb': 36.0648216652, '513d6a4dfdc9f03587004a17': 28.2211825105, '5140b77bfdc9f049260019f4': 18.5847361198, '513e5bf8fdc9f0358700a9c0': 33.1631382412, '5140cb0ffdc9f04926002a2f': 17.7415409911, '51414c35fdc9f04926007293': 21.5091557877, '513e1d11fdc9f035870098d8': 30.6702090157, '50f5e8a5fdc9f065f0007422': 20.1745466211, '513e5f8efdc9f0358700b26b': 18.2692454742, '5141348dfdc9f049260046ca': 27.7618393754, '50f447d9fdc9f065f0003b3b': 24.1447230447, '50f5609afdc9f065f000528f': 22.1245935061, '513d2d3afdc9f035870024b5': 15.3124796631, '513d9b02fdc9f0358700788e': 29.8137312214, '50f5e702fdc9f065f0006f18': 15.3486304721, '513d7cd3fdc9f0358700700b': 22.8841358845, '513cededfdc9f035870023e5': 30.2373399317, '50f60b87beb2fed910000002': 25.4190803411, '513e65c1fdc9f0358700b9ec': 22.4102000762, '513ce07dfdc9f0358700215c': 18.1607370599, '513f29c6fdc9f0358700d415': 22.8841358845, '513cc69cfdc9f0358700197d': 25.0, '514150b8fdc9f04926007e06': 14.1946335761, '50f56204fdc9f065f00058b3': 14.522302951, '514133a5fdc9f049260043a0': 25.0578685736, '50f42c72fdc9f065f0001c79': 29.4009047529, '514090f2fdc9f049260003e0': 25.7119642911, '514135e0fdc9f04926004b6c': 23.6520966109, '50f5619afdc9f065f00055d1': 33.5425650314, '50f44868fdc9f065f0004054': 20.4314422305, '514137ccfdc9f0492600505f': 13.7932476715, '513e6a6dfdc9f0358700bec4': 19.2872084683, '513d57b8fdc9f035870031f1': 23.7734601428, '5140b813fdc9f04926001b85': 31.730024239, '51414668fdc9f049260067e1': 25.0979449028, '513d78fffdc9f03587006364': 26.0573343927, '51414dbcfdc9f04926007684': 25.3558655686, '513d6a15fdc9f03587004955': 21.0214509687, '513da03cfdc9f03587008915': 29.1167090585, '5140cb2cfdc9f04926002a8a': 15.3016689263, '513d7ca3fdc9f03587006f70': 26.7754637091, '5142283efdc9f0492600873b': 18.3625553979, '51422c1bfdc9f04926008ad7': 16.1605306303, '513d9f5cfdc9f03587008705': 20.6940931634, '513f3379fdc9f0358700e161': 28.1370746505, '50f56268fdc9f065f0005a4a': 16.3886464251, '51414cc9fdc9f04926007400': 25.5572288441, '513cbea8fdc9f035870011d3': 23.7593162488, '50f433d3fdc9f065f0002731': 36.0681908877, '513d3032fdc9f035870026f2': 16.0881435459, '513f28a7fdc9f0358700d229': 32.8373784797, '50f56260fdc9f065f00059b3': 28.1408371145, '513d797efdc9f03587006501': 26.3929589132, '51415153fdc9f04926007f70': 25.6178843193, '514137d0fdc9f04926005072': 23.2886244907, '513d9fa0fdc9f035870087a8': 21.414910819, '513cb5c0fdc9f03587000986': 31.9076690335, '50f60c40beb2fed910000159': 27.9248683788, '50f5e8fffdc9f065f0007603': 23.810176185, '50f56449fdc9f065f00061e8': 28.7333613609, '513f2fbffdc9f0358700de21': 22.4023336577, '50f433d5fdc9f065f0002758': 23.3669120329, '513d5590fdc9f03587002f53': 24.1951725611, '51422ce3fdc9f04926008b97': 34.8341681078, '513f28d4fdc9f0358700d26c': 31.5967293972, '51408f7ffdc9f049260000df': 20.90865712, '513cc054fdc9f03587001379': 29.3644285039, '51409bf6fdc9f0492600112e': 35.7667823212, '5140cb68fdc9f04926002b52': 20.2304499119, '51414778fdc9f04926006a6d': 33.21849779, '50f447fefdc9f065f0003bbc': 23.4430384978, '50f5ec1efdc9f065f000878b': 19.7324264866, '513f2dfafdc9f0358700db2e': 26.0925835971, '513d5f59fdc9f03587003ba5': 21.6363205997, '514099c0fdc9f04926000e61': 31.6990504641, '513f2c66fdc9f0358700d875': 22.9671231769, '51421aa0fdc9f0492600837c': 29.7695500881, '50f46487fdc9f065f0004707': 28.4966533152, '5185d1fafdc9f03fd500116a': 38.3172701871, '513d77f9fdc9f03587005fec': 23.0203683671, '514137d0fdc9f04926005074': 24.4186331114, '513cd72efdc9f03587001f64': 19.4890965298, '50f563b6fdc9f065f0005e0a': 26.889632116, '51413a4efdc9f0492600569c': 17.7984579046, '51408b71fdc9f0358700e924': 35.0781268378, '513d56b9fdc9f0358700302c': 27.09698631, '514219b7fdc9f04926008281': 22.1839035114, '5140d265fdc9f049260032cf': 21.4267449643, '51408fd9fdc9f04926000193': 15.398081999, '513d350ffdc9f03587002a96': 20.8696914722, '513e6b9efdc9f0358700c05e': 28.7453502138, '513f2904fdc9f0358700d2c5': 32.4672557892, '5140b7b0fdc9f04926001a91': 25.0860565828, '50f42eb1fdc9f065f0002348': 15.5080897764, '50f44808fdc9f065f0003cc4': 25.7185813451, '51413382fdc9f0492600431a': 28.4950348659, '51422d2cfdc9f04926008bde': 22.0337819219, '513e6ca3fdc9f0358700c1bc': 26.3985276045, '50f42bb1fdc9f065f0001607': 21.1501484278, '513f29fafdc9f0358700d46f': 29.5491250947, '513d3256fdc9f035870028a2': 27.1158641155, '51422d81fdc9f04926008c2d': 12.7334509895, '50f56363fdc9f065f0005d22': 23.9249718276, '51422e0cfdc9f04926008cad': 10.6696583497, '514137a7fdc9f04926004fd4': 20.2304499119, '50f5ee94fdc9f065f0008ea7': 21.1760090576, '51422d7ffdc9f04926008c2a': 24.035200191, '513d5fd3fdc9f03587003c43': 25.0, '513d795efdc9f03587006494': 14.3379275887, '513d9c94fdc9f03587007db4': 24.4145485857, '50f607dabeb2fed6f8000317': 17.0833254436, '513d78e3fdc9f03587006309': 32.9060004081, '514227effdc9f049260086ec': 21.9496337689, '513d6c95fdc9f03587004fdc': 24.3533938674, '514140b1fdc9f049260060f7': 18.0821687567, '513cc606fdc9f035870018f3': 23.8494204506, '513d2cd0fdc9f03587002463': 18.215533495, '50f5e87bfdc9f065f00072f4': 26.2545780558, '513e2176fdc9f0358700a444': 27.1229446823, '51408ac9fdc9f0358700e7c8': 25.3059575249, '50f43529fdc9f065f0002bed': 35.2966336831, '513f2dc4fdc9f0358700dacc': 27.86293098, '51413cbffdc9f04926005baf': 34.7632574007, '513d7aaefdc9f035870068fc': 28.4920281338, '51408c16fdc9f0358700ea6f': 25.095838503, '5185cc9efdc9f03fd5000c55': 18.8635256782, '50f55e19fdc9f065f0004a90': 33.3757026608, '513e6b03fdc9f0358700bf90': 19.5789946533, '50f55e7dfdc9f065f0004d11': 26.2841414714, '513e5c22fdc9f0358700aa38': 22.4573547056, '513d5f46fdc9f03587003b8f': 22.1469427998, '513cc1f4fdc9f0358700150c': 15.3388429714, '50f44869fdc9f065f0004076': 34.3520051915, '513cbf0ffdc9f03587001231': 25.8326411555, '5140cdebfdc9f04926002fc9': 23.9007082986, '514138a6fdc9f04926005288': 29.3740031785, '513f28bffdc9f0358700d24e': 15.4979174887, '51414c5cfdc9f049260072fc': 27.6314847283, '51408b80fdc9f0358700e949': 32.3522323086, '5140d9c8fdc9f04926003ca1': 20.2304499119, '50f5e8a6fdc9f065f0007442': 22.2634577577, '513d794afdc9f0358700645c': 22.8841358845, '5140ca44fdc9f049260027b0': 31.1957326369, '50f46457fdc9f065f0004635': 20.1304480743, '513e204efdc9f0358700a17f': 34.3026602491, '50f5e6cafdc9f065f0006e47': 18.2996791117, '513e2025fdc9f0358700a110': 26.5893664375, '513f2eb4fdc9f0358700dc70': 23.6953316921}\n"
     ]
    }
   ],
   "execution_count": 282
  },
  {
   "metadata": {
    "ExecuteTime": {
     "end_time": "2025-08-04T02:42:53.704756Z",
     "start_time": "2025-08-04T02:42:53.701820Z"
    }
   },
   "cell_type": "code",
   "source": [
    "# Extract images corresponding to the extracted ids\n",
    "img_dir = os.path.join(cdir, 'data', 'images')\n",
    "images = ids + '.jpg'\n",
    "input_img_paths = [os.path.join(img_dir, image) for image in images]\n",
    "img_size = (224, 224)\n",
    "num_imgs = len(input_img_paths)"
   ],
   "id": "b78150e37a682f36",
   "outputs": [],
   "execution_count": 283
  },
  {
   "metadata": {
    "ExecuteTime": {
     "end_time": "2025-08-04T02:42:54.119251Z",
     "start_time": "2025-08-04T02:42:54.116119Z"
    }
   },
   "cell_type": "code",
   "source": [
    "def path_to_input_image(path):\n",
    "    img = load_img(img_path, target_size=(256, 256))\n",
    "    img = crop_google_logo(img)\n",
    "    resized_img = tf.image.resize(img, (224, 224), method=tf.image.ResizeMethod.NEAREST_NEIGHBOR)\n",
    "    img_arr = tf.image.convert_image_dtype(resized_img, tf.float32)\n",
    "    return img_arr"
   ],
   "id": "1886b6b1f3370f75",
   "outputs": [],
   "execution_count": 284
  },
  {
   "metadata": {
    "ExecuteTime": {
     "end_time": "2025-08-04T02:42:57.714629Z",
     "start_time": "2025-08-04T02:42:56.162120Z"
    }
   },
   "cell_type": "code",
   "source": [
    "input_imgs = np.zeros((num_imgs, ) + img_size + (3, ), dtype=\"float32\")\n",
    "targets = np.zeros((num_imgs, ), dtype=\"float32\")\n",
    "for i in range(num_imgs):\n",
    "    input_imgs[i] = path_to_input_image(input_img_paths[i])\n",
    "    targets[i] = img_score_dict[os.path.splitext(os.path.basename(input_img_paths[i]))[0]]"
   ],
   "id": "d478edfe633fea62",
   "outputs": [],
   "execution_count": 285
  },
  {
   "metadata": {},
   "cell_type": "markdown",
   "source": "## Prepare data",
   "id": "bf50cb6126795f2f"
  },
  {
   "metadata": {
    "ExecuteTime": {
     "end_time": "2025-08-04T02:44:37.102384Z",
     "start_time": "2025-08-04T02:44:37.100021Z"
    }
   },
   "cell_type": "code",
   "source": [
    "num_val_samples = num_train_samples // 2\n",
    "train_imgs = input_imgs[:-num_val_samples]\n",
    "train_targets = targets[:-num_val_samples]\n",
    "val_imgs = input_imgs[-num_val_samples:]\n",
    "val_targets = targets[-num_val_samples:]"
   ],
   "id": "a6a579ac413fbe87",
   "outputs": [],
   "execution_count": 286
  },
  {
   "metadata": {
    "ExecuteTime": {
     "end_time": "2025-08-04T03:45:16.741582Z",
     "start_time": "2025-08-04T03:45:16.370276Z"
    }
   },
   "cell_type": "code",
   "source": [
    "# Use VGG16\n",
    "conv_base = keras.applications.vgg16.VGG16(weights='imagenet', include_top=False, input_shape=(224, 224, 3))\n",
    "conv_base.trainable = False\n",
    "conv_base.summary()\n",
    "\n",
    "data_augmentation = keras.Sequential(\n",
    "    [\n",
    "        layers.RandomFlip('horizontal'),\n",
    "        layers.RandomRotation(0.1),\n",
    "        layers.RandomZoom(0.2)\n",
    "    ]\n",
    ")\n",
    "callbacks = [\n",
    "    keras.callbacks.ModelCheckpoint(filepath=\"perception_score_CNN_sample.keras\", save_best_only=True, monitor='val_loss'),\n",
    "    keras.callbacks.EarlyStopping(monitor='val_loss', mode='min', patience=10),\n",
    "]\n"
   ],
   "id": "751b083b2a4c05b5",
   "outputs": [
    {
     "data": {
      "text/plain": [
       "\u001B[1mModel: \"vgg16\"\u001B[0m\n"
      ],
      "text/html": [
       "<pre style=\"white-space:pre;overflow-x:auto;line-height:normal;font-family:Menlo,'DejaVu Sans Mono',consolas,'Courier New',monospace\"><span style=\"font-weight: bold\">Model: \"vgg16\"</span>\n",
       "</pre>\n"
      ]
     },
     "metadata": {},
     "output_type": "display_data"
    },
    {
     "data": {
      "text/plain": [
       "┏━━━━━━━━━━━━━━━━━━━━━━━━━━━━━━━━━┳━━━━━━━━━━━━━━━━━━━━━━━━┳━━━━━━━━━━━━━━━┓\n",
       "┃\u001B[1m \u001B[0m\u001B[1mLayer (type)                   \u001B[0m\u001B[1m \u001B[0m┃\u001B[1m \u001B[0m\u001B[1mOutput Shape          \u001B[0m\u001B[1m \u001B[0m┃\u001B[1m \u001B[0m\u001B[1m      Param #\u001B[0m\u001B[1m \u001B[0m┃\n",
       "┡━━━━━━━━━━━━━━━━━━━━━━━━━━━━━━━━━╇━━━━━━━━━━━━━━━━━━━━━━━━╇━━━━━━━━━━━━━━━┩\n",
       "│ input_layer_14 (\u001B[38;5;33mInputLayer\u001B[0m)     │ (\u001B[38;5;45mNone\u001B[0m, \u001B[38;5;34m224\u001B[0m, \u001B[38;5;34m224\u001B[0m, \u001B[38;5;34m3\u001B[0m)    │             \u001B[38;5;34m0\u001B[0m │\n",
       "├─────────────────────────────────┼────────────────────────┼───────────────┤\n",
       "│ block1_conv1 (\u001B[38;5;33mConv2D\u001B[0m)           │ (\u001B[38;5;45mNone\u001B[0m, \u001B[38;5;34m224\u001B[0m, \u001B[38;5;34m224\u001B[0m, \u001B[38;5;34m64\u001B[0m)   │         \u001B[38;5;34m1,792\u001B[0m │\n",
       "├─────────────────────────────────┼────────────────────────┼───────────────┤\n",
       "│ block1_conv2 (\u001B[38;5;33mConv2D\u001B[0m)           │ (\u001B[38;5;45mNone\u001B[0m, \u001B[38;5;34m224\u001B[0m, \u001B[38;5;34m224\u001B[0m, \u001B[38;5;34m64\u001B[0m)   │        \u001B[38;5;34m36,928\u001B[0m │\n",
       "├─────────────────────────────────┼────────────────────────┼───────────────┤\n",
       "│ block1_pool (\u001B[38;5;33mMaxPooling2D\u001B[0m)      │ (\u001B[38;5;45mNone\u001B[0m, \u001B[38;5;34m112\u001B[0m, \u001B[38;5;34m112\u001B[0m, \u001B[38;5;34m64\u001B[0m)   │             \u001B[38;5;34m0\u001B[0m │\n",
       "├─────────────────────────────────┼────────────────────────┼───────────────┤\n",
       "│ block2_conv1 (\u001B[38;5;33mConv2D\u001B[0m)           │ (\u001B[38;5;45mNone\u001B[0m, \u001B[38;5;34m112\u001B[0m, \u001B[38;5;34m112\u001B[0m, \u001B[38;5;34m128\u001B[0m)  │        \u001B[38;5;34m73,856\u001B[0m │\n",
       "├─────────────────────────────────┼────────────────────────┼───────────────┤\n",
       "│ block2_conv2 (\u001B[38;5;33mConv2D\u001B[0m)           │ (\u001B[38;5;45mNone\u001B[0m, \u001B[38;5;34m112\u001B[0m, \u001B[38;5;34m112\u001B[0m, \u001B[38;5;34m128\u001B[0m)  │       \u001B[38;5;34m147,584\u001B[0m │\n",
       "├─────────────────────────────────┼────────────────────────┼───────────────┤\n",
       "│ block2_pool (\u001B[38;5;33mMaxPooling2D\u001B[0m)      │ (\u001B[38;5;45mNone\u001B[0m, \u001B[38;5;34m56\u001B[0m, \u001B[38;5;34m56\u001B[0m, \u001B[38;5;34m128\u001B[0m)    │             \u001B[38;5;34m0\u001B[0m │\n",
       "├─────────────────────────────────┼────────────────────────┼───────────────┤\n",
       "│ block3_conv1 (\u001B[38;5;33mConv2D\u001B[0m)           │ (\u001B[38;5;45mNone\u001B[0m, \u001B[38;5;34m56\u001B[0m, \u001B[38;5;34m56\u001B[0m, \u001B[38;5;34m256\u001B[0m)    │       \u001B[38;5;34m295,168\u001B[0m │\n",
       "├─────────────────────────────────┼────────────────────────┼───────────────┤\n",
       "│ block3_conv2 (\u001B[38;5;33mConv2D\u001B[0m)           │ (\u001B[38;5;45mNone\u001B[0m, \u001B[38;5;34m56\u001B[0m, \u001B[38;5;34m56\u001B[0m, \u001B[38;5;34m256\u001B[0m)    │       \u001B[38;5;34m590,080\u001B[0m │\n",
       "├─────────────────────────────────┼────────────────────────┼───────────────┤\n",
       "│ block3_conv3 (\u001B[38;5;33mConv2D\u001B[0m)           │ (\u001B[38;5;45mNone\u001B[0m, \u001B[38;5;34m56\u001B[0m, \u001B[38;5;34m56\u001B[0m, \u001B[38;5;34m256\u001B[0m)    │       \u001B[38;5;34m590,080\u001B[0m │\n",
       "├─────────────────────────────────┼────────────────────────┼───────────────┤\n",
       "│ block3_pool (\u001B[38;5;33mMaxPooling2D\u001B[0m)      │ (\u001B[38;5;45mNone\u001B[0m, \u001B[38;5;34m28\u001B[0m, \u001B[38;5;34m28\u001B[0m, \u001B[38;5;34m256\u001B[0m)    │             \u001B[38;5;34m0\u001B[0m │\n",
       "├─────────────────────────────────┼────────────────────────┼───────────────┤\n",
       "│ block4_conv1 (\u001B[38;5;33mConv2D\u001B[0m)           │ (\u001B[38;5;45mNone\u001B[0m, \u001B[38;5;34m28\u001B[0m, \u001B[38;5;34m28\u001B[0m, \u001B[38;5;34m512\u001B[0m)    │     \u001B[38;5;34m1,180,160\u001B[0m │\n",
       "├─────────────────────────────────┼────────────────────────┼───────────────┤\n",
       "│ block4_conv2 (\u001B[38;5;33mConv2D\u001B[0m)           │ (\u001B[38;5;45mNone\u001B[0m, \u001B[38;5;34m28\u001B[0m, \u001B[38;5;34m28\u001B[0m, \u001B[38;5;34m512\u001B[0m)    │     \u001B[38;5;34m2,359,808\u001B[0m │\n",
       "├─────────────────────────────────┼────────────────────────┼───────────────┤\n",
       "│ block4_conv3 (\u001B[38;5;33mConv2D\u001B[0m)           │ (\u001B[38;5;45mNone\u001B[0m, \u001B[38;5;34m28\u001B[0m, \u001B[38;5;34m28\u001B[0m, \u001B[38;5;34m512\u001B[0m)    │     \u001B[38;5;34m2,359,808\u001B[0m │\n",
       "├─────────────────────────────────┼────────────────────────┼───────────────┤\n",
       "│ block4_pool (\u001B[38;5;33mMaxPooling2D\u001B[0m)      │ (\u001B[38;5;45mNone\u001B[0m, \u001B[38;5;34m14\u001B[0m, \u001B[38;5;34m14\u001B[0m, \u001B[38;5;34m512\u001B[0m)    │             \u001B[38;5;34m0\u001B[0m │\n",
       "├─────────────────────────────────┼────────────────────────┼───────────────┤\n",
       "│ block5_conv1 (\u001B[38;5;33mConv2D\u001B[0m)           │ (\u001B[38;5;45mNone\u001B[0m, \u001B[38;5;34m14\u001B[0m, \u001B[38;5;34m14\u001B[0m, \u001B[38;5;34m512\u001B[0m)    │     \u001B[38;5;34m2,359,808\u001B[0m │\n",
       "├─────────────────────────────────┼────────────────────────┼───────────────┤\n",
       "│ block5_conv2 (\u001B[38;5;33mConv2D\u001B[0m)           │ (\u001B[38;5;45mNone\u001B[0m, \u001B[38;5;34m14\u001B[0m, \u001B[38;5;34m14\u001B[0m, \u001B[38;5;34m512\u001B[0m)    │     \u001B[38;5;34m2,359,808\u001B[0m │\n",
       "├─────────────────────────────────┼────────────────────────┼───────────────┤\n",
       "│ block5_conv3 (\u001B[38;5;33mConv2D\u001B[0m)           │ (\u001B[38;5;45mNone\u001B[0m, \u001B[38;5;34m14\u001B[0m, \u001B[38;5;34m14\u001B[0m, \u001B[38;5;34m512\u001B[0m)    │     \u001B[38;5;34m2,359,808\u001B[0m │\n",
       "├─────────────────────────────────┼────────────────────────┼───────────────┤\n",
       "│ block5_pool (\u001B[38;5;33mMaxPooling2D\u001B[0m)      │ (\u001B[38;5;45mNone\u001B[0m, \u001B[38;5;34m7\u001B[0m, \u001B[38;5;34m7\u001B[0m, \u001B[38;5;34m512\u001B[0m)      │             \u001B[38;5;34m0\u001B[0m │\n",
       "└─────────────────────────────────┴────────────────────────┴───────────────┘\n"
      ],
      "text/html": [
       "<pre style=\"white-space:pre;overflow-x:auto;line-height:normal;font-family:Menlo,'DejaVu Sans Mono',consolas,'Courier New',monospace\">┏━━━━━━━━━━━━━━━━━━━━━━━━━━━━━━━━━┳━━━━━━━━━━━━━━━━━━━━━━━━┳━━━━━━━━━━━━━━━┓\n",
       "┃<span style=\"font-weight: bold\"> Layer (type)                    </span>┃<span style=\"font-weight: bold\"> Output Shape           </span>┃<span style=\"font-weight: bold\">       Param # </span>┃\n",
       "┡━━━━━━━━━━━━━━━━━━━━━━━━━━━━━━━━━╇━━━━━━━━━━━━━━━━━━━━━━━━╇━━━━━━━━━━━━━━━┩\n",
       "│ input_layer_14 (<span style=\"color: #0087ff; text-decoration-color: #0087ff\">InputLayer</span>)     │ (<span style=\"color: #00d7ff; text-decoration-color: #00d7ff\">None</span>, <span style=\"color: #00af00; text-decoration-color: #00af00\">224</span>, <span style=\"color: #00af00; text-decoration-color: #00af00\">224</span>, <span style=\"color: #00af00; text-decoration-color: #00af00\">3</span>)    │             <span style=\"color: #00af00; text-decoration-color: #00af00\">0</span> │\n",
       "├─────────────────────────────────┼────────────────────────┼───────────────┤\n",
       "│ block1_conv1 (<span style=\"color: #0087ff; text-decoration-color: #0087ff\">Conv2D</span>)           │ (<span style=\"color: #00d7ff; text-decoration-color: #00d7ff\">None</span>, <span style=\"color: #00af00; text-decoration-color: #00af00\">224</span>, <span style=\"color: #00af00; text-decoration-color: #00af00\">224</span>, <span style=\"color: #00af00; text-decoration-color: #00af00\">64</span>)   │         <span style=\"color: #00af00; text-decoration-color: #00af00\">1,792</span> │\n",
       "├─────────────────────────────────┼────────────────────────┼───────────────┤\n",
       "│ block1_conv2 (<span style=\"color: #0087ff; text-decoration-color: #0087ff\">Conv2D</span>)           │ (<span style=\"color: #00d7ff; text-decoration-color: #00d7ff\">None</span>, <span style=\"color: #00af00; text-decoration-color: #00af00\">224</span>, <span style=\"color: #00af00; text-decoration-color: #00af00\">224</span>, <span style=\"color: #00af00; text-decoration-color: #00af00\">64</span>)   │        <span style=\"color: #00af00; text-decoration-color: #00af00\">36,928</span> │\n",
       "├─────────────────────────────────┼────────────────────────┼───────────────┤\n",
       "│ block1_pool (<span style=\"color: #0087ff; text-decoration-color: #0087ff\">MaxPooling2D</span>)      │ (<span style=\"color: #00d7ff; text-decoration-color: #00d7ff\">None</span>, <span style=\"color: #00af00; text-decoration-color: #00af00\">112</span>, <span style=\"color: #00af00; text-decoration-color: #00af00\">112</span>, <span style=\"color: #00af00; text-decoration-color: #00af00\">64</span>)   │             <span style=\"color: #00af00; text-decoration-color: #00af00\">0</span> │\n",
       "├─────────────────────────────────┼────────────────────────┼───────────────┤\n",
       "│ block2_conv1 (<span style=\"color: #0087ff; text-decoration-color: #0087ff\">Conv2D</span>)           │ (<span style=\"color: #00d7ff; text-decoration-color: #00d7ff\">None</span>, <span style=\"color: #00af00; text-decoration-color: #00af00\">112</span>, <span style=\"color: #00af00; text-decoration-color: #00af00\">112</span>, <span style=\"color: #00af00; text-decoration-color: #00af00\">128</span>)  │        <span style=\"color: #00af00; text-decoration-color: #00af00\">73,856</span> │\n",
       "├─────────────────────────────────┼────────────────────────┼───────────────┤\n",
       "│ block2_conv2 (<span style=\"color: #0087ff; text-decoration-color: #0087ff\">Conv2D</span>)           │ (<span style=\"color: #00d7ff; text-decoration-color: #00d7ff\">None</span>, <span style=\"color: #00af00; text-decoration-color: #00af00\">112</span>, <span style=\"color: #00af00; text-decoration-color: #00af00\">112</span>, <span style=\"color: #00af00; text-decoration-color: #00af00\">128</span>)  │       <span style=\"color: #00af00; text-decoration-color: #00af00\">147,584</span> │\n",
       "├─────────────────────────────────┼────────────────────────┼───────────────┤\n",
       "│ block2_pool (<span style=\"color: #0087ff; text-decoration-color: #0087ff\">MaxPooling2D</span>)      │ (<span style=\"color: #00d7ff; text-decoration-color: #00d7ff\">None</span>, <span style=\"color: #00af00; text-decoration-color: #00af00\">56</span>, <span style=\"color: #00af00; text-decoration-color: #00af00\">56</span>, <span style=\"color: #00af00; text-decoration-color: #00af00\">128</span>)    │             <span style=\"color: #00af00; text-decoration-color: #00af00\">0</span> │\n",
       "├─────────────────────────────────┼────────────────────────┼───────────────┤\n",
       "│ block3_conv1 (<span style=\"color: #0087ff; text-decoration-color: #0087ff\">Conv2D</span>)           │ (<span style=\"color: #00d7ff; text-decoration-color: #00d7ff\">None</span>, <span style=\"color: #00af00; text-decoration-color: #00af00\">56</span>, <span style=\"color: #00af00; text-decoration-color: #00af00\">56</span>, <span style=\"color: #00af00; text-decoration-color: #00af00\">256</span>)    │       <span style=\"color: #00af00; text-decoration-color: #00af00\">295,168</span> │\n",
       "├─────────────────────────────────┼────────────────────────┼───────────────┤\n",
       "│ block3_conv2 (<span style=\"color: #0087ff; text-decoration-color: #0087ff\">Conv2D</span>)           │ (<span style=\"color: #00d7ff; text-decoration-color: #00d7ff\">None</span>, <span style=\"color: #00af00; text-decoration-color: #00af00\">56</span>, <span style=\"color: #00af00; text-decoration-color: #00af00\">56</span>, <span style=\"color: #00af00; text-decoration-color: #00af00\">256</span>)    │       <span style=\"color: #00af00; text-decoration-color: #00af00\">590,080</span> │\n",
       "├─────────────────────────────────┼────────────────────────┼───────────────┤\n",
       "│ block3_conv3 (<span style=\"color: #0087ff; text-decoration-color: #0087ff\">Conv2D</span>)           │ (<span style=\"color: #00d7ff; text-decoration-color: #00d7ff\">None</span>, <span style=\"color: #00af00; text-decoration-color: #00af00\">56</span>, <span style=\"color: #00af00; text-decoration-color: #00af00\">56</span>, <span style=\"color: #00af00; text-decoration-color: #00af00\">256</span>)    │       <span style=\"color: #00af00; text-decoration-color: #00af00\">590,080</span> │\n",
       "├─────────────────────────────────┼────────────────────────┼───────────────┤\n",
       "│ block3_pool (<span style=\"color: #0087ff; text-decoration-color: #0087ff\">MaxPooling2D</span>)      │ (<span style=\"color: #00d7ff; text-decoration-color: #00d7ff\">None</span>, <span style=\"color: #00af00; text-decoration-color: #00af00\">28</span>, <span style=\"color: #00af00; text-decoration-color: #00af00\">28</span>, <span style=\"color: #00af00; text-decoration-color: #00af00\">256</span>)    │             <span style=\"color: #00af00; text-decoration-color: #00af00\">0</span> │\n",
       "├─────────────────────────────────┼────────────────────────┼───────────────┤\n",
       "│ block4_conv1 (<span style=\"color: #0087ff; text-decoration-color: #0087ff\">Conv2D</span>)           │ (<span style=\"color: #00d7ff; text-decoration-color: #00d7ff\">None</span>, <span style=\"color: #00af00; text-decoration-color: #00af00\">28</span>, <span style=\"color: #00af00; text-decoration-color: #00af00\">28</span>, <span style=\"color: #00af00; text-decoration-color: #00af00\">512</span>)    │     <span style=\"color: #00af00; text-decoration-color: #00af00\">1,180,160</span> │\n",
       "├─────────────────────────────────┼────────────────────────┼───────────────┤\n",
       "│ block4_conv2 (<span style=\"color: #0087ff; text-decoration-color: #0087ff\">Conv2D</span>)           │ (<span style=\"color: #00d7ff; text-decoration-color: #00d7ff\">None</span>, <span style=\"color: #00af00; text-decoration-color: #00af00\">28</span>, <span style=\"color: #00af00; text-decoration-color: #00af00\">28</span>, <span style=\"color: #00af00; text-decoration-color: #00af00\">512</span>)    │     <span style=\"color: #00af00; text-decoration-color: #00af00\">2,359,808</span> │\n",
       "├─────────────────────────────────┼────────────────────────┼───────────────┤\n",
       "│ block4_conv3 (<span style=\"color: #0087ff; text-decoration-color: #0087ff\">Conv2D</span>)           │ (<span style=\"color: #00d7ff; text-decoration-color: #00d7ff\">None</span>, <span style=\"color: #00af00; text-decoration-color: #00af00\">28</span>, <span style=\"color: #00af00; text-decoration-color: #00af00\">28</span>, <span style=\"color: #00af00; text-decoration-color: #00af00\">512</span>)    │     <span style=\"color: #00af00; text-decoration-color: #00af00\">2,359,808</span> │\n",
       "├─────────────────────────────────┼────────────────────────┼───────────────┤\n",
       "│ block4_pool (<span style=\"color: #0087ff; text-decoration-color: #0087ff\">MaxPooling2D</span>)      │ (<span style=\"color: #00d7ff; text-decoration-color: #00d7ff\">None</span>, <span style=\"color: #00af00; text-decoration-color: #00af00\">14</span>, <span style=\"color: #00af00; text-decoration-color: #00af00\">14</span>, <span style=\"color: #00af00; text-decoration-color: #00af00\">512</span>)    │             <span style=\"color: #00af00; text-decoration-color: #00af00\">0</span> │\n",
       "├─────────────────────────────────┼────────────────────────┼───────────────┤\n",
       "│ block5_conv1 (<span style=\"color: #0087ff; text-decoration-color: #0087ff\">Conv2D</span>)           │ (<span style=\"color: #00d7ff; text-decoration-color: #00d7ff\">None</span>, <span style=\"color: #00af00; text-decoration-color: #00af00\">14</span>, <span style=\"color: #00af00; text-decoration-color: #00af00\">14</span>, <span style=\"color: #00af00; text-decoration-color: #00af00\">512</span>)    │     <span style=\"color: #00af00; text-decoration-color: #00af00\">2,359,808</span> │\n",
       "├─────────────────────────────────┼────────────────────────┼───────────────┤\n",
       "│ block5_conv2 (<span style=\"color: #0087ff; text-decoration-color: #0087ff\">Conv2D</span>)           │ (<span style=\"color: #00d7ff; text-decoration-color: #00d7ff\">None</span>, <span style=\"color: #00af00; text-decoration-color: #00af00\">14</span>, <span style=\"color: #00af00; text-decoration-color: #00af00\">14</span>, <span style=\"color: #00af00; text-decoration-color: #00af00\">512</span>)    │     <span style=\"color: #00af00; text-decoration-color: #00af00\">2,359,808</span> │\n",
       "├─────────────────────────────────┼────────────────────────┼───────────────┤\n",
       "│ block5_conv3 (<span style=\"color: #0087ff; text-decoration-color: #0087ff\">Conv2D</span>)           │ (<span style=\"color: #00d7ff; text-decoration-color: #00d7ff\">None</span>, <span style=\"color: #00af00; text-decoration-color: #00af00\">14</span>, <span style=\"color: #00af00; text-decoration-color: #00af00\">14</span>, <span style=\"color: #00af00; text-decoration-color: #00af00\">512</span>)    │     <span style=\"color: #00af00; text-decoration-color: #00af00\">2,359,808</span> │\n",
       "├─────────────────────────────────┼────────────────────────┼───────────────┤\n",
       "│ block5_pool (<span style=\"color: #0087ff; text-decoration-color: #0087ff\">MaxPooling2D</span>)      │ (<span style=\"color: #00d7ff; text-decoration-color: #00d7ff\">None</span>, <span style=\"color: #00af00; text-decoration-color: #00af00\">7</span>, <span style=\"color: #00af00; text-decoration-color: #00af00\">7</span>, <span style=\"color: #00af00; text-decoration-color: #00af00\">512</span>)      │             <span style=\"color: #00af00; text-decoration-color: #00af00\">0</span> │\n",
       "└─────────────────────────────────┴────────────────────────┴───────────────┘\n",
       "</pre>\n"
      ]
     },
     "metadata": {},
     "output_type": "display_data"
    },
    {
     "data": {
      "text/plain": [
       "\u001B[1m Total params: \u001B[0m\u001B[38;5;34m14,714,688\u001B[0m (56.13 MB)\n"
      ],
      "text/html": [
       "<pre style=\"white-space:pre;overflow-x:auto;line-height:normal;font-family:Menlo,'DejaVu Sans Mono',consolas,'Courier New',monospace\"><span style=\"font-weight: bold\"> Total params: </span><span style=\"color: #00af00; text-decoration-color: #00af00\">14,714,688</span> (56.13 MB)\n",
       "</pre>\n"
      ]
     },
     "metadata": {},
     "output_type": "display_data"
    },
    {
     "data": {
      "text/plain": [
       "\u001B[1m Trainable params: \u001B[0m\u001B[38;5;34m0\u001B[0m (0.00 B)\n"
      ],
      "text/html": [
       "<pre style=\"white-space:pre;overflow-x:auto;line-height:normal;font-family:Menlo,'DejaVu Sans Mono',consolas,'Courier New',monospace\"><span style=\"font-weight: bold\"> Trainable params: </span><span style=\"color: #00af00; text-decoration-color: #00af00\">0</span> (0.00 B)\n",
       "</pre>\n"
      ]
     },
     "metadata": {},
     "output_type": "display_data"
    },
    {
     "data": {
      "text/plain": [
       "\u001B[1m Non-trainable params: \u001B[0m\u001B[38;5;34m14,714,688\u001B[0m (56.13 MB)\n"
      ],
      "text/html": [
       "<pre style=\"white-space:pre;overflow-x:auto;line-height:normal;font-family:Menlo,'DejaVu Sans Mono',consolas,'Courier New',monospace\"><span style=\"font-weight: bold\"> Non-trainable params: </span><span style=\"color: #00af00; text-decoration-color: #00af00\">14,714,688</span> (56.13 MB)\n",
       "</pre>\n"
      ]
     },
     "metadata": {},
     "output_type": "display_data"
    }
   ],
   "execution_count": 305
  },
  {
   "metadata": {
    "ExecuteTime": {
     "end_time": "2025-08-04T03:53:20.071640Z",
     "start_time": "2025-08-04T03:53:20.022979Z"
    }
   },
   "cell_type": "code",
   "source": [
    "# When conv.summary() is run, codes below give errors...\n",
    "## Remember that outputs do not need to have the same shape, as our outputs are not image segmentation\n",
    "## Do not use SeparableConv2D (this assumes independent among channels, but we have RGB, which are very correlated with each other)\n",
    "inputs = keras.Input(shape=img_size + (3, ))\n",
    "# already scaled to [0, 1]\n",
    "x = data_augmentation(inputs)\n",
    "# x = keras.applications.vgg16.preprocess_input(x) # adding this seems to confuse the model. WHY?\n",
    "x = conv_base(x)\n",
    "x = layers.Flatten()(x)\n",
    "x = layers.Dense(256)(x)\n",
    "x = layers.Dropout(0.5)(x)\n",
    "outputs = layers.Dense(1)(x)\n",
    "# x = layers.Conv2D(64, 3, strides=2, padding='same')(inputs)\n",
    "# x = layers.Conv2DTranspose(64, 3, strides=2, padding='same')(x)\n",
    "model = keras.Model(inputs=inputs, outputs=outputs)\n",
    "model.summary()"
   ],
   "id": "473a4e720a58001b",
   "outputs": [
    {
     "data": {
      "text/plain": [
       "\u001B[1mModel: \"functional_7\"\u001B[0m\n"
      ],
      "text/html": [
       "<pre style=\"white-space:pre;overflow-x:auto;line-height:normal;font-family:Menlo,'DejaVu Sans Mono',consolas,'Courier New',monospace\"><span style=\"font-weight: bold\">Model: \"functional_7\"</span>\n",
       "</pre>\n"
      ]
     },
     "metadata": {},
     "output_type": "display_data"
    },
    {
     "data": {
      "text/plain": [
       "┏━━━━━━━━━━━━━━━━━━━━━━━━━━━━━━━━━┳━━━━━━━━━━━━━━━━━━━━━━━━┳━━━━━━━━━━━━━━━┓\n",
       "┃\u001B[1m \u001B[0m\u001B[1mLayer (type)                   \u001B[0m\u001B[1m \u001B[0m┃\u001B[1m \u001B[0m\u001B[1mOutput Shape          \u001B[0m\u001B[1m \u001B[0m┃\u001B[1m \u001B[0m\u001B[1m      Param #\u001B[0m\u001B[1m \u001B[0m┃\n",
       "┡━━━━━━━━━━━━━━━━━━━━━━━━━━━━━━━━━╇━━━━━━━━━━━━━━━━━━━━━━━━╇━━━━━━━━━━━━━━━┩\n",
       "│ input_layer_18 (\u001B[38;5;33mInputLayer\u001B[0m)     │ (\u001B[38;5;45mNone\u001B[0m, \u001B[38;5;34m224\u001B[0m, \u001B[38;5;34m224\u001B[0m, \u001B[38;5;34m3\u001B[0m)    │             \u001B[38;5;34m0\u001B[0m │\n",
       "├─────────────────────────────────┼────────────────────────┼───────────────┤\n",
       "│ sequential_4 (\u001B[38;5;33mSequential\u001B[0m)       │ (\u001B[38;5;45mNone\u001B[0m, \u001B[38;5;34m224\u001B[0m, \u001B[38;5;34m224\u001B[0m, \u001B[38;5;34m3\u001B[0m)    │             \u001B[38;5;34m0\u001B[0m │\n",
       "├─────────────────────────────────┼────────────────────────┼───────────────┤\n",
       "│ vgg16 (\u001B[38;5;33mFunctional\u001B[0m)              │ (\u001B[38;5;45mNone\u001B[0m, \u001B[38;5;34m7\u001B[0m, \u001B[38;5;34m7\u001B[0m, \u001B[38;5;34m512\u001B[0m)      │    \u001B[38;5;34m14,714,688\u001B[0m │\n",
       "├─────────────────────────────────┼────────────────────────┼───────────────┤\n",
       "│ flatten_2 (\u001B[38;5;33mFlatten\u001B[0m)             │ (\u001B[38;5;45mNone\u001B[0m, \u001B[38;5;34m25088\u001B[0m)          │             \u001B[38;5;34m0\u001B[0m │\n",
       "├─────────────────────────────────┼────────────────────────┼───────────────┤\n",
       "│ dense_8 (\u001B[38;5;33mDense\u001B[0m)                 │ (\u001B[38;5;45mNone\u001B[0m, \u001B[38;5;34m256\u001B[0m)            │     \u001B[38;5;34m6,422,784\u001B[0m │\n",
       "├─────────────────────────────────┼────────────────────────┼───────────────┤\n",
       "│ dropout_3 (\u001B[38;5;33mDropout\u001B[0m)             │ (\u001B[38;5;45mNone\u001B[0m, \u001B[38;5;34m256\u001B[0m)            │             \u001B[38;5;34m0\u001B[0m │\n",
       "├─────────────────────────────────┼────────────────────────┼───────────────┤\n",
       "│ dense_9 (\u001B[38;5;33mDense\u001B[0m)                 │ (\u001B[38;5;45mNone\u001B[0m, \u001B[38;5;34m1\u001B[0m)              │           \u001B[38;5;34m257\u001B[0m │\n",
       "└─────────────────────────────────┴────────────────────────┴───────────────┘\n"
      ],
      "text/html": [
       "<pre style=\"white-space:pre;overflow-x:auto;line-height:normal;font-family:Menlo,'DejaVu Sans Mono',consolas,'Courier New',monospace\">┏━━━━━━━━━━━━━━━━━━━━━━━━━━━━━━━━━┳━━━━━━━━━━━━━━━━━━━━━━━━┳━━━━━━━━━━━━━━━┓\n",
       "┃<span style=\"font-weight: bold\"> Layer (type)                    </span>┃<span style=\"font-weight: bold\"> Output Shape           </span>┃<span style=\"font-weight: bold\">       Param # </span>┃\n",
       "┡━━━━━━━━━━━━━━━━━━━━━━━━━━━━━━━━━╇━━━━━━━━━━━━━━━━━━━━━━━━╇━━━━━━━━━━━━━━━┩\n",
       "│ input_layer_18 (<span style=\"color: #0087ff; text-decoration-color: #0087ff\">InputLayer</span>)     │ (<span style=\"color: #00d7ff; text-decoration-color: #00d7ff\">None</span>, <span style=\"color: #00af00; text-decoration-color: #00af00\">224</span>, <span style=\"color: #00af00; text-decoration-color: #00af00\">224</span>, <span style=\"color: #00af00; text-decoration-color: #00af00\">3</span>)    │             <span style=\"color: #00af00; text-decoration-color: #00af00\">0</span> │\n",
       "├─────────────────────────────────┼────────────────────────┼───────────────┤\n",
       "│ sequential_4 (<span style=\"color: #0087ff; text-decoration-color: #0087ff\">Sequential</span>)       │ (<span style=\"color: #00d7ff; text-decoration-color: #00d7ff\">None</span>, <span style=\"color: #00af00; text-decoration-color: #00af00\">224</span>, <span style=\"color: #00af00; text-decoration-color: #00af00\">224</span>, <span style=\"color: #00af00; text-decoration-color: #00af00\">3</span>)    │             <span style=\"color: #00af00; text-decoration-color: #00af00\">0</span> │\n",
       "├─────────────────────────────────┼────────────────────────┼───────────────┤\n",
       "│ vgg16 (<span style=\"color: #0087ff; text-decoration-color: #0087ff\">Functional</span>)              │ (<span style=\"color: #00d7ff; text-decoration-color: #00d7ff\">None</span>, <span style=\"color: #00af00; text-decoration-color: #00af00\">7</span>, <span style=\"color: #00af00; text-decoration-color: #00af00\">7</span>, <span style=\"color: #00af00; text-decoration-color: #00af00\">512</span>)      │    <span style=\"color: #00af00; text-decoration-color: #00af00\">14,714,688</span> │\n",
       "├─────────────────────────────────┼────────────────────────┼───────────────┤\n",
       "│ flatten_2 (<span style=\"color: #0087ff; text-decoration-color: #0087ff\">Flatten</span>)             │ (<span style=\"color: #00d7ff; text-decoration-color: #00d7ff\">None</span>, <span style=\"color: #00af00; text-decoration-color: #00af00\">25088</span>)          │             <span style=\"color: #00af00; text-decoration-color: #00af00\">0</span> │\n",
       "├─────────────────────────────────┼────────────────────────┼───────────────┤\n",
       "│ dense_8 (<span style=\"color: #0087ff; text-decoration-color: #0087ff\">Dense</span>)                 │ (<span style=\"color: #00d7ff; text-decoration-color: #00d7ff\">None</span>, <span style=\"color: #00af00; text-decoration-color: #00af00\">256</span>)            │     <span style=\"color: #00af00; text-decoration-color: #00af00\">6,422,784</span> │\n",
       "├─────────────────────────────────┼────────────────────────┼───────────────┤\n",
       "│ dropout_3 (<span style=\"color: #0087ff; text-decoration-color: #0087ff\">Dropout</span>)             │ (<span style=\"color: #00d7ff; text-decoration-color: #00d7ff\">None</span>, <span style=\"color: #00af00; text-decoration-color: #00af00\">256</span>)            │             <span style=\"color: #00af00; text-decoration-color: #00af00\">0</span> │\n",
       "├─────────────────────────────────┼────────────────────────┼───────────────┤\n",
       "│ dense_9 (<span style=\"color: #0087ff; text-decoration-color: #0087ff\">Dense</span>)                 │ (<span style=\"color: #00d7ff; text-decoration-color: #00d7ff\">None</span>, <span style=\"color: #00af00; text-decoration-color: #00af00\">1</span>)              │           <span style=\"color: #00af00; text-decoration-color: #00af00\">257</span> │\n",
       "└─────────────────────────────────┴────────────────────────┴───────────────┘\n",
       "</pre>\n"
      ]
     },
     "metadata": {},
     "output_type": "display_data"
    },
    {
     "data": {
      "text/plain": [
       "\u001B[1m Total params: \u001B[0m\u001B[38;5;34m21,137,729\u001B[0m (80.63 MB)\n"
      ],
      "text/html": [
       "<pre style=\"white-space:pre;overflow-x:auto;line-height:normal;font-family:Menlo,'DejaVu Sans Mono',consolas,'Courier New',monospace\"><span style=\"font-weight: bold\"> Total params: </span><span style=\"color: #00af00; text-decoration-color: #00af00\">21,137,729</span> (80.63 MB)\n",
       "</pre>\n"
      ]
     },
     "metadata": {},
     "output_type": "display_data"
    },
    {
     "data": {
      "text/plain": [
       "\u001B[1m Trainable params: \u001B[0m\u001B[38;5;34m6,423,041\u001B[0m (24.50 MB)\n"
      ],
      "text/html": [
       "<pre style=\"white-space:pre;overflow-x:auto;line-height:normal;font-family:Menlo,'DejaVu Sans Mono',consolas,'Courier New',monospace\"><span style=\"font-weight: bold\"> Trainable params: </span><span style=\"color: #00af00; text-decoration-color: #00af00\">6,423,041</span> (24.50 MB)\n",
       "</pre>\n"
      ]
     },
     "metadata": {},
     "output_type": "display_data"
    },
    {
     "data": {
      "text/plain": [
       "\u001B[1m Non-trainable params: \u001B[0m\u001B[38;5;34m14,714,688\u001B[0m (56.13 MB)\n"
      ],
      "text/html": [
       "<pre style=\"white-space:pre;overflow-x:auto;line-height:normal;font-family:Menlo,'DejaVu Sans Mono',consolas,'Courier New',monospace\"><span style=\"font-weight: bold\"> Non-trainable params: </span><span style=\"color: #00af00; text-decoration-color: #00af00\">14,714,688</span> (56.13 MB)\n",
       "</pre>\n"
      ]
     },
     "metadata": {},
     "output_type": "display_data"
    }
   ],
   "execution_count": 316
  },
  {
   "metadata": {
    "ExecuteTime": {
     "end_time": "2025-08-04T03:54:17.577807Z",
     "start_time": "2025-08-04T03:53:23.553589Z"
    }
   },
   "cell_type": "code",
   "source": [
    "# Train the model\n",
    "model.compile(optimizer=keras.optimizers.RMSprop(learning_rate=1e-5),\n",
    "              loss='mse',\n",
    "              metrics=['mae'])\n",
    "history = model.fit(train_imgs, train_targets, epochs=100, batch_size=64, validation_data=(val_imgs, val_targets))"
   ],
   "id": "74b0ffa17580986",
   "outputs": [
    {
     "name": "stdout",
     "output_type": "stream",
     "text": [
      "Epoch 1/100\n",
      "\u001B[1m2/2\u001B[0m \u001B[32m━━━━━━━━━━━━━━━━━━━━\u001B[0m\u001B[37m\u001B[0m \u001B[1m2s\u001B[0m 595ms/step - loss: 627.8823 - mae: 24.3395 - val_loss: 638.9846 - val_mae: 24.6087\n",
      "Epoch 2/100\n",
      "\u001B[1m2/2\u001B[0m \u001B[32m━━━━━━━━━━━━━━━━━━━━\u001B[0m\u001B[37m\u001B[0m \u001B[1m1s\u001B[0m 364ms/step - loss: 635.1607 - mae: 24.4438 - val_loss: 638.9846 - val_mae: 24.6087\n",
      "Epoch 3/100\n",
      "\u001B[1m2/2\u001B[0m \u001B[32m━━━━━━━━━━━━━━━━━━━━\u001B[0m\u001B[37m\u001B[0m \u001B[1m1s\u001B[0m 362ms/step - loss: 624.9736 - mae: 24.3337 - val_loss: 638.9846 - val_mae: 24.6087\n",
      "Epoch 4/100\n",
      "\u001B[1m2/2\u001B[0m \u001B[32m━━━━━━━━━━━━━━━━━━━━\u001B[0m\u001B[37m\u001B[0m \u001B[1m1s\u001B[0m 361ms/step - loss: 609.7530 - mae: 23.9151 - val_loss: 478.2888 - val_mae: 21.0968\n",
      "Epoch 5/100\n",
      "\u001B[1m2/2\u001B[0m \u001B[32m━━━━━━━━━━━━━━━━━━━━\u001B[0m\u001B[37m\u001B[0m \u001B[1m1s\u001B[0m 364ms/step - loss: 435.6275 - mae: 19.9383 - val_loss: 391.3597 - val_mae: 18.9278\n",
      "Epoch 6/100\n",
      "\u001B[1m2/2\u001B[0m \u001B[32m━━━━━━━━━━━━━━━━━━━━\u001B[0m\u001B[37m\u001B[0m \u001B[1m1s\u001B[0m 369ms/step - loss: 327.9410 - mae: 17.1587 - val_loss: 326.7050 - val_mae: 17.1369\n",
      "Epoch 7/100\n",
      "\u001B[1m2/2\u001B[0m \u001B[32m━━━━━━━━━━━━━━━━━━━━\u001B[0m\u001B[37m\u001B[0m \u001B[1m1s\u001B[0m 374ms/step - loss: 276.9736 - mae: 15.5656 - val_loss: 278.8997 - val_mae: 15.6776\n",
      "Epoch 8/100\n",
      "\u001B[1m2/2\u001B[0m \u001B[32m━━━━━━━━━━━━━━━━━━━━\u001B[0m\u001B[37m\u001B[0m \u001B[1m1s\u001B[0m 358ms/step - loss: 238.5419 - mae: 14.1717 - val_loss: 239.0229 - val_mae: 14.3480\n",
      "Epoch 9/100\n",
      "\u001B[1m2/2\u001B[0m \u001B[32m━━━━━━━━━━━━━━━━━━━━\u001B[0m\u001B[37m\u001B[0m \u001B[1m1s\u001B[0m 361ms/step - loss: 182.9286 - mae: 12.1528 - val_loss: 206.9730 - val_mae: 13.2081\n",
      "Epoch 10/100\n",
      "\u001B[1m2/2\u001B[0m \u001B[32m━━━━━━━━━━━━━━━━━━━━\u001B[0m\u001B[37m\u001B[0m \u001B[1m1s\u001B[0m 357ms/step - loss: 161.4002 - mae: 11.2893 - val_loss: 179.7066 - val_mae: 12.1559\n",
      "Epoch 11/100\n",
      "\u001B[1m2/2\u001B[0m \u001B[32m━━━━━━━━━━━━━━━━━━━━\u001B[0m\u001B[37m\u001B[0m \u001B[1m1s\u001B[0m 362ms/step - loss: 127.9160 - mae: 9.8786 - val_loss: 156.3207 - val_mae: 11.1873\n",
      "Epoch 12/100\n",
      "\u001B[1m2/2\u001B[0m \u001B[32m━━━━━━━━━━━━━━━━━━━━\u001B[0m\u001B[37m\u001B[0m \u001B[1m1s\u001B[0m 369ms/step - loss: 116.3642 - mae: 9.2053 - val_loss: 137.6641 - val_mae: 10.3573\n",
      "Epoch 13/100\n",
      "\u001B[1m2/2\u001B[0m \u001B[32m━━━━━━━━━━━━━━━━━━━━\u001B[0m\u001B[37m\u001B[0m \u001B[1m1s\u001B[0m 357ms/step - loss: 99.9473 - mae: 8.5155 - val_loss: 119.5193 - val_mae: 9.5109\n",
      "Epoch 14/100\n",
      "\u001B[1m2/2\u001B[0m \u001B[32m━━━━━━━━━━━━━━━━━━━━\u001B[0m\u001B[37m\u001B[0m \u001B[1m1s\u001B[0m 367ms/step - loss: 88.7335 - mae: 7.8380 - val_loss: 105.6082 - val_mae: 8.8481\n",
      "Epoch 15/100\n",
      "\u001B[1m2/2\u001B[0m \u001B[32m━━━━━━━━━━━━━━━━━━━━\u001B[0m\u001B[37m\u001B[0m \u001B[1m1s\u001B[0m 362ms/step - loss: 78.1825 - mae: 7.5357 - val_loss: 94.1320 - val_mae: 8.2609\n",
      "Epoch 16/100\n",
      "\u001B[1m2/2\u001B[0m \u001B[32m━━━━━━━━━━━━━━━━━━━━\u001B[0m\u001B[37m\u001B[0m \u001B[1m1s\u001B[0m 359ms/step - loss: 61.9921 - mae: 6.4876 - val_loss: 83.4226 - val_mae: 7.6750\n",
      "Epoch 17/100\n",
      "\u001B[1m2/2\u001B[0m \u001B[32m━━━━━━━━━━━━━━━━━━━━\u001B[0m\u001B[37m\u001B[0m \u001B[1m1s\u001B[0m 357ms/step - loss: 57.7149 - mae: 6.2645 - val_loss: 74.9500 - val_mae: 7.1988\n",
      "Epoch 18/100\n",
      "\u001B[1m2/2\u001B[0m \u001B[32m━━━━━━━━━━━━━━━━━━━━\u001B[0m\u001B[37m\u001B[0m \u001B[1m1s\u001B[0m 369ms/step - loss: 51.3167 - mae: 5.7732 - val_loss: 66.7133 - val_mae: 6.7097\n",
      "Epoch 19/100\n",
      "\u001B[1m2/2\u001B[0m \u001B[32m━━━━━━━━━━━━━━━━━━━━\u001B[0m\u001B[37m\u001B[0m \u001B[1m1s\u001B[0m 359ms/step - loss: 47.0473 - mae: 5.3772 - val_loss: 60.1858 - val_mae: 6.2978\n",
      "Epoch 20/100\n",
      "\u001B[1m2/2\u001B[0m \u001B[32m━━━━━━━━━━━━━━━━━━━━\u001B[0m\u001B[37m\u001B[0m \u001B[1m1s\u001B[0m 365ms/step - loss: 51.7467 - mae: 5.7471 - val_loss: 55.9763 - val_mae: 6.0253\n",
      "Epoch 21/100\n",
      "\u001B[1m2/2\u001B[0m \u001B[32m━━━━━━━━━━━━━━━━━━━━\u001B[0m\u001B[37m\u001B[0m \u001B[1m1s\u001B[0m 363ms/step - loss: 46.5929 - mae: 5.3753 - val_loss: 52.3960 - val_mae: 5.7987\n",
      "Epoch 22/100\n",
      "\u001B[1m2/2\u001B[0m \u001B[32m━━━━━━━━━━━━━━━━━━━━\u001B[0m\u001B[37m\u001B[0m \u001B[1m1s\u001B[0m 373ms/step - loss: 43.7237 - mae: 5.4565 - val_loss: 50.1357 - val_mae: 5.6466\n",
      "Epoch 23/100\n",
      "\u001B[1m2/2\u001B[0m \u001B[32m━━━━━━━━━━━━━━━━━━━━\u001B[0m\u001B[37m\u001B[0m \u001B[1m1s\u001B[0m 362ms/step - loss: 41.2446 - mae: 5.0780 - val_loss: 48.5470 - val_mae: 5.5397\n",
      "Epoch 24/100\n",
      "\u001B[1m2/2\u001B[0m \u001B[32m━━━━━━━━━━━━━━━━━━━━\u001B[0m\u001B[37m\u001B[0m \u001B[1m1s\u001B[0m 366ms/step - loss: 42.3358 - mae: 5.3280 - val_loss: 47.0681 - val_mae: 5.4422\n",
      "Epoch 25/100\n",
      "\u001B[1m2/2\u001B[0m \u001B[32m━━━━━━━━━━━━━━━━━━━━\u001B[0m\u001B[37m\u001B[0m \u001B[1m1s\u001B[0m 369ms/step - loss: 34.8037 - mae: 4.7525 - val_loss: 45.0484 - val_mae: 5.3091\n",
      "Epoch 26/100\n",
      "\u001B[1m2/2\u001B[0m \u001B[32m━━━━━━━━━━━━━━━━━━━━\u001B[0m\u001B[37m\u001B[0m \u001B[1m1s\u001B[0m 366ms/step - loss: 43.3702 - mae: 5.4270 - val_loss: 43.6513 - val_mae: 5.2162\n",
      "Epoch 27/100\n",
      "\u001B[1m2/2\u001B[0m \u001B[32m━━━━━━━━━━━━━━━━━━━━\u001B[0m\u001B[37m\u001B[0m \u001B[1m1s\u001B[0m 367ms/step - loss: 42.8301 - mae: 5.1258 - val_loss: 44.2015 - val_mae: 5.2534\n",
      "Epoch 28/100\n",
      "\u001B[1m2/2\u001B[0m \u001B[32m━━━━━━━━━━━━━━━━━━━━\u001B[0m\u001B[37m\u001B[0m \u001B[1m1s\u001B[0m 364ms/step - loss: 40.8404 - mae: 5.3071 - val_loss: 44.6210 - val_mae: 5.2809\n",
      "Epoch 29/100\n",
      "\u001B[1m2/2\u001B[0m \u001B[32m━━━━━━━━━━━━━━━━━━━━\u001B[0m\u001B[37m\u001B[0m \u001B[1m1s\u001B[0m 361ms/step - loss: 34.7257 - mae: 4.8204 - val_loss: 44.0979 - val_mae: 5.2466\n",
      "Epoch 30/100\n",
      "\u001B[1m2/2\u001B[0m \u001B[32m━━━━━━━━━━━━━━━━━━━━\u001B[0m\u001B[37m\u001B[0m \u001B[1m1s\u001B[0m 368ms/step - loss: 33.5814 - mae: 4.6353 - val_loss: 40.9510 - val_mae: 5.0347\n",
      "Epoch 31/100\n",
      "\u001B[1m2/2\u001B[0m \u001B[32m━━━━━━━━━━━━━━━━━━━━\u001B[0m\u001B[37m\u001B[0m \u001B[1m1s\u001B[0m 367ms/step - loss: 39.8805 - mae: 5.1548 - val_loss: 43.7898 - val_mae: 5.2259\n",
      "Epoch 32/100\n",
      "\u001B[1m2/2\u001B[0m \u001B[32m━━━━━━━━━━━━━━━━━━━━\u001B[0m\u001B[37m\u001B[0m \u001B[1m1s\u001B[0m 378ms/step - loss: 41.4706 - mae: 5.2133 - val_loss: 41.3041 - val_mae: 5.0572\n",
      "Epoch 33/100\n",
      "\u001B[1m2/2\u001B[0m \u001B[32m━━━━━━━━━━━━━━━━━━━━\u001B[0m\u001B[37m\u001B[0m \u001B[1m1s\u001B[0m 396ms/step - loss: 39.1436 - mae: 5.0575 - val_loss: 43.9947 - val_mae: 5.2397\n",
      "Epoch 34/100\n",
      "\u001B[1m2/2\u001B[0m \u001B[32m━━━━━━━━━━━━━━━━━━━━\u001B[0m\u001B[37m\u001B[0m \u001B[1m1s\u001B[0m 376ms/step - loss: 34.6057 - mae: 4.7479 - val_loss: 43.3859 - val_mae: 5.1984\n",
      "Epoch 35/100\n",
      "\u001B[1m2/2\u001B[0m \u001B[32m━━━━━━━━━━━━━━━━━━━━\u001B[0m\u001B[37m\u001B[0m \u001B[1m1s\u001B[0m 361ms/step - loss: 41.4349 - mae: 5.1369 - val_loss: 42.5057 - val_mae: 5.1375\n",
      "Epoch 36/100\n",
      "\u001B[1m2/2\u001B[0m \u001B[32m━━━━━━━━━━━━━━━━━━━━\u001B[0m\u001B[37m\u001B[0m \u001B[1m1s\u001B[0m 367ms/step - loss: 37.3604 - mae: 4.8135 - val_loss: 42.1272 - val_mae: 5.1119\n",
      "Epoch 37/100\n",
      "\u001B[1m2/2\u001B[0m \u001B[32m━━━━━━━━━━━━━━━━━━━━\u001B[0m\u001B[37m\u001B[0m \u001B[1m1s\u001B[0m 370ms/step - loss: 41.2508 - mae: 5.3010 - val_loss: 40.2682 - val_mae: 4.9922\n",
      "Epoch 38/100\n",
      "\u001B[1m2/2\u001B[0m \u001B[32m━━━━━━━━━━━━━━━━━━━━\u001B[0m\u001B[37m\u001B[0m \u001B[1m1s\u001B[0m 369ms/step - loss: 35.9725 - mae: 4.7491 - val_loss: 41.0385 - val_mae: 5.0403\n",
      "Epoch 39/100\n",
      "\u001B[1m2/2\u001B[0m \u001B[32m━━━━━━━━━━━━━━━━━━━━\u001B[0m\u001B[37m\u001B[0m \u001B[1m1s\u001B[0m 366ms/step - loss: 39.5300 - mae: 4.9868 - val_loss: 40.1023 - val_mae: 4.9819\n",
      "Epoch 40/100\n",
      "\u001B[1m2/2\u001B[0m \u001B[32m━━━━━━━━━━━━━━━━━━━━\u001B[0m\u001B[37m\u001B[0m \u001B[1m1s\u001B[0m 378ms/step - loss: 43.2231 - mae: 5.2110 - val_loss: 39.7766 - val_mae: 4.9625\n",
      "Epoch 41/100\n",
      "\u001B[1m2/2\u001B[0m \u001B[32m━━━━━━━━━━━━━━━━━━━━\u001B[0m\u001B[37m\u001B[0m \u001B[1m1s\u001B[0m 385ms/step - loss: 37.8846 - mae: 4.9921 - val_loss: 39.3803 - val_mae: 4.9391\n",
      "Epoch 42/100\n",
      "\u001B[1m2/2\u001B[0m \u001B[32m━━━━━━━━━━━━━━━━━━━━\u001B[0m\u001B[37m\u001B[0m \u001B[1m1s\u001B[0m 360ms/step - loss: 34.0110 - mae: 4.7078 - val_loss: 39.0721 - val_mae: 4.9203\n",
      "Epoch 43/100\n",
      "\u001B[1m2/2\u001B[0m \u001B[32m━━━━━━━━━━━━━━━━━━━━\u001B[0m\u001B[37m\u001B[0m \u001B[1m1s\u001B[0m 358ms/step - loss: 39.7010 - mae: 4.9751 - val_loss: 37.4516 - val_mae: 4.8147\n",
      "Epoch 44/100\n",
      "\u001B[1m2/2\u001B[0m \u001B[32m━━━━━━━━━━━━━━━━━━━━\u001B[0m\u001B[37m\u001B[0m \u001B[1m1s\u001B[0m 359ms/step - loss: 39.8397 - mae: 5.0947 - val_loss: 38.9210 - val_mae: 4.9109\n",
      "Epoch 45/100\n",
      "\u001B[1m2/2\u001B[0m \u001B[32m━━━━━━━━━━━━━━━━━━━━\u001B[0m\u001B[37m\u001B[0m \u001B[1m1s\u001B[0m 357ms/step - loss: 36.5933 - mae: 4.8739 - val_loss: 40.9510 - val_mae: 5.0347\n",
      "Epoch 46/100\n",
      "\u001B[1m2/2\u001B[0m \u001B[32m━━━━━━━━━━━━━━━━━━━━\u001B[0m\u001B[37m\u001B[0m \u001B[1m1s\u001B[0m 374ms/step - loss: 35.9825 - mae: 4.9542 - val_loss: 37.9860 - val_mae: 4.8500\n",
      "Epoch 47/100\n",
      "\u001B[1m2/2\u001B[0m \u001B[32m━━━━━━━━━━━━━━━━━━━━\u001B[0m\u001B[37m\u001B[0m \u001B[1m1s\u001B[0m 365ms/step - loss: 37.6991 - mae: 4.7183 - val_loss: 38.7718 - val_mae: 4.9016\n",
      "Epoch 48/100\n",
      "\u001B[1m2/2\u001B[0m \u001B[32m━━━━━━━━━━━━━━━━━━━━\u001B[0m\u001B[37m\u001B[0m \u001B[1m1s\u001B[0m 360ms/step - loss: 32.9433 - mae: 4.5079 - val_loss: 38.1244 - val_mae: 4.8594\n",
      "Epoch 49/100\n",
      "\u001B[1m2/2\u001B[0m \u001B[32m━━━━━━━━━━━━━━━━━━━━\u001B[0m\u001B[37m\u001B[0m \u001B[1m1s\u001B[0m 361ms/step - loss: 37.7741 - mae: 4.7985 - val_loss: 37.9175 - val_mae: 4.8453\n",
      "Epoch 50/100\n",
      "\u001B[1m2/2\u001B[0m \u001B[32m━━━━━━━━━━━━━━━━━━━━\u001B[0m\u001B[37m\u001B[0m \u001B[1m1s\u001B[0m 357ms/step - loss: 41.1901 - mae: 5.2409 - val_loss: 36.0360 - val_mae: 4.7256\n",
      "Epoch 51/100\n",
      "\u001B[1m2/2\u001B[0m \u001B[32m━━━━━━━━━━━━━━━━━━━━\u001B[0m\u001B[37m\u001B[0m \u001B[1m1s\u001B[0m 361ms/step - loss: 39.8623 - mae: 4.9816 - val_loss: 35.8274 - val_mae: 4.7131\n",
      "Epoch 52/100\n",
      "\u001B[1m2/2\u001B[0m \u001B[32m━━━━━━━━━━━━━━━━━━━━\u001B[0m\u001B[37m\u001B[0m \u001B[1m1s\u001B[0m 365ms/step - loss: 38.7311 - mae: 4.8587 - val_loss: 36.6499 - val_mae: 4.7653\n",
      "Epoch 53/100\n",
      "\u001B[1m2/2\u001B[0m \u001B[32m━━━━━━━━━━━━━━━━━━━━\u001B[0m\u001B[37m\u001B[0m \u001B[1m1s\u001B[0m 371ms/step - loss: 32.6452 - mae: 4.6322 - val_loss: 37.5823 - val_mae: 4.8231\n",
      "Epoch 54/100\n",
      "\u001B[1m2/2\u001B[0m \u001B[32m━━━━━━━━━━━━━━━━━━━━\u001B[0m\u001B[37m\u001B[0m \u001B[1m1s\u001B[0m 357ms/step - loss: 41.0119 - mae: 5.1573 - val_loss: 38.7718 - val_mae: 4.9016\n",
      "Epoch 55/100\n",
      "\u001B[1m2/2\u001B[0m \u001B[32m━━━━━━━━━━━━━━━━━━━━\u001B[0m\u001B[37m\u001B[0m \u001B[1m1s\u001B[0m 359ms/step - loss: 40.9976 - mae: 5.0370 - val_loss: 40.2682 - val_mae: 4.9922\n",
      "Epoch 56/100\n",
      "\u001B[1m2/2\u001B[0m \u001B[32m━━━━━━━━━━━━━━━━━━━━\u001B[0m\u001B[37m\u001B[0m \u001B[1m1s\u001B[0m 366ms/step - loss: 36.8173 - mae: 4.8970 - val_loss: 37.9860 - val_mae: 4.8500\n",
      "Epoch 57/100\n",
      "\u001B[1m2/2\u001B[0m \u001B[32m━━━━━━━━━━━━━━━━━━━━\u001B[0m\u001B[37m\u001B[0m \u001B[1m1s\u001B[0m 362ms/step - loss: 39.6739 - mae: 5.0450 - val_loss: 36.8276 - val_mae: 4.7766\n",
      "Epoch 58/100\n",
      "\u001B[1m2/2\u001B[0m \u001B[32m━━━━━━━━━━━━━━━━━━━━\u001B[0m\u001B[37m\u001B[0m \u001B[1m1s\u001B[0m 372ms/step - loss: 40.9967 - mae: 5.2454 - val_loss: 39.0721 - val_mae: 4.9203\n",
      "Epoch 59/100\n",
      "\u001B[1m2/2\u001B[0m \u001B[32m━━━━━━━━━━━━━━━━━━━━\u001B[0m\u001B[37m\u001B[0m \u001B[1m1s\u001B[0m 356ms/step - loss: 43.4191 - mae: 5.2899 - val_loss: 37.3870 - val_mae: 4.8106\n",
      "Epoch 60/100\n",
      "\u001B[1m2/2\u001B[0m \u001B[32m━━━━━━━━━━━━━━━━━━━━\u001B[0m\u001B[37m\u001B[0m \u001B[1m1s\u001B[0m 396ms/step - loss: 37.8072 - mae: 4.8363 - val_loss: 38.1944 - val_mae: 4.8641\n",
      "Epoch 61/100\n",
      "\u001B[1m2/2\u001B[0m \u001B[32m━━━━━━━━━━━━━━━━━━━━\u001B[0m\u001B[37m\u001B[0m \u001B[1m1s\u001B[0m 361ms/step - loss: 42.6729 - mae: 5.2864 - val_loss: 37.0713 - val_mae: 4.7916\n",
      "Epoch 62/100\n",
      "\u001B[1m2/2\u001B[0m \u001B[32m━━━━━━━━━━━━━━━━━━━━\u001B[0m\u001B[37m\u001B[0m \u001B[1m1s\u001B[0m 362ms/step - loss: 38.9055 - mae: 5.1769 - val_loss: 36.4198 - val_mae: 4.7503\n",
      "Epoch 63/100\n",
      "\u001B[1m2/2\u001B[0m \u001B[32m━━━━━━━━━━━━━━━━━━━━\u001B[0m\u001B[37m\u001B[0m \u001B[1m1s\u001B[0m 353ms/step - loss: 38.9618 - mae: 5.1212 - val_loss: 37.1335 - val_mae: 4.7953\n",
      "Epoch 64/100\n",
      "\u001B[1m2/2\u001B[0m \u001B[32m━━━━━━━━━━━━━━━━━━━━\u001B[0m\u001B[37m\u001B[0m \u001B[1m1s\u001B[0m 356ms/step - loss: 37.7884 - mae: 4.9149 - val_loss: 36.4198 - val_mae: 4.7503\n",
      "Epoch 65/100\n",
      "\u001B[1m2/2\u001B[0m \u001B[32m━━━━━━━━━━━━━━━━━━━━\u001B[0m\u001B[37m\u001B[0m \u001B[1m1s\u001B[0m 419ms/step - loss: 37.5397 - mae: 4.9346 - val_loss: 35.6266 - val_mae: 4.7016\n",
      "Epoch 66/100\n",
      "\u001B[1m2/2\u001B[0m \u001B[32m━━━━━━━━━━━━━━━━━━━━\u001B[0m\u001B[37m\u001B[0m \u001B[1m1s\u001B[0m 361ms/step - loss: 38.2435 - mae: 4.9967 - val_loss: 35.9307 - val_mae: 4.7194\n",
      "Epoch 67/100\n",
      "\u001B[1m2/2\u001B[0m \u001B[32m━━━━━━━━━━━━━━━━━━━━\u001B[0m\u001B[37m\u001B[0m \u001B[1m1s\u001B[0m 365ms/step - loss: 36.0991 - mae: 5.0167 - val_loss: 36.8878 - val_mae: 4.7803\n",
      "Epoch 68/100\n",
      "\u001B[1m2/2\u001B[0m \u001B[32m━━━━━━━━━━━━━━━━━━━━\u001B[0m\u001B[37m\u001B[0m \u001B[1m1s\u001B[0m 361ms/step - loss: 33.7007 - mae: 4.7022 - val_loss: 36.2524 - val_mae: 4.7394\n",
      "Epoch 69/100\n",
      "\u001B[1m2/2\u001B[0m \u001B[32m━━━━━━━━━━━━━━━━━━━━\u001B[0m\u001B[37m\u001B[0m \u001B[1m1s\u001B[0m 370ms/step - loss: 39.9424 - mae: 5.1758 - val_loss: 35.8274 - val_mae: 4.7131\n",
      "Epoch 70/100\n",
      "\u001B[1m2/2\u001B[0m \u001B[32m━━━━━━━━━━━━━━━━━━━━\u001B[0m\u001B[37m\u001B[0m \u001B[1m1s\u001B[0m 366ms/step - loss: 33.2713 - mae: 4.6049 - val_loss: 34.9854 - val_mae: 4.6622\n",
      "Epoch 71/100\n",
      "\u001B[1m2/2\u001B[0m \u001B[32m━━━━━━━━━━━━━━━━━━━━\u001B[0m\u001B[37m\u001B[0m \u001B[1m1s\u001B[0m 377ms/step - loss: 36.1954 - mae: 4.7899 - val_loss: 37.3870 - val_mae: 4.8106\n",
      "Epoch 72/100\n",
      "\u001B[1m2/2\u001B[0m \u001B[32m━━━━━━━━━━━━━━━━━━━━\u001B[0m\u001B[37m\u001B[0m \u001B[1m1s\u001B[0m 356ms/step - loss: 34.5116 - mae: 4.7227 - val_loss: 35.1148 - val_mae: 4.6706\n",
      "Epoch 73/100\n",
      "\u001B[1m2/2\u001B[0m \u001B[32m━━━━━━━━━━━━━━━━━━━━\u001B[0m\u001B[37m\u001B[0m \u001B[1m1s\u001B[0m 361ms/step - loss: 37.2049 - mae: 4.9654 - val_loss: 37.7819 - val_mae: 4.8362\n",
      "Epoch 74/100\n",
      "\u001B[1m2/2\u001B[0m \u001B[32m━━━━━━━━━━━━━━━━━━━━\u001B[0m\u001B[37m\u001B[0m \u001B[1m1s\u001B[0m 366ms/step - loss: 38.8275 - mae: 5.2235 - val_loss: 35.4337 - val_mae: 4.6903\n",
      "Epoch 75/100\n",
      "\u001B[1m2/2\u001B[0m \u001B[32m━━━━━━━━━━━━━━━━━━━━\u001B[0m\u001B[37m\u001B[0m \u001B[1m1s\u001B[0m 358ms/step - loss: 36.5750 - mae: 4.8899 - val_loss: 35.3401 - val_mae: 4.6847\n",
      "Epoch 76/100\n",
      "\u001B[1m2/2\u001B[0m \u001B[32m━━━━━━━━━━━━━━━━━━━━\u001B[0m\u001B[37m\u001B[0m \u001B[1m1s\u001B[0m 370ms/step - loss: 39.1837 - mae: 5.1016 - val_loss: 35.7765 - val_mae: 4.7100\n",
      "Epoch 77/100\n",
      "\u001B[1m2/2\u001B[0m \u001B[32m━━━━━━━━━━━━━━━━━━━━\u001B[0m\u001B[37m\u001B[0m \u001B[1m1s\u001B[0m 364ms/step - loss: 37.3523 - mae: 4.9336 - val_loss: 36.3077 - val_mae: 4.7428\n",
      "Epoch 78/100\n",
      "\u001B[1m2/2\u001B[0m \u001B[32m━━━━━━━━━━━━━━━━━━━━\u001B[0m\u001B[37m\u001B[0m \u001B[1m1s\u001B[0m 361ms/step - loss: 38.0040 - mae: 4.9931 - val_loss: 36.4198 - val_mae: 4.7503\n",
      "Epoch 79/100\n",
      "\u001B[1m2/2\u001B[0m \u001B[32m━━━━━━━━━━━━━━━━━━━━\u001B[0m\u001B[37m\u001B[0m \u001B[1m1s\u001B[0m 359ms/step - loss: 38.6895 - mae: 4.8449 - val_loss: 38.6245 - val_mae: 4.8922\n",
      "Epoch 80/100\n",
      "\u001B[1m2/2\u001B[0m \u001B[32m━━━━━━━━━━━━━━━━━━━━\u001B[0m\u001B[37m\u001B[0m \u001B[1m1s\u001B[0m 360ms/step - loss: 38.3400 - mae: 5.0922 - val_loss: 37.3229 - val_mae: 4.8066\n",
      "Epoch 81/100\n",
      "\u001B[1m2/2\u001B[0m \u001B[32m━━━━━━━━━━━━━━━━━━━━\u001B[0m\u001B[37m\u001B[0m \u001B[1m1s\u001B[0m 366ms/step - loss: 40.7043 - mae: 5.0907 - val_loss: 38.5516 - val_mae: 4.8875\n",
      "Epoch 82/100\n",
      "\u001B[1m2/2\u001B[0m \u001B[32m━━━━━━━━━━━━━━━━━━━━\u001B[0m\u001B[37m\u001B[0m \u001B[1m1s\u001B[0m 359ms/step - loss: 34.9687 - mae: 4.8569 - val_loss: 37.5823 - val_mae: 4.8231\n",
      "Epoch 83/100\n",
      "\u001B[1m2/2\u001B[0m \u001B[32m━━━━━━━━━━━━━━━━━━━━\u001B[0m\u001B[37m\u001B[0m \u001B[1m1s\u001B[0m 354ms/step - loss: 37.8215 - mae: 4.8540 - val_loss: 36.1976 - val_mae: 4.7359\n",
      "Epoch 84/100\n",
      "\u001B[1m2/2\u001B[0m \u001B[32m━━━━━━━━━━━━━━━━━━━━\u001B[0m\u001B[37m\u001B[0m \u001B[1m1s\u001B[0m 362ms/step - loss: 36.7943 - mae: 4.6792 - val_loss: 35.8274 - val_mae: 4.7131\n",
      "Epoch 85/100\n",
      "\u001B[1m2/2\u001B[0m \u001B[32m━━━━━━━━━━━━━━━━━━━━\u001B[0m\u001B[37m\u001B[0m \u001B[1m1s\u001B[0m 359ms/step - loss: 43.6983 - mae: 5.3175 - val_loss: 35.4812 - val_mae: 4.6931\n",
      "Epoch 86/100\n",
      "\u001B[1m2/2\u001B[0m \u001B[32m━━━━━━━━━━━━━━━━━━━━\u001B[0m\u001B[37m\u001B[0m \u001B[1m1s\u001B[0m 366ms/step - loss: 36.8635 - mae: 4.9118 - val_loss: 34.4046 - val_mae: 4.6300\n",
      "Epoch 87/100\n",
      "\u001B[1m2/2\u001B[0m \u001B[32m━━━━━━━━━━━━━━━━━━━━\u001B[0m\u001B[37m\u001B[0m \u001B[1m1s\u001B[0m 383ms/step - loss: 33.1867 - mae: 4.5155 - val_loss: 34.8198 - val_mae: 4.6522\n",
      "Epoch 88/100\n",
      "\u001B[1m2/2\u001B[0m \u001B[32m━━━━━━━━━━━━━━━━━━━━\u001B[0m\u001B[37m\u001B[0m \u001B[1m1s\u001B[0m 370ms/step - loss: 31.5966 - mae: 4.4387 - val_loss: 34.5860 - val_mae: 4.6384\n",
      "Epoch 89/100\n",
      "\u001B[1m2/2\u001B[0m \u001B[32m━━━━━━━━━━━━━━━━━━━━\u001B[0m\u001B[37m\u001B[0m \u001B[1m1s\u001B[0m 364ms/step - loss: 36.7268 - mae: 5.0435 - val_loss: 35.9831 - val_mae: 4.7225\n",
      "Epoch 90/100\n",
      "\u001B[1m2/2\u001B[0m \u001B[32m━━━━━━━━━━━━━━━━━━━━\u001B[0m\u001B[37m\u001B[0m \u001B[1m1s\u001B[0m 367ms/step - loss: 34.1905 - mae: 4.5806 - val_loss: 34.5860 - val_mae: 4.6384\n",
      "Epoch 91/100\n",
      "\u001B[1m2/2\u001B[0m \u001B[32m━━━━━━━━━━━━━━━━━━━━\u001B[0m\u001B[37m\u001B[0m \u001B[1m1s\u001B[0m 358ms/step - loss: 35.7469 - mae: 4.8536 - val_loss: 34.0191 - val_mae: 4.6169\n",
      "Epoch 92/100\n",
      "\u001B[1m2/2\u001B[0m \u001B[32m━━━━━━━━━━━━━━━━━━━━\u001B[0m\u001B[37m\u001B[0m \u001B[1m1s\u001B[0m 362ms/step - loss: 38.5270 - mae: 4.8064 - val_loss: 33.8267 - val_mae: 4.6112\n",
      "Epoch 93/100\n",
      "\u001B[1m2/2\u001B[0m \u001B[32m━━━━━━━━━━━━━━━━━━━━\u001B[0m\u001B[37m\u001B[0m \u001B[1m1s\u001B[0m 362ms/step - loss: 37.3763 - mae: 4.9796 - val_loss: 33.7515 - val_mae: 4.6094\n",
      "Epoch 94/100\n",
      "\u001B[1m2/2\u001B[0m \u001B[32m━━━━━━━━━━━━━━━━━━━━\u001B[0m\u001B[37m\u001B[0m \u001B[1m1s\u001B[0m 364ms/step - loss: 39.4340 - mae: 5.0025 - val_loss: 35.0281 - val_mae: 4.6650\n",
      "Epoch 95/100\n",
      "\u001B[1m2/2\u001B[0m \u001B[32m━━━━━━━━━━━━━━━━━━━━\u001B[0m\u001B[37m\u001B[0m \u001B[1m1s\u001B[0m 365ms/step - loss: 32.7269 - mae: 4.4012 - val_loss: 35.9831 - val_mae: 4.7225\n",
      "Epoch 96/100\n",
      "\u001B[1m2/2\u001B[0m \u001B[32m━━━━━━━━━━━━━━━━━━━━\u001B[0m\u001B[37m\u001B[0m \u001B[1m1s\u001B[0m 360ms/step - loss: 31.7534 - mae: 4.4172 - val_loss: 37.1961 - val_mae: 4.7991\n",
      "Epoch 97/100\n",
      "\u001B[1m2/2\u001B[0m \u001B[32m━━━━━━━━━━━━━━━━━━━━\u001B[0m\u001B[37m\u001B[0m \u001B[1m1s\u001B[0m 362ms/step - loss: 38.2807 - mae: 5.0035 - val_loss: 36.4198 - val_mae: 4.7503\n",
      "Epoch 98/100\n",
      "\u001B[1m2/2\u001B[0m \u001B[32m━━━━━━━━━━━━━━━━━━━━\u001B[0m\u001B[37m\u001B[0m \u001B[1m1s\u001B[0m 363ms/step - loss: 40.6692 - mae: 5.0008 - val_loss: 35.3401 - val_mae: 4.6847\n",
      "Epoch 99/100\n",
      "\u001B[1m2/2\u001B[0m \u001B[32m━━━━━━━━━━━━━━━━━━━━\u001B[0m\u001B[37m\u001B[0m \u001B[1m1s\u001B[0m 361ms/step - loss: 35.2177 - mae: 4.6175 - val_loss: 35.0712 - val_mae: 4.6678\n",
      "Epoch 100/100\n",
      "\u001B[1m2/2\u001B[0m \u001B[32m━━━━━━━━━━━━━━━━━━━━\u001B[0m\u001B[37m\u001B[0m \u001B[1m1s\u001B[0m 354ms/step - loss: 38.3412 - mae: 4.9584 - val_loss: 36.8878 - val_mae: 4.7803\n"
     ]
    }
   ],
   "execution_count": 317
  },
  {
   "metadata": {
    "ExecuteTime": {
     "end_time": "2025-08-04T03:54:19.699761Z",
     "start_time": "2025-08-04T03:54:19.647410Z"
    }
   },
   "cell_type": "code",
   "source": [
    "# Visualize\n",
    "epochs = range(1, len(history.history['loss']) + 1)\n",
    "loss = history.history[\"loss\"]\n",
    "val_loss = history.history[\"val_loss\"]\n",
    "plt.figure()\n",
    "plt.plot(epochs, loss, 'bo', label='Training loss')\n",
    "plt.plot(epochs, val_loss, 'b', label='Validation loss')\n",
    "plt.title('Training and validation loss')\n",
    "plt.legend()\n",
    "plt.show()"
   ],
   "id": "2fc353ce9de4f3fd",
   "outputs": [
    {
     "data": {
      "text/plain": [
       "<Figure size 640x480 with 1 Axes>"
      ],
      "image/png": "[encoded data removed]"
     },
     "metadata": {},
     "output_type": "display_data"
    }
   ],
   "execution_count": 318
  },
  {
   "metadata": {},
   "cell_type": "code",
   "outputs": [],
   "execution_count": null,
   "source": "# Evaluate the model and predict\n",
   "id": "4e8505910bb8706a"
  }
 ],
 "metadata": {
  "kernelspec": {
   "display_name": "Python 3",
   "language": "python",
   "name": "python3"
  },
  "language_info": {
   "codemirror_mode": {
    "name": "ipython",
    "version": 2
   },
   "file_extension": ".py",
   "mimetype": "text/x-python",
   "name": "python",
   "nbconvert_exporter": "python",
   "pygments_lexer": "ipython2",
   "version": "2.7.6"
  }
 },
 "nbformat": 4,
 "nbformat_minor": 5
}
