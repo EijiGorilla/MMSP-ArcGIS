{
 "cells": [
  {
   "cell_type": "markdown",
   "metadata": {},
   "source": [
    "### Points to Polyline Z\n",
    "This python code generates a polyline from points in 3D. The points are Z and M-values enabled.\n",
    "\n",
    "Note that this code assumes that we have point features for splitting a polyline into segmented polylines.\n"
   ]
  },
  {
   "cell_type": "code",
   "execution_count": 18,
   "metadata": {},
   "outputs": [],
   "source": [
    "import arcpy\n",
    "cws = arcpy.env.workspace=\"C:/Users/oc3512/OneDrive - Oriental Consultants Global JV/Documents/ArcGIS/Projects/Civil_NSCR-Ex/Civil_NSCR-Ex.gdb\""
   ]
  },
  {
   "cell_type": "code",
   "execution_count": 19,
   "metadata": {},
   "outputs": [],
   "source": [
    "arcpy.env.overwriteOutput = True"
   ]
  },
  {
   "cell_type": "code",
   "execution_count": 20,
   "metadata": {},
   "outputs": [],
   "source": [
    "# Create an Empty array\n",
    "array = []"
   ]
  },
  {
   "cell_type": "code",
   "execution_count": 21,
   "metadata": {},
   "outputs": [],
   "source": [
    "# Point features with x, y, and z \n",
    "pointFeature = \"C:/Users/oc3512/OneDrive - Oriental Consultants Global JV/Documents/ArcGIS/Projects/Civil_NSCR-Ex/Civil_NSCR-Ex.gdb/test\""
   ]
  },
  {
   "cell_type": "code",
   "execution_count": 22,
   "metadata": {},
   "outputs": [],
   "source": [
    "# Get spatial reference\n",
    "spatial_ref = arcpy.Describe(pointFeature).spatialReference"
   ]
  },
  {
   "cell_type": "code",
   "execution_count": 23,
   "metadata": {},
   "outputs": [],
   "source": [
    "# Extract and append x, y, and z of each point\n",
    "with arcpy.da.SearchCursor(pointFeature, ['POINT_X','POINT_Y','Z']) as cursor:\n",
    "    for row in cursor:\n",
    "        array.append(arcpy.Point(row[0],row[1],row[2]))\n",
    "        #print(\"{0},{1},{2}\".format(row[0],row[1],row[2]))"
   ]
  },
  {
   "cell_type": "code",
   "execution_count": 24,
   "metadata": {},
   "outputs": [],
   "source": [
    "# Generate a polyline\n",
    "arrayF = arcpy.Array(array)\n",
    "polyline = arcpy.Polyline(arrayF, spatial_ref,True, True)"
   ]
  },
  {
   "cell_type": "code",
   "execution_count": 25,
   "metadata": {},
   "outputs": [
    {
     "data": {
      "text/html": [
       "<h2>Output</h2>C:/Users/oc3512/OneDrive - Oriental Consultants Global JV/Documents/ArcGIS/Projects/Civil_NSCR-Ex/Civil_NSCR-Ex.gdb\\points_to_polyline<h2>Messages</h2>Start Time: Wednesday, September 16, 2020 11:13:13 AM<br/>Succeeded at Wednesday, September 16, 2020 11:13:13 AM (Elapsed Time: 0.35 seconds)<br/><style>.rendered_html td, .rendered_html th {text-align: left;}.rendered_html tbody {border: 1px solid black;}</style>"
      ],
      "text/plain": [
       "<Result 'C:/Users/oc3512/OneDrive - Oriental Consultants Global JV/Documents/ArcGIS/Projects/Civil_NSCR-Ex/Civil_NSCR-Ex.gdb\\\\points_to_polyline'>"
      ]
     },
     "execution_count": 25,
     "metadata": {},
     "output_type": "execute_result"
    }
   ],
   "source": [
    "# Copy feature to the Content panel\n",
    "arcpy.CopyFeatures_management(polyline, \"points_to_polyline\")"
   ]
  },
  {
   "cell_type": "code",
   "execution_count": 26,
   "metadata": {},
   "outputs": [],
   "source": [
    "# Supplermentay Code:\n",
    "## The code below splits the polyline at the points if deemed necessayr.\n",
    "## Use the oritinal point features to split the polyline into segmented lines at a 1.5m interval\n",
    "split_polyline = arcpy.SplitLineAtPoint_management(polyline, pointFeature, \"split_polyline\", \"5 Meters\")\n"
   ]
  },
  {
   "cell_type": "code",
   "execution_count": 27,
   "metadata": {},
   "outputs": [
    {
     "data": {
      "text/html": [
       "<h2>Output</h2>C:/Users/oc3512/OneDrive - Oriental Consultants Global JV/Documents/ArcGIS/Projects/Civil_NSCR-Ex/Civil_NSCR-Ex.gdb\\split_polylineZ<h2>Messages</h2>Start Time: Wednesday, September 16, 2020 11:13:46 AM<br/>Succeeded at Wednesday, September 16, 2020 11:13:47 AM (Elapsed Time: 0.32 seconds)<br/><style>.rendered_html td, .rendered_html th {text-align: left;}.rendered_html tbody {border: 1px solid black;}</style>"
      ],
      "text/plain": [
       "<Result 'C:/Users/oc3512/OneDrive - Oriental Consultants Global JV/Documents/ArcGIS/Projects/Civil_NSCR-Ex/Civil_NSCR-Ex.gdb\\\\split_polylineZ'>"
      ]
     },
     "execution_count": 27,
     "metadata": {},
     "output_type": "execute_result"
    }
   ],
   "source": [
    "# Copy split polyline to workspace\n",
    "arcpy.FeatureClassToFeatureClass_conversion(split_polyline, cws, \"split_polylineZ\")"
   ]
  }
 ],
 "metadata": {
  "kernelspec": {
   "display_name": "ArcGISPro",
   "language": "Python",
   "name": "python3"
  },
  "language_info": {
   "file_extension": ".py",
   "name": "python",
   "version": "3"
  }
 },
 "nbformat": 4,
 "nbformat_minor": 2
}
