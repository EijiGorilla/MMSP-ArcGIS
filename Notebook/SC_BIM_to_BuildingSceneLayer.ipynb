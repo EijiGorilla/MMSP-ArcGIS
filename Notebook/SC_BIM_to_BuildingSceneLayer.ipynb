{
 "cells": [
  {
   "cell_type": "markdown",
   "metadata": {},
   "source": [
    "## BIM to BuildingSceneLayer for SC Station Structures and Depot Buildings\n",
    "\n",
    "#### This Notebook imports revit files from BIM models and convert them to BuildingSceneLayer in prepartion for smart map\n",
    "#### Please implement the following steps in preparing building layers to be published to Portal for ArcGIS.\n",
    "1. Define Projection to PRS92\n",
    "2. BIM File to Geodatabase\n",
    "3. Make Building Layer\n",
    "4. Enable Archiving, GlobalIDs, and Editor Tracking\n",
    "5. Add Fields for Structural discipline layers\n",
    "6. Apply symbology to Status\n",
    "7. Set the initial status = 'To be Constructed'\n",
    "8. Add station names and CP\n",
    "9.Assign Domains\n"
   ]
  },
  {
   "cell_type": "markdown",
   "metadata": {},
   "source": [
    "### SC Station Structures"
   ]
  },
  {
   "cell_type": "code",
   "execution_count": 4,
   "metadata": {},
   "outputs": [],
   "source": [
    "import time, os, datetime, sys, logging, logging.handlers, shutil, traceback, re\n",
    "from pathlib import Path\n",
    "import arcpy\n",
    "\n",
    "arcpy.env.overwriteOutput = True\n",
    "arcpy.env.outputCoordinateSystem = arcpy.SpatialReference(\"WGS 1984 Web Mercator (auxiliary sphere)\")\n",
    "arcpy.env.geographicTransformations = \"PRS_1992_To_WGS_1984_1\"\n",
    "\n",
    "home = Path.home()\n",
    "directory = r'C:/Users\\eiji.LAPTOP-KSD9P6CP/OneDrive - Oriental Consultants Global JV/Documents/ArcGIS/Projects/During-Construction_nscrexsc'\n",
    "workspace = os.path.join(home, directory)\n",
    "#workspace = r'C:/Users/oc3512/OneDrive - Oriental Consultants Global JV/Documents/ArcGIS/Projects/During-Construction_nscrexn2/During-Construction_nscrexn2.gdb'\n"
   ]
  },
  {
   "cell_type": "code",
   "execution_count": null,
   "metadata": {},
   "outputs": [],
   "source": [
    "# 1. Define Projection\n",
    "## Manually check projection of all Revit models of structural disciplines\n",
    "## Make sure that all the models have projection defined (i.e., at the right location)"
   ]
  },
  {
   "cell_type": "code",
   "execution_count": 2,
   "metadata": {},
   "outputs": [],
   "source": [
    "\n",
    "BuildingLayerName = \"SC_Station_Structure\"\n",
    "out_gdb_path = os.path.join(workspace,\"NSCR-Ex.sde\")\n",
    "out_dataset_name = \"SC_Station_Structure_BIM\""
   ]
  },
  {
   "cell_type": "code",
   "execution_count": 6,
   "metadata": {},
   "outputs": [
    {
     "data": {
      "text/html": [
       "<div class='gpresult'><h2>Messages</h2><div id='messages' data-messages='[\"Start Time: Tuesday, May 10, 2022 10:01:08 AM\",\"Succeeded at Tuesday, May 10, 2022 10:14:55 AM (Elapsed Time: 13 minutes 47 seconds)\"]' data-show='true'><div id = 'default' /></div></div>"
      ],
      "text/plain": [
       "<Result 'C:/Users/eiji.LAPTOP-KSD9P6CP/OneDrive - Oriental Consultants Global JV/Documents/ArcGIS/Projects/During-Construction_nscrexn2\\\\10.10.5.5.sde\\\\NSCR_Ex.NSCREXUSER.N2_Station_Structure_BIM'>"
      ]
     },
     "execution_count": 6,
     "metadata": {},
     "output_type": "execute_result"
    }
   ],
   "source": [
    "# 2. BIM File to Geodatabase\n",
    "## This saves all Revit models to enterprise geodatabase\n",
    "\n",
    "RevitWD = os.path.join(home, \"Dropbox/01-Railway/02-NSCR-Ex/02-SC/01-Basedata/07-Station_Structure/01-BIM/\")\n",
    "\n",
    "Revit1 = os.path.join(RevitWD,\"S-01/NSCR-GCR-N01-APLSTN-MOD-ST-000001.rvt\")\n",
    "Revit2 = os.path.join(RevitWD, \"S-01/NSCR-GCR-N01-CLPSTN-MOD-ST-000001.rvt\")\n",
    "Revit3 = os.path.join(RevitWD, \"S-02/NSCR-GCR-N02-CSFSTN-MOD-ST-000001.rvt\")\n",
    "Revit4 = os.path.join(RevitWD, \"S-03/NSCR-GCR-N03-ANGSTN-MOD-ST-000001.rvt\")\n",
    "Revit5 = os.path.join(RevitWD, \"S-03/NSCR-GCR-N03-CRKSTN-MOD-ST-000001.rvt\")\n",
    "Revit6 = os.path.join(RevitWD, \"S-04/NSCR-GCR-N04-CIASTN-MOD-ST-000001.rvt\")\n",
    "\n",
    "inputRevit = [Revit1,Revit2,Revit3,Revit4,Revit5,Revit6]\n",
    "# Choose enterprise geodatabase for Output Geodatabase\n",
    "spatial_reference = \"PRS_1992_Philippines_Zone_III\"\n",
    "\n",
    "arcpy.BIMFileToGeodatabase_conversion(inputRevit, out_gdb_path, out_dataset_name, spatial_reference)\n"
   ]
  },
  {
   "cell_type": "code",
   "execution_count": null,
   "metadata": {},
   "outputs": [],
   "source": [
    "# 3. Make Building Layer\n",
    "## Convert files created above to building layer\n",
    "# Make a building layer from a Dataset\n",
    "# The code below failed. why? but succeeded when it was manually executed in Geoprocessing.\n",
    "out_dataset = os.path.join(out_gdb_path,\"NSCR_Ex.NSCREXUSER.SC_Station_Structure_BIM\")\n",
    "arcpy.MakeBuildingLayer_management(out_dataset,BuildingLayerName)"
   ]
  },
  {
   "cell_type": "code",
   "execution_count": 10,
   "metadata": {},
   "outputs": [],
   "source": [
    "# 4. Enable Archiving, GlobalIDs, and Editor Tracking by\n",
    "#    right-clicking enterprise geodatabase created by 'BIM File to Geodatabase' tool"
   ]
  },
  {
   "cell_type": "code",
   "execution_count": null,
   "metadata": {},
   "outputs": [],
   "source": [
    "#------------------------------------------------------------------#\n",
    "# The following command is intended for CIA station only.\n",
    "# The reason is that some structural components belong to the architectural. This is wrong.\n",
    "# Nonetheless, the BIM Team cannot fix this any more. So the only option is to keep, treat, and \n",
    "# monitor as the architectural.\n",
    "# In reality, each Architectural discipline feature layer has information on all the N2 stations to be monitored.\n",
    "# so the code below is eventually applied to all the station structures but actual use is limited to the\n",
    "# CIA station for monitoring.\n",
    "\n",
    "in_features = [\"SC_Station_Structure\\\\Structural\\\\StructuralColumns\",\n",
    "          \"SC_Station_Structure\\\\Structural\\\\StructuralFoundation\",\n",
    "          \"SC_Station_Structure\\\\Structural\\\\StructuralFraming\",\n",
    "          \"SC_Station_Structure\\\\Architectural\\\\Columns\",\n",
    "          \"SC_Station_Structure\\\\Architectural\\\\Floors\",\n",
    "          \"SC_Station_Structure\\\\Architectural\\\\Walls\"]\n",
    "\n",
    "addFields = ['Station', 'Types', 'SubType', 'Status', 'start_date',\n",
    "             'end_date', 'StructureType', 'StructureLevel', 'P6ID', 'Comment',\n",
    "            'GridX', 'GridY', 'CP', 'ID']\n",
    "#--------------------------------------------------------------------------------------#"
   ]
  },
  {
   "cell_type": "code",
   "execution_count": 16,
   "metadata": {},
   "outputs": [],
   "source": [
    "# 5. Add Fields for Structural discipline layers\n",
    "## StructuralColumns, StructuralFraming, and StructuralFoundation\n",
    "for feature in in_features:\n",
    "    for field in addFields:\n",
    "        if field in ('start_date', 'end_date'):\n",
    "            arcpy.AddField_management(feature, field, \"DATE\", \"\", \"\", \"\", field, \"NULLABLE\", \"\")\n",
    "        elif field in ('P6ID', 'Comment', 'GridX', 'GridY', 'CP', 'ID'):\n",
    "            arcpy.AddField_management(feature, field, \"TEXT\", \"\", \"\", \"\", field, \"NULLABLE\", \"\")\n",
    "        else:\n",
    "            arcpy.AddField_management(feature, field, \"SHORT\", \"\", \"\", \"\", field, \"NULLABLE\", \"\")"
   ]
  },
  {
   "cell_type": "code",
   "execution_count": 17,
   "metadata": {},
   "outputs": [],
   "source": [
    "# 6. Set the initial status = 'To be Constructed'\n",
    "for feature in in_features:\n",
    "    with arcpy.da.UpdateCursor(feature, ['Status']) as cursor:\n",
    "        for row in cursor:\n",
    "            row[0] = 1\n",
    "            cursor.updateRow(row)"
   ]
  },
  {
   "cell_type": "code",
   "execution_count": 18,
   "metadata": {},
   "outputs": [],
   "source": [
    "# Enter CP\n",
    "for feature in in_features:\n",
    "    with arcpy.da.UpdateCursor(feature,['DocName','CP']) as cursor:\n",
    "        for row in cursor:\n",
    "            if row[0]:\n",
    "                try:\n",
    "                    reg = re.search(searchStns,row[0]).group()\n",
    "                except AttributeError:\n",
    "                    reg = re.search(searchStns,row[0])\n",
    "                \n",
    "                # Station name\n",
    "                if reg == \"APLSTN\":\n",
    "                    row[1] = \"N-01\"\n",
    "                elif reg == \"CLPSTN\":\n",
    "                    row[1] = \"N-01\"\n",
    "                elif reg == \"CSFSTN\":\n",
    "                    row[1] = \"N-02\"\n",
    "                elif reg == \"ANGSTN\":\n",
    "                    row[1] = \"N-03\"\n",
    "                elif reg == \"CRKSTN\":\n",
    "                    row[1] = \"N-03\"\n",
    "                elif reg == \"CIASTN\":\n",
    "                    row[1] = \"N-04\"\n",
    "            else:\n",
    "                row[1] = None\n",
    "            cursor.updateRow(row)"
   ]
  },
  {
   "cell_type": "code",
   "execution_count": 31,
   "metadata": {},
   "outputs": [],
   "source": [
    "# 7. Enter 'Station'\n",
    "searchStns = \"APLSTN|CLPSTN|CSFSTN|ANGSTN|CRKSTN|CIASTN\"\n",
    "for feature in in_features:\n",
    "    with arcpy.da.UpdateCursor(feature,['DocName','Station','CP']) as cursor:\n",
    "        for row in cursor:\n",
    "            if row[0]:\n",
    "                try:\n",
    "                    reg = re.search(searchStns,row[0]).group()\n",
    "                except AttributeError:\n",
    "                    reg = re.search(searchStns,row[0])\n",
    "                \n",
    "                # Station name\n",
    "                if reg == \"APLSTN\":\n",
    "                    row[1] = 7\n",
    "                    row[2] = \"N-01\"\n",
    "                elif reg == \"CLPSTN\":\n",
    "                    row[1] = 8\n",
    "                    row[2] = \"N-01\"\n",
    "                elif reg == \"CSFSTN\":\n",
    "                    row[1] = 6\n",
    "                    row[2] = \"N-02\"\n",
    "                elif reg == \"ANGSTN\":\n",
    "                    row[1] = 5\n",
    "                    row[2] = \"N-03\"\n",
    "                elif reg == \"CRKSTN\":\n",
    "                    row[1] = 4\n",
    "                    row[2] = \"N-03\"\n",
    "                elif reg == \"CIASTN\":\n",
    "                    row[1] = 3\n",
    "                    row[2] = \"N-04\"\n",
    "            else:\n",
    "                row[1] = None\n",
    "                row[2] = None\n",
    "            cursor.updateRow(row)"
   ]
  },
  {
   "cell_type": "code",
   "execution_count": 32,
   "metadata": {},
   "outputs": [],
   "source": [
    "# 8. Enter CP\n",
    "for feature in in_features:\n",
    "    with arcpy.da.UpdateCursor(feature,['DocName','CP']) as cursor:\n",
    "        for row in cursor:\n",
    "            if row[0]:\n",
    "                try:\n",
    "                    reg = re.search(searchStns,row[0]).group()\n",
    "                except AttributeError:\n",
    "                    reg = re.search(searchStns,row[0])\n",
    "                \n",
    "                # Station name\n",
    "                if reg == \"APLSTN\":\n",
    "                    row[1] = \"N-01\"\n",
    "                elif reg == \"CLPSTN\":\n",
    "                    row[1] = \"N-01\"\n",
    "                elif reg == \"CSFSTN\":\n",
    "                    row[1] = \"N-02\"\n",
    "                elif reg == \"ANGSTN\":\n",
    "                    row[1] = \"N-03\"\n",
    "                elif reg == \"CRKSTN\":\n",
    "                    row[1] = \"N-03\"\n",
    "                elif reg == \"CIASTN\":\n",
    "                    row[1] = \"N-04\"\n",
    "            else:\n",
    "                row[1] = None\n",
    "            cursor.updateRow(row)"
   ]
  },
  {
   "cell_type": "code",
   "execution_count": 5,
   "metadata": {},
   "outputs": [],
   "source": [
    "# 9. Apply symbology to Status\n",
    "symbolLyrx = r'C:/Users/eiji.LAPTOP-KSD9P6CP/Dropbox/01-Railway/02-NSCR-Ex/10-ArcGIS/01-Reference/01-Layer File/03-Station_Structure/Station_Structure_FINAL.lyrx'\n",
    "\n",
    "for feature in in_features:\n",
    "    arcpy.ApplySymbologyFromLayer_management(feature, symbolLyrx, [[\"VALUE_FIELD\", \"Status\", \"Status\"]], update_symbology=\"MAINTAIN\")[0]"
   ]
  },
  {
   "cell_type": "code",
   "execution_count": null,
   "metadata": {},
   "outputs": [],
   "source": [
    "# 10.Assign Domains\n",
    "# 0. Domain Name\n",
    "domainList = ['Station Structures_TYPE', 'Station Structures_SUBTYPE',\\\n",
    "              'Station Structures_STATUS', 'Station Structures_STRUCTURETYPE',\\\n",
    "              'Station Structures_STRUCTURELEVEL','Station_nscrex']\n",
    "\n",
    "#domains = arcpy.da.ListDomains(workspace)\n",
    "#listDomain = [d.name for d in domains]\n",
    "#reg = re.compile(r'Station Structures*|Station*')\n",
    "#listFinal = list(filter(reg.match, listDomain))\n",
    "for feature in in_features:\n",
    "    arcpy.AssignDomainToField_management(feature, 'Types', domainList[0])\n",
    "    arcpy.AssignDomainToField_management(feature, 'SubType', domainList[1])\n",
    "    arcpy.AssignDomainToField_management(feature, 'Status', domainList[2])\n",
    "    arcpy.AssignDomainToField_management(feature, 'StructureType', domainList[3])\n",
    "    arcpy.AssignDomainToField_management(feature, 'StructureLevel', domainList[4])\n",
    "    arcpy.AssignDomainToField_management(feature, 'Station', domainList[5])"
   ]
  },
  {
   "cell_type": "code",
   "execution_count": null,
   "metadata": {},
   "outputs": [],
   "source": [
    "# Assign Type based on Category field\n",
    "### Domain Type (corresponding Category):\n",
    "## 1. Structural Foundations (Structural Foundations)\n",
    "## 2. Structural Columns (Structural Columns)\n",
    "## 3. Structural Framing (Structural Framing)\n",
    "## 4. Roofs (Roofs)\n",
    "## 5. Floors (Floors)\n",
    "## 6. Walls (Walls)\n",
    "## 7. Columns (Columns)\n",
    "## 8. Others\n",
    "\n",
    "## note that 4 to 8 fall under Architectural disciplines of Structural revit file\n",
    "for feature in in_features:\n",
    "    with arcpy.da.UpdateCursor(feature, ['Category', 'Types']) as cursor:\n",
    "        for row in cursor:\n",
    "            if row[0] == 'Structural Foundations':\n",
    "                row[1] = 1\n",
    "            elif row[0] == 'Structural Columns':\n",
    "                row[1] = 2\n",
    "            elif row[0] == 'Structural Framing':\n",
    "                row[1] = 3\n",
    "            elif row[0] == 'Roofs':\n",
    "                row[1] = 4\n",
    "            elif row[0] == 'Floors':\n",
    "                row[1] = 5\n",
    "            elif row[0] == 'Walls':\n",
    "                row[1] = 6\n",
    "            elif row[0] == 'Columns':\n",
    "                row[1] = 7\n",
    "            else:\n",
    "                row[1] = 8\n",
    "            cursor.updateRow(row)"
   ]
  },
  {
   "cell_type": "markdown",
   "metadata": {},
   "source": [
    "### SC Depot Buildings"
   ]
  },
  {
   "cell_type": "code",
   "execution_count": 5,
   "metadata": {},
   "outputs": [],
   "source": [
    "from pathlib import Path\n",
    "import os\n",
    "import re"
   ]
  },
  {
   "cell_type": "code",
   "execution_count": null,
   "metadata": {},
   "outputs": [],
   "source": [
    "homeDirectory = Path.home()\n",
    "bimDirectory = r'Dropbox/01-Railway/02-NSCR-Ex/02-SC/01-Basedata/09-Building_Depot/01-BIM'\n",
    "wd = os.path.join(homeDirectory, bimDirectory)"
   ]
  },
  {
   "cell_type": "code",
   "execution_count": null,
   "metadata": {},
   "outputs": [],
   "source": [
    "# Output feature dataset from BIM\n",
    "#!!!!! MAKE SURE THAT THE NAME DOES NOT OVERLAP. OTHERWISE, THE ORIGINAL WILL BE OVERWRITTEN.!!\n",
    "#out_dataset_name = \"SC_DEPOT_BIM\"\n",
    "out_dataset_name = \"sc_depot_BIM_temp\""
   ]
  },
  {
   "cell_type": "code",
   "execution_count": null,
   "metadata": {},
   "outputs": [],
   "source": [
    "# Extract folder names where each BIM model is stored\n",
    "allFolders = []\n",
    "inFolders = os.listdir(wd)\n",
    "for folder in inFolders:\n",
    "    reg = folder.endswith('.Rhistory')\n",
    "    if reg:\n",
    "        print(\"\")\n",
    "    else:\n",
    "        allFolders.append(folder)"
   ]
  },
  {
   "cell_type": "code",
   "execution_count": null,
   "metadata": {},
   "outputs": [],
   "source": [
    "## Use this code when required to choose only one or subset of folders of depot buildings\n",
    "keywords = ['24_CWT', '26_DB']\n",
    "temp = [f for f in allFolders if f in keywords]\n",
    "allFolders = temp\n",
    "allFolders"
   ]
  },
  {
   "cell_type": "code",
   "execution_count": null,
   "metadata": {},
   "outputs": [],
   "source": [
    "# Compile all Structural discipline revit files\n",
    "compile = []\n",
    "compileDepNames = []\n",
    "for folder in allFolders:\n",
    "    files = os.listdir(os.path.join(wd, folder))\n",
    "    n = 0\n",
    "    for file in files:\n",
    "        n = n + 1\n",
    "        tt = file.endswith('MOD-ST-000001.rvt')\n",
    "        if tt:\n",
    "            print(file, end =' \\n')\n",
    "            compile.append(os.path.join(wd, folder, files[n-1]))\n",
    "            compileDepNames.append(file)"
   ]
  },
  {
   "cell_type": "code",
   "execution_count": null,
   "metadata": {},
   "outputs": [],
   "source": [
    "# Define directory of enterprise geodatabase\n",
    "sde_name = \"NSCR-Ex.sde\"\n",
    "out_gdb_path = os.path.join(homeDirectory,\n",
    "                            \"OneDrive - Oriental Consultants Global JV/Documents/ArcGIS/Projects/During-Construction_nscrexsc\",\n",
    "                            sde_name)\n",
    "\n",
    "spatial_reference = \"PRS 1992 Philippines Zone III\""
   ]
  },
  {
   "cell_type": "code",
   "execution_count": null,
   "metadata": {},
   "outputs": [],
   "source": [
    "# Run BIM File To Geodatabase\n",
    "arcpy.BIMFileToGeodatabase_conversion(compile, out_gdb_path, out_dataset_name, spatial_reference, \"\")"
   ]
  },
  {
   "cell_type": "code",
   "execution_count": null,
   "metadata": {},
   "outputs": [],
   "source": [
    "# Run Make Building layer\n",
    "input_dataset = os.path.join(out_gdb_path, out_dataset_name)\n",
    "arcpy.MakeBuildingLayer_management(input_dataset, out_dataset_name)"
   ]
  },
  {
   "cell_type": "code",
   "execution_count": null,
   "metadata": {},
   "outputs": [],
   "source": [
    "# Drag and Drop all layers\n",
    "inFeatures = [\"sc_depot_BIM_temp\\\\Structural\\\\StructuralColumns\",\n",
    "              \"sc_depot_BIM_temp\\\\Structural\\\\StructuralFoundation\",\n",
    "              \"sc_depot_BIM_temp\\\\Architectural\\\\Floors\",\n",
    "              \"sc_depot_BIM_temp\\\\Architectural\\\\Walls\"]"
   ]
  },
  {
   "cell_type": "code",
   "execution_count": null,
   "metadata": {},
   "outputs": [],
   "source": [
    "# Add Field Names\n",
    "## As default, field name 'Type' exists so remove this first\n",
    "for feature in inFeatures:\n",
    "    arcpy.management.DeleteField(feature, 'Type')\n",
    "\n",
    "addFields = ['Name', 'Type', 'SubType', 'Status', 'StartDate', 'TargetDate', 'CP', 'ID', 'Comment']\n",
    "\n",
    "for feature in inFeatures:\n",
    "    for field in addFields:\n",
    "        if field in ('StartDate', 'TargetDate'):\n",
    "            arcpy.AddField_management(feature, field, \"DATE\", \"\", \"\", \"\", field, \"NULLABLE\", \"\")\n",
    "        elif field in ('CP', 'ID', 'Comment', 'Name'):\n",
    "            arcpy.AddField_management(feature, field, \"TEXT\", \"\", \"\", \"\", field, \"NULLABLE\", \"\")\n",
    "        else:\n",
    "            arcpy.AddField_management(feature, field, \"SHORT\", \"\", \"\", \"\", field, \"NULLABLE\", \"\")"
   ]
  },
  {
   "cell_type": "code",
   "execution_count": null,
   "metadata": {},
   "outputs": [],
   "source": [
    "# Set the initial status = 'To be Constructed'\n",
    "for feature in inFeatures:\n",
    "    with arcpy.da.UpdateCursor(feature, ['Status']) as cursor:\n",
    "        for row in cursor:\n",
    "            row[0] = 1\n",
    "            cursor.updateRow(row)"
   ]
  },
  {
   "cell_type": "code",
   "execution_count": null,
   "metadata": {},
   "outputs": [],
   "source": [
    "# Add CP = S-07\n",
    "for feature in inFeatures:\n",
    "    with arcpy.da.UpdateCursor(feature, ['CP']) as cursor:\n",
    "        for row in cursor:\n",
    "            row[0] = 'S-07'\n",
    "            cursor.updateRow(row)"
   ]
  },
  {
   "cell_type": "code",
   "execution_count": null,
   "metadata": {},
   "outputs": [],
   "source": [
    "# Assign Depot building names for each multipatch layer\n",
    "separator = ';'\n",
    "for feature in inFeatures:\n",
    "    with arcpy.da.UpdateCursor(feature, ['DocName', 'Name']) as cursor:\n",
    "        for row in cursor:\n",
    "            if row[0] is None:\n",
    "                print('no')\n",
    "            else:\n",
    "                tName = row[0]\n",
    "                fName = tName[16:19]\n",
    "                row[1] = fName\n",
    "                cursor.updateRow(row)"
   ]
  },
  {
   "cell_type": "code",
   "execution_count": null,
   "metadata": {},
   "outputs": [],
   "source": [
    "# Fix WP1 and WP2: correct ones are WPH1 and WPH2\n",
    "for feature in inFeatures:\n",
    "    with arcpy.da.UpdateCursor(feature, ['Name']) as cursor:\n",
    "        for row in cursor:\n",
    "            if row[0] == 'WP1':\n",
    "                row[0] = 'WPH1'\n",
    "            elif row[0] == 'WP2':\n",
    "                row[0] = 'WPH2'\n",
    "            cursor.updateRow(row)"
   ]
  },
  {
   "cell_type": "code",
   "execution_count": null,
   "metadata": {},
   "outputs": [],
   "source": [
    "domains = arcpy.da.ListDomains(out_gdb_path)\n",
    "#listDomain = [d.name for d in domains]\n",
    "domainList = ['Station Structures_TYPE', 'Station Structures_STATUS', 'N2_Depot_Building_NAME']\n",
    "\n",
    "for feature in inFeatures:\n",
    "    arcpy.AssignDomainToField_management(feature, 'Type', domainList[0])\n",
    "    arcpy.AssignDomainToField_management(feature, 'Status', domainList[1])\n",
    "    arcpy.AssignDomainToField_management(feature, 'Name', domainList[2])"
   ]
  },
  {
   "cell_type": "code",
   "execution_count": null,
   "metadata": {},
   "outputs": [],
   "source": [
    "# Assign Symbology\n",
    "## 2. Apply symbolology\n",
    "symbolLyrx = os.path.join(homeDirectory, \"Dropbox/01-Railway/02-NSCR-Ex/10-ArcGIS/01-Reference/01-Layer File/03-Station_Structure/Station_Structure_FINAL.lyrx\")\n",
    "\n",
    "for feature in inFeatures:\n",
    "    arcpy.ApplySymbologyFromLayer_management(feature, symbolLyrx, [[\"VALUE_FIELD\", \"Status\", \"Status\"]], update_symbology=\"MAINTAIN\")[0]"
   ]
  },
  {
   "cell_type": "code",
   "execution_count": null,
   "metadata": {},
   "outputs": [],
   "source": [
    "# Assign Type based on Category field\n",
    "### Domain Type (corresponding Category):\n",
    "## 1. Structural Foundations (Structural Foundations)\n",
    "## 2. Structural Columns (Structural Columns)\n",
    "## 3. Structural Framing (Structural Framing)\n",
    "## 4. Roofs (Roofs)\n",
    "## 5. Floors (Floors)\n",
    "## 6. Walls (Walls)\n",
    "## 7. Columns (Columns)\n",
    "## 8. Others\n",
    "\n",
    "## note that 4 to 8 fall under Architectural disciplines of Structural revit file\n",
    "for feature in inFeatures:\n",
    "    with arcpy.da.UpdateCursor(feature, ['Category', 'Type']) as cursor:\n",
    "        for row in cursor:\n",
    "            if row[0] == 'Structural Foundations':\n",
    "                row[1] = 1\n",
    "            elif row[0] == 'Structural Columns':\n",
    "                row[1] = 2\n",
    "            elif row[0] == 'Structural Framing':\n",
    "                row[1] = 3\n",
    "            elif row[0] == 'Roofs':\n",
    "                row[1] = 4\n",
    "            elif row[0] == 'Floors':\n",
    "                row[1] = 5\n",
    "            elif row[0] == 'Walls':\n",
    "                row[1] = 6\n",
    "            elif row[0] == 'Columns':\n",
    "                row[1] = 7\n",
    "            else:\n",
    "                row[1] = 8\n",
    "            cursor.updateRow(row)"
   ]
  }
 ],
 "metadata": {
  "kernelspec": {
   "display_name": "ArcGISPro",
   "language": "Python",
   "name": "python3"
  },
  "language_info": {
   "file_extension": ".py",
   "name": "python",
   "version": "3"
  }
 },
 "nbformat": 4,
 "nbformat_minor": 2
}
