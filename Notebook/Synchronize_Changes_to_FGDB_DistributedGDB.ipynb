{
 "cells": [
  {
   "cell_type": "markdown",
   "metadata": {},
   "source": [
    "# Synchronize Changes from SDE to File Geodatabase\n",
    "\n",
    "This python script synchronizes changes for a one way from the Parent (sde)\n",
    "to the child replica geodatabase. The parent is an enterprise geodatabase workspace, and the\n",
    "the child is file geodatabase.\n",
    "\n",
    "reference: https://pro.arcgis.com/en/pro-app/tool-reference/data-management/synchronize-changes.htm"
   ]
  },
  {
   "cell_type": "code",
   "execution_count": 1,
   "metadata": {},
   "outputs": [],
   "source": [
    "# Import system modules\n",
    "import arcpy"
   ]
  },
  {
   "cell_type": "code",
   "execution_count": 2,
   "metadata": {},
   "outputs": [],
   "source": [
    "# Set workspace\n",
    "arcpy.env.workspace = \"C:/Users/oc3512/OneDrive - Oriental Consultants Global JV/Documents/ArcGIS/Projects/Environmental_Team\""
   ]
  },
  {
   "cell_type": "code",
   "execution_count": 7,
   "metadata": {},
   "outputs": [],
   "source": [
    "# Set local variables\n",
    "replica_gdb1 = \"Pre-Construction_mmsp.sde\"\n",
    "replica_gdb2 = \"Pre-Construction_mmsp.gdb\"\n",
    "replica_name = \"Pre_Construction_mmsp4\" # there are two more: \"Pre_Construction_mmsp2\" and \"Pre_Construction_mmsp4\"\n",
    "sync_direction = \"FROM_GEODATABASE1_TO_2\"\n",
    "conflict_policy = \"\" # Not applicable for one way replicas. There is not conflict detection.\n",
    "conflict_detection = \"\"\n",
    "reconcile = \"\"       # Only applicable for Checkout replicas"
   ]
  },
  {
   "cell_type": "code",
   "execution_count": 8,
   "metadata": {},
   "outputs": [
    {
     "data": {
      "text/html": [
       "<h2>Output</h2><table><tr><th>id</th><th>value</th></tr><tr><td>0</td><td>Pre-Construction_mmsp.sde</td></tr><tr><td>1</td><td>Pre-Construction_mmsp.gdb</td></tr></table><h2>Messages</h2>Start Time: Friday, September 4, 2020 10:32:15 AM<br/>Synchronize successfully completed...<br/>Succeeded at Friday, September 4, 2020 10:32:55 AM (Elapsed Time: 39.09 seconds)<br/><style>.rendered_html td, .rendered_html th {text-align: left;}.rendered_html tbody {border: 1px solid black;}</style>"
      ],
      "text/plain": [
       "<Result 'Pre-Construction_mmsp.sde'>"
      ]
     },
     "execution_count": 8,
     "metadata": {},
     "output_type": "execute_result"
    }
   ],
   "source": [
    "# Execute SynchronizeChanges\n",
    "arcpy.SynchronizeChanges_management(replica_gdb1, replica_name, replica_gdb2,\n",
    "                                   sync_direction, conflict_policy, conflict_detection, reconcile)"
   ]
  },
  {
   "cell_type": "code",
   "execution_count": null,
   "metadata": {},
   "outputs": [],
   "source": []
  }
 ],
 "metadata": {
  "kernelspec": {
   "display_name": "ArcGISPro",
   "language": "Python",
   "name": "python3"
  },
  "language_info": {
   "file_extension": ".py",
   "name": "python",
   "version": "3"
  }
 },
 "nbformat": 4,
 "nbformat_minor": 2
}
