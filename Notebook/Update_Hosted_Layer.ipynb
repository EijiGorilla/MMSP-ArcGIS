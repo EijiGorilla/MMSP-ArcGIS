{
 "cells": [
  {
   "cell_type": "markdown",
   "metadata": {},
   "source": [
    "# Updating Hosted Feature Layer using Excel Table\n",
    "\n",
    "#### Ensure that input table (Excel) and target layer (hosted layer) share the same field names\n",
    "#### The hosted layer is imported from ArcGIS Online.\n",
    "\n",
    "Reference: https://developers.arcgis.com/python/samples/updating-features-in-a-feature-layer/"
   ]
  },
  {
   "cell_type": "code",
   "execution_count": 1,
   "metadata": {},
   "outputs": [],
   "source": [
    "from pathlib import Path\n",
    "import sys\n",
    "\n",
    "from arcgis.gis import GIS, Item\n",
    "from arcgis.features import FeatureLayerCollection\n",
    "from arcgis.mapping import WebMap\n",
    "from datetime import datetime\n",
    "import arcpy\n",
    "import os\n",
    "import pandas as pd\n",
    "import numpy as np"
   ]
  },
  {
   "cell_type": "code",
   "execution_count": 2,
   "metadata": {},
   "outputs": [],
   "source": [
    "from arcgis.features.managers import FeatureLayerManager\n",
    "from arcgis import features\n",
    "from arcgis import geometry\n",
    "from copy import deepcopy"
   ]
  },
  {
   "cell_type": "code",
   "execution_count": 55,
   "metadata": {},
   "outputs": [],
   "source": [
    "# Define parameters\n",
    "url_agol = \"https://railway-sector.maps.arcgis.com\"\n",
    "username = \"matsuzakieijinscrex\"\n",
    "password = \"Gorilla@367*\"\n",
    "target_layer_itemid = \"9b6d40d8bff04eca91c8b0f0fa48dd93\" # viaduct associated feature layer (do not choose scene layer)\n",
    "input_table = r\"C:\\Users\\oc3512\\Dropbox\\01-Railway\\02-NSCR-Ex\\01-N2\\03-During-Construction\\02-Civil\\03-Viaduct\\01-Masterlist\\02-Compiled\\Viaduct_MasterList.xlsx\"\n",
    "join_field = 'uniqueID'\n",
    "transfer_fields = ['Status1', 'end_date']"
   ]
  },
  {
   "cell_type": "code",
   "execution_count": 20,
   "metadata": {},
   "outputs": [],
   "source": [
    "gis = GIS(url_agol, username, password)"
   ]
  },
  {
   "cell_type": "code",
   "execution_count": 21,
   "metadata": {},
   "outputs": [],
   "source": [
    "featureLayer = gis.content.get(target_layer_itemid)\n",
    "target_layer = featureLayer.layers[0]"
   ]
  },
  {
   "cell_type": "code",
   "execution_count": 22,
   "metadata": {},
   "outputs": [
    {
     "data": {
      "text/plain": [
       "{\"geometry\": {\"rings\": [[[13445235.8498, 1676714.3137], [13445235.6773, 1676714.2939], [13445235.5045, 1676714.3133], [13445235.3405, 1676714.3709], [13445235.1933, 1676714.4638], [13445235.0702, 1676714.5873], [13445234.9778, 1676714.7352], [13445234.9201, 1676714.9003], [13445234.9005, 1676715.0739], [13445234.9198, 1676715.2477], [13445234.977, 1676715.4129], [13445235.0692, 1676715.561], [13445235.192, 1676715.6847], [13445235.339, 1676715.7779], [13445235.503, 1676715.8358], [13445235.6756, 1676715.8555], [13445235.8483, 1676715.8361], [13445236.0123, 1676715.7786], [13445236.1595, 1676715.6857], [13445236.2826, 1676715.5622], [13445236.3751, 1676715.4143], [13445236.4328, 1676715.2492], [13445236.4523, 1676715.0755], [13445236.433, 1676714.9018], [13445236.3759, 1676714.7367], [13445236.2836, 1676714.5885], [13445236.1608, 1676714.4648], [13445236.0138, 1676714.3716], [13445235.8498, 1676714.3137]]], \"spatialReference\": {\"wkid\": 102100, \"latestWkid\": 3857}}, \"attributes\": {\"OBJECTID\": 2364642, \"uniqueID\": 1, \"Status1\": 4, \"ID\": \"N01-STR-YN-10320\", \"PierNumber\": \"MT01-01\", \"nPierNumber\": \"MT011A\", \"Layer\": \"N-01_PILE\", \"Type\": 1, \"end_date\": 1679961600000, \"CP\": \"N-01\", \"created_user\": \"matsuzakieijinscrex\", \"created_date\": 1705531906000, \"last_edited_user\": \"matsuzakieijinscrex\", \"last_edited_date\": 1705531906000, \"GlobalID\": \"a68d064a-9ad7-463d-85c2-9eeb60639365\", \"planned_date\": 1681430400000, \"SHAPE\": {\"rings\": [[[13445235.8498, 1676714.3137], [13445235.6773, 1676714.2939], [13445235.5045, 1676714.3133], [13445235.3405, 1676714.3709], [13445235.1933, 1676714.4638], [13445235.0702, 1676714.5873], [13445234.9778, 1676714.7352], [13445234.9201, 1676714.9003], [13445234.9005, 1676715.0739], [13445234.9198, 1676715.2477], [13445234.977, 1676715.4129], [13445235.0692, 1676715.561], [13445235.192, 1676715.6847], [13445235.339, 1676715.7779], [13445235.503, 1676715.8358], [13445235.6756, 1676715.8555], [13445235.8483, 1676715.8361], [13445236.0123, 1676715.7786], [13445236.1595, 1676715.6857], [13445236.2826, 1676715.5622], [13445236.3751, 1676715.4143], [13445236.4328, 1676715.2492], [13445236.4523, 1676715.0755], [13445236.433, 1676714.9018], [13445236.3759, 1676714.7367], [13445236.2836, 1676714.5885], [13445236.1608, 1676714.4648], [13445236.0138, 1676714.3716], [13445235.8498, 1676714.3137]]], \"spatialReference\": {\"wkid\": 102100, \"latestWkid\": 3857}}}}"
      ]
     },
     "execution_count": 22,
     "metadata": {},
     "output_type": "execute_result"
    }
   ],
   "source": [
    "#querying without any conditions returns all the features\n",
    "target_fset = target_layer.query()\n",
    "target_fset.sdf.head()\n",
    "\n",
    "# First get all features\n",
    "all_target_features = target_fset.features\n",
    "all_target_features[0]"
   ]
  },
  {
   "cell_type": "code",
   "execution_count": 56,
   "metadata": {},
   "outputs": [
    {
     "data": {
      "text/html": [
       "<div>\n",
       "<style scoped>\n",
       "    .dataframe tbody tr th:only-of-type {\n",
       "        vertical-align: middle;\n",
       "    }\n",
       "\n",
       "    .dataframe tbody tr th {\n",
       "        vertical-align: top;\n",
       "    }\n",
       "\n",
       "    .dataframe thead th {\n",
       "        text-align: right;\n",
       "    }\n",
       "</style>\n",
       "<table border=\"1\" class=\"dataframe\">\n",
       "  <thead>\n",
       "    <tr style=\"text-align: right;\">\n",
       "      <th></th>\n",
       "      <th>Layer</th>\n",
       "      <th>PierNumber</th>\n",
       "      <th>Type</th>\n",
       "      <th>Status1</th>\n",
       "      <th>CP</th>\n",
       "      <th>idd</th>\n",
       "      <th>uniqueID</th>\n",
       "      <th>nPierNumber</th>\n",
       "      <th>end_date</th>\n",
       "      <th>ID</th>\n",
       "      <th>planned_date</th>\n",
       "      <th>updated</th>\n",
       "    </tr>\n",
       "  </thead>\n",
       "  <tbody>\n",
       "    <tr>\n",
       "      <th>0</th>\n",
       "      <td>N-01_PILE</td>\n",
       "      <td>MT01-01</td>\n",
       "      <td>1</td>\n",
       "      <td>4</td>\n",
       "      <td>N-01</td>\n",
       "      <td>486.0</td>\n",
       "      <td>1</td>\n",
       "      <td>MT011A</td>\n",
       "      <td>2023-03-28</td>\n",
       "      <td>N01-STR-YN-10320</td>\n",
       "      <td>2023-04-14</td>\n",
       "      <td>2024-01-24</td>\n",
       "    </tr>\n",
       "    <tr>\n",
       "      <th>1</th>\n",
       "      <td>N-01_PILE</td>\n",
       "      <td>MT01-01</td>\n",
       "      <td>1</td>\n",
       "      <td>4</td>\n",
       "      <td>N-01</td>\n",
       "      <td>487.0</td>\n",
       "      <td>2</td>\n",
       "      <td>MT011B</td>\n",
       "      <td>2023-03-27</td>\n",
       "      <td>N01-STR-YN-10320</td>\n",
       "      <td>2023-04-14</td>\n",
       "      <td>2024-01-24</td>\n",
       "    </tr>\n",
       "    <tr>\n",
       "      <th>2</th>\n",
       "      <td>N-01_PILE</td>\n",
       "      <td>MT01-01</td>\n",
       "      <td>1</td>\n",
       "      <td>4</td>\n",
       "      <td>N-01</td>\n",
       "      <td>488.0</td>\n",
       "      <td>3</td>\n",
       "      <td>MT011C</td>\n",
       "      <td>2023-03-30</td>\n",
       "      <td>N01-STR-YN-10320</td>\n",
       "      <td>2023-04-14</td>\n",
       "      <td>2024-01-24</td>\n",
       "    </tr>\n",
       "    <tr>\n",
       "      <th>3</th>\n",
       "      <td>N-01_PILE</td>\n",
       "      <td>MT01-01</td>\n",
       "      <td>1</td>\n",
       "      <td>4</td>\n",
       "      <td>N-01</td>\n",
       "      <td>489.0</td>\n",
       "      <td>4</td>\n",
       "      <td>MT011D</td>\n",
       "      <td>2023-03-31</td>\n",
       "      <td>N01-STR-YN-10320</td>\n",
       "      <td>2023-04-14</td>\n",
       "      <td>2024-01-24</td>\n",
       "    </tr>\n",
       "    <tr>\n",
       "      <th>4</th>\n",
       "      <td>N-01_PILE</td>\n",
       "      <td>MT01-01</td>\n",
       "      <td>1</td>\n",
       "      <td>4</td>\n",
       "      <td>N-01</td>\n",
       "      <td>490.0</td>\n",
       "      <td>5</td>\n",
       "      <td>MT011E</td>\n",
       "      <td>2023-04-01</td>\n",
       "      <td>N01-STR-YN-10320</td>\n",
       "      <td>2023-04-14</td>\n",
       "      <td>2024-01-24</td>\n",
       "    </tr>\n",
       "  </tbody>\n",
       "</table>\n",
       "</div>"
      ],
      "text/plain": [
       "       Layer PierNumber  Type  ...                ID planned_date    updated\n",
       "0  N-01_PILE    MT01-01     1  ...  N01-STR-YN-10320   2023-04-14 2024-01-24\n",
       "1  N-01_PILE    MT01-01     1  ...  N01-STR-YN-10320   2023-04-14 2024-01-24\n",
       "2  N-01_PILE    MT01-01     1  ...  N01-STR-YN-10320   2023-04-14 2024-01-24\n",
       "3  N-01_PILE    MT01-01     1  ...  N01-STR-YN-10320   2023-04-14 2024-01-24\n",
       "4  N-01_PILE    MT01-01     1  ...  N01-STR-YN-10320   2023-04-14 2024-01-24\n",
       "\n",
       "[5 rows x 12 columns]"
      ]
     },
     "execution_count": 56,
     "metadata": {},
     "output_type": "execute_result"
    }
   ],
   "source": [
    "input_table = pd.read_excel(input_table)\n",
    "input_table.head()"
   ]
  },
  {
   "cell_type": "markdown",
   "metadata": {},
   "source": [
    "## Update both status and date fields (REFERENCE ONLY)\n",
    "### XXXXX DO NOT USE THIS XXXXXX"
   ]
  },
  {
   "cell_type": "code",
   "execution_count": 13,
   "metadata": {},
   "outputs": [
    {
     "ename": "SyntaxError",
     "evalue": "invalid syntax (<string>, line 33)",
     "output_type": "error",
     "traceback": [
      "\u001b[0;31m---------------------------------------------------------------------------\u001b[0m\n\u001b[0;31mSyntaxError\u001b[0m                               Traceback (most recent call last)",
      "File \u001b[0;34mC:\\Program Files\\ArcGIS\\Pro\\bin\\Python\\envs\\arcgispro-py3\\lib\\ast.py\u001b[0m, in \u001b[0;32mparse\u001b[0m:\nLine \u001b[0;34m50\u001b[0m:    \u001b[34mreturn\u001b[39;49;00m \u001b[36mcompile\u001b[39;49;00m(source, filename, mode, flags,\u001b[37m\u001b[39;49;00m\n",
      "\u001b[0;31mSyntaxError\u001b[0m: invalid syntax (<string>, line 33)\n\u001b[0;31m---------------------------------------------------------------------------\u001b[0m"
     ]
    }
   ],
   "source": [
    "# 1. Both status and date\n",
    "for_update = []\n",
    "uniqueIDs = [f for f in input_table[join_field]]\n",
    "\n",
    "for unique_id in uniqueIDs[:10]:\n",
    "    # Status for target\n",
    "    original_feature = [f for f in all_target_features if f.attributes[join_field] == unique_id][0]\n",
    "    to_be_updated = deepcopy(original_feature)\n",
    "    \n",
    "    # get the matching row from input_table\n",
    "    #matching_uniqueid = input_table.where(input_table.uniqueID == unique_id).dropna()\n",
    "    \n",
    "    # get the status for input and target layers\n",
    "    ## Input \n",
    "    id = input_table.index[input_table[join_field] == unique_id]\n",
    "    status_input = input_table[transfer_fields[0]].loc[id].iloc[0]\n",
    "    enddate_input = pd.to_datetime(input_table[transfer_fields[1]].loc[id].iloc[0]).date()\n",
    "    \n",
    "    print(unique_id)\n",
    "    print(enddate_input)\n",
    "    \n",
    "    ## Target\n",
    "    status_target = original_feature.attributes[transfer_fields[0]]\n",
    "    objectid_target = original_feature.attributes['OBJECTID']\n",
    "    \n",
    "    try:\n",
    "        timestamp = original_feature.attributes[transfer_fields[1]] / 1000\n",
    "        enddate_target = datetime.fromtimestamp(timestamp).date()\n",
    "    except:\n",
    "        pass\n",
    "    \n",
    "    ## If input and target does not match in status and end_date, append to for_update list\n",
    "    if status_input != status_target or enddate_input != enddate_target:\n",
    "        to_be_updated = {\n",
    "            'attributes': {\n",
    "                'OBJECTID': objectid_target,\n",
    "                transfer_fields[0] : status_input,\n",
    "                transfer_fields[1] : enddate_input\n",
    "            }\n",
    "        }\n",
    "        for_update.append(to_be_updated)"
   ]
  },
  {
   "cell_type": "code",
   "execution_count": 259,
   "metadata": {},
   "outputs": [
    {
     "name": "stdout",
     "output_type": "stream",
     "text": [
      "No need to update target feature layer\n"
     ]
    }
   ],
   "source": [
    "if len(for_update) == 0:\n",
    "    print('No need to update target feature layer')\n",
    "else:\n",
    "    target_layer.edit_features(updates=for_update)\n"
   ]
  },
  {
   "cell_type": "markdown",
   "metadata": {},
   "source": [
    "# Update Status Field Only"
   ]
  },
  {
   "cell_type": "code",
   "execution_count": 24,
   "metadata": {},
   "outputs": [],
   "source": [
    "for_update = []\n",
    "uniqueIDs = [f for f in input_table[join_field]]\n",
    "\n",
    "for unique_id in uniqueIDs:\n",
    "    # Status for target\n",
    "    original_feature = [f for f in all_target_features if f.attributes[join_field] == unique_id][0]\n",
    "    to_be_updated = deepcopy(original_feature)\n",
    "    \n",
    "    # get the matching row from input_table\n",
    "    #matching_uniqueid = input_table.where(input_table.uniqueID == unique_id).dropna()\n",
    "    \n",
    "    # get the status for input and target layers\n",
    "    ## Input \n",
    "    id = input_table.index[input_table[join_field] == unique_id]\n",
    "    status_input = input_table[transfer_fields[0]].loc[id].iloc[0]\n",
    "    \n",
    "    ## Target\n",
    "    status_target = original_feature.attributes[transfer_fields[0]]\n",
    "    objectid_target = original_feature.attributes['OBJECTID']\n",
    "    \n",
    "    ## If input and target does not match in status and end_date, append to for_update list\n",
    "    if status_input != status_target:\n",
    "        to_be_updated = {\n",
    "            'attributes': {\n",
    "                'OBJECTID': objectid_target,\n",
    "                transfer_fields[0] : status_input,\n",
    "            }\n",
    "        }\n",
    "        for_update.append(to_be_updated)"
   ]
  },
  {
   "cell_type": "code",
   "execution_count": 25,
   "metadata": {},
   "outputs": [
    {
     "data": {
      "text/plain": [
       "253"
      ]
     },
     "execution_count": 25,
     "metadata": {},
     "output_type": "execute_result"
    }
   ],
   "source": [
    "len(for_update)"
   ]
  },
  {
   "cell_type": "code",
   "execution_count": 26,
   "metadata": {},
   "outputs": [],
   "source": [
    "if len(for_update) == 0:\n",
    "    print('No need to update target feature layer')\n",
    "else:\n",
    "    target_layer.edit_features(updates=for_update)"
   ]
  },
  {
   "cell_type": "markdown",
   "metadata": {},
   "source": [
    "# Update Date Field Only"
   ]
  },
  {
   "cell_type": "code",
   "execution_count": 84,
   "metadata": {},
   "outputs": [],
   "source": [
    "for_update = []\n",
    "uniqueIDs = [f for f in input_table[join_field]]\n",
    "\n",
    "for unique_id in uniqueIDs:\n",
    "    # Status for target\n",
    "    original_feature = [f for f in all_target_features if f.attributes[join_field] == unique_id][0]\n",
    "    to_be_updated = deepcopy(original_feature)\n",
    "        \n",
    "    # get the status for input and target layers\n",
    "    ## Input \n",
    "    id = input_table.index[input_table[join_field] == unique_id]\n",
    "    enddate_input = pd.to_datetime(input_table[transfer_fields[1]].loc[id].iloc[0]).date()\n",
    "    \n",
    "    temp = pd.to_datetime(input_table[transfer_fields[1]].loc[id])\n",
    "    temp2 = np.isnat(temp)\n",
    "    if temp2.bool() == False: # only if enddate_input is not empty, update the date\n",
    "        to_be_updated = {\n",
    "            'attributes': {\n",
    "                'OBJECTID': objectid_target,\n",
    "                transfer_fields[0] : enddate_input,\n",
    "            }\n",
    "        }\n",
    "        for_update.append(to_be_updated)\n",
    "    else:\n",
    "        pass"
   ]
  },
  {
   "cell_type": "code",
   "execution_count": 85,
   "metadata": {},
   "outputs": [
    {
     "data": {
      "text/plain": [
       "5194"
      ]
     },
     "execution_count": 85,
     "metadata": {},
     "output_type": "execute_result"
    }
   ],
   "source": [
    "len(for_update)"
   ]
  },
  {
   "cell_type": "code",
   "execution_count": 86,
   "metadata": {},
   "outputs": [],
   "source": [
    "if len(for_update) == 0:\n",
    "    print('No need to update target feature layer')\n",
    "else:\n",
    "    target_layer.edit_features(updates=for_update)"
   ]
  },
  {
   "cell_type": "code",
   "execution_count": null,
   "metadata": {},
   "outputs": [],
   "source": []
  }
 ],
 "metadata": {
  "kernelspec": {
   "display_name": "ArcGISPro",
   "language": "Python",
   "name": "python3"
  },
  "language_info": {
   "file_extension": ".py",
   "name": "python",
   "version": "3"
  }
 },
 "nbformat": 4,
 "nbformat_minor": 2
}
