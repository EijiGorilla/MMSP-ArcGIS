{
 "cells": [
  {
   "cell_type": "markdown",
   "metadata": {},
   "source": [
    "## How to Update AGOL Feature Service using Truncate and Append\n",
    "\n",
    "Procedure:\n",
    "\n",
    "##### Clone individual feature services\n",
    "1. Sign in ArcGIS Online or Portal for ArcGIS\n",
    "2. Import a feature layer from the Contents panel of ArcGIS Pro\n",
    "3. Get the hosted feature layer\n",
    "4. Truncate the hosted feature layer\n",
    "5. Import the hosted feature layer from the Portal in ArcGIS Pro\n",
    "6. Append the input to the targe feature layer (hosted)\n",
    "\n",
    "\n",
    "##### Note that this takes lots of time.\n",
    "\n",
    "Reference:https://community.esri.com/t5/arcgis-online-documents/overwrite-arcgis-online-feature-service-using-truncate-and/ta-p/904457"
   ]
  },
  {
   "cell_type": "code",
   "execution_count": 1,
   "metadata": {},
   "outputs": [],
   "source": [
    "from pathlib import Path\n",
    "import sys\n",
    "\n",
    "from arcgis.gis import GIS, Item\n",
    "from arcgis.features import FeatureLayerCollection\n",
    "from arcgis.mapping import WebMap\n",
    "\n",
    "import arcpy\n",
    "import os"
   ]
  },
  {
   "cell_type": "code",
   "execution_count": 2,
   "metadata": {},
   "outputs": [],
   "source": [
    "# 1. Sign in AGOL or Portal for ArcGIS\n",
    "## Portal for ArcGIS\n",
    "#source = GIS(\"https://gis.railway-sector.com/portal\",\"matsuzakieiji\",\"timberland12345\",verify_cert=False)\n",
    "\n",
    "## ArcGIS Online\n",
    "#source = GIS(\"https://railway-sector.maps.arcgis.com\", \"matsuzakieijinscrex\", \"Gorilla@367*\")\n",
    "source = GIS(\"https://mmsp.maps.arcgis.com\", \"MatsuzakiEiji\", \"daimoku@9ichiban*\")"
   ]
  },
  {
   "cell_type": "code",
   "execution_count": 3,
   "metadata": {},
   "outputs": [],
   "source": [
    "aprx = arcpy.mp.ArcGISProject('current')"
   ]
  },
  {
   "cell_type": "code",
   "execution_count": 4,
   "metadata": {},
   "outputs": [],
   "source": [
    "# 2. Import a feature layer from the Contents panel of ArcGIS Pro\n",
    "#inputLyr = r\"Tree Cutting\\N2_Tree_Inventoried\" # Use exactly the same name as appeared in the Contents panel\n",
    "inputLyr = r\"Land Acquisition portal\\MMSP_Land\""
   ]
  },
  {
   "cell_type": "code",
   "execution_count": 5,
   "metadata": {},
   "outputs": [],
   "source": [
    "## 2.1. Make sure that input layer's coordinate system is the same as target\n",
    "## For me, I always define Map coordinate system as 3857 (Web Mercator)\n",
    "## so, inputLyr must be converted to 3857.\n",
    "arcpy.env.outputCoordinateSystem = arcpy.SpatialReference(\"WGS 1984 Web Mercator (auxiliary sphere)\")\n",
    "arcpy.env.geographicTransformations = \"PRS_1992_To_WGS_1984_1\"\n",
    "\n",
    "copied = \"copied_layer\"\n",
    "inputLyr_wgs84 = arcpy.CopyFeatures_management(inputLyr,copied)"
   ]
  },
  {
   "cell_type": "code",
   "execution_count": 16,
   "metadata": {},
   "outputs": [],
   "source": [
    "# 3. Get the hosted feature layer\n",
    "fsItemId = \"5a0b175a1f214b5394e26ff554bf8b79\"\n",
    "premiseLayer = source.content.get(fsItemId)"
   ]
  },
  {
   "cell_type": "code",
   "execution_count": 20,
   "metadata": {},
   "outputs": [
    {
     "ename": "Exception",
     "evalue": "Unable to truncate layer data.\nLayer truncate isn't supported on an origin layer in a relationship, view layer, or when sync is enabled.\n(Error Code: 400)",
     "output_type": "error",
     "traceback": [
      "\u001b[0;31m---------------------------------------------------------------------------\u001b[0m\n\u001b[0;31mException\u001b[0m                                 Traceback (most recent call last)",
      "In  \u001b[0;34m[20]\u001b[0m:\nLine \u001b[0;34m4\u001b[0m:     targetLyr.manager.truncate()\n",
      "File \u001b[0;34mC:\\Program Files\\ArcGIS\\Pro\\bin\\Python\\envs\\arcgispro-py3\\Lib\\site-packages\\arcgis\\features\\managers.py\u001b[0m, in \u001b[0;32mtruncate\u001b[0m:\nLine \u001b[0;34m2661\u001b[0m:  res = \u001b[36mself\u001b[39;49;00m._con.post(u_url, params)\n",
      "File \u001b[0;34mC:\\Program Files\\ArcGIS\\Pro\\bin\\Python\\envs\\arcgispro-py3\\Lib\\site-packages\\arcgis\\gis\\_impl\\_con\\_connection.py\u001b[0m, in \u001b[0;32mpost\u001b[0m:\nLine \u001b[0;34m1079\u001b[0m:  force_bytes=kwargs.pop(\u001b[33m\"\u001b[39;49;00m\u001b[33mforce_bytes\u001b[39;49;00m\u001b[33m\"\u001b[39;49;00m, \u001b[34mFalse\u001b[39;49;00m),\n",
      "File \u001b[0;34mC:\\Program Files\\ArcGIS\\Pro\\bin\\Python\\envs\\arcgispro-py3\\Lib\\site-packages\\arcgis\\gis\\_impl\\_con\\_connection.py\u001b[0m, in \u001b[0;32m_handle_response\u001b[0m:\nLine \u001b[0;34m625\u001b[0m:   \u001b[36mself\u001b[39;49;00m._handle_json_error(data[\u001b[33m\"\u001b[39;49;00m\u001b[33merror\u001b[39;49;00m\u001b[33m\"\u001b[39;49;00m], errorcode)\n",
      "File \u001b[0;34mC:\\Program Files\\ArcGIS\\Pro\\bin\\Python\\envs\\arcgispro-py3\\Lib\\site-packages\\arcgis\\gis\\_impl\\_con\\_connection.py\u001b[0m, in \u001b[0;32m_handle_json_error\u001b[0m:\nLine \u001b[0;34m648\u001b[0m:   \u001b[34mraise\u001b[39;49;00m \u001b[36mException\u001b[39;49;00m(errormessage)\n",
      "\u001b[0;31mException\u001b[0m: Unable to truncate layer data.\nLayer truncate isn't supported on an origin layer in a relationship, view layer, or when sync is enabled.\n(Error Code: 400)\n\u001b[0;31m---------------------------------------------------------------------------\u001b[0m"
     ]
    }
   ],
   "source": [
    "# 3.1. Truncate the hosted feature layer\n",
    "## NOTE: this does not work scene layer, in this case you need to proceed to #5.\n",
    "targetLyr = premiseLayer.layers[14] # sublayer\n",
    "targetLyr.manager.truncate()"
   ]
  },
  {
   "cell_type": "code",
   "execution_count": 6,
   "metadata": {},
   "outputs": [],
   "source": [
    "# 5. Import the hosted feature layer from the Portal or AGOL in ArcGIS Pro\n",
    "targetLyr = r\"MMSP_Land_Structure_Alignment\\MMSP_Land\""
   ]
  },
  {
   "cell_type": "code",
   "execution_count": null,
   "metadata": {},
   "outputs": [],
   "source": [
    "# 6. Delete All from the Hosted\n",
    "# you cannot use Truncate for hosted feature layers."
   ]
  },
  {
   "cell_type": "code",
   "execution_count": null,
   "metadata": {},
   "outputs": [],
   "source": [
    "# 6. Append the input to the targe feature layer (hosted)\n",
    "arcpy.Append_management(inputLyr_wgs84, targetLyr, schema_type = 'NO_TEST')"
   ]
  },
  {
   "cell_type": "code",
   "execution_count": null,
   "metadata": {},
   "outputs": [],
   "source": [
    "# 7. Delete copied feature layer\n",
    "arcpy.Delete_management(inputLyr_wgs84)"
   ]
  }
 ],
 "metadata": {
  "kernelspec": {
   "display_name": "ArcGISPro",
   "language": "Python",
   "name": "python3"
  },
  "language_info": {
   "file_extension": ".py",
   "name": "python",
   "version": "3"
  }
 },
 "nbformat": 4,
 "nbformat_minor": 2
}
