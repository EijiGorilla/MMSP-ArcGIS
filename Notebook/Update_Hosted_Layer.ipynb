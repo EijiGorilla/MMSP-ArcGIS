{
 "cells": [
  {
   "cell_type": "markdown",
   "metadata": {},
   "source": [
    "# Updating Hosted Feature Layer using Excel Table\n",
    "\n",
    "#### Ensure that input table (Excel) and target layer (hosted layer) share the same field names\n",
    "#### The hosted layer is imported from ArcGIS Online.\n",
    "\n",
    "Reference: https://developers.arcgis.com/python/samples/updating-features-in-a-feature-layer/"
   ]
  },
  {
   "cell_type": "code",
   "execution_count": 1,
   "metadata": {},
   "outputs": [],
   "source": [
    "from pathlib import Path\n",
    "import sys\n",
    "\n",
    "from arcgis.gis import GIS, Item\n",
    "from arcgis.features import FeatureLayerCollection\n",
    "from arcgis.mapping import WebMap\n",
    "from datetime import datetime\n",
    "import arcpy\n",
    "import os\n",
    "import pandas as pd\n",
    "import numpy as np"
   ]
  },
  {
   "cell_type": "code",
   "execution_count": 2,
   "metadata": {},
   "outputs": [],
   "source": [
    "from arcgis.features.managers import FeatureLayerManager\n",
    "from arcgis import features\n",
    "from arcgis import geometry\n",
    "from copy import deepcopy"
   ]
  },
  {
   "cell_type": "code",
   "execution_count": 93,
   "metadata": {},
   "outputs": [],
   "source": [
    "# Define parameters for log in\n",
    "url_agol = \"https://railway-sector.maps.arcgis.com\"\n",
    "username = \"matsuzakieijinscrex\"\n",
    "password = \"Gorilla@367*\""
   ]
  },
  {
   "cell_type": "code",
   "execution_count": null,
   "metadata": {},
   "outputs": [],
   "source": [
    "# Enter layer item ID\n",
    "target_layer_itemid = \"788a8a39075747739fdd0a446073d695\" # for scene layers, choose associated feature layer (do not choose scene layer)\n",
    "\n",
    "# Enter input table\n",
    "input_table = r\"C:/Users/oc3512/Dropbox/01-Railway/02-NSCR-Ex/01-N2/03-During-Construction/02-Civil/02-Station Structure/01-Masterlist/01-Compiled/N2_Station_Structure_P6ID.xlsx\""
   ]
  },
  {
   "cell_type": "code",
   "execution_count": null,
   "metadata": {},
   "outputs": [],
   "source": [
    "# Define field names:\n",
    "## Make sure to use correct field names for the followins:\n",
    "\n",
    "### 1. Join Field\n",
    "join_field = 'uniqueID'\n",
    "\n",
    "### 2. OBJECT field names (Esri's default)\n",
    "objectid_name = 'OBJECTID_1'\n",
    "\n",
    "### 3. Transfer Field (i.e., field to be updated)\n",
    "transfer_field = ['target_date']"
   ]
  },
  {
   "cell_type": "code",
   "execution_count": 4,
   "metadata": {},
   "outputs": [],
   "source": [
    "# Sign in \n",
    "gis = GIS(url_agol, username, password)"
   ]
  },
  {
   "cell_type": "code",
   "execution_count": 42,
   "metadata": {},
   "outputs": [
    {
     "name": "stdout",
     "output_type": "stream",
     "text": [
      "1\n"
     ]
    }
   ],
   "source": [
    "for i in range(len(featureLayer.layers))[1:2]:\n",
    "    print(i)"
   ]
  },
  {
   "cell_type": "markdown",
   "metadata": {
    "heading_collapsed": true
   },
   "source": [
    "# Update Status Field Only"
   ]
  },
  {
   "cell_type": "code",
   "execution_count": 90,
   "metadata": {
    "hidden": true
   },
   "outputs": [
    {
     "name": "stdout",
     "output_type": "stream",
     "text": [
      "--------------- Updated Feature Layer ---------------\n",
      "Columns: \n",
      "[{'attributes': {'OBJECTID_1': 3441, 'Status': 4}}]\n"
     ]
    }
   ],
   "source": [
    "input_table = pd.read_excel(input_table)\n",
    "input_table.head()\n",
    "\n",
    "# Import target feature layers from a feature collection\n",
    "featureLayer = gis.content.get(target_layer_itemid)\n",
    "for i in range(len(featureLayer.layers))[1:2]: \n",
    "    target_layer = featureLayer.layers[i]\n",
    "\n",
    "    #querying without any conditions returns all the features\n",
    "    target_fset = target_layer.query()\n",
    "    target_fset.sdf.head()\n",
    "\n",
    "    # First get all features\n",
    "    all_target_features = target_fset.features\n",
    "    all_target_features[0]\n",
    "\n",
    "    for_update = []\n",
    "    uniqueIDs = [f.attributes[join_field] for f in all_target_features] # make sure to obtain uniqueID from feature layer\n",
    "\n",
    "    for unique_id in uniqueIDs:\n",
    "        # Status for target\n",
    "        original_feature = [f for f in all_target_features if f.attributes[join_field] == unique_id][0]\n",
    "        to_be_updated = deepcopy(original_feature)\n",
    "\n",
    "        # get the matching row from input_table\n",
    "        #matching_uniqueid = input_table.where(input_table.uniqueID == unique_id).dropna()\n",
    "\n",
    "        # get the status for input and target layers\n",
    "        ## Input \n",
    "        id = input_table.index[input_table[join_field] == unique_id]\n",
    "        status_input = input_table[transfer_field[0]].loc[id].iloc[0]\n",
    "\n",
    "        ## Target\n",
    "        status_target = original_feature.attributes[transfer_field[0]]\n",
    "        objectid_target = original_feature.attributes[objectid_name]\n",
    "\n",
    "        ## If input and target does not match in status and end_date, append to for_update list\n",
    "        if status_input != status_target:\n",
    "            to_be_updated = {\n",
    "                'attributes': {\n",
    "                    objectid_name: objectid_target,\n",
    "                    transfer_field[0] : status_input,\n",
    "                }\n",
    "            }\n",
    "            for_update.append(to_be_updated)\n",
    "\n",
    "    # Update hosted feature layer\n",
    "    if len(for_update) == 0:\n",
    "        print('No need to update target feature layer')\n",
    "    else:\n",
    "        print('---------------' + ' Updated Feature Layer ' + '---------------')\n",
    "        print(target_layer.properties.name + \": \")\n",
    "        print(for_update)\n",
    "        target_layer.edit_features(updates=for_update)"
   ]
  },
  {
   "cell_type": "markdown",
   "metadata": {
    "heading_collapsed": true
   },
   "source": [
    "# Update Date Field Only"
   ]
  },
  {
   "cell_type": "code",
   "execution_count": 94,
   "metadata": {
    "hidden": true
   },
   "outputs": [
    {
     "name": "stdout",
     "output_type": "stream",
     "text": [
      "--------------- Updated Feature Layer ---------------\n",
      "Columns: \n"
     ]
    }
   ],
   "source": [
    "input_table = pd.read_excel(input_table)\n",
    "input_table.head()\n",
    "\n",
    "# Import target feature layers from a feature collection\n",
    "featureLayer = gis.content.get(target_layer_itemid)\n",
    "for i in range(len(featureLayer.layers))[1:2]: \n",
    "    target_layer = featureLayer.layers[i]\n",
    "\n",
    "    #querying without any conditions returns all the features\n",
    "    target_fset = target_layer.query()\n",
    "    target_fset.sdf.head()\n",
    "\n",
    "    # First get all features\n",
    "    all_target_features = target_fset.features\n",
    "    all_target_features[0]\n",
    "\n",
    "    for_update = []\n",
    "    uniqueIDs = [f.attributes[join_field] for f in all_target_features] # make sure to obtain uniqueID from feature layer\n",
    "\n",
    "    for unique_id in uniqueIDs:\n",
    "        # Status for target\n",
    "        original_feature = [f for f in all_target_features if f.attributes[join_field] == unique_id][0]\n",
    "        to_be_updated = deepcopy(original_feature)\n",
    "\n",
    "        # get dates for input and target layers\n",
    "        ## Input \n",
    "        id = input_table.index[input_table[join_field] == unique_id]\n",
    "        enddate_input = pd.to_datetime(input_table[transfer_field[0]].loc[id].iloc[0]).date()\n",
    "\n",
    "        temp = pd.to_datetime(input_table[transfer_field[0]].loc[id])\n",
    "        temp2 = np.isnat(temp)\n",
    "        \n",
    "        # Identify OBJECTID\n",
    "        objectid_target = original_feature.attributes[objectid_name]\n",
    "        \n",
    "        if temp2.bool() == False: # only if enddate_input is not empty, update the date\n",
    "            to_be_updated = {\n",
    "                'attributes': {\n",
    "                    objectid_name: objectid_target,\n",
    "                    transfer_field[0] : enddate_input,\n",
    "                }\n",
    "            }\n",
    "            for_update.append(to_be_updated)\n",
    "        else:\n",
    "            pass\n",
    "        \n",
    "    # Update hosted feature layer\n",
    "    if len(for_update) == 0:\n",
    "        print('No need to update target feature layer')\n",
    "    else:\n",
    "        print('---------------' + ' Updated Feature Layer ' + '---------------')\n",
    "        print(target_layer.properties.name + \": \")\n",
    "        #print(for_update)\n",
    "        target_layer.edit_features(updates=for_update)"
   ]
  },
  {
   "cell_type": "code",
   "execution_count": null,
   "metadata": {
    "hidden": true
   },
   "outputs": [],
   "source": []
  }
 ],
 "metadata": {
  "kernelspec": {
   "display_name": "ArcGISPro",
   "language": "Python",
   "name": "python3"
  },
  "language_info": {
   "file_extension": ".py",
   "name": "python",
   "version": "3"
  }
 },
 "nbformat": 4,
 "nbformat_minor": 2
}
