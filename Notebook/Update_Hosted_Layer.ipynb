{
 "cells": [
  {
   "cell_type": "markdown",
   "metadata": {},
   "source": [
    "# Updating Hosted Feature Layer using Excel Table\n",
    "\n",
    "#### Ensure that input table (Excel) and target layer (hosted layer) share the same field names\n",
    "#### The hosted layer is imported from ArcGIS Online.\n",
    "\n",
    "Reference: https://developers.arcgis.com/python/samples/updating-features-in-a-feature-layer/"
   ]
  },
  {
   "cell_type": "code",
   "execution_count": 249,
   "metadata": {},
   "outputs": [],
   "source": [
    "from pathlib import Path\n",
    "import sys\n",
    "\n",
    "from arcgis.gis import GIS, Item\n",
    "from arcgis.features import FeatureLayerCollection\n",
    "from arcgis.mapping import WebMap\n",
    "from datetime import datetime\n",
    "import arcpy\n",
    "import os\n",
    "import pandas as pd\n",
    "import numpy as np"
   ]
  },
  {
   "cell_type": "code",
   "execution_count": 169,
   "metadata": {},
   "outputs": [],
   "source": [
    "from arcgis.features.managers import FeatureLayerManager\n",
    "from arcgis import features\n",
    "from arcgis import geometry"
   ]
  },
  {
   "cell_type": "code",
   "execution_count": 3,
   "metadata": {},
   "outputs": [],
   "source": [
    "#aprx = arcpy.mp.ArcGISProject('current')"
   ]
  },
  {
   "cell_type": "code",
   "execution_count": 170,
   "metadata": {},
   "outputs": [],
   "source": [
    "gis = GIS(\"https://mmsp.maps.arcgis.com\", \"MatsuzakiEiji\", \"daimoku@9ichiban*\")"
   ]
  },
  {
   "cell_type": "code",
   "execution_count": 230,
   "metadata": {},
   "outputs": [],
   "source": [
    "fsItemId = \"cb692b9ff5ef40fba0fce9ebc4d590f7\" # viaduct associated feature layer (do not choose scene layer)\n",
    "featureLayer = source.content.get(fsItemId)\n",
    "target_layer = featureLayer.layers[0]"
   ]
  },
  {
   "cell_type": "code",
   "execution_count": 231,
   "metadata": {},
   "outputs": [
    {
     "data": {
      "text/html": [
       "<div>\n",
       "<style scoped>\n",
       "    .dataframe tbody tr th:only-of-type {\n",
       "        vertical-align: middle;\n",
       "    }\n",
       "\n",
       "    .dataframe tbody tr th {\n",
       "        vertical-align: top;\n",
       "    }\n",
       "\n",
       "    .dataframe thead th {\n",
       "        text-align: right;\n",
       "    }\n",
       "</style>\n",
       "<table border=\"1\" class=\"dataframe\">\n",
       "  <thead>\n",
       "    <tr style=\"text-align: right;\">\n",
       "      <th></th>\n",
       "      <th>OBJECTID</th>\n",
       "      <th>uniqueID</th>\n",
       "      <th>Status1</th>\n",
       "      <th>ID</th>\n",
       "      <th>PierNumber</th>\n",
       "      <th>nPierNumber</th>\n",
       "      <th>Layer</th>\n",
       "      <th>Type</th>\n",
       "      <th>end_date</th>\n",
       "      <th>CP</th>\n",
       "      <th>created_user</th>\n",
       "      <th>created_date</th>\n",
       "      <th>last_edited_user</th>\n",
       "      <th>last_edited_date</th>\n",
       "      <th>GlobalID</th>\n",
       "      <th>planned_date</th>\n",
       "      <th>SHAPE</th>\n",
       "    </tr>\n",
       "  </thead>\n",
       "  <tbody>\n",
       "    <tr>\n",
       "      <th>0</th>\n",
       "      <td>1</td>\n",
       "      <td>1</td>\n",
       "      <td>4</td>\n",
       "      <td>N01-STR-YN-10320</td>\n",
       "      <td>MT01-01</td>\n",
       "      <td>MT011A</td>\n",
       "      <td>N-01_PILE</td>\n",
       "      <td>1</td>\n",
       "      <td>2023-03-28</td>\n",
       "      <td>N-01</td>\n",
       "      <td>NSCREXUSER</td>\n",
       "      <td>2023-11-10 06:09:02</td>\n",
       "      <td>NSCREXUSER</td>\n",
       "      <td>2023-11-10 06:09:02</td>\n",
       "      <td>322d34e8-6fc9-4c48-bdb6-5159ada095d0</td>\n",
       "      <td>2023-04-14</td>\n",
       "      <td>{\"rings\": [[[13445235.8498, 1676714.3137], [13...</td>\n",
       "    </tr>\n",
       "    <tr>\n",
       "      <th>1</th>\n",
       "      <td>2</td>\n",
       "      <td>2</td>\n",
       "      <td>4</td>\n",
       "      <td>N01-STR-YN-10320</td>\n",
       "      <td>MT01-01</td>\n",
       "      <td>MT011B</td>\n",
       "      <td>N-01_PILE</td>\n",
       "      <td>1</td>\n",
       "      <td>2023-03-27</td>\n",
       "      <td>N-01</td>\n",
       "      <td>NSCREXUSER</td>\n",
       "      <td>2023-11-10 06:09:02</td>\n",
       "      <td>NSCREXUSER</td>\n",
       "      <td>2023-11-10 06:09:02</td>\n",
       "      <td>62327712-ed75-4ab9-b8c4-9a59be0f3899</td>\n",
       "      <td>2023-04-14</td>\n",
       "      <td>{\"rings\": [[[13445232.7179, 1676717.7801], [13...</td>\n",
       "    </tr>\n",
       "  </tbody>\n",
       "</table>\n",
       "</div>"
      ],
      "text/plain": [
       "   OBJECTID  ...                                              SHAPE\n",
       "0         1  ...  {\"rings\": [[[13445235.8498, 1676714.3137], [13...\n",
       "1         2  ...  {\"rings\": [[[13445232.7179, 1676717.7801], [13...\n",
       "\n",
       "[2 rows x 17 columns]"
      ]
     },
     "execution_count": 231,
     "metadata": {},
     "output_type": "execute_result"
    }
   ],
   "source": [
    "#querying without any conditions returns all the features\n",
    "target_fset = target_layer.query()\n",
    "target_fset.sdf.head()"
   ]
  },
  {
   "cell_type": "code",
   "execution_count": 173,
   "metadata": {},
   "outputs": [
    {
     "data": {
      "text/html": [
       "<div>\n",
       "<style scoped>\n",
       "    .dataframe tbody tr th:only-of-type {\n",
       "        vertical-align: middle;\n",
       "    }\n",
       "\n",
       "    .dataframe tbody tr th {\n",
       "        vertical-align: top;\n",
       "    }\n",
       "\n",
       "    .dataframe thead th {\n",
       "        text-align: right;\n",
       "    }\n",
       "</style>\n",
       "<table border=\"1\" class=\"dataframe\">\n",
       "  <thead>\n",
       "    <tr style=\"text-align: right;\">\n",
       "      <th></th>\n",
       "      <th>Layer</th>\n",
       "      <th>PierNumber</th>\n",
       "      <th>Type</th>\n",
       "      <th>Status1</th>\n",
       "      <th>CP</th>\n",
       "      <th>idd</th>\n",
       "      <th>uniqueID</th>\n",
       "      <th>nPierNumber</th>\n",
       "      <th>end_date</th>\n",
       "      <th>ID</th>\n",
       "      <th>planned_date</th>\n",
       "      <th>updated</th>\n",
       "    </tr>\n",
       "  </thead>\n",
       "  <tbody>\n",
       "    <tr>\n",
       "      <th>0</th>\n",
       "      <td>N-01_PILE</td>\n",
       "      <td>MT01-01</td>\n",
       "      <td>1</td>\n",
       "      <td>4</td>\n",
       "      <td>N-01</td>\n",
       "      <td>486.0</td>\n",
       "      <td>1</td>\n",
       "      <td>MT011A</td>\n",
       "      <td>2023-03-28</td>\n",
       "      <td>N01-STR-YN-10320</td>\n",
       "      <td>2023-04-14</td>\n",
       "      <td>2024-01-10</td>\n",
       "    </tr>\n",
       "    <tr>\n",
       "      <th>1</th>\n",
       "      <td>N-01_PILE</td>\n",
       "      <td>MT01-01</td>\n",
       "      <td>1</td>\n",
       "      <td>4</td>\n",
       "      <td>N-01</td>\n",
       "      <td>487.0</td>\n",
       "      <td>2</td>\n",
       "      <td>MT011B</td>\n",
       "      <td>2023-03-27</td>\n",
       "      <td>N01-STR-YN-10320</td>\n",
       "      <td>2023-04-14</td>\n",
       "      <td>2024-01-10</td>\n",
       "    </tr>\n",
       "    <tr>\n",
       "      <th>2</th>\n",
       "      <td>N-01_PILE</td>\n",
       "      <td>MT01-01</td>\n",
       "      <td>1</td>\n",
       "      <td>4</td>\n",
       "      <td>N-01</td>\n",
       "      <td>488.0</td>\n",
       "      <td>3</td>\n",
       "      <td>MT011C</td>\n",
       "      <td>2023-03-30</td>\n",
       "      <td>N01-STR-YN-10320</td>\n",
       "      <td>2023-04-14</td>\n",
       "      <td>2024-01-10</td>\n",
       "    </tr>\n",
       "    <tr>\n",
       "      <th>3</th>\n",
       "      <td>N-01_PILE</td>\n",
       "      <td>MT01-01</td>\n",
       "      <td>1</td>\n",
       "      <td>4</td>\n",
       "      <td>N-01</td>\n",
       "      <td>489.0</td>\n",
       "      <td>4</td>\n",
       "      <td>MT011D</td>\n",
       "      <td>2023-03-31</td>\n",
       "      <td>N01-STR-YN-10320</td>\n",
       "      <td>2023-04-14</td>\n",
       "      <td>2024-01-10</td>\n",
       "    </tr>\n",
       "    <tr>\n",
       "      <th>4</th>\n",
       "      <td>N-01_PILE</td>\n",
       "      <td>MT01-01</td>\n",
       "      <td>1</td>\n",
       "      <td>4</td>\n",
       "      <td>N-01</td>\n",
       "      <td>490.0</td>\n",
       "      <td>5</td>\n",
       "      <td>MT011E</td>\n",
       "      <td>2023-04-01</td>\n",
       "      <td>N01-STR-YN-10320</td>\n",
       "      <td>2023-04-14</td>\n",
       "      <td>2024-01-10</td>\n",
       "    </tr>\n",
       "  </tbody>\n",
       "</table>\n",
       "</div>"
      ],
      "text/plain": [
       "       Layer PierNumber  Type  ...                ID planned_date    updated\n",
       "0  N-01_PILE    MT01-01     1  ...  N01-STR-YN-10320   2023-04-14 2024-01-10\n",
       "1  N-01_PILE    MT01-01     1  ...  N01-STR-YN-10320   2023-04-14 2024-01-10\n",
       "2  N-01_PILE    MT01-01     1  ...  N01-STR-YN-10320   2023-04-14 2024-01-10\n",
       "3  N-01_PILE    MT01-01     1  ...  N01-STR-YN-10320   2023-04-14 2024-01-10\n",
       "4  N-01_PILE    MT01-01     1  ...  N01-STR-YN-10320   2023-04-14 2024-01-10\n",
       "\n",
       "[5 rows x 12 columns]"
      ]
     },
     "execution_count": 173,
     "metadata": {},
     "output_type": "execute_result"
    }
   ],
   "source": [
    "input_table = r\"C:\\Users\\oc3512\\Dropbox\\01-Railway\\02-NSCR-Ex\\01-N2\\03-During-Construction\\02-Civil\\03-Viaduct\\01-Masterlist\\02-Compiled\\Viaduct_MasterList.xlsx\"\n",
    "input_table = pd.read_excel(input_table)\n",
    "input_table.head()"
   ]
  },
  {
   "cell_type": "code",
   "execution_count": 232,
   "metadata": {},
   "outputs": [
    {
     "data": {
      "text/plain": [
       "{\"geometry\": {\"rings\": [[[13445235.8498, 1676714.3137], [13445235.6773, 1676714.2939], [13445235.5045, 1676714.3133], [13445235.3405, 1676714.3709], [13445235.1933, 1676714.4638], [13445235.0702, 1676714.5873], [13445234.9778, 1676714.7352], [13445234.9201, 1676714.9003], [13445234.9005, 1676715.0739], [13445234.9198, 1676715.2477], [13445234.977, 1676715.4129], [13445235.0692, 1676715.561], [13445235.192, 1676715.6847], [13445235.339, 1676715.7779], [13445235.503, 1676715.8358], [13445235.6756, 1676715.8555], [13445235.8483, 1676715.8361], [13445236.0123, 1676715.7786], [13445236.1595, 1676715.6857], [13445236.2826, 1676715.5622], [13445236.3751, 1676715.4143], [13445236.4328, 1676715.2492], [13445236.4523, 1676715.0755], [13445236.433, 1676714.9018], [13445236.3759, 1676714.7367], [13445236.2836, 1676714.5885], [13445236.1608, 1676714.4648], [13445236.0138, 1676714.3716], [13445235.8498, 1676714.3137]]], \"spatialReference\": {\"wkid\": 102100, \"latestWkid\": 3857}}, \"attributes\": {\"OBJECTID\": 1, \"uniqueID\": 1, \"Status1\": 4, \"ID\": \"N01-STR-YN-10320\", \"PierNumber\": \"MT01-01\", \"nPierNumber\": \"MT011A\", \"Layer\": \"N-01_PILE\", \"Type\": 1, \"end_date\": 1679961600000, \"CP\": \"N-01\", \"created_user\": \"NSCREXUSER\", \"created_date\": 1699596542000, \"last_edited_user\": \"NSCREXUSER\", \"last_edited_date\": 1699596542000, \"GlobalID\": \"322d34e8-6fc9-4c48-bdb6-5159ada095d0\", \"planned_date\": 1681430400000, \"SHAPE\": {\"rings\": [[[13445235.8498, 1676714.3137], [13445235.6773, 1676714.2939], [13445235.5045, 1676714.3133], [13445235.3405, 1676714.3709], [13445235.1933, 1676714.4638], [13445235.0702, 1676714.5873], [13445234.9778, 1676714.7352], [13445234.9201, 1676714.9003], [13445234.9005, 1676715.0739], [13445234.9198, 1676715.2477], [13445234.977, 1676715.4129], [13445235.0692, 1676715.561], [13445235.192, 1676715.6847], [13445235.339, 1676715.7779], [13445235.503, 1676715.8358], [13445235.6756, 1676715.8555], [13445235.8483, 1676715.8361], [13445236.0123, 1676715.7786], [13445236.1595, 1676715.6857], [13445236.2826, 1676715.5622], [13445236.3751, 1676715.4143], [13445236.4328, 1676715.2492], [13445236.4523, 1676715.0755], [13445236.433, 1676714.9018], [13445236.3759, 1676714.7367], [13445236.2836, 1676714.5885], [13445236.1608, 1676714.4648], [13445236.0138, 1676714.3716], [13445235.8498, 1676714.3137]]], \"spatialReference\": {\"wkid\": 102100, \"latestWkid\": 3857}}}}"
      ]
     },
     "execution_count": 232,
     "metadata": {},
     "output_type": "execute_result"
    }
   ],
   "source": [
    "# First get all features\n",
    "all_target_features = target_fset.features\n",
    "all_target_features[0]"
   ]
  },
  {
   "cell_type": "code",
   "execution_count": 175,
   "metadata": {},
   "outputs": [],
   "source": [
    "from copy import deepcopy"
   ]
  },
  {
   "cell_type": "code",
   "execution_count": 255,
   "metadata": {},
   "outputs": [
    {
     "name": "stdout",
     "output_type": "stream",
     "text": [
      "Input: 4\n",
      "Input: 2023-03-28\n",
      "Input: 4\n",
      "Input: 2023-03-27\n"
     ]
    }
   ],
   "source": [
    "for_update = []\n",
    "uniqueIDs = [f for f in input_table['uniqueID']]\n",
    "\n",
    "for unique_id in uniqueIDs:\n",
    "    # Status for target\n",
    "    original_feature = [f for f in all_target_features if f.attributes['uniqueID'] == unique_id][0]\n",
    "    to_be_updated = deepcopy(original_feature)\n",
    "    \n",
    "    # get the matching row from input_table\n",
    "    #matching_uniqueid = input_table.where(input_table.uniqueID == unique_id).dropna()\n",
    "    \n",
    "    # get the status for input and target layers\n",
    "    ## Input \n",
    "    id = input_table.index[input_table['uniqueID'] == unique_id]\n",
    "    status_input = input_table['Status1'].loc[id].iloc[0]\n",
    "    enddate_input = pd.to_datetime(input_table['end_date'].loc[id].iloc[0]).date()\n",
    "    print('Input: {}'.format(status_input))\n",
    "    print('Input: {}'.format(enddate_input))\n",
    "    \n",
    "    ## Target\n",
    "    status_target = original_feature.attributes['Status1']\n",
    "    objectid_target = original_feature.attributes['OBJECTID']\n",
    "    \n",
    "    timestamp = original_feature.attributes['end_date'] / 1000\n",
    "    enddate_target = datetime.fromtimestamp(timestamp).date()\n",
    "    \n",
    "    ## If input and target does not match in status and end_date, append to for_update list\n",
    "    if status_input != status_target or enddate_input != enddate_target:\n",
    "        to_be_updated = {\n",
    "            'attributes': {\n",
    "                'OBJECTID': objectid_target,\n",
    "                'Status1' : status_input,\n",
    "                'end_date': enddate_input\n",
    "            }\n",
    "        }\n",
    "        for_update.append(to_be_updated)"
   ]
  },
  {
   "cell_type": "code",
   "execution_count": 259,
   "metadata": {},
   "outputs": [
    {
     "name": "stdout",
     "output_type": "stream",
     "text": [
      "No need to update target feature layer\n"
     ]
    }
   ],
   "source": [
    "if len(for_update) == 0:\n",
    "    print('No need to update target feature layer')\n",
    "else:\n",
    "    target_layer.edit_features(updates=for_update)\n"
   ]
  },
  {
   "cell_type": "code",
   "execution_count": null,
   "metadata": {},
   "outputs": [],
   "source": []
  }
 ],
 "metadata": {
  "kernelspec": {
   "display_name": "ArcGISPro",
   "language": "Python",
   "name": "python3"
  },
  "language_info": {
   "file_extension": ".py",
   "name": "python",
   "version": "3"
  }
 },
 "nbformat": 4,
 "nbformat_minor": 2
}
